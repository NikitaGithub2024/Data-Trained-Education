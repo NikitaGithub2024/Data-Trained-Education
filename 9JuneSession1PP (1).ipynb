{
 "cells": [
  {
   "cell_type": "markdown",
   "id": "1956ec66-4fde-4d9a-a6c5-d074f2b6cfa2",
   "metadata": {},
   "source": [
    "Enjoying Python Coding Basics"
   ]
  },
  {
   "cell_type": "code",
   "execution_count": 1,
   "id": "5beec35c-3c42-4bb1-92ba-9e15ae59dc18",
   "metadata": {},
   "outputs": [
    {
     "data": {
      "text/plain": [
       "2"
      ]
     },
     "execution_count": 1,
     "metadata": {},
     "output_type": "execute_result"
    }
   ],
   "source": [
    "1+1"
   ]
  },
  {
   "cell_type": "code",
   "execution_count": 2,
   "id": "de2f9c4f-66a6-4510-9dd7-0723ac20d32c",
   "metadata": {},
   "outputs": [
    {
     "data": {
      "text/plain": [
       "1"
      ]
     },
     "execution_count": 2,
     "metadata": {},
     "output_type": "execute_result"
    }
   ],
   "source": [
    "2-1"
   ]
  },
  {
   "cell_type": "code",
   "execution_count": 3,
   "id": "83b772d4-da8f-4481-ad29-aaa56df2b82d",
   "metadata": {},
   "outputs": [
    {
     "data": {
      "text/plain": [
       "6"
      ]
     },
     "execution_count": 3,
     "metadata": {},
     "output_type": "execute_result"
    }
   ],
   "source": [
    "3*2"
   ]
  },
  {
   "cell_type": "code",
   "execution_count": 4,
   "id": "b4536b53-bb02-414a-a7ae-b1b0f97db7c1",
   "metadata": {},
   "outputs": [
    {
     "data": {
      "text/plain": [
       "5.0"
      ]
     },
     "execution_count": 4,
     "metadata": {},
     "output_type": "execute_result"
    }
   ],
   "source": [
    "10/2"
   ]
  },
  {
   "cell_type": "code",
   "execution_count": 5,
   "id": "947e7d3d-7666-40bb-b39d-40e400ba1bd8",
   "metadata": {},
   "outputs": [
    {
     "data": {
      "text/plain": [
       "30"
      ]
     },
     "execution_count": 5,
     "metadata": {},
     "output_type": "execute_result"
    }
   ],
   "source": [
    "5*6"
   ]
  },
  {
   "cell_type": "code",
   "execution_count": 6,
   "id": "6e9fedb4-25f0-418f-af79-d9c751fc578f",
   "metadata": {},
   "outputs": [
    {
     "data": {
      "text/plain": [
       "5"
      ]
     },
     "execution_count": 6,
     "metadata": {},
     "output_type": "execute_result"
    }
   ],
   "source": [
    "9-4"
   ]
  },
  {
   "cell_type": "code",
   "execution_count": 7,
   "id": "e73bdb1b-54a0-4d3f-b28c-4497bbe2c372",
   "metadata": {},
   "outputs": [
    {
     "data": {
      "text/plain": [
       "11"
      ]
     },
     "execution_count": 7,
     "metadata": {},
     "output_type": "execute_result"
    }
   ],
   "source": [
    "4+7"
   ]
  },
  {
   "cell_type": "code",
   "execution_count": 8,
   "id": "4fafb404-306f-4984-80d3-639ea3d5e8c5",
   "metadata": {},
   "outputs": [
    {
     "name": "stdout",
     "output_type": "stream",
     "text": [
      "Hello Python\n"
     ]
    }
   ],
   "source": [
    "print('Hello Python')"
   ]
  },
  {
   "cell_type": "code",
   "execution_count": 9,
   "id": "34e5f66b-4668-4766-a14f-11e7e915d5bf",
   "metadata": {},
   "outputs": [
    {
     "name": "stdout",
     "output_type": "stream",
     "text": [
      "I am learning python basics\n"
     ]
    }
   ],
   "source": [
    "print(\"I am learning python basics\")"
   ]
  },
  {
   "cell_type": "code",
   "execution_count": 10,
   "id": "4002484d-60b6-417f-81d6-7864fb808385",
   "metadata": {},
   "outputs": [
    {
     "name": "stdout",
     "output_type": "stream",
     "text": [
      "how are you\n"
     ]
    }
   ],
   "source": [
    "print('how are you')"
   ]
  },
  {
   "cell_type": "code",
   "execution_count": 11,
   "id": "416014d6-0dca-4381-b94f-b03c37eab3ec",
   "metadata": {},
   "outputs": [
    {
     "name": "stdout",
     "output_type": "stream",
     "text": [
      "Python is easy language\n"
     ]
    }
   ],
   "source": [
    "print(\"Python is easy language\")"
   ]
  },
  {
   "cell_type": "code",
   "execution_count": 12,
   "id": "f2d08f51-a78c-4324-8b21-8b5a27208fd6",
   "metadata": {},
   "outputs": [
    {
     "data": {
      "text/plain": [
       "5.0"
      ]
     },
     "execution_count": 12,
     "metadata": {},
     "output_type": "execute_result"
    }
   ],
   "source": [
    "10/2"
   ]
  },
  {
   "cell_type": "code",
   "execution_count": 21,
   "id": "eccea942-9df5-4a91-ac71-e3f76b1be31a",
   "metadata": {},
   "outputs": [
    {
     "data": {
      "text/plain": [
       "0"
      ]
     },
     "execution_count": 21,
     "metadata": {},
     "output_type": "execute_result"
    }
   ],
   "source": [
    "#Modulus operator gives remainder\n",
    "\n",
    "\n",
    "10%2"
   ]
  },
  {
   "cell_type": "code",
   "execution_count": 14,
   "id": "99bb1cba-2d0f-478b-9c63-f10ca2f8b259",
   "metadata": {},
   "outputs": [
    {
     "data": {
      "text/plain": [
       "5.0"
      ]
     },
     "execution_count": 14,
     "metadata": {},
     "output_type": "execute_result"
    }
   ],
   "source": [
    "25/5"
   ]
  },
  {
   "cell_type": "code",
   "execution_count": null,
   "id": "2fb774af-ed00-47f1-8d46-50aba97294e6",
   "metadata": {},
   "outputs": [],
   "source": [
    "#learning modulus operator"
   ]
  },
  {
   "cell_type": "code",
   "execution_count": 15,
   "id": "4bcaefba-de43-4c55-92ac-e197660a6e34",
   "metadata": {},
   "outputs": [
    {
     "data": {
      "text/plain": [
       "0"
      ]
     },
     "execution_count": 15,
     "metadata": {},
     "output_type": "execute_result"
    }
   ],
   "source": [
    "25%5"
   ]
  },
  {
   "cell_type": "code",
   "execution_count": null,
   "id": "021bb7a4-29b9-4397-9c45-b311c54de8ee",
   "metadata": {},
   "outputs": [],
   "source": [
    "#new cell inserted"
   ]
  },
  {
   "cell_type": "code",
   "execution_count": 19,
   "id": "85a3f7f7-4d93-4847-bccb-78656f9e7cb9",
   "metadata": {},
   "outputs": [
    {
     "data": {
      "text/plain": [
       "1"
      ]
     },
     "execution_count": 19,
     "metadata": {},
     "output_type": "execute_result"
    }
   ],
   "source": [
    "49%2"
   ]
  },
  {
   "cell_type": "markdown",
   "id": "4874440a-2b31-4d46-b870-2484b8856ee9",
   "metadata": {},
   "source": [
    "VARIABLES"
   ]
  },
  {
   "cell_type": "code",
   "execution_count": 23,
   "id": "d6d14b3d-5d0a-49b7-9546-68c83520c09e",
   "metadata": {},
   "outputs": [],
   "source": [
    "a=10"
   ]
  },
  {
   "cell_type": "code",
   "execution_count": 24,
   "id": "08dc169d-9412-4e75-90aa-4deb806bb327",
   "metadata": {},
   "outputs": [
    {
     "data": {
      "text/plain": [
       "10"
      ]
     },
     "execution_count": 24,
     "metadata": {},
     "output_type": "execute_result"
    }
   ],
   "source": [
    "a"
   ]
  },
  {
   "cell_type": "code",
   "execution_count": 25,
   "id": "7a1f7fac-2188-4cea-ab3f-e94ac2ed9385",
   "metadata": {},
   "outputs": [],
   "source": [
    "b=4"
   ]
  },
  {
   "cell_type": "code",
   "execution_count": 26,
   "id": "ed381b98-85b5-4c08-a5f5-ef33838abafd",
   "metadata": {},
   "outputs": [
    {
     "data": {
      "text/plain": [
       "4"
      ]
     },
     "execution_count": 26,
     "metadata": {},
     "output_type": "execute_result"
    }
   ],
   "source": [
    "b"
   ]
  },
  {
   "cell_type": "code",
   "execution_count": 27,
   "id": "7003d3c4-c37a-4138-b81a-962a7d0ee868",
   "metadata": {},
   "outputs": [
    {
     "data": {
      "text/plain": [
       "14"
      ]
     },
     "execution_count": 27,
     "metadata": {},
     "output_type": "execute_result"
    }
   ],
   "source": [
    "a+b"
   ]
  },
  {
   "cell_type": "code",
   "execution_count": 28,
   "id": "7a6e335f-3514-4a56-9678-3772dfd1de94",
   "metadata": {},
   "outputs": [
    {
     "data": {
      "text/plain": [
       "6"
      ]
     },
     "execution_count": 28,
     "metadata": {},
     "output_type": "execute_result"
    }
   ],
   "source": [
    "a-b"
   ]
  },
  {
   "cell_type": "code",
   "execution_count": 29,
   "id": "6c4982e3-cd18-4b79-a88e-b7ee5f9d0ff7",
   "metadata": {},
   "outputs": [
    {
     "data": {
      "text/plain": [
       "40"
      ]
     },
     "execution_count": 29,
     "metadata": {},
     "output_type": "execute_result"
    }
   ],
   "source": [
    "a*b"
   ]
  },
  {
   "cell_type": "code",
   "execution_count": 30,
   "id": "0c551519-82ee-492a-89de-da935d892b9e",
   "metadata": {},
   "outputs": [
    {
     "data": {
      "text/plain": [
       "2.5"
      ]
     },
     "execution_count": 30,
     "metadata": {},
     "output_type": "execute_result"
    }
   ],
   "source": [
    "a/b"
   ]
  },
  {
   "cell_type": "code",
   "execution_count": 34,
   "id": "252d55b8-9149-4a08-9af1-10976bb55739",
   "metadata": {},
   "outputs": [
    {
     "data": {
      "text/plain": [
       "2"
      ]
     },
     "execution_count": 34,
     "metadata": {},
     "output_type": "execute_result"
    }
   ],
   "source": [
    "a%b"
   ]
  },
  {
   "cell_type": "code",
   "execution_count": 36,
   "id": "e9610e1d-f633-4f1c-9617-e43af32f9238",
   "metadata": {},
   "outputs": [
    {
     "data": {
      "text/plain": [
       "14"
      ]
     },
     "execution_count": 36,
     "metadata": {},
     "output_type": "execute_result"
    }
   ],
   "source": [
    "c"
   ]
  },
  {
   "cell_type": "code",
   "execution_count": 41,
   "id": "1416c9a1-0d6a-4d62-ba67-2482d6ba4f1d",
   "metadata": {},
   "outputs": [
    {
     "name": "stdout",
     "output_type": "stream",
     "text": [
      "14\n"
     ]
    }
   ],
   "source": [
    "print(c)"
   ]
  },
  {
   "cell_type": "code",
   "execution_count": 42,
   "id": "46ee6410-f664-4087-86be-f47832f6e2c9",
   "metadata": {},
   "outputs": [
    {
     "name": "stdout",
     "output_type": "stream",
     "text": [
      "c\n"
     ]
    }
   ],
   "source": [
    "print('c')"
   ]
  },
  {
   "cell_type": "code",
   "execution_count": 43,
   "id": "e586d9c2-6526-467d-9cea-ae44eef0b9e1",
   "metadata": {},
   "outputs": [
    {
     "name": "stdout",
     "output_type": "stream",
     "text": [
      "c\n"
     ]
    }
   ],
   "source": [
    "print(\"c\")"
   ]
  },
  {
   "cell_type": "code",
   "execution_count": 44,
   "id": "4a6e8912-60a4-46ce-8a76-679499e8df87",
   "metadata": {},
   "outputs": [
    {
     "name": "stdout",
     "output_type": "stream",
     "text": [
      "c=\n"
     ]
    }
   ],
   "source": [
    "print(\"c=\")"
   ]
  },
  {
   "cell_type": "code",
   "execution_count": 37,
   "id": "71cf7fc4-e434-46db-bb58-2ec27be8ced4",
   "metadata": {},
   "outputs": [],
   "source": [
    "d=a-b"
   ]
  },
  {
   "cell_type": "code",
   "execution_count": 38,
   "id": "211314b5-111c-4a0d-9a41-1412158b0769",
   "metadata": {},
   "outputs": [
    {
     "data": {
      "text/plain": [
       "6"
      ]
     },
     "execution_count": 38,
     "metadata": {},
     "output_type": "execute_result"
    }
   ],
   "source": [
    "d"
   ]
  },
  {
   "cell_type": "code",
   "execution_count": 39,
   "id": "35556909-d380-4ec7-a4f5-31b6b1539c23",
   "metadata": {},
   "outputs": [],
   "source": [
    "e=a*b"
   ]
  },
  {
   "cell_type": "code",
   "execution_count": 40,
   "id": "5cd3f580-76c3-4e1a-9ebd-b380da89bb27",
   "metadata": {},
   "outputs": [
    {
     "data": {
      "text/plain": [
       "40"
      ]
     },
     "execution_count": 40,
     "metadata": {},
     "output_type": "execute_result"
    }
   ],
   "source": [
    "e"
   ]
  },
  {
   "cell_type": "code",
   "execution_count": 9,
   "id": "de95d482-8fb9-4038-8b70-88a47ba26a19",
   "metadata": {},
   "outputs": [],
   "source": [
    "a=10"
   ]
  },
  {
   "cell_type": "code",
   "execution_count": 10,
   "id": "3cea7799-27f3-42db-87d9-ad7bf929fd15",
   "metadata": {},
   "outputs": [
    {
     "data": {
      "text/plain": [
       "10"
      ]
     },
     "execution_count": 10,
     "metadata": {},
     "output_type": "execute_result"
    }
   ],
   "source": [
    "a"
   ]
  },
  {
   "cell_type": "code",
   "execution_count": 11,
   "id": "819bd7be-0d4c-478f-bb12-8e06592f6814",
   "metadata": {},
   "outputs": [],
   "source": [
    "b=4"
   ]
  },
  {
   "cell_type": "code",
   "execution_count": 12,
   "id": "ac0b49aa-b5e5-416c-a922-7a1b28057dea",
   "metadata": {},
   "outputs": [
    {
     "data": {
      "text/plain": [
       "4"
      ]
     },
     "execution_count": 12,
     "metadata": {},
     "output_type": "execute_result"
    }
   ],
   "source": [
    "b"
   ]
  },
  {
   "cell_type": "code",
   "execution_count": 13,
   "id": "4b8f24b7-5af5-444f-ba6f-eb527a740624",
   "metadata": {},
   "outputs": [],
   "source": [
    "c=a+b"
   ]
  },
  {
   "cell_type": "code",
   "execution_count": 14,
   "id": "059f100c-d6ac-437a-a16a-488f5f672cc7",
   "metadata": {},
   "outputs": [
    {
     "data": {
      "text/plain": [
       "14"
      ]
     },
     "execution_count": 14,
     "metadata": {},
     "output_type": "execute_result"
    }
   ],
   "source": [
    "c"
   ]
  },
  {
   "cell_type": "code",
   "execution_count": 15,
   "id": "85eef454-8c6d-4322-8e9f-03cf603dee11",
   "metadata": {},
   "outputs": [
    {
     "name": "stdout",
     "output_type": "stream",
     "text": [
      "14\n"
     ]
    }
   ],
   "source": [
    "print(c)"
   ]
  },
  {
   "cell_type": "code",
   "execution_count": 16,
   "id": "021fdc9e-72b9-4206-ad65-ae6a6d4e8282",
   "metadata": {},
   "outputs": [
    {
     "name": "stdout",
     "output_type": "stream",
     "text": [
      "c\n"
     ]
    }
   ],
   "source": [
    "print(\"c\")"
   ]
  },
  {
   "cell_type": "code",
   "execution_count": 17,
   "id": "26ed5c53-f1cf-409a-99e8-04866b451320",
   "metadata": {},
   "outputs": [
    {
     "name": "stdout",
     "output_type": "stream",
     "text": [
      "c=\n"
     ]
    }
   ],
   "source": [
    "print(\"c=\")"
   ]
  },
  {
   "cell_type": "code",
   "execution_count": 18,
   "id": "67c28098-1b3f-4e29-a3f1-c31e378c1c00",
   "metadata": {},
   "outputs": [
    {
     "name": "stdout",
     "output_type": "stream",
     "text": [
      "c= 14\n"
     ]
    }
   ],
   "source": [
    "print(\"c=\",c)"
   ]
  },
  {
   "cell_type": "code",
   "execution_count": 19,
   "id": "cdf59fdf-9462-4314-9488-095f06dbe7b8",
   "metadata": {},
   "outputs": [
    {
     "name": "stdout",
     "output_type": "stream",
     "text": [
      "The value of c= 14\n"
     ]
    }
   ],
   "source": [
    "print(\"The value of c=\",c)"
   ]
  },
  {
   "cell_type": "code",
   "execution_count": 20,
   "id": "272c9f4c-d403-4d06-a249-ac7f6ec58ea4",
   "metadata": {},
   "outputs": [],
   "source": [
    "city=\"New York\""
   ]
  },
  {
   "cell_type": "code",
   "execution_count": 21,
   "id": "0b307326-ae59-4242-bf44-e70ad5445127",
   "metadata": {},
   "outputs": [
    {
     "data": {
      "text/plain": [
       "'New York'"
      ]
     },
     "execution_count": 21,
     "metadata": {},
     "output_type": "execute_result"
    }
   ],
   "source": [
    "city"
   ]
  },
  {
   "cell_type": "code",
   "execution_count": 22,
   "id": "0545a8ff-0002-4cfb-980d-b9fdc1aeb9bd",
   "metadata": {},
   "outputs": [],
   "source": [
    "mychar='P'"
   ]
  },
  {
   "cell_type": "code",
   "execution_count": 23,
   "id": "b04962b7-2a8f-440c-bb35-74e515465181",
   "metadata": {},
   "outputs": [
    {
     "data": {
      "text/plain": [
       "'P'"
      ]
     },
     "execution_count": 23,
     "metadata": {},
     "output_type": "execute_result"
    }
   ],
   "source": [
    "mychar"
   ]
  },
  {
   "cell_type": "code",
   "execution_count": 38,
   "id": "6c657146-c712-41af-b687-a0bc8a114208",
   "metadata": {},
   "outputs": [
    {
     "data": {
      "text/plain": [
       "str"
      ]
     },
     "execution_count": 38,
     "metadata": {},
     "output_type": "execute_result"
    }
   ],
   "source": [
    "type(mychar)"
   ]
  },
  {
   "cell_type": "code",
   "execution_count": 24,
   "id": "cb158edd-aabb-40da-ade6-4ff7fb8af7dc",
   "metadata": {},
   "outputs": [],
   "source": [
    "age=23"
   ]
  },
  {
   "cell_type": "code",
   "execution_count": 25,
   "id": "91a553b8-4848-4b36-af27-eb8f9c9ba4d0",
   "metadata": {},
   "outputs": [
    {
     "data": {
      "text/plain": [
       "23"
      ]
     },
     "execution_count": 25,
     "metadata": {},
     "output_type": "execute_result"
    }
   ],
   "source": [
    "age"
   ]
  },
  {
   "cell_type": "code",
   "execution_count": 39,
   "id": "d2a93862-aec8-4cd2-8d4b-5fd0b61412ef",
   "metadata": {},
   "outputs": [
    {
     "data": {
      "text/plain": [
       "int"
      ]
     },
     "execution_count": 39,
     "metadata": {},
     "output_type": "execute_result"
    }
   ],
   "source": [
    "type(age)"
   ]
  },
  {
   "cell_type": "code",
   "execution_count": 26,
   "id": "93ff28f9-d4da-4177-a6f0-5096dcf34b95",
   "metadata": {},
   "outputs": [],
   "source": [
    "price=6789.34"
   ]
  },
  {
   "cell_type": "code",
   "execution_count": 27,
   "id": "9c044cb4-a89d-4ef3-8a25-4cb918769145",
   "metadata": {},
   "outputs": [
    {
     "data": {
      "text/plain": [
       "6789.34"
      ]
     },
     "execution_count": 27,
     "metadata": {},
     "output_type": "execute_result"
    }
   ],
   "source": [
    "price"
   ]
  },
  {
   "cell_type": "code",
   "execution_count": 40,
   "id": "45b3fa0c-77bc-402b-b255-60e4009c16e6",
   "metadata": {},
   "outputs": [
    {
     "data": {
      "text/plain": [
       "float"
      ]
     },
     "execution_count": 40,
     "metadata": {},
     "output_type": "execute_result"
    }
   ],
   "source": [
    "type(price)"
   ]
  },
  {
   "cell_type": "code",
   "execution_count": 28,
   "id": "d6f9b86a-7f84-490e-b9a3-ae7b66652dce",
   "metadata": {},
   "outputs": [
    {
     "data": {
      "text/plain": [
       "3"
      ]
     },
     "execution_count": 28,
     "metadata": {},
     "output_type": "execute_result"
    }
   ],
   "source": [
    "len('ABC')"
   ]
  },
  {
   "cell_type": "code",
   "execution_count": 29,
   "id": "d0e1082f-0722-4ef5-905d-ff7249f3db2f",
   "metadata": {},
   "outputs": [
    {
     "data": {
      "text/plain": [
       "6"
      ]
     },
     "execution_count": 29,
     "metadata": {},
     "output_type": "execute_result"
    }
   ],
   "source": [
    "len('SYDNEY')"
   ]
  },
  {
   "cell_type": "code",
   "execution_count": 30,
   "id": "605be149-a208-4753-bc54-e2899c51d4c5",
   "metadata": {},
   "outputs": [
    {
     "data": {
      "text/plain": [
       "7"
      ]
     },
     "execution_count": 30,
     "metadata": {},
     "output_type": "execute_result"
    }
   ],
   "source": [
    "len('SIBERIA')"
   ]
  },
  {
   "cell_type": "code",
   "execution_count": 31,
   "id": "397175a7-4769-4ef9-8643-b598194dfa95",
   "metadata": {},
   "outputs": [
    {
     "data": {
      "text/plain": [
       "9"
      ]
     },
     "execution_count": 31,
     "metadata": {},
     "output_type": "execute_result"
    }
   ],
   "source": [
    "len('AUSTRALIA')"
   ]
  },
  {
   "cell_type": "code",
   "execution_count": 32,
   "id": "a60f994d-62aa-49bb-8400-472998805a0b",
   "metadata": {},
   "outputs": [
    {
     "data": {
      "text/plain": [
       "'New York'"
      ]
     },
     "execution_count": 32,
     "metadata": {},
     "output_type": "execute_result"
    }
   ],
   "source": [
    "city"
   ]
  },
  {
   "cell_type": "code",
   "execution_count": 33,
   "id": "e7cbcf78-1a95-410f-8b56-76446c941f6e",
   "metadata": {},
   "outputs": [
    {
     "data": {
      "text/plain": [
       "4"
      ]
     },
     "execution_count": 33,
     "metadata": {},
     "output_type": "execute_result"
    }
   ],
   "source": [
    "len('city')"
   ]
  },
  {
   "cell_type": "code",
   "execution_count": 34,
   "id": "2508dbce-6217-437b-8c59-b22212c68658",
   "metadata": {},
   "outputs": [
    {
     "data": {
      "text/plain": [
       "8"
      ]
     },
     "execution_count": 34,
     "metadata": {},
     "output_type": "execute_result"
    }
   ],
   "source": [
    "len(city)"
   ]
  },
  {
   "cell_type": "code",
   "execution_count": 35,
   "id": "2ca0b9d6-e886-44d0-b1aa-4c7d3bb54dd2",
   "metadata": {},
   "outputs": [
    {
     "data": {
      "text/plain": [
       "4"
      ]
     },
     "execution_count": 35,
     "metadata": {},
     "output_type": "execute_result"
    }
   ],
   "source": [
    "len('City')"
   ]
  },
  {
   "cell_type": "code",
   "execution_count": 37,
   "id": "e5bbc06a-88ee-4944-8116-1fd1c36958b9",
   "metadata": {},
   "outputs": [
    {
     "data": {
      "text/plain": [
       "8"
      ]
     },
     "execution_count": 37,
     "metadata": {},
     "output_type": "execute_result"
    }
   ],
   "source": [
    "len(city)"
   ]
  },
  {
   "cell_type": "markdown",
   "id": "dbc354b2-be2f-4782-8ef0-e4ff38cc7faf",
   "metadata": {},
   "source": [
    "TYPECASTING"
   ]
  },
  {
   "cell_type": "code",
   "execution_count": 41,
   "id": "d1267e4e-f395-4cae-804c-98f36f0646d8",
   "metadata": {},
   "outputs": [],
   "source": [
    "h=78"
   ]
  },
  {
   "cell_type": "code",
   "execution_count": 42,
   "id": "4b403ef0-f91f-464a-a77d-f9ad4123f039",
   "metadata": {},
   "outputs": [
    {
     "data": {
      "text/plain": [
       "78"
      ]
     },
     "execution_count": 42,
     "metadata": {},
     "output_type": "execute_result"
    }
   ],
   "source": [
    "h"
   ]
  },
  {
   "cell_type": "code",
   "execution_count": 43,
   "id": "d0e4b9a6-35b3-4ea4-92d2-50211414356c",
   "metadata": {},
   "outputs": [
    {
     "data": {
      "text/plain": [
       "int"
      ]
     },
     "execution_count": 43,
     "metadata": {},
     "output_type": "execute_result"
    }
   ],
   "source": [
    "type(h)"
   ]
  },
  {
   "cell_type": "code",
   "execution_count": 45,
   "id": "f95bf30c-e10e-420e-8b1e-e207dc588f27",
   "metadata": {},
   "outputs": [],
   "source": [
    "k=float(h)"
   ]
  },
  {
   "cell_type": "code",
   "execution_count": 46,
   "id": "65b735f1-f2ef-4de0-ad1a-3c6561eb53e8",
   "metadata": {},
   "outputs": [
    {
     "data": {
      "text/plain": [
       "78.0"
      ]
     },
     "execution_count": 46,
     "metadata": {},
     "output_type": "execute_result"
    }
   ],
   "source": [
    "k"
   ]
  },
  {
   "cell_type": "code",
   "execution_count": 47,
   "id": "037a1a80-e926-4a27-bd58-c7b22067ffc5",
   "metadata": {},
   "outputs": [
    {
     "data": {
      "text/plain": [
       "float"
      ]
     },
     "execution_count": 47,
     "metadata": {},
     "output_type": "execute_result"
    }
   ],
   "source": [
    "type(k)"
   ]
  },
  {
   "cell_type": "code",
   "execution_count": 48,
   "id": "a77dbbca-5c33-4e17-ab2a-931f67e45d5a",
   "metadata": {},
   "outputs": [],
   "source": [
    "p=67.4"
   ]
  },
  {
   "cell_type": "code",
   "execution_count": 49,
   "id": "06eb19ac-14cf-45a0-81b1-674d54c0f909",
   "metadata": {},
   "outputs": [
    {
     "data": {
      "text/plain": [
       "float"
      ]
     },
     "execution_count": 49,
     "metadata": {},
     "output_type": "execute_result"
    }
   ],
   "source": [
    "type(p)"
   ]
  },
  {
   "cell_type": "code",
   "execution_count": 50,
   "id": "09b16d14-b110-4e75-8226-13595d3873c7",
   "metadata": {},
   "outputs": [],
   "source": [
    "j=int(p)"
   ]
  },
  {
   "cell_type": "code",
   "execution_count": 51,
   "id": "e5c593d9-c7cb-43fb-b429-46d9723cade6",
   "metadata": {},
   "outputs": [
    {
     "data": {
      "text/plain": [
       "67"
      ]
     },
     "execution_count": 51,
     "metadata": {},
     "output_type": "execute_result"
    }
   ],
   "source": [
    "j"
   ]
  },
  {
   "cell_type": "code",
   "execution_count": 52,
   "id": "4527666a-ce91-4b8c-956b-770a6194b149",
   "metadata": {},
   "outputs": [],
   "source": [
    "x='55'"
   ]
  },
  {
   "cell_type": "code",
   "execution_count": 53,
   "id": "c9892f16-46ca-44ac-868b-c41d767938de",
   "metadata": {},
   "outputs": [
    {
     "data": {
      "text/plain": [
       "str"
      ]
     },
     "execution_count": 53,
     "metadata": {},
     "output_type": "execute_result"
    }
   ],
   "source": [
    "type(x)"
   ]
  },
  {
   "cell_type": "code",
   "execution_count": 54,
   "id": "6acd6ff7-1fac-44f5-8e1b-29c69072d398",
   "metadata": {},
   "outputs": [],
   "source": [
    "y=int(x)"
   ]
  },
  {
   "cell_type": "code",
   "execution_count": 55,
   "id": "3ce043b9-9555-4cb5-82df-47c908cac002",
   "metadata": {},
   "outputs": [
    {
     "data": {
      "text/plain": [
       "55"
      ]
     },
     "execution_count": 55,
     "metadata": {},
     "output_type": "execute_result"
    }
   ],
   "source": [
    "y"
   ]
  },
  {
   "cell_type": "markdown",
   "id": "c3462326-4955-4b22-8b0e-2935940f4a1f",
   "metadata": {},
   "source": [
    "String concatenation"
   ]
  },
  {
   "cell_type": "code",
   "execution_count": 56,
   "id": "04274a5b-aad8-4a32-b3b7-8044ac2bb8ad",
   "metadata": {},
   "outputs": [
    {
     "data": {
      "text/plain": [
       "'HappyBirthday'"
      ]
     },
     "execution_count": 56,
     "metadata": {},
     "output_type": "execute_result"
    }
   ],
   "source": [
    "'Happy'+'Birthday'"
   ]
  },
  {
   "cell_type": "code",
   "execution_count": 57,
   "id": "2ea9cecb-9336-4f77-9fb1-56ccf3d9450d",
   "metadata": {},
   "outputs": [
    {
     "data": {
      "text/plain": [
       "'TwitterX'"
      ]
     },
     "execution_count": 57,
     "metadata": {},
     "output_type": "execute_result"
    }
   ],
   "source": [
    "'Twitter'+'X'"
   ]
  },
  {
   "cell_type": "code",
   "execution_count": 59,
   "id": "a1c09184-3124-4314-b273-b51b8cefa7a9",
   "metadata": {},
   "outputs": [
    {
     "data": {
      "text/plain": [
       "'Facebook Meta'"
      ]
     },
     "execution_count": 59,
     "metadata": {},
     "output_type": "execute_result"
    }
   ],
   "source": [
    "'Facebook'+' Meta'"
   ]
  },
  {
   "cell_type": "code",
   "execution_count": 66,
   "id": "e04ca947-370a-4ed2-a730-a844555cbe36",
   "metadata": {},
   "outputs": [
    {
     "data": {
      "text/plain": [
       "'Mark  is aceo  of Meta'"
      ]
     },
     "execution_count": 66,
     "metadata": {},
     "output_type": "execute_result"
    }
   ],
   "source": [
    "'Mark '+' is '+ 'a'  + 'ceo ' +' of '+'Meta'"
   ]
  },
  {
   "cell_type": "code",
   "execution_count": 67,
   "id": "4262cc81-d2d7-40f5-a66b-3ade9011cf65",
   "metadata": {},
   "outputs": [
    {
     "data": {
      "text/plain": [
       "'Virgin Atlantic'"
      ]
     },
     "execution_count": 67,
     "metadata": {},
     "output_type": "execute_result"
    }
   ],
   "source": [
    "'Virgin'+' Atlantic'"
   ]
  },
  {
   "cell_type": "code",
   "execution_count": 68,
   "id": "38abafe9-2174-4f5b-81d2-e721d1316dca",
   "metadata": {},
   "outputs": [
    {
     "data": {
      "text/plain": [
       "'7634'"
      ]
     },
     "execution_count": 68,
     "metadata": {},
     "output_type": "execute_result"
    }
   ],
   "source": [
    "'76'+'34'"
   ]
  },
  {
   "cell_type": "code",
   "execution_count": 69,
   "id": "58555100-4f48-4dd3-a954-73be9c6e0dae",
   "metadata": {},
   "outputs": [
    {
     "data": {
      "text/plain": [
       "110"
      ]
     },
     "execution_count": 69,
     "metadata": {},
     "output_type": "execute_result"
    }
   ],
   "source": [
    "int('76')+int('34')"
   ]
  },
  {
   "cell_type": "code",
   "execution_count": 71,
   "id": "22cbecda-59b0-47fd-884d-9da760bb212b",
   "metadata": {},
   "outputs": [
    {
     "data": {
      "text/plain": [
       "False"
      ]
     },
     "execution_count": 71,
     "metadata": {},
     "output_type": "execute_result"
    }
   ],
   "source": [
    "100==90"
   ]
  },
  {
   "cell_type": "code",
   "execution_count": 72,
   "id": "f8ea427a-f369-4df6-aab2-cfc9cc3105fe",
   "metadata": {},
   "outputs": [
    {
     "data": {
      "text/plain": [
       "True"
      ]
     },
     "execution_count": 72,
     "metadata": {},
     "output_type": "execute_result"
    }
   ],
   "source": [
    "20>10"
   ]
  },
  {
   "cell_type": "code",
   "execution_count": 73,
   "id": "fa402f52-ad15-4f4a-8492-4ca170f48ed2",
   "metadata": {},
   "outputs": [
    {
     "data": {
      "text/plain": [
       "False"
      ]
     },
     "execution_count": 73,
     "metadata": {},
     "output_type": "execute_result"
    }
   ],
   "source": [
    "67>90"
   ]
  },
  {
   "cell_type": "code",
   "execution_count": 74,
   "id": "2ca04e5e-6a86-4ed7-a0d1-96faf5d8a429",
   "metadata": {},
   "outputs": [
    {
     "data": {
      "text/plain": [
       "False"
      ]
     },
     "execution_count": 74,
     "metadata": {},
     "output_type": "execute_result"
    }
   ],
   "source": [
    "54<23"
   ]
  },
  {
   "cell_type": "code",
   "execution_count": 75,
   "id": "6cc9e4f1-fabe-43b7-9569-5e8efab2039b",
   "metadata": {},
   "outputs": [
    {
     "data": {
      "text/plain": [
       "True"
      ]
     },
     "execution_count": 75,
     "metadata": {},
     "output_type": "execute_result"
    }
   ],
   "source": [
    "120>90"
   ]
  },
  {
   "cell_type": "code",
   "execution_count": 76,
   "id": "9e4b39e5-93cc-48be-9d71-19727e27e563",
   "metadata": {},
   "outputs": [
    {
     "data": {
      "text/plain": [
       "True"
      ]
     },
     "execution_count": 76,
     "metadata": {},
     "output_type": "execute_result"
    }
   ],
   "source": [
    "98<160"
   ]
  },
  {
   "cell_type": "code",
   "execution_count": 77,
   "id": "6b193629-72d3-41f1-8e24-df8a46e0db0e",
   "metadata": {},
   "outputs": [
    {
     "data": {
      "text/plain": [
       "False"
      ]
     },
     "execution_count": 77,
     "metadata": {},
     "output_type": "execute_result"
    }
   ],
   "source": [
    "600==400"
   ]
  },
  {
   "cell_type": "code",
   "execution_count": 78,
   "id": "1c53497f-3580-4645-995d-e44b0129ef18",
   "metadata": {},
   "outputs": [
    {
     "data": {
      "text/plain": [
       "True"
      ]
     },
     "execution_count": 78,
     "metadata": {},
     "output_type": "execute_result"
    }
   ],
   "source": [
    "700!=300"
   ]
  },
  {
   "cell_type": "code",
   "execution_count": 79,
   "id": "9905971e-c7f4-4ac1-885b-2ae2f71922a8",
   "metadata": {},
   "outputs": [
    {
     "data": {
      "text/plain": [
       "True"
      ]
     },
     "execution_count": 79,
     "metadata": {},
     "output_type": "execute_result"
    }
   ],
   "source": [
    "5!=9"
   ]
  },
  {
   "cell_type": "code",
   "execution_count": 80,
   "id": "e077c776-3e48-4633-937c-d93059f6eac5",
   "metadata": {},
   "outputs": [],
   "source": [
    "x=55"
   ]
  },
  {
   "cell_type": "code",
   "execution_count": 81,
   "id": "a670207f-af25-447a-a921-a965d570e10a",
   "metadata": {},
   "outputs": [],
   "source": [
    "y=77"
   ]
  },
  {
   "cell_type": "code",
   "execution_count": 82,
   "id": "58839b07-04ad-4af1-b516-5e50c0d20446",
   "metadata": {},
   "outputs": [
    {
     "data": {
      "text/plain": [
       "False"
      ]
     },
     "execution_count": 82,
     "metadata": {},
     "output_type": "execute_result"
    }
   ],
   "source": [
    "x==y"
   ]
  },
  {
   "cell_type": "code",
   "execution_count": 83,
   "id": "2a5c7217-f9df-4161-8c9a-77d3f6b73376",
   "metadata": {},
   "outputs": [
    {
     "data": {
      "text/plain": [
       "True"
      ]
     },
     "execution_count": 83,
     "metadata": {},
     "output_type": "execute_result"
    }
   ],
   "source": [
    "x!=y"
   ]
  },
  {
   "cell_type": "code",
   "execution_count": 84,
   "id": "51eea274-0485-4163-9f1f-89e25d627fa8",
   "metadata": {},
   "outputs": [
    {
     "data": {
      "text/plain": [
       "False"
      ]
     },
     "execution_count": 84,
     "metadata": {},
     "output_type": "execute_result"
    }
   ],
   "source": [
    "x>y"
   ]
  },
  {
   "cell_type": "markdown",
   "id": "15664e8a-0567-4572-8dbd-f3cd465cb053",
   "metadata": {},
   "source": [
    "USER INPUT"
   ]
  },
  {
   "cell_type": "code",
   "execution_count": 87,
   "id": "6b0d724a-d5ba-4d83-971f-6cecf00e28a2",
   "metadata": {},
   "outputs": [
    {
     "name": "stdin",
     "output_type": "stream",
     "text": [
      "Enter country namw INDIA\n"
     ]
    },
    {
     "data": {
      "text/plain": [
       "'INDIA'"
      ]
     },
     "execution_count": 87,
     "metadata": {},
     "output_type": "execute_result"
    }
   ],
   "source": [
    "country=input('Enter country namw')\n",
    "\n",
    "\n",
    "country"
   ]
  },
  {
   "cell_type": "code",
   "execution_count": 108,
   "id": "11da8073-2eef-420a-b772-d4f73c0678d0",
   "metadata": {},
   "outputs": [
    {
     "name": "stdin",
     "output_type": "stream",
     "text": [
      "Enter any number for x 45\n"
     ]
    },
    {
     "data": {
      "text/plain": [
       "45"
      ]
     },
     "execution_count": 108,
     "metadata": {},
     "output_type": "execute_result"
    }
   ],
   "source": [
    "x=int(input(\"Enter any number for x\"))\n",
    "x"
   ]
  },
  {
   "cell_type": "code",
   "execution_count": 109,
   "id": "a907d08e-ae2f-4b28-aa74-3452b32a85aa",
   "metadata": {},
   "outputs": [
    {
     "data": {
      "text/plain": [
       "int"
      ]
     },
     "execution_count": 109,
     "metadata": {},
     "output_type": "execute_result"
    }
   ],
   "source": [
    "type(x)"
   ]
  },
  {
   "cell_type": "code",
   "execution_count": 110,
   "id": "aa611dc4-29c5-436f-8d2d-efa363ee139d",
   "metadata": {},
   "outputs": [
    {
     "name": "stdin",
     "output_type": "stream",
     "text": [
      "Enter any number for y 79\n"
     ]
    },
    {
     "data": {
      "text/plain": [
       "79"
      ]
     },
     "execution_count": 110,
     "metadata": {},
     "output_type": "execute_result"
    }
   ],
   "source": [
    "y=int(input(\"Enter any number for y\"))\n",
    "y"
   ]
  },
  {
   "cell_type": "code",
   "execution_count": 111,
   "id": "48a78683-da3b-4473-8b32-87db69107ca3",
   "metadata": {},
   "outputs": [
    {
     "data": {
      "text/plain": [
       "int"
      ]
     },
     "execution_count": 111,
     "metadata": {},
     "output_type": "execute_result"
    }
   ],
   "source": [
    "type(y)"
   ]
  },
  {
   "cell_type": "code",
   "execution_count": 112,
   "id": "10fb7c0b-a6bc-4a69-a698-65f4c9c83a19",
   "metadata": {},
   "outputs": [
    {
     "data": {
      "text/plain": [
       "124"
      ]
     },
     "execution_count": 112,
     "metadata": {},
     "output_type": "execute_result"
    }
   ],
   "source": [
    "x+y"
   ]
  },
  {
   "cell_type": "code",
   "execution_count": 114,
   "id": "b3da5786-b80a-4152-b553-ef6ca223bf48",
   "metadata": {},
   "outputs": [
    {
     "data": {
      "text/plain": [
       "-34"
      ]
     },
     "execution_count": 114,
     "metadata": {},
     "output_type": "execute_result"
    }
   ],
   "source": [
    "x-y"
   ]
  },
  {
   "cell_type": "code",
   "execution_count": 115,
   "id": "0d3c6080-9f64-4405-ac19-d6f769702874",
   "metadata": {},
   "outputs": [
    {
     "data": {
      "text/plain": [
       "3555"
      ]
     },
     "execution_count": 115,
     "metadata": {},
     "output_type": "execute_result"
    }
   ],
   "source": [
    "x*y"
   ]
  },
  {
   "cell_type": "code",
   "execution_count": 116,
   "id": "fe76136e-0627-42c9-9e05-202d513b7862",
   "metadata": {},
   "outputs": [
    {
     "data": {
      "text/plain": [
       "0.569620253164557"
      ]
     },
     "execution_count": 116,
     "metadata": {},
     "output_type": "execute_result"
    }
   ],
   "source": [
    "x/y"
   ]
  },
  {
   "cell_type": "code",
   "execution_count": 113,
   "id": "039b4472-243e-44ee-bce2-8d8153483142",
   "metadata": {},
   "outputs": [
    {
     "data": {
      "text/plain": [
       "124"
      ]
     },
     "execution_count": 113,
     "metadata": {},
     "output_type": "execute_result"
    }
   ],
   "source": [
    "int(x)+int(y)"
   ]
  },
  {
   "cell_type": "code",
   "execution_count": 117,
   "id": "192c2619-dcef-4a5d-a150-19950cdcb0ee",
   "metadata": {},
   "outputs": [
    {
     "data": {
      "text/plain": [
       "4"
      ]
     },
     "execution_count": 117,
     "metadata": {},
     "output_type": "execute_result"
    }
   ],
   "source": [
    "2**2"
   ]
  },
  {
   "cell_type": "code",
   "execution_count": 118,
   "id": "70e799ad-4d56-4140-a759-08a9785cb08c",
   "metadata": {},
   "outputs": [
    {
     "data": {
      "text/plain": [
       "9"
      ]
     },
     "execution_count": 118,
     "metadata": {},
     "output_type": "execute_result"
    }
   ],
   "source": [
    "3**2"
   ]
  },
  {
   "cell_type": "code",
   "execution_count": 119,
   "id": "a597c1f2-2e47-48b5-8665-9ebce40fdb9a",
   "metadata": {},
   "outputs": [
    {
     "data": {
      "text/plain": [
       "25"
      ]
     },
     "execution_count": 119,
     "metadata": {},
     "output_type": "execute_result"
    }
   ],
   "source": [
    "5**2"
   ]
  },
  {
   "cell_type": "code",
   "execution_count": 120,
   "id": "d8a491c6-4151-48b0-98ba-71f25658fac1",
   "metadata": {},
   "outputs": [
    {
     "data": {
      "text/plain": [
       "343"
      ]
     },
     "execution_count": 120,
     "metadata": {},
     "output_type": "execute_result"
    }
   ],
   "source": [
    "7**3"
   ]
  },
  {
   "cell_type": "code",
   "execution_count": 121,
   "id": "47b4fc30-739e-43dc-ab1c-8a08d7f463d7",
   "metadata": {},
   "outputs": [
    {
     "data": {
      "text/plain": [
       "5.0"
      ]
     },
     "execution_count": 121,
     "metadata": {},
     "output_type": "execute_result"
    }
   ],
   "source": [
    "25**(1/2)"
   ]
  },
  {
   "cell_type": "code",
   "execution_count": 122,
   "id": "a2bcd57a-8cfe-43d2-9853-96c37daa9a45",
   "metadata": {},
   "outputs": [
    {
     "data": {
      "text/plain": [
       "7.0"
      ]
     },
     "execution_count": 122,
     "metadata": {},
     "output_type": "execute_result"
    }
   ],
   "source": [
    "49**.5"
   ]
  },
  {
   "cell_type": "markdown",
   "id": "696fb033-b6ca-402a-b132-6030a46e129d",
   "metadata": {},
   "source": [
    "AREA OF RECTANGLE"
   ]
  },
  {
   "cell_type": "code",
   "execution_count": 131,
   "id": "a729ac52-5b0d-481d-9448-0cff7c24a017",
   "metadata": {},
   "outputs": [
    {
     "name": "stdin",
     "output_type": "stream",
     "text": [
      "Enter length 55\n",
      "Enter breadth 8\n"
     ]
    },
    {
     "name": "stdout",
     "output_type": "stream",
     "text": [
      "area of reactangle = 440\n"
     ]
    }
   ],
   "source": [
    "length=int(input(\"Enter length\"))\n",
    "breadth=int(input(\"Enter breadth\"))\n",
    "area=length*breadth\n",
    "\n",
    "print(\"area of reactangle =\",area)"
   ]
  }
 ],
 "metadata": {
  "kernelspec": {
   "display_name": "Python 3 (ipykernel)",
   "language": "python",
   "name": "python3"
  },
  "language_info": {
   "codemirror_mode": {
    "name": "ipython",
    "version": 3
   },
   "file_extension": ".py",
   "mimetype": "text/x-python",
   "name": "python",
   "nbconvert_exporter": "python",
   "pygments_lexer": "ipython3",
   "version": "3.11.7"
  }
 },
 "nbformat": 4,
 "nbformat_minor": 5
}
