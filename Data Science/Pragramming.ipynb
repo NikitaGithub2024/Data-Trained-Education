{
 "cells": [
  {
   "cell_type": "code",
   "execution_count": 1,
   "id": "fd43efe4-2009-40a2-b954-d8f5c71a377e",
   "metadata": {},
   "outputs": [
    {
     "name": "stdout",
     "output_type": "stream",
     "text": [
      "Hello Data Science World!!\n"
     ]
    }
   ],
   "source": [
    "print(\"Hello Data Science World!!\")"
   ]
  },
  {
   "cell_type": "code",
   "execution_count": 3,
   "id": "c2ee0308-a8dc-4b20-bcae-f69c9b7e1a65",
   "metadata": {},
   "outputs": [
    {
     "name": "stdout",
     "output_type": "stream",
     "text": [
      "Machine Learning World!!\n"
     ]
    }
   ],
   "source": [
    "print(\"Machine Learning World!!\")"
   ]
  },
  {
   "cell_type": "code",
   "execution_count": 5,
   "id": "c2e2526d-47ce-4ba6-a439-c44c177ed138",
   "metadata": {},
   "outputs": [
    {
     "name": "stdout",
     "output_type": "stream",
     "text": [
      "Data Science\n"
     ]
    }
   ],
   "source": [
    "print(\"Data Science\")"
   ]
  },
  {
   "cell_type": "code",
   "execution_count": 7,
   "id": "a322c0bd-d51b-425f-9f02-a09995c301f6",
   "metadata": {},
   "outputs": [
    {
     "name": "stdout",
     "output_type": "stream",
     "text": [
      "Python Programming Language\n"
     ]
    }
   ],
   "source": [
    "print(\"Python Programming Language\")"
   ]
  },
  {
   "cell_type": "code",
   "execution_count": 9,
   "id": "9c4fd5e9-879d-4091-bbe6-0bf893630ef1",
   "metadata": {},
   "outputs": [
    {
     "name": "stdout",
     "output_type": "stream",
     "text": [
      "Nikita Ganesh Kamble\n"
     ]
    }
   ],
   "source": [
    "print(\"Nikita Ganesh Kamble\")"
   ]
  },
  {
   "cell_type": "code",
   "execution_count": null,
   "id": "9a6b89fd-0bb5-4b65-a7b6-cea9d2bab14d",
   "metadata": {},
   "outputs": [],
   "source": []
  }
 ],
 "metadata": {
  "kernelspec": {
   "display_name": "Python 3 (ipykernel)",
   "language": "python",
   "name": "python3"
  },
  "language_info": {
   "codemirror_mode": {
    "name": "ipython",
    "version": 3
   },
   "file_extension": ".py",
   "mimetype": "text/x-python",
   "name": "python",
   "nbconvert_exporter": "python",
   "pygments_lexer": "ipython3",
   "version": "3.12.4"
  }
 },
 "nbformat": 4,
 "nbformat_minor": 5
}
