{
 "cells": [
  {
   "cell_type": "markdown",
   "id": "3f967267-228c-4b03-b17f-1a4000b68c73",
   "metadata": {},
   "source": [
    "AREA OF RECTANGLE"
   ]
  },
  {
   "cell_type": "code",
   "execution_count": 1,
   "id": "bda7dec7-6ff4-47b1-a448-fa7c57227700",
   "metadata": {},
   "outputs": [
    {
     "name": "stdin",
     "output_type": "stream",
     "text": [
      "Enter length 55\n",
      "Enter breadth 8\n"
     ]
    },
    {
     "name": "stdout",
     "output_type": "stream",
     "text": [
      "area of rectangle= 440\n"
     ]
    }
   ],
   "source": [
    "length=int(input(\"Enter length\"))\n",
    "breadth=int(input(\"Enter breadth\"))\n",
    "area=length*breadth\n",
    "\n",
    "print(\"area of rectangle=\",area)"
   ]
  },
  {
   "cell_type": "code",
   "execution_count": 3,
   "id": "6d6d3bfd-ebc5-4f87-8567-61f6fdf88b53",
   "metadata": {},
   "outputs": [
    {
     "name": "stdout",
     "output_type": "stream",
     "text": [
      "area of circle= 30156.56\n"
     ]
    }
   ],
   "source": [
    "#Area of circle\n",
    "\n",
    "pi=3.14\n",
    "radius=98\n",
    "area=pi*(radius**2)\n",
    "\n",
    "print(\"area of circle=\",area)"
   ]
  },
  {
   "cell_type": "code",
   "execution_count": 4,
   "id": "1fd9351f-015b-483e-8678-218601d37315",
   "metadata": {},
   "outputs": [
    {
     "name": "stdout",
     "output_type": "stream",
     "text": [
      "circumference of circle 615.44\n"
     ]
    }
   ],
   "source": [
    "#circumference of circle\n",
    "\n",
    "pi=3.14\n",
    "radius=98\n",
    "circumference=2*3.14*radius\n",
    "\n",
    "print(\"circumference of circle\" ,circumference)"
   ]
  },
  {
   "cell_type": "code",
   "execution_count": 5,
   "id": "178d2c2c-2baa-4559-8c15-998359f0489c",
   "metadata": {},
   "outputs": [
    {
     "name": "stdin",
     "output_type": "stream",
     "text": [
      "Enter radius 99\n"
     ]
    },
    {
     "name": "stdout",
     "output_type": "stream",
     "text": [
      "circumference of circle= 621.72\n"
     ]
    }
   ],
   "source": [
    "#circumference of circle\n",
    "\n",
    "pi=3.14\n",
    "radius=int(input(\"Enter radius\"))\n",
    "circumference=2*3.14*radius\n",
    "\n",
    "print(\"circumference of circle=\" ,circumference)"
   ]
  },
  {
   "cell_type": "code",
   "execution_count": 3,
   "id": "49632250-d16a-49a3-be2d-d010d832c4e6",
   "metadata": {},
   "outputs": [
    {
     "name": "stdout",
     "output_type": "stream",
     "text": [
      "area of triangle= 1842.5\n"
     ]
    }
   ],
   "source": [
    "#area of triangle\n",
    "\n",
    "base=67\n",
    "height=55\n",
    "area=(1/2)*base*height\n",
    "\n",
    "print(\"area of triangle=\" ,area)"
   ]
  },
  {
   "cell_type": "code",
   "execution_count": 5,
   "id": "2f3410eb-3ccc-4d92-aed9-ba96992235ed",
   "metadata": {},
   "outputs": [
    {
     "name": "stdin",
     "output_type": "stream",
     "text": [
      "Enter base 33\n",
      "Enter height 55\n"
     ]
    },
    {
     "name": "stdout",
     "output_type": "stream",
     "text": [
      "area of triangle= 907.5\n"
     ]
    }
   ],
   "source": [
    "#area of triangle\n",
    "\n",
    "base=int(input(\"Enter base\"))\n",
    "height=int(input(\"Enter height\"))\n",
    "area=(1/2)*base*height\n",
    "\n",
    "print(\"area of triangle=\" ,area)"
   ]
  },
  {
   "cell_type": "markdown",
   "id": "33af3a1b-3929-4648-9880-99e229278606",
   "metadata": {},
   "source": [
    "DATA STRUCTURES"
   ]
  },
  {
   "cell_type": "markdown",
   "id": "1404b8db-cd24-4ea9-84ba-789650d0b9a4",
   "metadata": {},
   "source": [
    "List"
   ]
  },
  {
   "cell_type": "code",
   "execution_count": 1,
   "id": "64760bcc-252e-49bb-aa06-fb252a936062",
   "metadata": {},
   "outputs": [],
   "source": [
    "#List\n",
    "\n",
    "list1=[]"
   ]
  },
  {
   "cell_type": "code",
   "execution_count": 2,
   "id": "b5b2e6f2-9af0-4fdb-91ca-aa2afa3846f3",
   "metadata": {},
   "outputs": [
    {
     "data": {
      "text/plain": [
       "[]"
      ]
     },
     "execution_count": 2,
     "metadata": {},
     "output_type": "execute_result"
    }
   ],
   "source": [
    "list1"
   ]
  },
  {
   "cell_type": "code",
   "execution_count": 3,
   "id": "66a20146-38fd-4b66-8ca4-ff077527984b",
   "metadata": {},
   "outputs": [],
   "source": [
    "list2=[1,2,3,4,5]"
   ]
  },
  {
   "cell_type": "code",
   "execution_count": 4,
   "id": "6d383e7d-d4fb-4862-976a-6a0ba43046c6",
   "metadata": {},
   "outputs": [
    {
     "data": {
      "text/plain": [
       "[1, 2, 3, 4, 5]"
      ]
     },
     "execution_count": 4,
     "metadata": {},
     "output_type": "execute_result"
    }
   ],
   "source": [
    "list2"
   ]
  },
  {
   "cell_type": "code",
   "execution_count": 5,
   "id": "f4ca031e-a795-4e2a-ae66-b3ba5e901320",
   "metadata": {},
   "outputs": [],
   "source": [
    "list3=[11,12,13,14,15]"
   ]
  },
  {
   "cell_type": "code",
   "execution_count": 6,
   "id": "0646c1e1-1f99-4823-889b-03bcfd255035",
   "metadata": {},
   "outputs": [
    {
     "data": {
      "text/plain": [
       "[11, 12, 13, 14, 15]"
      ]
     },
     "execution_count": 6,
     "metadata": {},
     "output_type": "execute_result"
    }
   ],
   "source": [
    "list3"
   ]
  },
  {
   "cell_type": "code",
   "execution_count": 7,
   "id": "3516c21a-65ea-4d58-bf05-2af92608949f",
   "metadata": {},
   "outputs": [],
   "source": [
    "list4=[34,56,77,88,33,21,90,32,77,88]"
   ]
  },
  {
   "cell_type": "code",
   "execution_count": 8,
   "id": "1db684cf-4cfb-44eb-80bc-63fe594d0297",
   "metadata": {},
   "outputs": [
    {
     "data": {
      "text/plain": [
       "[34, 56, 77, 88, 33, 21, 90, 32, 77, 88]"
      ]
     },
     "execution_count": 8,
     "metadata": {},
     "output_type": "execute_result"
    }
   ],
   "source": [
    "list4"
   ]
  },
  {
   "cell_type": "markdown",
   "id": "eadf63a0-06cd-46a2-a570-fbcee7e88c78",
   "metadata": {},
   "source": [
    "Indexing"
   ]
  },
  {
   "cell_type": "code",
   "execution_count": 19,
   "id": "7966f4ad-fc0e-4509-912a-656dc63f7331",
   "metadata": {},
   "outputs": [],
   "source": [
    "#Indexing\n",
    "\n",
    "list4=[34,56,77,88,33,21,90,32,77,88]"
   ]
  },
  {
   "cell_type": "code",
   "execution_count": 14,
   "id": "c5c9e4ec-5376-48f1-89ba-5f12533994af",
   "metadata": {},
   "outputs": [
    {
     "data": {
      "text/plain": [
       "[34, 56, 77, 88, 33, 21, 90, 32, 77, 88]"
      ]
     },
     "execution_count": 14,
     "metadata": {},
     "output_type": "execute_result"
    }
   ],
   "source": [
    "list4"
   ]
  },
  {
   "cell_type": "code",
   "execution_count": 15,
   "id": "9ad4344f-af9e-43ec-afdd-80ac6862fbdf",
   "metadata": {},
   "outputs": [
    {
     "data": {
      "text/plain": [
       "34"
      ]
     },
     "execution_count": 15,
     "metadata": {},
     "output_type": "execute_result"
    }
   ],
   "source": [
    "list4[0]"
   ]
  },
  {
   "cell_type": "code",
   "execution_count": 16,
   "id": "e76981bf-de4f-4482-9321-d268d0c67ffc",
   "metadata": {},
   "outputs": [
    {
     "data": {
      "text/plain": [
       "56"
      ]
     },
     "execution_count": 16,
     "metadata": {},
     "output_type": "execute_result"
    }
   ],
   "source": [
    "list4[1]"
   ]
  },
  {
   "cell_type": "code",
   "execution_count": 17,
   "id": "93d79410-5b98-4f37-ace5-5bc2853d5f7e",
   "metadata": {},
   "outputs": [
    {
     "data": {
      "text/plain": [
       "90"
      ]
     },
     "execution_count": 17,
     "metadata": {},
     "output_type": "execute_result"
    }
   ],
   "source": [
    "list4[6]"
   ]
  },
  {
   "cell_type": "code",
   "execution_count": 18,
   "id": "cba607ce-b90e-4b96-82ba-7ee6ef977ebe",
   "metadata": {},
   "outputs": [
    {
     "data": {
      "text/plain": [
       "77"
      ]
     },
     "execution_count": 18,
     "metadata": {},
     "output_type": "execute_result"
    }
   ],
   "source": [
    "list4[8]"
   ]
  },
  {
   "cell_type": "code",
   "execution_count": 9,
   "id": "4cc18def-286e-424f-bc2f-7a38a6f9140c",
   "metadata": {},
   "outputs": [],
   "source": [
    "list5=[2.3,5.6,7.8,4.5]"
   ]
  },
  {
   "cell_type": "code",
   "execution_count": 10,
   "id": "a3e8c8c8-a3b4-40cc-a5b0-fec4b8307555",
   "metadata": {},
   "outputs": [
    {
     "data": {
      "text/plain": [
       "[2.3, 5.6, 7.8, 4.5]"
      ]
     },
     "execution_count": 10,
     "metadata": {},
     "output_type": "execute_result"
    }
   ],
   "source": [
    "list5"
   ]
  },
  {
   "cell_type": "code",
   "execution_count": 11,
   "id": "8f5fdc99-18c0-4494-9aed-bd860850ec1f",
   "metadata": {},
   "outputs": [],
   "source": [
    "list6=['A','B','C','D']"
   ]
  },
  {
   "cell_type": "code",
   "execution_count": 12,
   "id": "dc6b98f5-6c28-4ebe-8715-2b63606a46fe",
   "metadata": {},
   "outputs": [
    {
     "data": {
      "text/plain": [
       "['A', 'B', 'C', 'D']"
      ]
     },
     "execution_count": 12,
     "metadata": {},
     "output_type": "execute_result"
    }
   ],
   "source": [
    "list6"
   ]
  },
  {
   "cell_type": "code",
   "execution_count": 51,
   "id": "45a8904f-e431-40b7-ac21-cc425bc38d9a",
   "metadata": {},
   "outputs": [],
   "source": [
    "#Indexing\n",
    "\n",
    "#Positive Indexing\n",
    "\n",
    "list6=['A','B','C','D']"
   ]
  },
  {
   "cell_type": "code",
   "execution_count": 26,
   "id": "6e747781-f858-4c0d-bc9b-c16bb31a37d0",
   "metadata": {},
   "outputs": [
    {
     "data": {
      "text/plain": [
       "['A', 'B', 'C', 'D']"
      ]
     },
     "execution_count": 26,
     "metadata": {},
     "output_type": "execute_result"
    }
   ],
   "source": [
    "list6"
   ]
  },
  {
   "cell_type": "code",
   "execution_count": 27,
   "id": "ace3b85d-fe46-4171-8599-da24a113375a",
   "metadata": {},
   "outputs": [
    {
     "data": {
      "text/plain": [
       "'B'"
      ]
     },
     "execution_count": 27,
     "metadata": {},
     "output_type": "execute_result"
    }
   ],
   "source": [
    "list6[1]"
   ]
  },
  {
   "cell_type": "code",
   "execution_count": 28,
   "id": "9f48770c-89d2-4b7d-86dc-ec7b80d41cbb",
   "metadata": {},
   "outputs": [
    {
     "data": {
      "text/plain": [
       "'D'"
      ]
     },
     "execution_count": 28,
     "metadata": {},
     "output_type": "execute_result"
    }
   ],
   "source": [
    "list6[3]"
   ]
  },
  {
   "cell_type": "code",
   "execution_count": 53,
   "id": "3c24f151-b8c9-4f12-bb10-8e31065f923c",
   "metadata": {},
   "outputs": [],
   "source": [
    "#Negative Indexing\n",
    "\n",
    "list6=['A','B','C','D']"
   ]
  },
  {
   "cell_type": "code",
   "execution_count": 54,
   "id": "566a912b-bcc9-4840-8d81-05b81e842e04",
   "metadata": {},
   "outputs": [
    {
     "data": {
      "text/plain": [
       "['A', 'B', 'C', 'D']"
      ]
     },
     "execution_count": 54,
     "metadata": {},
     "output_type": "execute_result"
    }
   ],
   "source": [
    "list6"
   ]
  },
  {
   "cell_type": "code",
   "execution_count": 55,
   "id": "3275e1bf-2577-4fa5-98df-fbfa80da3a09",
   "metadata": {},
   "outputs": [
    {
     "data": {
      "text/plain": [
       "'D'"
      ]
     },
     "execution_count": 55,
     "metadata": {},
     "output_type": "execute_result"
    }
   ],
   "source": [
    "list6[-1]"
   ]
  },
  {
   "cell_type": "code",
   "execution_count": 56,
   "id": "0a14dc74-2243-4ca2-b55a-5ee75da1011f",
   "metadata": {},
   "outputs": [
    {
     "data": {
      "text/plain": [
       "'B'"
      ]
     },
     "execution_count": 56,
     "metadata": {},
     "output_type": "execute_result"
    }
   ],
   "source": [
    "list6[-3]"
   ]
  },
  {
   "cell_type": "code",
   "execution_count": 58,
   "id": "6431d0da-6dfc-45e8-bb3b-093d7794aaee",
   "metadata": {},
   "outputs": [
    {
     "data": {
      "text/plain": [
       "'A'"
      ]
     },
     "execution_count": 58,
     "metadata": {},
     "output_type": "execute_result"
    }
   ],
   "source": [
    "list6[-4]"
   ]
  },
  {
   "cell_type": "code",
   "execution_count": 24,
   "id": "5d3c5bcb-803d-4c62-a501-2f4397da61ed",
   "metadata": {},
   "outputs": [],
   "source": [
    "list7=[22,56,'DEF','MOON',78,4.6,True]"
   ]
  },
  {
   "cell_type": "code",
   "execution_count": 25,
   "id": "40b3e2d3-ee72-481b-bf7f-fb15b11269de",
   "metadata": {},
   "outputs": [
    {
     "data": {
      "text/plain": [
       "[22, 56, 'DEF', 'MOON', 78, 4.6, True]"
      ]
     },
     "execution_count": 25,
     "metadata": {},
     "output_type": "execute_result"
    }
   ],
   "source": [
    "list7"
   ]
  },
  {
   "cell_type": "code",
   "execution_count": 15,
   "id": "17755ca6-700a-4668-9345-cc760a37f236",
   "metadata": {},
   "outputs": [],
   "source": [
    "list8=[90,3,44,67,23,91,88,'Sun']"
   ]
  },
  {
   "cell_type": "code",
   "execution_count": 16,
   "id": "0c6b4d53-dbb5-41a9-8051-1723a3f5be88",
   "metadata": {},
   "outputs": [
    {
     "data": {
      "text/plain": [
       "[90, 3, 44, 67, 23, 91, 88, 'Sun']"
      ]
     },
     "execution_count": 16,
     "metadata": {},
     "output_type": "execute_result"
    }
   ],
   "source": [
    "list8"
   ]
  },
  {
   "cell_type": "code",
   "execution_count": 17,
   "id": "bf2a861c-38dc-4cb9-8ea9-c5f43ac4adb8",
   "metadata": {},
   "outputs": [],
   "source": [
    "list9=['sun','moon','fruits','stars','earth','mars','uranus']"
   ]
  },
  {
   "cell_type": "code",
   "execution_count": 18,
   "id": "74c60b71-375e-4391-9585-f0bd282052be",
   "metadata": {},
   "outputs": [
    {
     "data": {
      "text/plain": [
       "['sun', 'moon', 'fruits', 'stars', 'earth', 'mars', 'uranus']"
      ]
     },
     "execution_count": 18,
     "metadata": {},
     "output_type": "execute_result"
    }
   ],
   "source": [
    "list9"
   ]
  },
  {
   "cell_type": "code",
   "execution_count": 50,
   "id": "161fe55e-41b8-4c4f-86da-bd716b9050a3",
   "metadata": {},
   "outputs": [],
   "source": [
    "#Indexing\n",
    "\n",
    "#Positive Indexing\n",
    "\n",
    "list9=['sun','moon','fruits','stars','earth','mars','uranus']"
   ]
  },
  {
   "cell_type": "code",
   "execution_count": 3,
   "id": "89fe69a0-85f9-4ea4-835c-e2cd5e705aed",
   "metadata": {},
   "outputs": [
    {
     "data": {
      "text/plain": [
       "['sun', 'moon', 'fruits', 'stars', 'earth', 'mars', 'uranus']"
      ]
     },
     "execution_count": 3,
     "metadata": {},
     "output_type": "execute_result"
    }
   ],
   "source": [
    "list9"
   ]
  },
  {
   "cell_type": "code",
   "execution_count": 4,
   "id": "fe07dfc1-afbc-44fc-87a9-8f566b1186cd",
   "metadata": {},
   "outputs": [
    {
     "data": {
      "text/plain": [
       "'sun'"
      ]
     },
     "execution_count": 4,
     "metadata": {},
     "output_type": "execute_result"
    }
   ],
   "source": [
    "list9[0]"
   ]
  },
  {
   "cell_type": "code",
   "execution_count": 6,
   "id": "f6bc58d7-4bbf-43d0-98df-f9926ce262cc",
   "metadata": {},
   "outputs": [
    {
     "data": {
      "text/plain": [
       "'moon'"
      ]
     },
     "execution_count": 6,
     "metadata": {},
     "output_type": "execute_result"
    }
   ],
   "source": [
    "list9[1]"
   ]
  },
  {
   "cell_type": "code",
   "execution_count": 7,
   "id": "3cbb66ec-ce58-4952-9297-a81c8337e93a",
   "metadata": {},
   "outputs": [
    {
     "data": {
      "text/plain": [
       "'stars'"
      ]
     },
     "execution_count": 7,
     "metadata": {},
     "output_type": "execute_result"
    }
   ],
   "source": [
    "list9[3]"
   ]
  },
  {
   "cell_type": "code",
   "execution_count": 8,
   "id": "65b55f02-8e6b-4f46-ae82-5700d20b297e",
   "metadata": {},
   "outputs": [
    {
     "data": {
      "text/plain": [
       "'mars'"
      ]
     },
     "execution_count": 8,
     "metadata": {},
     "output_type": "execute_result"
    }
   ],
   "source": [
    "list9[5]"
   ]
  },
  {
   "cell_type": "markdown",
   "id": "4d01cc6d-ba2d-4d15-9c96-e125a503c8ff",
   "metadata": {},
   "source": [
    "Slicing "
   ]
  },
  {
   "cell_type": "code",
   "execution_count": 60,
   "id": "685ba9d9-cb63-489c-9bcc-e7a56056e498",
   "metadata": {},
   "outputs": [],
   "source": [
    "#slicing\n",
    "\n",
    "#Positive Slicing\n",
    "\n",
    "#list9[start index:end index]\n",
    "\n",
    "list9=['sun','moon','fruits','stars','earth','mars','uranus']"
   ]
  },
  {
   "cell_type": "code",
   "execution_count": 30,
   "id": "52602d22-05f9-4794-bc14-24b40dad090f",
   "metadata": {},
   "outputs": [
    {
     "data": {
      "text/plain": [
       "['sun', 'moon', 'fruits', 'stars', 'earth', 'mars', 'uranus']"
      ]
     },
     "execution_count": 30,
     "metadata": {},
     "output_type": "execute_result"
    }
   ],
   "source": [
    "list9"
   ]
  },
  {
   "cell_type": "code",
   "execution_count": 31,
   "id": "051a87af-da41-4d71-b123-caafd74fa89e",
   "metadata": {},
   "outputs": [
    {
     "data": {
      "text/plain": [
       "['sun']"
      ]
     },
     "execution_count": 31,
     "metadata": {},
     "output_type": "execute_result"
    }
   ],
   "source": [
    "list9[0:1]"
   ]
  },
  {
   "cell_type": "code",
   "execution_count": 32,
   "id": "43df35e3-cc31-41f4-bb04-7bdea77ff5eb",
   "metadata": {},
   "outputs": [
    {
     "data": {
      "text/plain": [
       "['moon', 'fruits', 'stars']"
      ]
     },
     "execution_count": 32,
     "metadata": {},
     "output_type": "execute_result"
    }
   ],
   "source": [
    "list9[1:4]"
   ]
  },
  {
   "cell_type": "code",
   "execution_count": 33,
   "id": "b21ecfa0-e79a-440e-b8f4-41a733b862ad",
   "metadata": {},
   "outputs": [
    {
     "data": {
      "text/plain": [
       "['fruits', 'stars', 'earth', 'mars']"
      ]
     },
     "execution_count": 33,
     "metadata": {},
     "output_type": "execute_result"
    }
   ],
   "source": [
    "list9[2:6]"
   ]
  },
  {
   "cell_type": "code",
   "execution_count": 34,
   "id": "24e4372f-487b-4eeb-b8dc-d1b276921e51",
   "metadata": {},
   "outputs": [
    {
     "data": {
      "text/plain": [
       "['stars', 'earth', 'mars']"
      ]
     },
     "execution_count": 34,
     "metadata": {},
     "output_type": "execute_result"
    }
   ],
   "source": [
    "list9[3:6]"
   ]
  },
  {
   "cell_type": "code",
   "execution_count": 35,
   "id": "fe233781-ce29-4fd6-b2e8-ced07265fb44",
   "metadata": {},
   "outputs": [
    {
     "data": {
      "text/plain": [
       "['sun', 'moon', 'fruits', 'stars', 'earth', 'mars', 'uranus']"
      ]
     },
     "execution_count": 35,
     "metadata": {},
     "output_type": "execute_result"
    }
   ],
   "source": [
    "list9[:]"
   ]
  },
  {
   "cell_type": "code",
   "execution_count": 36,
   "id": "b7cde76f-2d82-4dd6-9476-b77f3fc25d1c",
   "metadata": {},
   "outputs": [
    {
     "data": {
      "text/plain": [
       "['sun', 'moon', 'fruits', 'stars', 'earth', 'mars', 'uranus']"
      ]
     },
     "execution_count": 36,
     "metadata": {},
     "output_type": "execute_result"
    }
   ],
   "source": [
    "list9[0:]"
   ]
  },
  {
   "cell_type": "code",
   "execution_count": 39,
   "id": "04477748-46cb-4def-b0c5-aa5e66cc0e9b",
   "metadata": {},
   "outputs": [
    {
     "data": {
      "text/plain": [
       "['sun', 'moon', 'fruits', 'stars', 'earth', 'mars', 'uranus']"
      ]
     },
     "execution_count": 39,
     "metadata": {},
     "output_type": "execute_result"
    }
   ],
   "source": [
    "list9[0:7]"
   ]
  },
  {
   "cell_type": "code",
   "execution_count": 48,
   "id": "319ab722-0601-4e41-b87c-b482fe4031ce",
   "metadata": {},
   "outputs": [],
   "source": [
    "#Negative Indexing\n",
    "\n",
    "#list9\n",
    "\n",
    "list9=['sun','moon','fruits','stars','earth','mars','uranus']"
   ]
  },
  {
   "cell_type": "code",
   "execution_count": 42,
   "id": "3db1ce71-4f4c-476f-ae34-0220854b2656",
   "metadata": {},
   "outputs": [
    {
     "data": {
      "text/plain": [
       "['sun', 'moon', 'fruits', 'stars', 'earth', 'mars', 'uranus']"
      ]
     },
     "execution_count": 42,
     "metadata": {},
     "output_type": "execute_result"
    }
   ],
   "source": [
    "list9"
   ]
  },
  {
   "cell_type": "code",
   "execution_count": 43,
   "id": "9792050c-167c-47dd-af16-0034572fbb6d",
   "metadata": {},
   "outputs": [
    {
     "data": {
      "text/plain": [
       "'uranus'"
      ]
     },
     "execution_count": 43,
     "metadata": {},
     "output_type": "execute_result"
    }
   ],
   "source": [
    "list9[-1]"
   ]
  },
  {
   "cell_type": "code",
   "execution_count": 44,
   "id": "ae9e1945-0ea3-41f9-af45-078c073ec431",
   "metadata": {},
   "outputs": [
    {
     "data": {
      "text/plain": [
       "'mars'"
      ]
     },
     "execution_count": 44,
     "metadata": {},
     "output_type": "execute_result"
    }
   ],
   "source": [
    "list9[-2]"
   ]
  },
  {
   "cell_type": "code",
   "execution_count": 45,
   "id": "ba9e1c50-ca92-46ce-b921-8c6e7987efa9",
   "metadata": {},
   "outputs": [
    {
     "data": {
      "text/plain": [
       "'fruits'"
      ]
     },
     "execution_count": 45,
     "metadata": {},
     "output_type": "execute_result"
    }
   ],
   "source": [
    "list9[-5]"
   ]
  },
  {
   "cell_type": "code",
   "execution_count": 46,
   "id": "4edddf36-a407-4c54-8fdd-569ed0168a31",
   "metadata": {},
   "outputs": [
    {
     "data": {
      "text/plain": [
       "'moon'"
      ]
     },
     "execution_count": 46,
     "metadata": {},
     "output_type": "execute_result"
    }
   ],
   "source": [
    "list9[-6]"
   ]
  },
  {
   "cell_type": "code",
   "execution_count": 61,
   "id": "c24bab59-92e6-42e5-b2ff-3e2f5473acb3",
   "metadata": {},
   "outputs": [],
   "source": [
    "#Negativ Slicing\n",
    "\n",
    "#list9"
   ]
  },
  {
   "cell_type": "code",
   "execution_count": 62,
   "id": "5a93a284-b71d-4d2f-b63c-3a6fed7439f2",
   "metadata": {},
   "outputs": [
    {
     "data": {
      "text/plain": [
       "['sun', 'moon', 'fruits', 'stars', 'earth', 'mars', 'uranus']"
      ]
     },
     "execution_count": 62,
     "metadata": {},
     "output_type": "execute_result"
    }
   ],
   "source": [
    "list9"
   ]
  },
  {
   "cell_type": "code",
   "execution_count": 63,
   "id": "85aa1bf8-8341-4978-baf9-4adba3e17581",
   "metadata": {},
   "outputs": [
    {
     "data": {
      "text/plain": [
       "['earth', 'mars']"
      ]
     },
     "execution_count": 63,
     "metadata": {},
     "output_type": "execute_result"
    }
   ],
   "source": [
    "list9[-3:-1]"
   ]
  },
  {
   "cell_type": "code",
   "execution_count": 64,
   "id": "2798e50a-abc0-4c94-b225-5b4cb9cb821b",
   "metadata": {},
   "outputs": [
    {
     "data": {
      "text/plain": [
       "['fruits', 'stars', 'earth']"
      ]
     },
     "execution_count": 64,
     "metadata": {},
     "output_type": "execute_result"
    }
   ],
   "source": [
    "list9[-5:-2]"
   ]
  },
  {
   "cell_type": "code",
   "execution_count": 66,
   "id": "f46a5ae0-4b92-44f6-9a60-c21a414ce8ce",
   "metadata": {},
   "outputs": [
    {
     "data": {
      "text/plain": [
       "['sun', 'moon', 'fruits', 'stars', 'earth', 'mars', 'uranus']"
      ]
     },
     "execution_count": 66,
     "metadata": {},
     "output_type": "execute_result"
    }
   ],
   "source": [
    "list9[-7:]"
   ]
  },
  {
   "cell_type": "code",
   "execution_count": 67,
   "id": "5882d8d4-cbe5-4f5c-b8d0-badf25c73841",
   "metadata": {},
   "outputs": [
    {
     "data": {
      "text/plain": [
       "['sun', 'moon', 'fruits', 'stars', 'earth', 'mars', 'uranus']"
      ]
     },
     "execution_count": 67,
     "metadata": {},
     "output_type": "execute_result"
    }
   ],
   "source": [
    "list9[0:]"
   ]
  },
  {
   "cell_type": "code",
   "execution_count": 68,
   "id": "da7dd80d-b761-48b3-afea-b1e0f3329627",
   "metadata": {},
   "outputs": [
    {
     "data": {
      "text/plain": [
       "['sun', 'moon', 'fruits', 'stars', 'earth', 'mars', 'uranus']"
      ]
     },
     "execution_count": 68,
     "metadata": {},
     "output_type": "execute_result"
    }
   ],
   "source": [
    "list9[:]"
   ]
  },
  {
   "cell_type": "code",
   "execution_count": 69,
   "id": "c9366296-a870-44cb-a9bd-ecdb0fc4cac0",
   "metadata": {},
   "outputs": [
    {
     "data": {
      "text/plain": [
       "['sun']"
      ]
     },
     "execution_count": 69,
     "metadata": {},
     "output_type": "execute_result"
    }
   ],
   "source": [
    "list9[:1]"
   ]
  },
  {
   "cell_type": "code",
   "execution_count": 70,
   "id": "6e266a38-2454-4be3-833b-fccb674c7a89",
   "metadata": {},
   "outputs": [
    {
     "data": {
      "text/plain": [
       "[]"
      ]
     },
     "execution_count": 70,
     "metadata": {},
     "output_type": "execute_result"
    }
   ],
   "source": [
    "list9[0:0]"
   ]
  },
  {
   "cell_type": "code",
   "execution_count": 71,
   "id": "1a71df24-f1eb-4952-8126-097e879b2afd",
   "metadata": {},
   "outputs": [
    {
     "data": {
      "text/plain": [
       "[]"
      ]
     },
     "execution_count": 71,
     "metadata": {},
     "output_type": "execute_result"
    }
   ],
   "source": [
    "list9[1:1]"
   ]
  },
  {
   "cell_type": "code",
   "execution_count": 72,
   "id": "bf186752-e99d-422f-82e4-e1427167dd0c",
   "metadata": {},
   "outputs": [
    {
     "data": {
      "text/plain": [
       "[]"
      ]
     },
     "execution_count": 72,
     "metadata": {},
     "output_type": "execute_result"
    }
   ],
   "source": [
    "list9[-1:-1]"
   ]
  },
  {
   "cell_type": "code",
   "execution_count": 73,
   "id": "40a1bb61-3f94-4590-b635-94cb2b4fc337",
   "metadata": {},
   "outputs": [
    {
     "data": {
      "text/plain": [
       "['moon']"
      ]
     },
     "execution_count": 73,
     "metadata": {},
     "output_type": "execute_result"
    }
   ],
   "source": [
    "list9[1:2]"
   ]
  },
  {
   "cell_type": "code",
   "execution_count": 75,
   "id": "e417e1bd-41d9-4d94-a009-05eee28b17c2",
   "metadata": {},
   "outputs": [
    {
     "data": {
      "text/plain": [
       "['mars']"
      ]
     },
     "execution_count": 75,
     "metadata": {},
     "output_type": "execute_result"
    }
   ],
   "source": [
    "list9[-2:-1]"
   ]
  },
  {
   "cell_type": "code",
   "execution_count": 76,
   "id": "8fd1d028-01be-4d1d-a3a6-fb81556e348e",
   "metadata": {},
   "outputs": [
    {
     "data": {
      "text/plain": [
       "[]"
      ]
     },
     "execution_count": 76,
     "metadata": {},
     "output_type": "execute_result"
    }
   ],
   "source": [
    "list9[-1:1]"
   ]
  },
  {
   "cell_type": "code",
   "execution_count": 77,
   "id": "9630e9ab-34e6-4159-97d7-06f98c03b255",
   "metadata": {},
   "outputs": [
    {
     "data": {
      "text/plain": [
       "['sun', 'moon', 'fruits', 'stars', 'earth', 'mars', 'uranus']"
      ]
     },
     "execution_count": 77,
     "metadata": {},
     "output_type": "execute_result"
    }
   ],
   "source": [
    "list9[0:7]"
   ]
  },
  {
   "cell_type": "code",
   "execution_count": 82,
   "id": "7c4ee1b7-17cc-442d-9cec-17f72b98491f",
   "metadata": {},
   "outputs": [
    {
     "data": {
      "text/plain": [
       "['sun', 'moon', 'fruits', 'stars', 'earth', 'mars']"
      ]
     },
     "execution_count": 82,
     "metadata": {},
     "output_type": "execute_result"
    }
   ],
   "source": [
    "list9[-8:-1]"
   ]
  },
  {
   "cell_type": "markdown",
   "id": "4d144a00-e5bc-4098-936c-3c138d20aa17",
   "metadata": {},
   "source": [
    "#List Functions"
   ]
  },
  {
   "cell_type": "code",
   "execution_count": 83,
   "id": "4d2a4cc5-85df-4d5b-ae86-7f6d179c4cba",
   "metadata": {},
   "outputs": [],
   "source": [
    "list1=['A','B','C','D']"
   ]
  },
  {
   "cell_type": "code",
   "execution_count": 84,
   "id": "308ce940-506c-47b4-a5d7-2fb8f636b03d",
   "metadata": {},
   "outputs": [
    {
     "data": {
      "text/plain": [
       "['A', 'B', 'C', 'D']"
      ]
     },
     "execution_count": 84,
     "metadata": {},
     "output_type": "execute_result"
    }
   ],
   "source": [
    "list1"
   ]
  },
  {
   "cell_type": "code",
   "execution_count": 85,
   "id": "064ebd04-b3aa-44f2-9211-fd2f802368b3",
   "metadata": {},
   "outputs": [
    {
     "data": {
      "text/plain": [
       "4"
      ]
     },
     "execution_count": 85,
     "metadata": {},
     "output_type": "execute_result"
    }
   ],
   "source": [
    "len(list1)"
   ]
  },
  {
   "cell_type": "code",
   "execution_count": 6,
   "id": "26ce8bfe-7f0e-4b75-9b13-3410d20cc11e",
   "metadata": {},
   "outputs": [],
   "source": [
    "#List Function\n",
    "\n",
    "fruitlist=['Guava','Banana','Grapes','Kiwi']"
   ]
  },
  {
   "cell_type": "code",
   "execution_count": 7,
   "id": "ba540a35-17b0-4141-aaad-d6efbe2d99a5",
   "metadata": {},
   "outputs": [
    {
     "data": {
      "text/plain": [
       "['Guava', 'Banana', 'Grapes', 'Kiwi']"
      ]
     },
     "execution_count": 7,
     "metadata": {},
     "output_type": "execute_result"
    }
   ],
   "source": [
    "fruitlist"
   ]
  },
  {
   "cell_type": "code",
   "execution_count": 8,
   "id": "c8365937-18a7-4f9b-96d3-74adb29edb7a",
   "metadata": {},
   "outputs": [],
   "source": [
    "fruitlist.append('Apple')"
   ]
  },
  {
   "cell_type": "code",
   "execution_count": 9,
   "id": "5ac9876f-b102-4277-be5d-a222ffe46d51",
   "metadata": {},
   "outputs": [
    {
     "data": {
      "text/plain": [
       "['Guava', 'Banana', 'Grapes', 'Kiwi', 'Apple']"
      ]
     },
     "execution_count": 9,
     "metadata": {},
     "output_type": "execute_result"
    }
   ],
   "source": [
    "fruitlist"
   ]
  },
  {
   "cell_type": "code",
   "execution_count": 10,
   "id": "80deb5e2-1fc3-4802-8da8-4ece76325011",
   "metadata": {},
   "outputs": [
    {
     "data": {
      "text/plain": [
       "5"
      ]
     },
     "execution_count": 10,
     "metadata": {},
     "output_type": "execute_result"
    }
   ],
   "source": [
    "len(fruitlist)"
   ]
  },
  {
   "cell_type": "code",
   "execution_count": 11,
   "id": "b230135c-0ff7-4040-a37e-bd0d38b56894",
   "metadata": {},
   "outputs": [],
   "source": [
    "fruitlist.append('Melon')"
   ]
  },
  {
   "cell_type": "code",
   "execution_count": 12,
   "id": "691a2892-18f7-4c09-908f-471916498ceb",
   "metadata": {},
   "outputs": [
    {
     "data": {
      "text/plain": [
       "['Guava', 'Banana', 'Grapes', 'Kiwi', 'Apple', 'Melon']"
      ]
     },
     "execution_count": 12,
     "metadata": {},
     "output_type": "execute_result"
    }
   ],
   "source": [
    "fruitlist"
   ]
  },
  {
   "cell_type": "code",
   "execution_count": 13,
   "id": "d42fe003-651f-4772-9309-c2ed6444b693",
   "metadata": {},
   "outputs": [],
   "source": [
    "fruitlist.sort()"
   ]
  },
  {
   "cell_type": "code",
   "execution_count": 14,
   "id": "a8bcb5e9-1ea1-4c6c-aa1b-8d68d1991171",
   "metadata": {},
   "outputs": [
    {
     "data": {
      "text/plain": [
       "['Apple', 'Banana', 'Grapes', 'Guava', 'Kiwi', 'Melon']"
      ]
     },
     "execution_count": 14,
     "metadata": {},
     "output_type": "execute_result"
    }
   ],
   "source": [
    "fruitlist"
   ]
  },
  {
   "cell_type": "code",
   "execution_count": 15,
   "id": "fac71c93-b06d-4133-93e2-bf360c8ec504",
   "metadata": {},
   "outputs": [],
   "source": [
    "fruitlist.reverse()"
   ]
  },
  {
   "cell_type": "code",
   "execution_count": 16,
   "id": "83ead10a-51fc-4b5c-b8fd-9a72b3de336e",
   "metadata": {},
   "outputs": [
    {
     "data": {
      "text/plain": [
       "['Melon', 'Kiwi', 'Guava', 'Grapes', 'Banana', 'Apple']"
      ]
     },
     "execution_count": 16,
     "metadata": {},
     "output_type": "execute_result"
    }
   ],
   "source": [
    "fruitlist"
   ]
  },
  {
   "cell_type": "code",
   "execution_count": 17,
   "id": "6e02905a-c5f4-4448-b17d-10062b21d5bf",
   "metadata": {},
   "outputs": [],
   "source": [
    "fruitlist.insert(3,'Jackfruit')"
   ]
  },
  {
   "cell_type": "code",
   "execution_count": 18,
   "id": "94c33ddc-30cd-4b28-a84b-56170b560878",
   "metadata": {},
   "outputs": [
    {
     "data": {
      "text/plain": [
       "['Melon', 'Kiwi', 'Guava', 'Jackfruit', 'Grapes', 'Banana', 'Apple']"
      ]
     },
     "execution_count": 18,
     "metadata": {},
     "output_type": "execute_result"
    }
   ],
   "source": [
    "fruitlist"
   ]
  },
  {
   "cell_type": "code",
   "execution_count": 19,
   "id": "0e453982-13b2-4a89-b133-cabfc8236057",
   "metadata": {},
   "outputs": [],
   "source": [
    "fruitlist.insert(0,'Banana')"
   ]
  },
  {
   "cell_type": "code",
   "execution_count": 20,
   "id": "b7fd6c33-4a57-4cd6-8963-87db436c2ad0",
   "metadata": {},
   "outputs": [
    {
     "data": {
      "text/plain": [
       "['Banana', 'Melon', 'Kiwi', 'Guava', 'Jackfruit', 'Grapes', 'Banana', 'Apple']"
      ]
     },
     "execution_count": 20,
     "metadata": {},
     "output_type": "execute_result"
    }
   ],
   "source": [
    "fruitlist"
   ]
  },
  {
   "cell_type": "code",
   "execution_count": 21,
   "id": "5f118ed1-9e0d-47d3-9160-aafc745db591",
   "metadata": {},
   "outputs": [
    {
     "data": {
      "text/plain": [
       "8"
      ]
     },
     "execution_count": 21,
     "metadata": {},
     "output_type": "execute_result"
    }
   ],
   "source": [
    "len(fruitlist)"
   ]
  },
  {
   "cell_type": "code",
   "execution_count": 22,
   "id": "ead24a1b-dd46-40de-b291-48aa575cb31b",
   "metadata": {},
   "outputs": [
    {
     "data": {
      "text/plain": [
       "'Apple'"
      ]
     },
     "execution_count": 22,
     "metadata": {},
     "output_type": "execute_result"
    }
   ],
   "source": [
    "fruitlist.pop()"
   ]
  },
  {
   "cell_type": "code",
   "execution_count": 23,
   "id": "eb40985a-8b9a-488b-ba65-4b23c787c273",
   "metadata": {},
   "outputs": [
    {
     "data": {
      "text/plain": [
       "['Banana', 'Melon', 'Kiwi', 'Guava', 'Jackfruit', 'Grapes', 'Banana']"
      ]
     },
     "execution_count": 23,
     "metadata": {},
     "output_type": "execute_result"
    }
   ],
   "source": [
    "fruitlist"
   ]
  },
  {
   "cell_type": "code",
   "execution_count": 24,
   "id": "8f0fa8dd-963a-43bc-b6f7-f115d641dc19",
   "metadata": {},
   "outputs": [
    {
     "data": {
      "text/plain": [
       "'Banana'"
      ]
     },
     "execution_count": 24,
     "metadata": {},
     "output_type": "execute_result"
    }
   ],
   "source": [
    "fruitlist.pop(0)"
   ]
  },
  {
   "cell_type": "code",
   "execution_count": 25,
   "id": "d6e77845-d6aa-4715-97be-86af7e5b38af",
   "metadata": {},
   "outputs": [
    {
     "data": {
      "text/plain": [
       "['Melon', 'Kiwi', 'Guava', 'Jackfruit', 'Grapes', 'Banana']"
      ]
     },
     "execution_count": 25,
     "metadata": {},
     "output_type": "execute_result"
    }
   ],
   "source": [
    "fruitlist"
   ]
  },
  {
   "cell_type": "code",
   "execution_count": 26,
   "id": "ab45de68-97dc-4ba5-bcca-afdbe7985646",
   "metadata": {},
   "outputs": [
    {
     "data": {
      "text/plain": [
       "'Banana'"
      ]
     },
     "execution_count": 26,
     "metadata": {},
     "output_type": "execute_result"
    }
   ],
   "source": [
    "fruitlist.pop()"
   ]
  },
  {
   "cell_type": "code",
   "execution_count": 27,
   "id": "a237627b-d86e-4414-8b00-8450d71b7649",
   "metadata": {},
   "outputs": [
    {
     "data": {
      "text/plain": [
       "['Melon', 'Kiwi', 'Guava', 'Jackfruit', 'Grapes']"
      ]
     },
     "execution_count": 27,
     "metadata": {},
     "output_type": "execute_result"
    }
   ],
   "source": [
    "fruitlist"
   ]
  },
  {
   "cell_type": "code",
   "execution_count": 28,
   "id": "066466dd-cde1-4b46-83e0-04c1875e3219",
   "metadata": {},
   "outputs": [],
   "source": [
    "fruitlist.remove('Kiwi')"
   ]
  },
  {
   "cell_type": "code",
   "execution_count": 29,
   "id": "542d01c1-290d-4492-a0b0-381f5522275f",
   "metadata": {},
   "outputs": [
    {
     "data": {
      "text/plain": [
       "['Melon', 'Guava', 'Jackfruit', 'Grapes']"
      ]
     },
     "execution_count": 29,
     "metadata": {},
     "output_type": "execute_result"
    }
   ],
   "source": [
    "fruitlist"
   ]
  },
  {
   "cell_type": "code",
   "execution_count": 30,
   "id": "0f5387cb-40c8-40e0-a5d5-8fb650f22017",
   "metadata": {},
   "outputs": [
    {
     "data": {
      "text/plain": [
       "4"
      ]
     },
     "execution_count": 30,
     "metadata": {},
     "output_type": "execute_result"
    }
   ],
   "source": [
    "len(fruitlist)"
   ]
  },
  {
   "cell_type": "code",
   "execution_count": 31,
   "id": "d974b5e4-fcf9-432b-bc95-bc16f8b7920e",
   "metadata": {},
   "outputs": [
    {
     "data": {
      "text/plain": [
       "'Jackfruit'"
      ]
     },
     "execution_count": 31,
     "metadata": {},
     "output_type": "execute_result"
    }
   ],
   "source": [
    "fruitlist.pop(2)"
   ]
  },
  {
   "cell_type": "code",
   "execution_count": 32,
   "id": "9eec5021-f8c9-4a2c-8365-7d3d45cadada",
   "metadata": {},
   "outputs": [
    {
     "data": {
      "text/plain": [
       "['Melon', 'Guava', 'Grapes']"
      ]
     },
     "execution_count": 32,
     "metadata": {},
     "output_type": "execute_result"
    }
   ],
   "source": [
    "fruitlist"
   ]
  },
  {
   "cell_type": "code",
   "execution_count": 33,
   "id": "237606bb-e99b-4af1-9fa3-5f4731cfe770",
   "metadata": {},
   "outputs": [
    {
     "data": {
      "text/plain": [
       "2"
      ]
     },
     "execution_count": 33,
     "metadata": {},
     "output_type": "execute_result"
    }
   ],
   "source": [
    "fruitlist.index('Grapes')"
   ]
  },
  {
   "cell_type": "code",
   "execution_count": 34,
   "id": "7aa1b006-7683-452c-92b5-29cdd2124208",
   "metadata": {},
   "outputs": [
    {
     "data": {
      "text/plain": [
       "0"
      ]
     },
     "execution_count": 34,
     "metadata": {},
     "output_type": "execute_result"
    }
   ],
   "source": [
    "fruitlist.index('Melon')"
   ]
  },
  {
   "cell_type": "code",
   "execution_count": 35,
   "id": "f1467a73-36e8-4819-84d3-a2eeef4e70bc",
   "metadata": {},
   "outputs": [
    {
     "data": {
      "text/plain": [
       "['Melon', 'Guava', 'Grapes']"
      ]
     },
     "execution_count": 35,
     "metadata": {},
     "output_type": "execute_result"
    }
   ],
   "source": [
    "fruitlist"
   ]
  },
  {
   "cell_type": "code",
   "execution_count": 36,
   "id": "5cde7133-b7d1-4082-9692-7f1fdeb233a9",
   "metadata": {},
   "outputs": [],
   "source": [
    "del fruitlist"
   ]
  },
  {
   "cell_type": "code",
   "execution_count": 37,
   "id": "6a10d138-6356-405b-afb1-586a3fb52daa",
   "metadata": {},
   "outputs": [
    {
     "ename": "NameError",
     "evalue": "name 'fruitlist' is not defined",
     "output_type": "error",
     "traceback": [
      "\u001b[1;31m---------------------------------------------------------------------------\u001b[0m",
      "\u001b[1;31mNameError\u001b[0m                                 Traceback (most recent call last)",
      "Cell \u001b[1;32mIn[37], line 1\u001b[0m\n\u001b[1;32m----> 1\u001b[0m fruitlist\n",
      "\u001b[1;31mNameError\u001b[0m: name 'fruitlist' is not defined"
     ]
    }
   ],
   "source": [
    "fruitlist"
   ]
  },
  {
   "cell_type": "code",
   "execution_count": 21,
   "id": "3df8c3e6-cb20-4dc5-817f-fddca3e3698e",
   "metadata": {},
   "outputs": [],
   "source": [
    "numlist=[58,89,34,22,44]"
   ]
  },
  {
   "cell_type": "code",
   "execution_count": 22,
   "id": "c1296cad-97a0-4d41-be48-9c613f6e40a2",
   "metadata": {},
   "outputs": [
    {
     "data": {
      "text/plain": [
       "[58, 89, 34, 22, 44]"
      ]
     },
     "execution_count": 22,
     "metadata": {},
     "output_type": "execute_result"
    }
   ],
   "source": [
    "numlist"
   ]
  },
  {
   "cell_type": "code",
   "execution_count": 23,
   "id": "f49989c0-661f-42b2-9dfe-6b0521dc963a",
   "metadata": {},
   "outputs": [
    {
     "data": {
      "text/plain": [
       "22"
      ]
     },
     "execution_count": 23,
     "metadata": {},
     "output_type": "execute_result"
    }
   ],
   "source": [
    "numlist[3]"
   ]
  },
  {
   "cell_type": "code",
   "execution_count": 24,
   "id": "f55c7d4b-f601-4d92-8cc5-e9dc6c68e04a",
   "metadata": {},
   "outputs": [],
   "source": [
    "numlist[3]=877"
   ]
  },
  {
   "cell_type": "code",
   "execution_count": 13,
   "id": "40d4e3ac-88c6-4466-81f2-cb05b008041e",
   "metadata": {},
   "outputs": [
    {
     "data": {
      "text/plain": [
       "[58, 89, 34, 877, 44]"
      ]
     },
     "execution_count": 13,
     "metadata": {},
     "output_type": "execute_result"
    }
   ],
   "source": [
    "numlist"
   ]
  },
  {
   "cell_type": "code",
   "execution_count": 14,
   "id": "484bf0fc-170e-402e-a3b9-69f4919f92ea",
   "metadata": {},
   "outputs": [
    {
     "data": {
      "text/plain": [
       "44"
      ]
     },
     "execution_count": 14,
     "metadata": {},
     "output_type": "execute_result"
    }
   ],
   "source": [
    "numlist.pop()"
   ]
  },
  {
   "cell_type": "code",
   "execution_count": 26,
   "id": "4a71acc3-1148-4e28-8f28-c4eeab801166",
   "metadata": {},
   "outputs": [],
   "source": [
    "numlist.clear()"
   ]
  },
  {
   "cell_type": "code",
   "execution_count": 27,
   "id": "f084f2ae-62af-42e5-a524-270bd4f67eb3",
   "metadata": {},
   "outputs": [
    {
     "data": {
      "text/plain": [
       "[]"
      ]
     },
     "execution_count": 27,
     "metadata": {},
     "output_type": "execute_result"
    }
   ],
   "source": [
    "numlist"
   ]
  },
  {
   "cell_type": "code",
   "execution_count": 29,
   "id": "66e8bef4-bc59-4705-a424-fdf123d8ebdd",
   "metadata": {},
   "outputs": [],
   "source": [
    "numlist.append(11)"
   ]
  },
  {
   "cell_type": "code",
   "execution_count": 30,
   "id": "6065f4cf-4af4-4d43-9c08-2b2c95cbf3a7",
   "metadata": {},
   "outputs": [
    {
     "data": {
      "text/plain": [
       "[11]"
      ]
     },
     "execution_count": 30,
     "metadata": {},
     "output_type": "execute_result"
    }
   ],
   "source": [
    "numlist"
   ]
  },
  {
   "cell_type": "code",
   "execution_count": 31,
   "id": "1df297a2-e633-4b52-abe5-100aad0feda4",
   "metadata": {},
   "outputs": [],
   "source": [
    "numlist.append(23)"
   ]
  },
  {
   "cell_type": "code",
   "execution_count": 32,
   "id": "66bd13fe-8bbb-4dfb-b294-05e4b34891e6",
   "metadata": {},
   "outputs": [
    {
     "data": {
      "text/plain": [
       "[11, 23]"
      ]
     },
     "execution_count": 32,
     "metadata": {},
     "output_type": "execute_result"
    }
   ],
   "source": [
    "numlist"
   ]
  },
  {
   "cell_type": "code",
   "execution_count": 33,
   "id": "29571459-8077-4398-9628-a32a85dbfa48",
   "metadata": {},
   "outputs": [],
   "source": [
    "del numlist"
   ]
  },
  {
   "cell_type": "code",
   "execution_count": 34,
   "id": "47fdd140-ffa2-450e-a297-fdb1aa7c98e3",
   "metadata": {},
   "outputs": [
    {
     "ename": "NameError",
     "evalue": "name 'numlist' is not defined",
     "output_type": "error",
     "traceback": [
      "\u001b[1;31m---------------------------------------------------------------------------\u001b[0m",
      "\u001b[1;31mNameError\u001b[0m                                 Traceback (most recent call last)",
      "Cell \u001b[1;32mIn[34], line 1\u001b[0m\n\u001b[1;32m----> 1\u001b[0m numlist\n",
      "\u001b[1;31mNameError\u001b[0m: name 'numlist' is not defined"
     ]
    }
   ],
   "source": [
    "numlist"
   ]
  },
  {
   "cell_type": "code",
   "execution_count": 35,
   "id": "c53e8929-ebc3-407b-aff6-7a6ce5deed7c",
   "metadata": {},
   "outputs": [],
   "source": [
    "carlist=['Thar','Farrari']"
   ]
  },
  {
   "cell_type": "code",
   "execution_count": 36,
   "id": "60f2553a-c0d5-4fe4-94c6-c62a37bafd4f",
   "metadata": {},
   "outputs": [
    {
     "data": {
      "text/plain": [
       "['Thar', 'Farrari']"
      ]
     },
     "execution_count": 36,
     "metadata": {},
     "output_type": "execute_result"
    }
   ],
   "source": [
    "carlist"
   ]
  },
  {
   "cell_type": "code",
   "execution_count": 37,
   "id": "124f3605-38a7-4a74-844f-eadd4a94fb19",
   "metadata": {},
   "outputs": [],
   "source": [
    "carlist.append(['BMW','SCORPIO'])"
   ]
  },
  {
   "cell_type": "code",
   "execution_count": 38,
   "id": "273623a2-b2a1-4286-adef-0fb848af9f72",
   "metadata": {},
   "outputs": [
    {
     "data": {
      "text/plain": [
       "['Thar', 'Farrari', ['BMW', 'SCORPIO']]"
      ]
     },
     "execution_count": 38,
     "metadata": {},
     "output_type": "execute_result"
    }
   ],
   "source": [
    "carlist"
   ]
  },
  {
   "cell_type": "code",
   "execution_count": 39,
   "id": "1c58d4ba-333c-4ed1-ba6e-625b8b019d7a",
   "metadata": {},
   "outputs": [],
   "source": [
    "carlist1=['Audi','Tesla','Kia']"
   ]
  },
  {
   "cell_type": "code",
   "execution_count": 41,
   "id": "6d163653-601e-4794-89d7-1faeb60a94d1",
   "metadata": {},
   "outputs": [
    {
     "data": {
      "text/plain": [
       "['Audi', 'Tesla', 'Kia']"
      ]
     },
     "execution_count": 41,
     "metadata": {},
     "output_type": "execute_result"
    }
   ],
   "source": [
    "carlist1"
   ]
  },
  {
   "cell_type": "code",
   "execution_count": 42,
   "id": "56cda46f-d65b-404b-8b38-eb75876b0539",
   "metadata": {},
   "outputs": [],
   "source": [
    "carlist2=['Porshe','Fortuner','Bucatti','Bolero','Supra']"
   ]
  },
  {
   "cell_type": "code",
   "execution_count": 43,
   "id": "7cf6dd26-b660-4ef0-969b-b47855b3bd4f",
   "metadata": {},
   "outputs": [
    {
     "data": {
      "text/plain": [
       "['Porshe', 'Fortuner', 'Bucatti', 'Bolero', 'Supra']"
      ]
     },
     "execution_count": 43,
     "metadata": {},
     "output_type": "execute_result"
    }
   ],
   "source": [
    "carlist2"
   ]
  },
  {
   "cell_type": "code",
   "execution_count": 44,
   "id": "e7c1702a-e6c9-4b31-a74a-53df4a851031",
   "metadata": {},
   "outputs": [],
   "source": [
    "carlist1.extend(carlist2)"
   ]
  },
  {
   "cell_type": "code",
   "execution_count": 47,
   "id": "166e065d-3135-4474-b225-0ee17ccc388e",
   "metadata": {},
   "outputs": [
    {
     "data": {
      "text/plain": [
       "['Audi', 'Tesla', 'Kia', 'Porshe', 'Fortuner', 'Bucatti', 'Bolero', 'Supra']"
      ]
     },
     "execution_count": 47,
     "metadata": {},
     "output_type": "execute_result"
    }
   ],
   "source": [
    "carlist1"
   ]
  },
  {
   "cell_type": "code",
   "execution_count": 49,
   "id": "6797e3a9-3fb4-43e3-9f32-db296e513fd9",
   "metadata": {},
   "outputs": [],
   "source": [
    "carlist1[4]='Maruti'"
   ]
  },
  {
   "cell_type": "code",
   "execution_count": 50,
   "id": "cb31362c-e7c0-4f60-980d-db8a0456eccb",
   "metadata": {},
   "outputs": [
    {
     "data": {
      "text/plain": [
       "['Audi', 'Tesla', 'Kia', 'Porshe', 'Maruti', 'Bucatti', 'Bolero', 'Supra']"
      ]
     },
     "execution_count": 50,
     "metadata": {},
     "output_type": "execute_result"
    }
   ],
   "source": [
    "carlist1"
   ]
  },
  {
   "cell_type": "code",
   "execution_count": 51,
   "id": "9a54c769-d5cf-4bb0-b231-89716649e36a",
   "metadata": {},
   "outputs": [],
   "source": [
    "del carlist1"
   ]
  },
  {
   "cell_type": "code",
   "execution_count": 52,
   "id": "5983dd2b-e69e-43f7-a3cc-827558cd78fe",
   "metadata": {},
   "outputs": [
    {
     "ename": "NameError",
     "evalue": "name 'carlist1' is not defined",
     "output_type": "error",
     "traceback": [
      "\u001b[1;31m---------------------------------------------------------------------------\u001b[0m",
      "\u001b[1;31mNameError\u001b[0m                                 Traceback (most recent call last)",
      "Cell \u001b[1;32mIn[52], line 1\u001b[0m\n\u001b[1;32m----> 1\u001b[0m carlist1\n",
      "\u001b[1;31mNameError\u001b[0m: name 'carlist1' is not defined"
     ]
    }
   ],
   "source": [
    "carlist1"
   ]
  },
  {
   "cell_type": "code",
   "execution_count": null,
   "id": "2f49caeb-f6b5-4672-9f19-c4f37b766787",
   "metadata": {},
   "outputs": [],
   "source": []
  }
 ],
 "metadata": {
  "kernelspec": {
   "display_name": "Python 3 (ipykernel)",
   "language": "python",
   "name": "python3"
  },
  "language_info": {
   "codemirror_mode": {
    "name": "ipython",
    "version": 3
   },
   "file_extension": ".py",
   "mimetype": "text/x-python",
   "name": "python",
   "nbconvert_exporter": "python",
   "pygments_lexer": "ipython3",
   "version": "3.11.7"
  }
 },
 "nbformat": 4,
 "nbformat_minor": 5
}
