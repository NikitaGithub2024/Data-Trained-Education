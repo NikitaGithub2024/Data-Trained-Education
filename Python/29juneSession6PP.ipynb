{
 "cells": [
  {
   "cell_type": "markdown",
   "id": "1c4fe0f5-dc69-459e-9284-922f0b9d2a10",
   "metadata": {},
   "source": [
    "FUNCTIONS"
   ]
  },
  {
   "cell_type": "markdown",
   "id": "6bb46472-6b89-4958-aef7-8106c3cfad2a",
   "metadata": {},
   "source": [
    "User Defined Functions"
   ]
  },
  {
   "cell_type": "code",
   "execution_count": 1,
   "id": "3f532311-c119-419e-bbf9-b9938b80e744",
   "metadata": {},
   "outputs": [],
   "source": [
    "#function definition\n",
    "\n",
    "def function1():\n",
    "    print('hello function')"
   ]
  },
  {
   "cell_type": "code",
   "execution_count": 2,
   "id": "ec571d90-c294-4c95-8a2d-862376da35e0",
   "metadata": {},
   "outputs": [
    {
     "name": "stdout",
     "output_type": "stream",
     "text": [
      "hello function\n"
     ]
    }
   ],
   "source": [
    "#function calling\n",
    "\n",
    "function1()"
   ]
  },
  {
   "cell_type": "code",
   "execution_count": 3,
   "id": "e8b9e88d-0dce-440a-a53b-b8a6f3aa35ce",
   "metadata": {},
   "outputs": [],
   "source": [
    "def function2():\n",
    "    print('am in function2')"
   ]
  },
  {
   "cell_type": "code",
   "execution_count": 4,
   "id": "5e9b607c-0df2-4f1a-92b0-ea3a8ba74571",
   "metadata": {},
   "outputs": [
    {
     "name": "stdout",
     "output_type": "stream",
     "text": [
      "am in function2\n"
     ]
    }
   ],
   "source": [
    "function2()"
   ]
  },
  {
   "cell_type": "code",
   "execution_count": 5,
   "id": "2b4b3415-f21c-4966-989b-31374b250ba0",
   "metadata": {},
   "outputs": [],
   "source": [
    "def function3():\n",
    "    print(\"am learning to write a function\")"
   ]
  },
  {
   "cell_type": "code",
   "execution_count": 6,
   "id": "ffba7ad1-72ec-4f6e-a240-416590ba9af8",
   "metadata": {},
   "outputs": [
    {
     "name": "stdout",
     "output_type": "stream",
     "text": [
      "am learning to write a function\n"
     ]
    }
   ],
   "source": [
    "function3()"
   ]
  },
  {
   "cell_type": "code",
   "execution_count": 7,
   "id": "2cee86ce-a2cc-4268-844c-fdc661c904eb",
   "metadata": {},
   "outputs": [],
   "source": [
    "def myfunction():\n",
    "    print(\"texting function\")"
   ]
  },
  {
   "cell_type": "code",
   "execution_count": 8,
   "id": "32ff6221-e31f-49e1-af82-f0a8d5a9abf5",
   "metadata": {},
   "outputs": [
    {
     "name": "stdout",
     "output_type": "stream",
     "text": [
      "texting function\n"
     ]
    }
   ],
   "source": [
    "myfunction()"
   ]
  },
  {
   "cell_type": "code",
   "execution_count": 11,
   "id": "3e6036f8-61d4-43c4-9477-6d932cdf4707",
   "metadata": {},
   "outputs": [],
   "source": [
    "def addfunction():\n",
    "    a=10\n",
    "    b=20\n",
    "    c=a+b\n",
    "    print(\"addition=\",c)"
   ]
  },
  {
   "cell_type": "code",
   "execution_count": 12,
   "id": "d3ceee93-053e-43ab-a5e9-dfa700f299da",
   "metadata": {},
   "outputs": [
    {
     "name": "stdout",
     "output_type": "stream",
     "text": [
      "addition= 30\n"
     ]
    }
   ],
   "source": [
    "addfunction()"
   ]
  },
  {
   "cell_type": "code",
   "execution_count": 13,
   "id": "bbe3fba6-c5d0-416c-9da1-71000401c8bc",
   "metadata": {},
   "outputs": [],
   "source": [
    "def multiplyfunction():\n",
    "    a=4\n",
    "    b=5\n",
    "    c=a*b\n",
    "    print(\"multiplication=\",c)"
   ]
  },
  {
   "cell_type": "code",
   "execution_count": 15,
   "id": "25613a20-eb78-4566-b6cd-cee94eb3ae17",
   "metadata": {},
   "outputs": [
    {
     "name": "stdout",
     "output_type": "stream",
     "text": [
      "multiplication= 20\n"
     ]
    }
   ],
   "source": [
    "multiplyfunction()"
   ]
  },
  {
   "cell_type": "code",
   "execution_count": 16,
   "id": "7b926ca9-03ed-45f1-a33e-892211314772",
   "metadata": {},
   "outputs": [],
   "source": [
    "def area_of_rectangle_function():\n",
    "    length=30\n",
    "    breadth=20\n",
    "    area=length*breadth\n",
    "    print(\"Area=\",area)"
   ]
  },
  {
   "cell_type": "code",
   "execution_count": 17,
   "id": "0b793c98-09e9-48c4-9adb-dd135db1eaff",
   "metadata": {},
   "outputs": [
    {
     "name": "stdout",
     "output_type": "stream",
     "text": [
      "Area= 600\n"
     ]
    }
   ],
   "source": [
    "area_of_rectangle_function()"
   ]
  },
  {
   "cell_type": "code",
   "execution_count": 20,
   "id": "8f4718aa-59de-457a-9221-9eceea2c0643",
   "metadata": {},
   "outputs": [],
   "source": [
    "def area_of_circle_func():\n",
    "    pi=3.14\n",
    "    radius=56\n",
    "    area=pi*(radius**2)\n",
    "    print(\"area of circle=\",area)"
   ]
  },
  {
   "cell_type": "code",
   "execution_count": 21,
   "id": "9f469fd6-21b9-4446-a18b-22c898e71afd",
   "metadata": {},
   "outputs": [
    {
     "name": "stdout",
     "output_type": "stream",
     "text": [
      "area of circle= 9847.04\n"
     ]
    }
   ],
   "source": [
    "area_of_circle_func()"
   ]
  },
  {
   "cell_type": "code",
   "execution_count": 64,
   "id": "4e090689-e085-466f-ac98-745304f92334",
   "metadata": {},
   "outputs": [],
   "source": [
    "def area_of_rectangle_function1():\n",
    "    length=int(input(\"Enter length\"))\n",
    "    breadth=int(input(\"Enter breaadth\"))\n",
    "    area=length*breadth\n",
    "    print(\"Area of rectangle=\",area)"
   ]
  },
  {
   "cell_type": "code",
   "execution_count": 26,
   "id": "589cc7b2-a7bd-461b-b484-e42324c02bd4",
   "metadata": {},
   "outputs": [
    {
     "name": "stdin",
     "output_type": "stream",
     "text": [
      "Enter length 89\n",
      "Enter breaadth 45\n"
     ]
    },
    {
     "name": "stdout",
     "output_type": "stream",
     "text": [
      "Area of rectangle= 4005\n"
     ]
    }
   ],
   "source": [
    "area_of_rectangle_function1()"
   ]
  },
  {
   "cell_type": "markdown",
   "id": "5bc93102-41db-4841-8ffe-dc9b1d2cd74f",
   "metadata": {},
   "source": [
    "hm. circumference of circle =2pir\n",
    "    area of triangle=1/2*b*h\n"
   ]
  },
  {
   "cell_type": "code",
   "execution_count": 29,
   "id": "1dd019af-0f90-4ebb-9eea-70a4614ab71c",
   "metadata": {},
   "outputs": [],
   "source": [
    "def generate_table_function():\n",
    "    j=int(input(\"Enter the number for table to be generated\"))\n",
    "    for i in range(1,11):\n",
    "        print(j,'*',i,'=',j*i)"
   ]
  },
  {
   "cell_type": "code",
   "execution_count": 30,
   "id": "db3b322c-e9cc-469c-b681-7d25bc2d8df7",
   "metadata": {},
   "outputs": [
    {
     "name": "stdin",
     "output_type": "stream",
     "text": [
      "Enter the number for table to be generated 5\n"
     ]
    },
    {
     "name": "stdout",
     "output_type": "stream",
     "text": [
      "5 * 1 = 5\n",
      "5 * 2 = 10\n",
      "5 * 3 = 15\n",
      "5 * 4 = 20\n",
      "5 * 5 = 25\n",
      "5 * 6 = 30\n",
      "5 * 7 = 35\n",
      "5 * 8 = 40\n",
      "5 * 9 = 45\n",
      "5 * 10 = 50\n"
     ]
    }
   ],
   "source": [
    "generate_table_function()"
   ]
  },
  {
   "cell_type": "code",
   "execution_count": 46,
   "id": "8dfe7538-38f0-4d81-909a-2bce3e73bc63",
   "metadata": {},
   "outputs": [
    {
     "name": "stdin",
     "output_type": "stream",
     "text": [
      "Enter any product name 1\n"
     ]
    },
    {
     "name": "stdout",
     "output_type": "stream",
     "text": [
      "['1']\n",
      "FINAL PRODUCT LIST ['1']\n"
     ]
    },
    {
     "name": "stdin",
     "output_type": "stream",
     "text": [
      "Enter any product name 7\n"
     ]
    },
    {
     "name": "stdout",
     "output_type": "stream",
     "text": [
      "['1', '7']\n",
      "FINAL PRODUCT LIST ['1', '7']\n"
     ]
    },
    {
     "name": "stdin",
     "output_type": "stream",
     "text": [
      "Enter any product name 9\n"
     ]
    },
    {
     "name": "stdout",
     "output_type": "stream",
     "text": [
      "['1', '7', '9']\n",
      "FINAL PRODUCT LIST ['1', '7', '9']\n"
     ]
    }
   ],
   "source": [
    "#function definition\n",
    "def product_list_function():\n",
    "    productlist=[]\n",
    "    for i in range(3):\n",
    "        prod=input(\"Enter any product name\")\n",
    "        productlist.append(prod)\n",
    "        print(productlist)\n",
    "        print(\"FINAL PRODUCT LIST\",productlist)\n",
    "#function calling\n",
    "product_list_function()"
   ]
  },
  {
   "cell_type": "code",
   "execution_count": 47,
   "id": "c41f6d63-bb31-4411-a4d4-767e9d610ac2",
   "metadata": {},
   "outputs": [
    {
     "name": "stdout",
     "output_type": "stream",
     "text": [
      "addition= 30\n"
     ]
    }
   ],
   "source": [
    "addfunction()"
   ]
  },
  {
   "cell_type": "code",
   "execution_count": 48,
   "id": "3e588434-ea49-419b-929b-340f46c04f57",
   "metadata": {},
   "outputs": [
    {
     "name": "stdout",
     "output_type": "stream",
     "text": [
      "Area= 600\n"
     ]
    }
   ],
   "source": [
    "area_of_rectangle_function()"
   ]
  },
  {
   "cell_type": "code",
   "execution_count": 49,
   "id": "1e8757b1-9aed-4f87-bd7d-eaf76f5826e0",
   "metadata": {},
   "outputs": [
    {
     "name": "stdin",
     "output_type": "stream",
     "text": [
      "Enter length 5\n",
      "Enter breaadth 7\n"
     ]
    },
    {
     "name": "stdout",
     "output_type": "stream",
     "text": [
      "Area of rectangle= 35\n"
     ]
    }
   ],
   "source": [
    "area_of_rectangle_function1()"
   ]
  },
  {
   "cell_type": "markdown",
   "id": "be7939fb-8c18-4885-a5b3-8b10c35e0fef",
   "metadata": {},
   "source": [
    "PARAMETRIC FUNCTIONS"
   ]
  },
  {
   "cell_type": "code",
   "execution_count": 54,
   "id": "835529fe-a5ba-420f-9e62-315ed27108d6",
   "metadata": {},
   "outputs": [],
   "source": [
    "def func_add(a,b):   #parameter\n",
    "    c=a+b\n",
    "    print(\"The addition=\",c)"
   ]
  },
  {
   "cell_type": "code",
   "execution_count": 53,
   "id": "5c28e652-de58-4f4d-93f7-ca61b1bf5701",
   "metadata": {},
   "outputs": [
    {
     "name": "stdout",
     "output_type": "stream",
     "text": [
      "The addition= 60\n"
     ]
    }
   ],
   "source": [
    "func_add(10,50)   #sending arguments"
   ]
  },
  {
   "cell_type": "code",
   "execution_count": 55,
   "id": "77346abe-00c6-4de3-8f8e-3ced4ac5da4c",
   "metadata": {},
   "outputs": [
    {
     "name": "stdout",
     "output_type": "stream",
     "text": [
      "The addition= 112\n"
     ]
    }
   ],
   "source": [
    "func_add(89,23)"
   ]
  },
  {
   "cell_type": "code",
   "execution_count": 56,
   "id": "06536c2e-5dad-401c-86f7-2a485628f5d1",
   "metadata": {},
   "outputs": [
    {
     "name": "stdout",
     "output_type": "stream",
     "text": [
      "The addition= 36\n"
     ]
    }
   ],
   "source": [
    "func_add(12,24)"
   ]
  },
  {
   "cell_type": "code",
   "execution_count": 57,
   "id": "ada32ab0-aacf-403f-83b9-852702682e7b",
   "metadata": {},
   "outputs": [],
   "source": [
    "def area_of_rect_func(length,breadth):\n",
    "    area=length*breadth\n",
    "    print(\"Area of rectangle=\",area)"
   ]
  },
  {
   "cell_type": "code",
   "execution_count": 58,
   "id": "6189b8e1-e9dc-4d7d-b1d9-60c83b8043fa",
   "metadata": {},
   "outputs": [
    {
     "name": "stdout",
     "output_type": "stream",
     "text": [
      "Area of rectangle= 2400\n"
     ]
    }
   ],
   "source": [
    "area_of_rect_func(40,60)"
   ]
  },
  {
   "cell_type": "code",
   "execution_count": 60,
   "id": "a4861838-2fd0-4cf0-8a31-88f53727723a",
   "metadata": {},
   "outputs": [
    {
     "name": "stdin",
     "output_type": "stream",
     "text": [
      "Enter length 34\n",
      "Enter breadth 77\n"
     ]
    },
    {
     "name": "stdout",
     "output_type": "stream",
     "text": [
      "Area of rectangle= 2618\n"
     ]
    }
   ],
   "source": [
    "l=int(input(\"Enter length\"))\n",
    "b=int(input(\"Enter breadth\"))\n",
    "\n",
    "area_of_rect_func(l,b)      "
   ]
  },
  {
   "cell_type": "code",
   "execution_count": 84,
   "id": "7fd23fd0-1ff6-4e21-962a-9aaafb132b3a",
   "metadata": {},
   "outputs": [
    {
     "ename": "NameError",
     "evalue": "name 'area' is not defined",
     "output_type": "error",
     "traceback": [
      "\u001b[1;31m---------------------------------------------------------------------------\u001b[0m",
      "\u001b[1;31mNameError\u001b[0m                                 Traceback (most recent call last)",
      "Cell \u001b[1;32mIn[84], line 4\u001b[0m\n\u001b[0;32m      2\u001b[0m     pi\u001b[38;5;241m=\u001b[39m\u001b[38;5;241m3.14\u001b[39m\n\u001b[0;32m      3\u001b[0m     area\u001b[38;5;241m=\u001b[39mpi\u001b[38;5;241m*\u001b[39m(radius\u001b[38;5;241m*\u001b[39m\u001b[38;5;241m*\u001b[39m\u001b[38;5;241m2\u001b[39m)\n\u001b[1;32m----> 4\u001b[0m \u001b[38;5;28mprint\u001b[39m(\u001b[38;5;124m\"\u001b[39m\u001b[38;5;124marea of circle =\u001b[39m\u001b[38;5;124m\"\u001b[39m,\u001b[38;5;28mround\u001b[39m(area,\u001b[38;5;241m2\u001b[39m))\n",
      "\u001b[1;31mNameError\u001b[0m: name 'area' is not defined"
     ]
    }
   ],
   "source": [
    "def area_of_circle_func(radius):\n",
    "    pi=3.14\n",
    "    area=pi*(radius**2)\n",
    "print(\"area of circle =\",round(area,2))"
   ]
  },
  {
   "cell_type": "code",
   "execution_count": 83,
   "id": "c5e88c80-b9a2-4c43-8bb4-5472f097361a",
   "metadata": {},
   "outputs": [],
   "source": [
    "radius=89\n",
    "\n",
    "area_of_circle_func(radius)"
   ]
  },
  {
   "cell_type": "code",
   "execution_count": 79,
   "id": "f2f167ce-b9ab-4374-9728-f220e431fc45",
   "metadata": {},
   "outputs": [
    {
     "data": {
      "text/plain": [
       "57.34"
      ]
     },
     "execution_count": 79,
     "metadata": {},
     "output_type": "execute_result"
    }
   ],
   "source": [
    "round(57.341122442221,2)"
   ]
  },
  {
   "cell_type": "code",
   "execution_count": 80,
   "id": "1cfa9204-b089-41b2-9e57-786f3f950ffc",
   "metadata": {},
   "outputs": [
    {
     "data": {
      "text/plain": [
       "57.3"
      ]
     },
     "execution_count": 80,
     "metadata": {},
     "output_type": "execute_result"
    }
   ],
   "source": [
    "round(57.30000000000,2)"
   ]
  },
  {
   "cell_type": "code",
   "execution_count": 87,
   "id": "8c901cb8-62e8-4f86-8d4e-1c269b94935a",
   "metadata": {},
   "outputs": [],
   "source": [
    "#variable number of argument\n",
    "#*---> is a wild card character that says multiple arguments\n",
    "\n",
    "def myfunc(*args):\n",
    "    print(sum(args))"
   ]
  },
  {
   "cell_type": "code",
   "execution_count": 88,
   "id": "11ae7952-8f93-49fa-b1a5-4faa283f0ae5",
   "metadata": {},
   "outputs": [
    {
     "name": "stdout",
     "output_type": "stream",
     "text": [
      "11\n"
     ]
    }
   ],
   "source": [
    "myfunc(5,6)"
   ]
  },
  {
   "cell_type": "code",
   "execution_count": 89,
   "id": "4089ffd7-000d-4416-81c3-d79f24d9d351",
   "metadata": {},
   "outputs": [
    {
     "name": "stdout",
     "output_type": "stream",
     "text": [
      "21\n"
     ]
    }
   ],
   "source": [
    "myfunc(6,7,8)"
   ]
  },
  {
   "cell_type": "code",
   "execution_count": 90,
   "id": "fcda207a-a524-4f9b-af01-7f9e9047bb8f",
   "metadata": {},
   "outputs": [
    {
     "name": "stdout",
     "output_type": "stream",
     "text": [
      "14\n"
     ]
    }
   ],
   "source": [
    "myfunc(2,3,4,5)"
   ]
  },
  {
   "cell_type": "code",
   "execution_count": 91,
   "id": "56fe3dd4-19b4-4161-8231-670e931686f8",
   "metadata": {},
   "outputs": [],
   "source": [
    "def minfunc(*j):\n",
    "    print(min(j))"
   ]
  },
  {
   "cell_type": "code",
   "execution_count": 92,
   "id": "05c25f53-c179-4fb0-9383-1812dba85fe4",
   "metadata": {},
   "outputs": [
    {
     "name": "stdout",
     "output_type": "stream",
     "text": [
      "3\n"
     ]
    }
   ],
   "source": [
    "minfunc(3,8)"
   ]
  },
  {
   "cell_type": "code",
   "execution_count": 93,
   "id": "2cc07cfc-f05a-4156-9c76-45c03a1b801c",
   "metadata": {},
   "outputs": [
    {
     "name": "stdout",
     "output_type": "stream",
     "text": [
      "5\n"
     ]
    }
   ],
   "source": [
    "minfunc(5,6,7)"
   ]
  },
  {
   "cell_type": "code",
   "execution_count": 94,
   "id": "96ff2f54-f8bb-44a2-a6b6-576662fb3590",
   "metadata": {},
   "outputs": [
    {
     "name": "stdout",
     "output_type": "stream",
     "text": [
      "4\n"
     ]
    }
   ],
   "source": [
    "minfunc(10,20,67,8,4)"
   ]
  },
  {
   "cell_type": "code",
   "execution_count": 95,
   "id": "f92a1193-1c56-4e33-97bc-71034b6a3f85",
   "metadata": {},
   "outputs": [],
   "source": [
    "def maxfunc(*j):\n",
    "    print(max(j))"
   ]
  },
  {
   "cell_type": "code",
   "execution_count": 96,
   "id": "bad7c3c7-5810-4dcf-8d0a-e08be3791bdf",
   "metadata": {},
   "outputs": [
    {
     "name": "stdout",
     "output_type": "stream",
     "text": [
      "8\n"
     ]
    }
   ],
   "source": [
    "maxfunc(3,8)"
   ]
  },
  {
   "cell_type": "code",
   "execution_count": 97,
   "id": "9f05ba86-b56b-4814-8405-7aa4135c6f81",
   "metadata": {},
   "outputs": [
    {
     "name": "stdout",
     "output_type": "stream",
     "text": [
      "7\n"
     ]
    }
   ],
   "source": [
    "maxfunc(5,6,7)"
   ]
  },
  {
   "cell_type": "code",
   "execution_count": 98,
   "id": "63a0ef03-56fd-4092-b99c-a11da5475253",
   "metadata": {},
   "outputs": [
    {
     "name": "stdout",
     "output_type": "stream",
     "text": [
      "67\n"
     ]
    }
   ],
   "source": [
    "maxfunc(10,20,67,8,4)"
   ]
  },
  {
   "cell_type": "code",
   "execution_count": null,
   "id": "48c47f15-b8a3-4de0-b25a-a05711cce7d5",
   "metadata": {},
   "outputs": [],
   "source": []
  }
 ],
 "metadata": {
  "kernelspec": {
   "display_name": "Python 3 (ipykernel)",
   "language": "python",
   "name": "python3"
  },
  "language_info": {
   "codemirror_mode": {
    "name": "ipython",
    "version": 3
   },
   "file_extension": ".py",
   "mimetype": "text/x-python",
   "name": "python",
   "nbconvert_exporter": "python",
   "pygments_lexer": "ipython3",
   "version": "3.11.7"
  }
 },
 "nbformat": 4,
 "nbformat_minor": 5
}
