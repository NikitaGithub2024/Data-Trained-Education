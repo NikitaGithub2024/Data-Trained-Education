{
 "cells": [
  {
   "cell_type": "markdown",
   "id": "7c671088-a64b-42b5-8840-dc84d9da9d86",
   "metadata": {},
   "source": [
    "Break And Continue"
   ]
  },
  {
   "cell_type": "code",
   "execution_count": 1,
   "id": "7456bd91-d8b5-4872-bf84-d5badf4769d1",
   "metadata": {},
   "outputs": [
    {
     "name": "stdout",
     "output_type": "stream",
     "text": [
      "1\n",
      "2\n",
      "3\n",
      "4\n",
      "5\n"
     ]
    }
   ],
   "source": [
    "for i in [1,2,3,4,5]:\n",
    "    print(i)"
   ]
  },
  {
   "cell_type": "code",
   "execution_count": 3,
   "id": "bb6acbe0-96be-4edc-8e36-a0f576b4702d",
   "metadata": {},
   "outputs": [
    {
     "name": "stdout",
     "output_type": "stream",
     "text": [
      "1\n",
      "2\n"
     ]
    }
   ],
   "source": [
    "for i in [1,2,3,4,5]:\n",
    "    if(i==3):\n",
    "        break\n",
    "    print(i)"
   ]
  },
  {
   "cell_type": "code",
   "execution_count": 4,
   "id": "70dfbc57-eb18-41b0-bbd8-569e0684d4da",
   "metadata": {},
   "outputs": [
    {
     "name": "stdout",
     "output_type": "stream",
     "text": [
      "1\n",
      "2\n",
      "4\n",
      "5\n"
     ]
    }
   ],
   "source": [
    "for i in [1,2,3,4,5]:\n",
    "    if(i==3):\n",
    "        continue\n",
    "    print(i)"
   ]
  },
  {
   "cell_type": "code",
   "execution_count": 5,
   "id": "0feb4557-bb11-437f-8167-ef63f96d8a80",
   "metadata": {},
   "outputs": [
    {
     "name": "stdout",
     "output_type": "stream",
     "text": [
      "Apple\n",
      "Banana\n"
     ]
    }
   ],
   "source": [
    "for p in ['Apple','Banana','Grapes','Kiwi']:\n",
    "    if p=='Grapes':\n",
    "        break\n",
    "    print(p)"
   ]
  },
  {
   "cell_type": "code",
   "execution_count": 6,
   "id": "39198b27-82c4-461a-81c3-842d9743d228",
   "metadata": {},
   "outputs": [
    {
     "name": "stdout",
     "output_type": "stream",
     "text": [
      "Apple\n",
      "Banana\n",
      "Kiwi\n"
     ]
    }
   ],
   "source": [
    "for p in ['Apple','Banana','Grapes','Kiwi']:\n",
    "    if p=='Grapes':\n",
    "         continue\n",
    "    print(p)"
   ]
  },
  {
   "cell_type": "code",
   "execution_count": 8,
   "id": "da251c42-077e-4248-b0d5-fedbed5a0bdc",
   "metadata": {},
   "outputs": [
    {
     "name": "stdout",
     "output_type": "stream",
     "text": [
      "Apple\n",
      "Banana\n",
      "End of the loop\n"
     ]
    }
   ],
   "source": [
    "for p in ['Apple','Banana','Grapes','Kiwi']:\n",
    "    if p=='Grapes':\n",
    "        break\n",
    "    print(p)\n",
    "\n",
    "print(\"End of the loop\")"
   ]
  },
  {
   "cell_type": "code",
   "execution_count": 46,
   "id": "8c206015-5526-49ed-b82b-1a7a3fc75c6f",
   "metadata": {},
   "outputs": [
    {
     "name": "stdout",
     "output_type": "stream",
     "text": [
      "10\n",
      "20\n",
      "30\n"
     ]
    }
   ],
   "source": [
    "for k in [10,20,30,40,50,60]:\n",
    "    if (k==40):\n",
    "        break\n",
    "    print(k)"
   ]
  },
  {
   "cell_type": "code",
   "execution_count": 48,
   "id": "63fbb7ff-da44-4fd2-8be8-7bacfbdb2604",
   "metadata": {},
   "outputs": [
    {
     "name": "stdout",
     "output_type": "stream",
     "text": [
      "12\n",
      "34\n",
      "55\n",
      "77\n",
      "23\n",
      "91\n"
     ]
    }
   ],
   "source": [
    "for j in [12,34,55,66,77,23,91]:\n",
    "    if (j==66):\n",
    "        continue\n",
    "    print(j)"
   ]
  },
  {
   "cell_type": "markdown",
   "id": "2fc69759-df7e-4492-b990-528c5eafbf06",
   "metadata": {},
   "source": [
    "STRING FUNCTIONS"
   ]
  },
  {
   "cell_type": "code",
   "execution_count": 1,
   "id": "7bbd9300-cea7-4928-a2e7-3c21dcd6ff53",
   "metadata": {},
   "outputs": [],
   "source": [
    "city=\"london\""
   ]
  },
  {
   "cell_type": "code",
   "execution_count": 2,
   "id": "2e453ce0-f9ef-4fd9-a27f-c66ee9f93f79",
   "metadata": {},
   "outputs": [
    {
     "data": {
      "text/plain": [
       "'london'"
      ]
     },
     "execution_count": 2,
     "metadata": {},
     "output_type": "execute_result"
    }
   ],
   "source": [
    "city"
   ]
  },
  {
   "cell_type": "code",
   "execution_count": 3,
   "id": "013cc37a-5d18-480c-a694-8049bfa72205",
   "metadata": {},
   "outputs": [
    {
     "data": {
      "text/plain": [
       "'LONDON'"
      ]
     },
     "execution_count": 3,
     "metadata": {},
     "output_type": "execute_result"
    }
   ],
   "source": [
    "city.upper()"
   ]
  },
  {
   "cell_type": "code",
   "execution_count": 44,
   "id": "a77d977e-751a-40b5-b8b9-b3c398a5ecfa",
   "metadata": {},
   "outputs": [],
   "source": [
    "ct=city.isupper()"
   ]
  },
  {
   "cell_type": "code",
   "execution_count": 46,
   "id": "cec5c283-331b-48fb-92a7-78d74543d70e",
   "metadata": {},
   "outputs": [
    {
     "data": {
      "text/plain": [
       "'LONDON'"
      ]
     },
     "execution_count": 46,
     "metadata": {},
     "output_type": "execute_result"
    }
   ],
   "source": [
    "ct"
   ]
  },
  {
   "cell_type": "code",
   "execution_count": 47,
   "id": "63aad320-722f-48a0-aa16-35b16b23559e",
   "metadata": {},
   "outputs": [
    {
     "data": {
      "text/plain": [
       "True"
      ]
     },
     "execution_count": 47,
     "metadata": {},
     "output_type": "execute_result"
    }
   ],
   "source": [
    "ct.isupper()"
   ]
  },
  {
   "cell_type": "code",
   "execution_count": 7,
   "id": "a3d1854a-84ce-4a61-9d65-4208f8f66ec5",
   "metadata": {},
   "outputs": [],
   "source": [
    "country=\"FRANCE\""
   ]
  },
  {
   "cell_type": "code",
   "execution_count": 8,
   "id": "5a5095ad-53c8-45f7-9c3a-ca8d72a8beb3",
   "metadata": {},
   "outputs": [
    {
     "data": {
      "text/plain": [
       "'FRANCE'"
      ]
     },
     "execution_count": 8,
     "metadata": {},
     "output_type": "execute_result"
    }
   ],
   "source": [
    "country"
   ]
  },
  {
   "cell_type": "code",
   "execution_count": 49,
   "id": "31690343-c37a-4890-927d-869a375bf7f5",
   "metadata": {},
   "outputs": [],
   "source": [
    "cy=country.lower()"
   ]
  },
  {
   "cell_type": "code",
   "execution_count": 50,
   "id": "9b5f8982-9378-4699-892e-da3f5d7b1a44",
   "metadata": {},
   "outputs": [
    {
     "data": {
      "text/plain": [
       "'france'"
      ]
     },
     "execution_count": 50,
     "metadata": {},
     "output_type": "execute_result"
    }
   ],
   "source": [
    "cy"
   ]
  },
  {
   "cell_type": "code",
   "execution_count": 51,
   "id": "d1bc28d1-866d-4541-b52b-411cfe83653e",
   "metadata": {},
   "outputs": [
    {
     "data": {
      "text/plain": [
       "True"
      ]
     },
     "execution_count": 51,
     "metadata": {},
     "output_type": "execute_result"
    }
   ],
   "source": [
    "cy.islower()"
   ]
  },
  {
   "cell_type": "code",
   "execution_count": 10,
   "id": "0080e47c-7517-41c9-9adc-396cdf0d9867",
   "metadata": {},
   "outputs": [],
   "source": [
    "m=\"LenOvO\""
   ]
  },
  {
   "cell_type": "code",
   "execution_count": 11,
   "id": "d7b60344-92f5-4b11-bbc3-d7bc452002e0",
   "metadata": {},
   "outputs": [
    {
     "data": {
      "text/plain": [
       "'LenOvO'"
      ]
     },
     "execution_count": 11,
     "metadata": {},
     "output_type": "execute_result"
    }
   ],
   "source": [
    "m"
   ]
  },
  {
   "cell_type": "code",
   "execution_count": 12,
   "id": "c03903c7-8fde-43a7-afde-bd0e3628a94d",
   "metadata": {},
   "outputs": [
    {
     "data": {
      "text/plain": [
       "'lENoVo'"
      ]
     },
     "execution_count": 12,
     "metadata": {},
     "output_type": "execute_result"
    }
   ],
   "source": [
    "m.swapcase()"
   ]
  },
  {
   "cell_type": "code",
   "execution_count": 13,
   "id": "6e6c5108-4c8b-426c-972b-628078bbd53b",
   "metadata": {},
   "outputs": [],
   "source": [
    "var=\"SpaveX\""
   ]
  },
  {
   "cell_type": "code",
   "execution_count": 14,
   "id": "487c5172-f593-4153-9e51-567a979372b7",
   "metadata": {},
   "outputs": [
    {
     "data": {
      "text/plain": [
       "'SpaveX'"
      ]
     },
     "execution_count": 14,
     "metadata": {},
     "output_type": "execute_result"
    }
   ],
   "source": [
    "var"
   ]
  },
  {
   "cell_type": "code",
   "execution_count": 15,
   "id": "6caba3cd-bbc0-413c-a55e-2f2965dfbe6c",
   "metadata": {},
   "outputs": [
    {
     "data": {
      "text/plain": [
       "'sPAVEx'"
      ]
     },
     "execution_count": 15,
     "metadata": {},
     "output_type": "execute_result"
    }
   ],
   "source": [
    "var.swapcase()"
   ]
  },
  {
   "cell_type": "code",
   "execution_count": 21,
   "id": "9ae95eec-3b5b-4782-9ca4-2903aba2264d",
   "metadata": {},
   "outputs": [],
   "source": [
    "p=\"Elon Musk owns Twitter\""
   ]
  },
  {
   "cell_type": "code",
   "execution_count": 22,
   "id": "fe6b75dc-5b26-4385-84e4-5f18ae5bd809",
   "metadata": {},
   "outputs": [
    {
     "data": {
      "text/plain": [
       "'Elon Musk owns Twitter'"
      ]
     },
     "execution_count": 22,
     "metadata": {},
     "output_type": "execute_result"
    }
   ],
   "source": [
    "p"
   ]
  },
  {
   "cell_type": "code",
   "execution_count": 23,
   "id": "586bd4b9-ef56-4d77-ae41-91ff248a0a7c",
   "metadata": {},
   "outputs": [
    {
     "data": {
      "text/plain": [
       "['Elon', 'Musk', 'owns', 'Twitter']"
      ]
     },
     "execution_count": 23,
     "metadata": {},
     "output_type": "execute_result"
    }
   ],
   "source": [
    "p.split()"
   ]
  },
  {
   "cell_type": "code",
   "execution_count": 24,
   "id": "c5a074d1-1d1a-4da8-a4dd-fbbdf27372b6",
   "metadata": {},
   "outputs": [],
   "source": [
    "b=\"biden\""
   ]
  },
  {
   "cell_type": "code",
   "execution_count": 25,
   "id": "5027ea67-c05b-4bef-9be9-4b7a14a15ac0",
   "metadata": {},
   "outputs": [
    {
     "data": {
      "text/plain": [
       "'biden'"
      ]
     },
     "execution_count": 25,
     "metadata": {},
     "output_type": "execute_result"
    }
   ],
   "source": [
    "b"
   ]
  },
  {
   "cell_type": "code",
   "execution_count": 26,
   "id": "c36add62-e039-4d45-810e-1ba8b32c7ebc",
   "metadata": {},
   "outputs": [
    {
     "data": {
      "text/plain": [
       "'Biden'"
      ]
     },
     "execution_count": 26,
     "metadata": {},
     "output_type": "execute_result"
    }
   ],
   "source": [
    "b.capitalize()"
   ]
  },
  {
   "cell_type": "code",
   "execution_count": 27,
   "id": "26d74163-d0dc-4a3d-9c3b-8d041ec9c428",
   "metadata": {},
   "outputs": [],
   "source": [
    "c=\"biden is president of america\""
   ]
  },
  {
   "cell_type": "code",
   "execution_count": 28,
   "id": "1520f4eb-628f-44a5-aade-138489b2acdf",
   "metadata": {},
   "outputs": [
    {
     "data": {
      "text/plain": [
       "'biden is president of america'"
      ]
     },
     "execution_count": 28,
     "metadata": {},
     "output_type": "execute_result"
    }
   ],
   "source": [
    "c"
   ]
  },
  {
   "cell_type": "code",
   "execution_count": 29,
   "id": "7def01e1-adff-4917-9a1b-9d386ed1675a",
   "metadata": {},
   "outputs": [
    {
     "data": {
      "text/plain": [
       "'Biden is president of america'"
      ]
     },
     "execution_count": 29,
     "metadata": {},
     "output_type": "execute_result"
    }
   ],
   "source": [
    "c.capitalize()"
   ]
  },
  {
   "cell_type": "code",
   "execution_count": 30,
   "id": "99769fa4-b53f-4325-8ec5-0dbee66c7d9d",
   "metadata": {},
   "outputs": [
    {
     "data": {
      "text/plain": [
       "'Biden Is President Of America'"
      ]
     },
     "execution_count": 30,
     "metadata": {},
     "output_type": "execute_result"
    }
   ],
   "source": [
    "c.title()"
   ]
  },
  {
   "cell_type": "code",
   "execution_count": 31,
   "id": "9b19762c-9e3d-4194-b84e-9a84883cdd5a",
   "metadata": {},
   "outputs": [
    {
     "data": {
      "text/plain": [
       "False"
      ]
     },
     "execution_count": 31,
     "metadata": {},
     "output_type": "execute_result"
    }
   ],
   "source": [
    "c.startswith('president')"
   ]
  },
  {
   "cell_type": "code",
   "execution_count": 34,
   "id": "0ca4bb2f-55bc-4e33-a7a1-9a5ed1de0763",
   "metadata": {},
   "outputs": [
    {
     "data": {
      "text/plain": [
       "True"
      ]
     },
     "execution_count": 34,
     "metadata": {},
     "output_type": "execute_result"
    }
   ],
   "source": [
    "c.startswith('biden')"
   ]
  },
  {
   "cell_type": "code",
   "execution_count": 36,
   "id": "a5ef663f-0f6c-434c-9055-33824b6c8afd",
   "metadata": {},
   "outputs": [
    {
     "data": {
      "text/plain": [
       "False"
      ]
     },
     "execution_count": 36,
     "metadata": {},
     "output_type": "execute_result"
    }
   ],
   "source": [
    "c.endswith('biden')"
   ]
  },
  {
   "cell_type": "code",
   "execution_count": 37,
   "id": "a61caf69-1510-4ca7-8450-3e2feb580ac1",
   "metadata": {},
   "outputs": [
    {
     "data": {
      "text/plain": [
       "True"
      ]
     },
     "execution_count": 37,
     "metadata": {},
     "output_type": "execute_result"
    }
   ],
   "source": [
    "c.endswith('america')"
   ]
  },
  {
   "cell_type": "code",
   "execution_count": 1,
   "id": "900098c1-e376-4b40-b306-24dba93af4fe",
   "metadata": {},
   "outputs": [],
   "source": [
    "d=\"abcde\""
   ]
  },
  {
   "cell_type": "code",
   "execution_count": 2,
   "id": "1e319ff0-f61a-43e0-9f8f-ae27bfa73926",
   "metadata": {},
   "outputs": [
    {
     "data": {
      "text/plain": [
       "'abcde'"
      ]
     },
     "execution_count": 2,
     "metadata": {},
     "output_type": "execute_result"
    }
   ],
   "source": [
    "d"
   ]
  },
  {
   "cell_type": "code",
   "execution_count": 3,
   "id": "a614a2e5-ffdd-4cfa-8814-2728af86a16b",
   "metadata": {},
   "outputs": [
    {
     "data": {
      "text/plain": [
       "True"
      ]
     },
     "execution_count": 3,
     "metadata": {},
     "output_type": "execute_result"
    }
   ],
   "source": [
    "d.isalpha()"
   ]
  },
  {
   "cell_type": "code",
   "execution_count": 7,
   "id": "983c523f-8acc-40da-9851-57a8534a1ba6",
   "metadata": {},
   "outputs": [],
   "source": [
    "e=\"MarkZukarburg\""
   ]
  },
  {
   "cell_type": "code",
   "execution_count": 8,
   "id": "c58cd8a5-ae70-4027-ae14-b2485c476bf9",
   "metadata": {},
   "outputs": [
    {
     "data": {
      "text/plain": [
       "'MarkZukarburg'"
      ]
     },
     "execution_count": 8,
     "metadata": {},
     "output_type": "execute_result"
    }
   ],
   "source": [
    "e"
   ]
  },
  {
   "cell_type": "code",
   "execution_count": 9,
   "id": "656c9107-0e6d-4164-9bd9-19449c6879b4",
   "metadata": {},
   "outputs": [
    {
     "data": {
      "text/plain": [
       "True"
      ]
     },
     "execution_count": 9,
     "metadata": {},
     "output_type": "execute_result"
    }
   ],
   "source": [
    "e.isalpha()"
   ]
  },
  {
   "cell_type": "code",
   "execution_count": 18,
   "id": "55a5d5e5-a4de-4a04-980a-fbbec2787dd0",
   "metadata": {},
   "outputs": [],
   "source": [
    "f='7896'"
   ]
  },
  {
   "cell_type": "code",
   "execution_count": 19,
   "id": "d2fb5ece-b31b-426f-815d-e60478bc51c3",
   "metadata": {},
   "outputs": [
    {
     "data": {
      "text/plain": [
       "'7896'"
      ]
     },
     "execution_count": 19,
     "metadata": {},
     "output_type": "execute_result"
    }
   ],
   "source": [
    "f"
   ]
  },
  {
   "cell_type": "code",
   "execution_count": 20,
   "id": "418ef995-b265-4698-98e9-2dbca1f32742",
   "metadata": {},
   "outputs": [
    {
     "data": {
      "text/plain": [
       "True"
      ]
     },
     "execution_count": 20,
     "metadata": {},
     "output_type": "execute_result"
    }
   ],
   "source": [
    "f.isdigit()"
   ]
  },
  {
   "cell_type": "code",
   "execution_count": 21,
   "id": "f8b9ceee-4fb0-4a88-bb1a-ebc0878f15ce",
   "metadata": {},
   "outputs": [],
   "source": [
    "m=\"mobile567\""
   ]
  },
  {
   "cell_type": "code",
   "execution_count": 24,
   "id": "6ed2b4c0-2fb8-44a2-83a7-405efa786b02",
   "metadata": {},
   "outputs": [
    {
     "data": {
      "text/plain": [
       "'mobile567'"
      ]
     },
     "execution_count": 24,
     "metadata": {},
     "output_type": "execute_result"
    }
   ],
   "source": [
    "m"
   ]
  },
  {
   "cell_type": "code",
   "execution_count": 25,
   "id": "fb64ad7e-f9c4-4e64-8564-23752f0a3d94",
   "metadata": {},
   "outputs": [
    {
     "data": {
      "text/plain": [
       "True"
      ]
     },
     "execution_count": 25,
     "metadata": {},
     "output_type": "execute_result"
    }
   ],
   "source": [
    "m.isalnum()"
   ]
  },
  {
   "cell_type": "code",
   "execution_count": 6,
   "id": "63ad09ef-1eb1-4c56-9987-e7aa7c2ebc60",
   "metadata": {},
   "outputs": [],
   "source": [
    "e=\"MarkZuckarbrug\""
   ]
  },
  {
   "cell_type": "code",
   "execution_count": 7,
   "id": "b0a1cb39-8668-41c0-b7b9-e35f53fda10a",
   "metadata": {},
   "outputs": [
    {
     "data": {
      "text/plain": [
       "'MarkZuckarbrug'"
      ]
     },
     "execution_count": 7,
     "metadata": {},
     "output_type": "execute_result"
    }
   ],
   "source": [
    "e"
   ]
  },
  {
   "cell_type": "code",
   "execution_count": 8,
   "id": "481648fe-835c-4c76-a9a4-8d47fbf1985a",
   "metadata": {},
   "outputs": [
    {
     "data": {
      "text/plain": [
       "14"
      ]
     },
     "execution_count": 8,
     "metadata": {},
     "output_type": "execute_result"
    }
   ],
   "source": [
    "len(e)"
   ]
  },
  {
   "cell_type": "code",
   "execution_count": 36,
   "id": "e0d678d2-fdf1-47fe-88bb-c4f48d7f226d",
   "metadata": {},
   "outputs": [],
   "source": [
    "c=\"biden is president of america\""
   ]
  },
  {
   "cell_type": "code",
   "execution_count": 37,
   "id": "b3ae2a11-63d3-4c8b-83b8-5845e7991bc5",
   "metadata": {},
   "outputs": [
    {
     "data": {
      "text/plain": [
       "'biden is president of america'"
      ]
     },
     "execution_count": 37,
     "metadata": {},
     "output_type": "execute_result"
    }
   ],
   "source": [
    "c"
   ]
  },
  {
   "cell_type": "code",
   "execution_count": 39,
   "id": "1a8f8207-3b38-4ff0-b169-3fd3a96a123a",
   "metadata": {},
   "outputs": [
    {
     "data": {
      "text/plain": [
       "29"
      ]
     },
     "execution_count": 39,
     "metadata": {},
     "output_type": "execute_result"
    }
   ],
   "source": [
    "len(c)"
   ]
  },
  {
   "cell_type": "code",
   "execution_count": 24,
   "id": "38bcd612-2379-4bc7-a9b3-eeb275d30afc",
   "metadata": {},
   "outputs": [
    {
     "data": {
      "text/plain": [
       "9"
      ]
     },
     "execution_count": 24,
     "metadata": {},
     "output_type": "execute_result"
    }
   ],
   "source": [
    "c.find('president')"
   ]
  },
  {
   "cell_type": "code",
   "execution_count": 25,
   "id": "f44dd003-9cb2-4ac4-99b6-356412b77ae2",
   "metadata": {},
   "outputs": [
    {
     "data": {
      "text/plain": [
       "4"
      ]
     },
     "execution_count": 25,
     "metadata": {},
     "output_type": "execute_result"
    }
   ],
   "source": [
    "c.count('e')"
   ]
  },
  {
   "cell_type": "code",
   "execution_count": 26,
   "id": "29e92895-4376-41a3-a0d7-402e8a050836",
   "metadata": {},
   "outputs": [
    {
     "data": {
      "text/plain": [
       "2"
      ]
     },
     "execution_count": 26,
     "metadata": {},
     "output_type": "execute_result"
    }
   ],
   "source": [
    "c.count('a')"
   ]
  },
  {
   "cell_type": "code",
   "execution_count": 27,
   "id": "109102d5-26bf-4384-a142-5f7032e2cb53",
   "metadata": {},
   "outputs": [
    {
     "data": {
      "text/plain": [
       "'trump is president of america'"
      ]
     },
     "execution_count": 27,
     "metadata": {},
     "output_type": "execute_result"
    }
   ],
   "source": [
    "c.replace('biden','trump')"
   ]
  },
  {
   "cell_type": "code",
   "execution_count": 14,
   "id": "7537d622-ff0b-4b23-8c4d-51f4fe9fa60f",
   "metadata": {},
   "outputs": [],
   "source": [
    "message='python is popular programming language'"
   ]
  },
  {
   "cell_type": "code",
   "execution_count": 15,
   "id": "d279cd23-5574-4cbf-b5f6-e45dbe5a06c9",
   "metadata": {},
   "outputs": [
    {
     "data": {
      "text/plain": [
       "'python is popular programming language'"
      ]
     },
     "execution_count": 15,
     "metadata": {},
     "output_type": "execute_result"
    }
   ],
   "source": [
    "message"
   ]
  },
  {
   "cell_type": "code",
   "execution_count": 16,
   "id": "ffdaebf0-a3e4-4c53-9988-fd0acf61faec",
   "metadata": {},
   "outputs": [
    {
     "data": {
      "text/plain": [
       "4"
      ]
     },
     "execution_count": 16,
     "metadata": {},
     "output_type": "execute_result"
    }
   ],
   "source": [
    "message.count('p')"
   ]
  },
  {
   "cell_type": "code",
   "execution_count": 17,
   "id": "468725ba-0d44-40e4-a9ec-38a6b949a697",
   "metadata": {},
   "outputs": [
    {
     "data": {
      "text/plain": [
       "4"
      ]
     },
     "execution_count": 17,
     "metadata": {},
     "output_type": "execute_result"
    }
   ],
   "source": [
    "message.count('g')"
   ]
  },
  {
   "cell_type": "code",
   "execution_count": 18,
   "id": "bca3b671-6886-4d2f-bb79-2d541fc6b90b",
   "metadata": {},
   "outputs": [
    {
     "data": {
      "text/plain": [
       "2"
      ]
     },
     "execution_count": 18,
     "metadata": {},
     "output_type": "execute_result"
    }
   ],
   "source": [
    "message.count('m')"
   ]
  },
  {
   "cell_type": "code",
   "execution_count": 19,
   "id": "67b821ec-33b1-4098-9536-0bb8f503d702",
   "metadata": {},
   "outputs": [],
   "source": [
    "word1=\"NASA is building hotel projects in Mars\""
   ]
  },
  {
   "cell_type": "code",
   "execution_count": 20,
   "id": "f67cbea0-bc54-40b4-832e-75c0daceb5c3",
   "metadata": {},
   "outputs": [
    {
     "data": {
      "text/plain": [
       "'NASA is building hotel projects in Mars'"
      ]
     },
     "execution_count": 20,
     "metadata": {},
     "output_type": "execute_result"
    }
   ],
   "source": [
    "word1"
   ]
  },
  {
   "cell_type": "code",
   "execution_count": 21,
   "id": "d9bf9281-aa2f-4cae-9056-952c073bce44",
   "metadata": {},
   "outputs": [
    {
     "data": {
      "text/plain": [
       "'SPACEX is building hotel projects in Mars'"
      ]
     },
     "execution_count": 21,
     "metadata": {},
     "output_type": "execute_result"
    }
   ],
   "source": [
    "word1.replace(\"NASA\",\"SPACEX\")"
   ]
  },
  {
   "cell_type": "code",
   "execution_count": 28,
   "id": "e768afd2-ae0e-4276-9f8b-8043cba4f2c4",
   "metadata": {},
   "outputs": [],
   "source": [
    "p=\"data science is growing field based on data\""
   ]
  },
  {
   "cell_type": "code",
   "execution_count": 29,
   "id": "a9e0ab74-b266-4c52-b339-5c5e3e3830ab",
   "metadata": {},
   "outputs": [
    {
     "data": {
      "text/plain": [
       "'data science is growing field based on data'"
      ]
     },
     "execution_count": 29,
     "metadata": {},
     "output_type": "execute_result"
    }
   ],
   "source": [
    "p"
   ]
  },
  {
   "cell_type": "code",
   "execution_count": 30,
   "id": "def0f19f-5247-46ac-af04-90fd3c859750",
   "metadata": {},
   "outputs": [
    {
     "data": {
      "text/plain": [
       "'analytics science is growing field based on analytics'"
      ]
     },
     "execution_count": 30,
     "metadata": {},
     "output_type": "execute_result"
    }
   ],
   "source": [
    "p.replace(\"data\",\"analytics\")"
   ]
  },
  {
   "cell_type": "code",
   "execution_count": 40,
   "id": "9c98c622-6c66-4f0e-b544-15e1247e104f",
   "metadata": {},
   "outputs": [],
   "source": [
    "text=['NASA','is','building','hotel','project','in','Mars']"
   ]
  },
  {
   "cell_type": "code",
   "execution_count": 41,
   "id": "8a40f261-d13a-4203-b058-91ce07ddcfa4",
   "metadata": {},
   "outputs": [
    {
     "data": {
      "text/plain": [
       "['NASA', 'is', 'building', 'hotel', 'project', 'in', 'Mars']"
      ]
     },
     "execution_count": 41,
     "metadata": {},
     "output_type": "execute_result"
    }
   ],
   "source": [
    "text"
   ]
  },
  {
   "cell_type": "code",
   "execution_count": 42,
   "id": "73bd32e4-5980-4c51-ae1e-e5a32447c09b",
   "metadata": {},
   "outputs": [
    {
     "data": {
      "text/plain": [
       "'NASAisbuildinghotelprojectinMars'"
      ]
     },
     "execution_count": 42,
     "metadata": {},
     "output_type": "execute_result"
    }
   ],
   "source": [
    "#join elements of text with nospace\n",
    "\n",
    "\"\".join(text)"
   ]
  },
  {
   "cell_type": "code",
   "execution_count": 43,
   "id": "62a8e114-3141-4add-9d33-78a782da3389",
   "metadata": {},
   "outputs": [
    {
     "data": {
      "text/plain": [
       "'NASA  is  building  hotel  project  in  Mars'"
      ]
     },
     "execution_count": 43,
     "metadata": {},
     "output_type": "execute_result"
    }
   ],
   "source": [
    "\"  \".join(text)"
   ]
  },
  {
   "cell_type": "code",
   "execution_count": 44,
   "id": "8aff3ca6-f0ea-495b-81c3-5c7ccb5a903d",
   "metadata": {},
   "outputs": [
    {
     "name": "stdout",
     "output_type": "stream",
     "text": [
      "yes\n"
     ]
    }
   ],
   "source": [
    "car1=\"Porsche\"\n",
    "car2=\"Porsche\"\n",
    "\n",
    "if car1==car2:\n",
    "    print('yes')"
   ]
  },
  {
   "cell_type": "code",
   "execution_count": 47,
   "id": "e2ea4c0c-4d65-4c42-98bf-0495bdb6fd02",
   "metadata": {},
   "outputs": [
    {
     "name": "stdout",
     "output_type": "stream",
     "text": [
      "both cars are same\n"
     ]
    }
   ],
   "source": [
    "#casefold ignore the cases both are same\n",
    "\n",
    "car1=\"Porsche\"\n",
    "car2=\"porsche\"\n",
    "\n",
    "if car1.casefold()==car2.casefold():\n",
    "    print(\"both cars are same\")\n",
    "else:\n",
    "    print(\"cars are not same\")"
   ]
  },
  {
   "cell_type": "code",
   "execution_count": 48,
   "id": "cd99c7d0-bf1a-460d-9584-009f66d03890",
   "metadata": {},
   "outputs": [
    {
     "name": "stdout",
     "output_type": "stream",
     "text": [
      "The two strings are matching\n"
     ]
    }
   ],
   "source": [
    "# casefold ignores the matching of words by lowercase or upercase\n",
    "\n",
    "string1=\"Tesla\"\n",
    "string2=\"tesla\"\n",
    "\n",
    "if string1.casefold()==string2.casefold():\n",
    "    print(\"The two strings are matching\")\n",
    "else:\n",
    "    print(\"The two strings are not matching\")"
   ]
  },
  {
   "cell_type": "markdown",
   "id": "1cb76a41-5362-4541-bc28-209c9b3744b4",
   "metadata": {},
   "source": [
    "List Comprehension"
   ]
  },
  {
   "cell_type": "code",
   "execution_count": 49,
   "id": "fb201b3f-8a5b-46e5-846e-134ff3d86615",
   "metadata": {},
   "outputs": [],
   "source": [
    "m=[i for i in [11,12,13,14,15]]"
   ]
  },
  {
   "cell_type": "code",
   "execution_count": 50,
   "id": "4a7652e5-e901-43ad-a289-8c1383e35af6",
   "metadata": {},
   "outputs": [
    {
     "data": {
      "text/plain": [
       "[11, 12, 13, 14, 15]"
      ]
     },
     "execution_count": 50,
     "metadata": {},
     "output_type": "execute_result"
    }
   ],
   "source": [
    "m"
   ]
  },
  {
   "cell_type": "code",
   "execution_count": 51,
   "id": "119a914f-d5bc-4c37-a9c9-0d7251cbae18",
   "metadata": {},
   "outputs": [
    {
     "data": {
      "text/plain": [
       "[2, 3, 4, 5, 6, 7, 8, 9, 10, 11, 12, 13, 14, 15, 16, 17, 18, 19]"
      ]
     },
     "execution_count": 51,
     "metadata": {},
     "output_type": "execute_result"
    }
   ],
   "source": [
    "m=[i for i in range(2,20)]\n",
    "\n",
    "m"
   ]
  },
  {
   "cell_type": "code",
   "execution_count": 52,
   "id": "66c55a00-648a-41a5-b737-5eb6ae9a674f",
   "metadata": {},
   "outputs": [
    {
     "data": {
      "text/plain": [
       "[2, 4, 6, 8, 10, 12, 14, 16, 18]"
      ]
     },
     "execution_count": 52,
     "metadata": {},
     "output_type": "execute_result"
    }
   ],
   "source": [
    "m=[i for i in range(2,20) if(i%2==0)]\n",
    "\n",
    "m"
   ]
  },
  {
   "cell_type": "code",
   "execution_count": 53,
   "id": "67160f8b-c010-47b2-b4f7-1770ca8f8c52",
   "metadata": {},
   "outputs": [
    {
     "data": {
      "text/plain": [
       "[3, 5, 7, 9, 11, 13, 15, 17, 19]"
      ]
     },
     "execution_count": 53,
     "metadata": {},
     "output_type": "execute_result"
    }
   ],
   "source": [
    "m=[i for i in range(2,20) if(i%2!=0)]\n",
    "\n",
    "m"
   ]
  },
  {
   "cell_type": "code",
   "execution_count": 55,
   "id": "055dc929-a93d-447f-9f94-aeefcc498894",
   "metadata": {},
   "outputs": [
    {
     "name": "stdout",
     "output_type": "stream",
     "text": [
      "Welcome to Python 3.11's help utility! If this is your first time using\n",
      "Python, you should definitely check out the tutorial at\n",
      "https://docs.python.org/3.11/tutorial/.\n",
      "\n",
      "Enter the name of any module, keyword, or topic to get help on writing\n",
      "Python programs and using Python modules.  To get a list of available\n",
      "modules, keywords, symbols, or topics, enter \"modules\", \"keywords\",\n",
      "\"symbols\", or \"topics\".\n",
      "\n",
      "Each module also comes with a one-line summary of what it does; to list\n",
      "the modules whose name or summary contain a given string such as \"spam\",\n",
      "enter \"modules spam\".\n",
      "\n",
      "To quit this help utility and return to the interpreter,\n",
      "enter \"q\" or \"quit\".\n",
      "\n"
     ]
    },
    {
     "name": "stdin",
     "output_type": "stream",
     "text": [
      "help>  keywords\n"
     ]
    },
    {
     "name": "stdout",
     "output_type": "stream",
     "text": [
      "\n",
      "Here is a list of the Python keywords.  Enter any keyword to get more help.\n",
      "\n",
      "False               class               from                or\n",
      "None                continue            global              pass\n",
      "True                def                 if                  raise\n",
      "and                 del                 import              return\n",
      "as                  elif                in                  try\n",
      "assert              else                is                  while\n",
      "async               except              lambda              with\n",
      "await               finally             nonlocal            yield\n",
      "break               for                 not                 \n",
      "\n"
     ]
    },
    {
     "name": "stdin",
     "output_type": "stream",
     "text": [
      "help>  symbols\n"
     ]
    },
    {
     "name": "stdout",
     "output_type": "stream",
     "text": [
      "\n",
      "Here is a list of the punctuation symbols which Python assigns special meaning\n",
      "to. Enter any symbol to get more help.\n",
      "\n",
      "!=                  +                   <=                  __\n",
      "\"                   +=                  <>                  `\n",
      "\"\"\"                 ,                   ==                  b\"\n",
      "%                   -                   >                   b'\n",
      "%=                  -=                  >=                  f\"\n",
      "&                   .                   >>                  f'\n",
      "&=                  ...                 >>=                 j\n",
      "'                   /                   @                   r\"\n",
      "'''                 //                  J                   r'\n",
      "(                   //=                 [                   u\"\n",
      ")                   /=                  \\                   u'\n",
      "*                   :                   ]                   |\n",
      "**                  <                   ^                   |=\n",
      "**=                 <<                  ^=                  ~\n",
      "*=                  <<=                 _                   \n",
      "\n"
     ]
    },
    {
     "name": "stdin",
     "output_type": "stream",
     "text": [
      "help>  type\n"
     ]
    },
    {
     "name": "stdout",
     "output_type": "stream",
     "text": [
      "Help on class type in module builtins:\n",
      "\n",
      "class type(object)\n",
      " |  type(object) -> the object's type\n",
      " |  type(name, bases, dict, **kwds) -> a new type\n",
      " |  \n",
      " |  Methods defined here:\n",
      " |  \n",
      " |  __call__(self, /, *args, **kwargs)\n",
      " |      Call self as a function.\n",
      " |  \n",
      " |  __delattr__(self, name, /)\n",
      " |      Implement delattr(self, name).\n",
      " |  \n",
      " |  __dir__(self, /)\n",
      " |      Specialized __dir__ implementation for types.\n",
      " |  \n",
      " |  __getattribute__(self, name, /)\n",
      " |      Return getattr(self, name).\n",
      " |  \n",
      " |  __init__(self, /, *args, **kwargs)\n",
      " |      Initialize self.  See help(type(self)) for accurate signature.\n",
      " |  \n",
      " |  __instancecheck__(self, instance, /)\n",
      " |      Check if an object is an instance.\n",
      " |  \n",
      " |  __or__(self, value, /)\n",
      " |      Return self|value.\n",
      " |  \n",
      " |  __repr__(self, /)\n",
      " |      Return repr(self).\n",
      " |  \n",
      " |  __ror__(self, value, /)\n",
      " |      Return value|self.\n",
      " |  \n",
      " |  __setattr__(self, name, value, /)\n",
      " |      Implement setattr(self, name, value).\n",
      " |  \n",
      " |  __sizeof__(self, /)\n",
      " |      Return memory consumption of the type object.\n",
      " |  \n",
      " |  __subclasscheck__(self, subclass, /)\n",
      " |      Check if a class is a subclass.\n",
      " |  \n",
      " |  __subclasses__(self, /)\n",
      " |      Return a list of immediate subclasses.\n",
      " |  \n",
      " |  mro(self, /)\n",
      " |      Return a type's method resolution order.\n",
      " |  \n",
      " |  ----------------------------------------------------------------------\n",
      " |  Class methods defined here:\n",
      " |  \n",
      " |  __prepare__(...)\n",
      " |      __prepare__() -> dict\n",
      " |      used to create the namespace for the class statement\n",
      " |  \n",
      " |  ----------------------------------------------------------------------\n",
      " |  Static methods defined here:\n",
      " |  \n",
      " |  __new__(*args, **kwargs)\n",
      " |      Create and return a new object.  See help(type) for accurate signature.\n",
      " |  \n",
      " |  ----------------------------------------------------------------------\n",
      " |  Data descriptors defined here:\n",
      " |  \n",
      " |  __abstractmethods__\n",
      " |  \n",
      " |  __annotations__\n",
      " |  \n",
      " |  __dict__\n",
      " |  \n",
      " |  __text_signature__\n",
      " |  \n",
      " |  ----------------------------------------------------------------------\n",
      " |  Data and other attributes defined here:\n",
      " |  \n",
      " |  __base__ = <class 'object'>\n",
      " |      The base class of the class hierarchy.\n",
      " |      \n",
      " |      When called, it accepts no arguments and returns a new featureless\n",
      " |      instance that has no instance attributes and cannot be given any.\n",
      " |  \n",
      " |  \n",
      " |  __bases__ = (<class 'object'>,)\n",
      " |  \n",
      " |  __basicsize__ = 904\n",
      " |  \n",
      " |  __dictoffset__ = 264\n",
      " |  \n",
      " |  __flags__ = 2148031744\n",
      " |  \n",
      " |  __itemsize__ = 40\n",
      " |  \n",
      " |  __mro__ = (<class 'type'>, <class 'object'>)\n",
      " |  \n",
      " |  __weakrefoffset__ = 368\n",
      "\n"
     ]
    },
    {
     "name": "stdin",
     "output_type": "stream",
     "text": [
      "help>  print\n"
     ]
    },
    {
     "name": "stdout",
     "output_type": "stream",
     "text": [
      "Help on built-in function print in module builtins:\n",
      "\n",
      "print(*args, sep=' ', end='\\n', file=None, flush=False)\n",
      "    Prints the values to a stream, or to sys.stdout by default.\n",
      "    \n",
      "    sep\n",
      "      string inserted between values, default a space.\n",
      "    end\n",
      "      string appended after the last value, default a newline.\n",
      "    file\n",
      "      a file-like object (stream); defaults to the current sys.stdout.\n",
      "    flush\n",
      "      whether to forcibly flush the stream.\n",
      "\n"
     ]
    },
    {
     "name": "stdin",
     "output_type": "stream",
     "text": [
      "help>  input\n"
     ]
    },
    {
     "name": "stdout",
     "output_type": "stream",
     "text": [
      "Help on method raw_input in module ipykernel.kernelbase:\n",
      "\n",
      "input = raw_input(prompt='') method of ipykernel.ipkernel.IPythonKernel instance\n",
      "    Forward raw_input to frontends\n",
      "    \n",
      "    Raises\n",
      "    ------\n",
      "    StdinNotImplementedError if active frontend doesn't support stdin.\n",
      "\n"
     ]
    },
    {
     "name": "stdin",
     "output_type": "stream",
     "text": [
      "help>  quit\n"
     ]
    },
    {
     "name": "stdout",
     "output_type": "stream",
     "text": [
      "\n",
      "You are now leaving help and returning to the Python interpreter.\n",
      "If you want to ask for help on a particular object directly from the\n",
      "interpreter, you can type \"help(object)\".  Executing \"help('string')\"\n",
      "has the same effect as typing a particular string at the help> prompt.\n"
     ]
    }
   ],
   "source": [
    "help()"
   ]
  },
  {
   "cell_type": "code",
   "execution_count": 56,
   "id": "6e797713-9ca0-4227-a06b-a40d5b32a41a",
   "metadata": {},
   "outputs": [],
   "source": [
    "list1=[56,67,44,22,11,89,90]"
   ]
  },
  {
   "cell_type": "code",
   "execution_count": 57,
   "id": "8b993926-82e2-408b-880d-39c4c268f26e",
   "metadata": {},
   "outputs": [
    {
     "data": {
      "text/plain": [
       "[56, 67, 44, 22, 11, 89, 90]"
      ]
     },
     "execution_count": 57,
     "metadata": {},
     "output_type": "execute_result"
    }
   ],
   "source": [
    "list1"
   ]
  },
  {
   "cell_type": "code",
   "execution_count": 58,
   "id": "91ae6530-29ef-4825-9573-f8dbf35b426f",
   "metadata": {},
   "outputs": [
    {
     "data": {
      "text/plain": [
       "11"
      ]
     },
     "execution_count": 58,
     "metadata": {},
     "output_type": "execute_result"
    }
   ],
   "source": [
    "min(list1)"
   ]
  },
  {
   "cell_type": "code",
   "execution_count": 59,
   "id": "30bae00f-587f-4674-8091-8ddb76137736",
   "metadata": {},
   "outputs": [
    {
     "data": {
      "text/plain": [
       "90"
      ]
     },
     "execution_count": 59,
     "metadata": {},
     "output_type": "execute_result"
    }
   ],
   "source": [
    "max(list1)"
   ]
  },
  {
   "cell_type": "code",
   "execution_count": null,
   "id": "983f502d-6f82-4186-ae41-a287551f61f2",
   "metadata": {},
   "outputs": [],
   "source": []
  }
 ],
 "metadata": {
  "kernelspec": {
   "display_name": "Python 3 (ipykernel)",
   "language": "python",
   "name": "python3"
  },
  "language_info": {
   "codemirror_mode": {
    "name": "ipython",
    "version": 3
   },
   "file_extension": ".py",
   "mimetype": "text/x-python",
   "name": "python",
   "nbconvert_exporter": "python",
   "pygments_lexer": "ipython3",
   "version": "3.11.7"
  }
 },
 "nbformat": 4,
 "nbformat_minor": 5
}
