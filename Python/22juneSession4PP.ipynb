{
 "cells": [
  {
   "cell_type": "markdown",
   "id": "eba0e552-6f50-4a12-842d-1f88c968d246",
   "metadata": {},
   "source": [
    "Loops -----While loops"
   ]
  },
  {
   "cell_type": "code",
   "execution_count": 1,
   "id": "b89f604c-91e6-4354-b4eb-4749691b9005",
   "metadata": {},
   "outputs": [
    {
     "name": "stdout",
     "output_type": "stream",
     "text": [
      "0\n",
      "1\n",
      "2\n",
      "3\n",
      "4\n"
     ]
    }
   ],
   "source": [
    "i=0\n",
    "while(i<5):\n",
    "    print(i)\n",
    "    i=i+1"
   ]
  },
  {
   "cell_type": "code",
   "execution_count": 5,
   "id": "89c0b1e0-0fca-49f5-9716-33adf817f12b",
   "metadata": {},
   "outputs": [
    {
     "name": "stdout",
     "output_type": "stream",
     "text": [
      "0\n",
      "1\n",
      "2\n",
      "3\n",
      "4\n",
      "5\n",
      "6\n"
     ]
    }
   ],
   "source": [
    "i=0\n",
    "while(i<7):\n",
    "    print(i)\n",
    "    i=i+1"
   ]
  },
  {
   "cell_type": "code",
   "execution_count": 6,
   "id": "138fe224-7a85-47f5-a658-f7c5ea5c14f8",
   "metadata": {},
   "outputs": [
    {
     "name": "stdout",
     "output_type": "stream",
     "text": [
      "0\n",
      "1\n",
      "2\n",
      "3\n",
      "4\n",
      "5\n"
     ]
    }
   ],
   "source": [
    "k=0\n",
    "\n",
    "while(k<6):\n",
    "    print(k)\n",
    "    k=k+1"
   ]
  },
  {
   "cell_type": "code",
   "execution_count": 7,
   "id": "7cee64fa-31c5-486a-ac8b-ab3af30b535a",
   "metadata": {},
   "outputs": [
    {
     "name": "stdout",
     "output_type": "stream",
     "text": [
      "k= 0\n",
      "k= 1\n",
      "k= 2\n",
      "k= 3\n",
      "k= 4\n",
      "k= 5\n"
     ]
    }
   ],
   "source": [
    "k=0\n",
    "\n",
    "while(k<6):\n",
    "    print(\"k=\",k)\n",
    "    k=k+1"
   ]
  },
  {
   "cell_type": "code",
   "execution_count": 9,
   "id": "971828cb-9917-4127-b022-6bd15938e6cb",
   "metadata": {},
   "outputs": [
    {
     "name": "stdout",
     "output_type": "stream",
     "text": [
      "j= 0\n",
      "j= 2\n",
      "j= 4\n",
      "j= 6\n",
      "j= 8\n"
     ]
    }
   ],
   "source": [
    "j=0\n",
    "\n",
    "while(j<10):\n",
    "    print(\"j=\",j)\n",
    "    j=j+2"
   ]
  },
  {
   "cell_type": "code",
   "execution_count": 10,
   "id": "0c6c5e7d-4684-4c3f-8618-5b6816f45313",
   "metadata": {},
   "outputs": [
    {
     "name": "stdout",
     "output_type": "stream",
     "text": [
      "k= 0\n",
      "k= 5\n",
      "k= 10\n",
      "k= 15\n",
      "k= 20\n",
      "k= 25\n",
      "k= 30\n",
      "k= 35\n",
      "k= 40\n",
      "k= 45\n"
     ]
    }
   ],
   "source": [
    "k=0\n",
    "\n",
    "while(k<50):\n",
    "    print(\"k=\",k)\n",
    "    k=k+5"
   ]
  },
  {
   "cell_type": "code",
   "execution_count": 11,
   "id": "8f2f5c22-228c-40f8-821a-d012e60b54d6",
   "metadata": {},
   "outputs": [
    {
     "name": "stdout",
     "output_type": "stream",
     "text": [
      "k= 0\n",
      "k= 4\n",
      "k= 8\n",
      "k= 12\n",
      "k= 16\n",
      "k= 20\n",
      "k= 24\n",
      "k= 28\n",
      "k= 32\n",
      "k= 36\n"
     ]
    }
   ],
   "source": [
    "k=0\n",
    "\n",
    "while(k<40):\n",
    "    print(\"k=\",k)\n",
    "    k=k+4"
   ]
  },
  {
   "cell_type": "code",
   "execution_count": 12,
   "id": "186228fe-0c82-46cf-93b6-b9796a3928d0",
   "metadata": {},
   "outputs": [
    {
     "name": "stdout",
     "output_type": "stream",
     "text": [
      "k= 2\n",
      "k= 8\n",
      "k= 14\n",
      "k= 20\n",
      "k= 26\n",
      "k= 32\n",
      "k= 38\n"
     ]
    }
   ],
   "source": [
    "k=2\n",
    "\n",
    "while(k<40):\n",
    "    print(\"k=\",k)\n",
    "    k=k+6"
   ]
  },
  {
   "cell_type": "code",
   "execution_count": 15,
   "id": "de8fb8dc-30bd-430b-86f9-c68b4ea4a431",
   "metadata": {},
   "outputs": [
    {
     "name": "stdout",
     "output_type": "stream",
     "text": [
      "0 1 2 3 4 5 6 7 8 9 "
     ]
    }
   ],
   "source": [
    "j=0\n",
    "\n",
    "while(j<10):\n",
    "    print(j,end=\" \")\n",
    "    j=j+1"
   ]
  },
  {
   "cell_type": "code",
   "execution_count": 16,
   "id": "eca0b336-09f5-4633-8a4c-968546cbb224",
   "metadata": {},
   "outputs": [
    {
     "name": "stdout",
     "output_type": "stream",
     "text": [
      "0\n",
      "end\n",
      "1\n",
      "end\n",
      "2\n",
      "end\n",
      "3\n",
      "end\n",
      "4\n",
      "end\n"
     ]
    }
   ],
   "source": [
    "h=0\n",
    "\n",
    "while(h<5):\n",
    "    print(h)\n",
    "    print(\"end\")\n",
    "    h=h+1"
   ]
  },
  {
   "cell_type": "code",
   "execution_count": 18,
   "id": "d77b5680-ffe6-4123-82db-215f43fb8ef0",
   "metadata": {},
   "outputs": [
    {
     "name": "stdout",
     "output_type": "stream",
     "text": [
      "0\n",
      "end\n",
      "1\n",
      "end\n",
      "2\n",
      "end\n",
      "end of the loop\n"
     ]
    }
   ],
   "source": [
    "h=0\n",
    "\n",
    "while(h<3):\n",
    "    print(h)\n",
    "    print(\"end\")\n",
    "    h=h+1\n",
    "\n",
    "print(\"end of the loop\")"
   ]
  },
  {
   "cell_type": "code",
   "execution_count": 22,
   "id": "8ebef6bf-b577-4ed6-a4cc-8d3966980c58",
   "metadata": {},
   "outputs": [
    {
     "name": "stdout",
     "output_type": "stream",
     "text": [
      "2 * i = 2\n",
      "2 * i = 4\n",
      "2 * i = 6\n",
      "2 * i = 8\n",
      "2 * i = 10\n",
      "2 * i = 12\n",
      "2 * i = 14\n",
      "2 * i = 16\n",
      "2 * i = 18\n",
      "2 * i = 20\n"
     ]
    }
   ],
   "source": [
    "i=1\n",
    "while(i<11):\n",
    "    print('2','*','i','=',2*i)\n",
    "    i=i+1"
   ]
  },
  {
   "cell_type": "code",
   "execution_count": 24,
   "id": "d39bbc80-8d12-426a-9f11-264896dee83c",
   "metadata": {},
   "outputs": [
    {
     "name": "stdout",
     "output_type": "stream",
     "text": [
      "3 * i = 3\n",
      "3 * i = 6\n",
      "3 * i = 9\n",
      "3 * i = 12\n",
      "3 * i = 15\n",
      "3 * i = 18\n",
      "3 * i = 21\n",
      "3 * i = 24\n",
      "3 * i = 27\n",
      "3 * i = 30\n"
     ]
    }
   ],
   "source": [
    "i=1\n",
    "while(i<11):\n",
    "    print('3','*','i','=',3*i)\n",
    "    i=i+1"
   ]
  },
  {
   "cell_type": "code",
   "execution_count": 31,
   "id": "db19fd60-6e9b-4e75-878a-54c574cf03d7",
   "metadata": {},
   "outputs": [
    {
     "name": "stdin",
     "output_type": "stream",
     "text": [
      "Enter value of table to be gnerated 12\n"
     ]
    },
    {
     "name": "stdout",
     "output_type": "stream",
     "text": [
      "12 * 1 = 12\n",
      "12 * 2 = 24\n",
      "12 * 3 = 36\n",
      "12 * 4 = 48\n",
      "12 * 5 = 60\n",
      "12 * 6 = 72\n",
      "12 * 7 = 84\n",
      "12 * 8 = 96\n",
      "12 * 9 = 108\n",
      "12 * 10 = 120\n"
     ]
    }
   ],
   "source": [
    "i=1\n",
    "j=int(input(\"Enter value of table to be gnerated\"))\n",
    "while(i<11):\n",
    "    print(j,'*',i,'=',j*i)\n",
    "    i=i+1     "
   ]
  },
  {
   "cell_type": "code",
   "execution_count": 40,
   "id": "171fa953-454f-437e-85ba-e3106c7bd5d4",
   "metadata": {},
   "outputs": [
    {
     "name": "stdin",
     "output_type": "stream",
     "text": [
      "Enter any fruit name aaa\n"
     ]
    },
    {
     "name": "stdout",
     "output_type": "stream",
     "text": [
      "['aaa']\n"
     ]
    },
    {
     "name": "stdin",
     "output_type": "stream",
     "text": [
      "Enter any fruit name bbb\n"
     ]
    },
    {
     "name": "stdout",
     "output_type": "stream",
     "text": [
      "['aaa', 'bbb']\n"
     ]
    },
    {
     "name": "stdin",
     "output_type": "stream",
     "text": [
      "Enter any fruit name ccc\n"
     ]
    },
    {
     "name": "stdout",
     "output_type": "stream",
     "text": [
      "['aaa', 'bbb', 'ccc']\n",
      "FINAL LIST= ['aaa', 'bbb', 'ccc']\n"
     ]
    }
   ],
   "source": [
    "fruit=[]\n",
    "i=0\n",
    "while(i<3):\n",
    "    val=input(\"Enter any fruit name\")\n",
    "    fruit.append(val)\n",
    "    print(fruit)\n",
    "    i=i+1\n",
    "print('FINAL LIST=',fruit)              "
   ]
  },
  {
   "cell_type": "markdown",
   "id": "b31a9676-b941-4336-a337-4b5503b1cda8",
   "metadata": {},
   "source": [
    "For Loop"
   ]
  },
  {
   "cell_type": "code",
   "execution_count": 41,
   "id": "71152682-a045-4aa5-8e38-864ecfc18702",
   "metadata": {},
   "outputs": [
    {
     "name": "stdout",
     "output_type": "stream",
     "text": [
      "11\n",
      "12\n",
      "13\n"
     ]
    }
   ],
   "source": [
    "for index in[11,12,13]:\n",
    "    print(index)"
   ]
  },
  {
   "cell_type": "code",
   "execution_count": 42,
   "id": "4265aff9-d28b-4e12-98f5-2e5b37c6d043",
   "metadata": {},
   "outputs": [
    {
     "name": "stdout",
     "output_type": "stream",
     "text": [
      "10\n",
      "20\n",
      "30\n",
      "40\n",
      "50\n"
     ]
    }
   ],
   "source": [
    "for index in[10,20,30,40,50]:\n",
    "    print(index)"
   ]
  },
  {
   "cell_type": "code",
   "execution_count": 43,
   "id": "1e9091a3-87dd-49b2-bacc-6948a69ef9d6",
   "metadata": {},
   "outputs": [
    {
     "name": "stdout",
     "output_type": "stream",
     "text": [
      "23.4\n",
      "56.7\n",
      "12.8\n",
      "99.4\n",
      "23.5\n"
     ]
    }
   ],
   "source": [
    "for index in[23.4,56.7,12.8,99.4,23.5]:\n",
    "    print(index)"
   ]
  },
  {
   "cell_type": "code",
   "execution_count": 45,
   "id": "99a34931-8b73-4062-b693-e73c6740c3e9",
   "metadata": {},
   "outputs": [
    {
     "name": "stdout",
     "output_type": "stream",
     "text": [
      "A  B  C  D  E  "
     ]
    }
   ],
   "source": [
    "for index in['A','B','C','D','E']:\n",
    "    print(index,end=\"  \")"
   ]
  },
  {
   "cell_type": "code",
   "execution_count": 48,
   "id": "0647ba22-fe89-4dee-b6db-bde4f479a9ba",
   "metadata": {},
   "outputs": [
    {
     "name": "stdout",
     "output_type": "stream",
     "text": [
      "Tesla Volvo Porsche Maruti Kia "
     ]
    }
   ],
   "source": [
    "for i in['Tesla','Volvo','Porsche','Maruti','Kia']:\n",
    "    print(i,end=\" \")"
   ]
  },
  {
   "cell_type": "code",
   "execution_count": 50,
   "id": "01d4b69e-d1f0-4696-9f89-ade957cb603c",
   "metadata": {},
   "outputs": [
    {
     "name": "stdout",
     "output_type": "stream",
     "text": [
      "2 3 7.8 Scorpio 45 True "
     ]
    }
   ],
   "source": [
    "for j in[2,3,7.8,'Scorpio','45',True]:\n",
    "    print(j,end=\" \")"
   ]
  },
  {
   "cell_type": "code",
   "execution_count": 51,
   "id": "d215132c-865d-4c82-814f-bef081f50e67",
   "metadata": {},
   "outputs": [
    {
     "name": "stdout",
     "output_type": "stream",
     "text": [
      "1\n",
      "2\n",
      "3\n",
      "4\n",
      "5\n"
     ]
    }
   ],
   "source": [
    "for k in(1,2,3,4,5):\n",
    "    print(k)"
   ]
  },
  {
   "cell_type": "code",
   "execution_count": 3,
   "id": "d9ccc565-ba30-4a0e-a723-83ada5bfc53b",
   "metadata": {},
   "outputs": [],
   "source": [
    "dict1={'Eno':101,'Name':'Jack','Sal':86688}"
   ]
  },
  {
   "cell_type": "code",
   "execution_count": 4,
   "id": "72d899cf-2b85-4193-839b-e5f152a8f696",
   "metadata": {},
   "outputs": [
    {
     "data": {
      "text/plain": [
       "{'Eno': 101, 'Name': 'Jack', 'Sal': 86688}"
      ]
     },
     "execution_count": 4,
     "metadata": {},
     "output_type": "execute_result"
    }
   ],
   "source": [
    "dict1"
   ]
  },
  {
   "cell_type": "code",
   "execution_count": 5,
   "id": "ec08b933-3a31-4c4d-a981-d9fd662c9235",
   "metadata": {},
   "outputs": [
    {
     "name": "stdout",
     "output_type": "stream",
     "text": [
      "Eno\n",
      "Name\n",
      "Sal\n"
     ]
    }
   ],
   "source": [
    "for p in dict1:\n",
    "    print(p)"
   ]
  },
  {
   "cell_type": "code",
   "execution_count": 6,
   "id": "d5ca3cce-cb31-4832-a0b1-6127c37927d9",
   "metadata": {},
   "outputs": [
    {
     "name": "stdout",
     "output_type": "stream",
     "text": [
      "101\n",
      "Jack\n",
      "86688\n"
     ]
    }
   ],
   "source": [
    "for p in dict1:\n",
    "    print(dict1[p])"
   ]
  },
  {
   "cell_type": "code",
   "execution_count": 7,
   "id": "6520e714-bc4c-42e3-80f1-2951d0abea46",
   "metadata": {},
   "outputs": [
    {
     "name": "stdout",
     "output_type": "stream",
     "text": [
      "Eno ---> 101\n",
      "Name ---> Jack\n",
      "Sal ---> 86688\n"
     ]
    }
   ],
   "source": [
    "for p in dict1:\n",
    "    print(p,'--->',dict1[p])"
   ]
  },
  {
   "cell_type": "markdown",
   "id": "f877ff7b-81f8-4890-bca1-532cb7ebccdd",
   "metadata": {},
   "source": [
    "Range Function"
   ]
  },
  {
   "cell_type": "code",
   "execution_count": 8,
   "id": "2cdd579d-280c-4b3f-b641-eec49793185a",
   "metadata": {},
   "outputs": [
    {
     "data": {
      "text/plain": [
       "range(0, 0)"
      ]
     },
     "execution_count": 8,
     "metadata": {},
     "output_type": "execute_result"
    }
   ],
   "source": [
    "#range function\n",
    "\n",
    "range(0,0)"
   ]
  },
  {
   "cell_type": "code",
   "execution_count": 9,
   "id": "97451612-6418-4621-bc6d-4baa7e07467a",
   "metadata": {},
   "outputs": [
    {
     "data": {
      "text/plain": [
       "range(0, 1)"
      ]
     },
     "execution_count": 9,
     "metadata": {},
     "output_type": "execute_result"
    }
   ],
   "source": [
    "range(0,1)"
   ]
  },
  {
   "cell_type": "code",
   "execution_count": 10,
   "id": "633e61f7-7236-4c1c-a819-751d77c2488d",
   "metadata": {},
   "outputs": [
    {
     "data": {
      "text/plain": [
       "range(0, 3)"
      ]
     },
     "execution_count": 10,
     "metadata": {},
     "output_type": "execute_result"
    }
   ],
   "source": [
    "range(0,3)"
   ]
  },
  {
   "cell_type": "code",
   "execution_count": 12,
   "id": "5bdbc098-978b-436b-ab68-f58b02c74977",
   "metadata": {},
   "outputs": [
    {
     "data": {
      "text/plain": [
       "[0, 1, 2]"
      ]
     },
     "execution_count": 12,
     "metadata": {},
     "output_type": "execute_result"
    }
   ],
   "source": [
    "list(range(0,3))"
   ]
  },
  {
   "cell_type": "code",
   "execution_count": 13,
   "id": "0c947ad9-68a9-450e-a548-33226a6b647f",
   "metadata": {},
   "outputs": [
    {
     "data": {
      "text/plain": [
       "[0, 1, 2, 3]"
      ]
     },
     "execution_count": 13,
     "metadata": {},
     "output_type": "execute_result"
    }
   ],
   "source": [
    "list(range(0,4))"
   ]
  },
  {
   "cell_type": "code",
   "execution_count": 14,
   "id": "b7e18472-92bf-4028-a2bb-a06712adb075",
   "metadata": {},
   "outputs": [
    {
     "data": {
      "text/plain": [
       "[0, 1, 2, 3, 4]"
      ]
     },
     "execution_count": 14,
     "metadata": {},
     "output_type": "execute_result"
    }
   ],
   "source": [
    "list(range(0,5))"
   ]
  },
  {
   "cell_type": "code",
   "execution_count": 15,
   "id": "6f7315f9-7007-432c-90ff-c07637c5a9e2",
   "metadata": {},
   "outputs": [
    {
     "data": {
      "text/plain": [
       "[0, 1, 2, 3, 4, 5, 6, 7, 8, 9]"
      ]
     },
     "execution_count": 15,
     "metadata": {},
     "output_type": "execute_result"
    }
   ],
   "source": [
    "list(range(0,10))"
   ]
  },
  {
   "cell_type": "code",
   "execution_count": 16,
   "id": "96e62f6d-ad92-436f-854b-892e94905eeb",
   "metadata": {},
   "outputs": [
    {
     "data": {
      "text/plain": [
       "[2, 3, 4, 5, 6, 7]"
      ]
     },
     "execution_count": 16,
     "metadata": {},
     "output_type": "execute_result"
    }
   ],
   "source": [
    "list(range(2,8))"
   ]
  },
  {
   "cell_type": "code",
   "execution_count": 17,
   "id": "0fb1ea70-3e6d-4cff-8417-6138804fc428",
   "metadata": {},
   "outputs": [
    {
     "data": {
      "text/plain": [
       "[5, 6, 7, 8, 9]"
      ]
     },
     "execution_count": 17,
     "metadata": {},
     "output_type": "execute_result"
    }
   ],
   "source": [
    "list(range(5,10))"
   ]
  },
  {
   "cell_type": "code",
   "execution_count": 18,
   "id": "677afb7b-29e0-461b-8776-bcb242229f93",
   "metadata": {},
   "outputs": [
    {
     "data": {
      "text/plain": [
       "[10, 11, 12, 13, 14, 15, 16, 17, 18, 19]"
      ]
     },
     "execution_count": 18,
     "metadata": {},
     "output_type": "execute_result"
    }
   ],
   "source": [
    "list(range(10,20))"
   ]
  },
  {
   "cell_type": "code",
   "execution_count": 19,
   "id": "35c93350-5ebe-4b57-8682-986530a71e77",
   "metadata": {},
   "outputs": [
    {
     "data": {
      "text/plain": [
       "range(0, 20, 2)"
      ]
     },
     "execution_count": 19,
     "metadata": {},
     "output_type": "execute_result"
    }
   ],
   "source": [
    "#Range(start=0,stop=20,jump=2)\n",
    "\n",
    "range(0,20,2)"
   ]
  },
  {
   "cell_type": "code",
   "execution_count": 20,
   "id": "90754679-210b-45f1-a2d9-6cb0e8d4d621",
   "metadata": {},
   "outputs": [
    {
     "data": {
      "text/plain": [
       "[0, 2, 4, 6, 8, 10, 12, 14, 16, 18]"
      ]
     },
     "execution_count": 20,
     "metadata": {},
     "output_type": "execute_result"
    }
   ],
   "source": [
    "list(range(0,20,2))"
   ]
  },
  {
   "cell_type": "code",
   "execution_count": 21,
   "id": "64021d74-bdeb-4824-8ee6-bda549ca611f",
   "metadata": {},
   "outputs": [
    {
     "data": {
      "text/plain": [
       "[0, 5, 10, 15, 20, 25, 30, 35]"
      ]
     },
     "execution_count": 21,
     "metadata": {},
     "output_type": "execute_result"
    }
   ],
   "source": [
    "list(range(0,40,5))"
   ]
  },
  {
   "cell_type": "code",
   "execution_count": 22,
   "id": "161989c5-02c3-47ff-90ff-37c83fb9f49a",
   "metadata": {},
   "outputs": [
    {
     "data": {
      "text/plain": [
       "[5, 15, 25, 35, 45, 55]"
      ]
     },
     "execution_count": 22,
     "metadata": {},
     "output_type": "execute_result"
    }
   ],
   "source": [
    "list(range(5,60,10))"
   ]
  },
  {
   "cell_type": "code",
   "execution_count": 24,
   "id": "8124ff8d-7fdd-4f27-841c-9a15a35a1a14",
   "metadata": {},
   "outputs": [
    {
     "name": "stdout",
     "output_type": "stream",
     "text": [
      "1\n",
      "2\n",
      "3\n",
      "4\n",
      "5\n",
      "6\n"
     ]
    }
   ],
   "source": [
    "#for loop\n",
    "for i in[1,2,3,4,5,6]:\n",
    "    print(i)"
   ]
  },
  {
   "cell_type": "code",
   "execution_count": 25,
   "id": "7ff4f42b-c409-40b1-8716-32f67ea707a8",
   "metadata": {},
   "outputs": [
    {
     "name": "stdout",
     "output_type": "stream",
     "text": [
      "0\n",
      "1\n",
      "2\n",
      "3\n",
      "4\n",
      "5\n"
     ]
    }
   ],
   "source": [
    "#range\n",
    "for i in range(6):\n",
    "    print(i)"
   ]
  },
  {
   "cell_type": "code",
   "execution_count": 26,
   "id": "e20eac5b-ebab-49e4-86be-a3ef9ed8e17f",
   "metadata": {},
   "outputs": [
    {
     "name": "stdout",
     "output_type": "stream",
     "text": [
      "0\n",
      "1\n",
      "2\n",
      "3\n",
      "4\n",
      "5\n",
      "6\n",
      "7\n",
      "8\n",
      "9\n"
     ]
    }
   ],
   "source": [
    "for k in range(10):\n",
    "    print(k)"
   ]
  },
  {
   "cell_type": "code",
   "execution_count": 27,
   "id": "83b5a088-9a53-4f7b-8899-79e5cafe9b7c",
   "metadata": {},
   "outputs": [
    {
     "name": "stdout",
     "output_type": "stream",
     "text": [
      "0  1  2  3  4  5  6  7  8  9  "
     ]
    }
   ],
   "source": [
    "for k in range(10):\n",
    "    print(k,end=\"  \")"
   ]
  },
  {
   "cell_type": "code",
   "execution_count": 31,
   "id": "87ce4e27-d79c-455d-8b79-8b9641436bbe",
   "metadata": {},
   "outputs": [
    {
     "name": "stdout",
     "output_type": "stream",
     "text": [
      "0  ,  1  ,  2  ,  3  ,  4  ,  5  ,  6  ,  7  ,  8  ,  9  ,  "
     ]
    }
   ],
   "source": [
    "for k in range(10):\n",
    "    print(k,end=\"  ,  \")"
   ]
  },
  {
   "cell_type": "code",
   "execution_count": 28,
   "id": "bed40090-75f4-4a1b-954c-78f1b4db3659",
   "metadata": {},
   "outputs": [
    {
     "name": "stdout",
     "output_type": "stream",
     "text": [
      "1\n",
      "2\n",
      "3\n",
      "4\n",
      "5\n",
      "6\n",
      "7\n"
     ]
    }
   ],
   "source": [
    "for p in range(1,8):\n",
    "    print(p)"
   ]
  },
  {
   "cell_type": "code",
   "execution_count": 29,
   "id": "ca703692-842d-425d-8042-0ee0eb095378",
   "metadata": {},
   "outputs": [
    {
     "name": "stdout",
     "output_type": "stream",
     "text": [
      "1\n",
      "3\n",
      "5\n",
      "7\n",
      "9\n",
      "11\n",
      "13\n"
     ]
    }
   ],
   "source": [
    "for h in range(1,15,2):\n",
    "    print(h)"
   ]
  },
  {
   "cell_type": "code",
   "execution_count": 30,
   "id": "0d1ec13a-6a51-426f-a649-6a7fca5fb008",
   "metadata": {},
   "outputs": [
    {
     "name": "stdout",
     "output_type": "stream",
     "text": [
      "1\n",
      "2\n",
      "3\n",
      "4\n",
      "5\n",
      "6\n",
      "7\n"
     ]
    }
   ],
   "source": [
    "for p in range(1,8):\n",
    "    print(p)"
   ]
  },
  {
   "cell_type": "code",
   "execution_count": 32,
   "id": "5c30fc16-a422-464e-b18b-955176fafe23",
   "metadata": {},
   "outputs": [
    {
     "name": "stdout",
     "output_type": "stream",
     "text": [
      "2\n",
      "4\n",
      "6\n",
      "8\n",
      "10\n",
      "12\n",
      "14\n",
      "16\n",
      "18\n"
     ]
    }
   ],
   "source": [
    "for j in range(2,20,2):\n",
    "    print(j)"
   ]
  },
  {
   "cell_type": "code",
   "execution_count": 34,
   "id": "c6e5becd-b171-4b07-9ea7-8c01ec813734",
   "metadata": {},
   "outputs": [
    {
     "name": "stdout",
     "output_type": "stream",
     "text": [
      "2\n",
      "4\n",
      "6\n",
      "8\n",
      "10\n",
      "12\n",
      "14\n",
      "16\n",
      "18\n",
      "20\n"
     ]
    }
   ],
   "source": [
    "p=2\n",
    "\n",
    "for q in range(1,11):\n",
    "    print(p*q)"
   ]
  },
  {
   "cell_type": "code",
   "execution_count": 35,
   "id": "88eb1b7b-ccaa-4488-ad39-e10a23ffbdf6",
   "metadata": {},
   "outputs": [
    {
     "name": "stdout",
     "output_type": "stream",
     "text": [
      "2 * 1 = 2\n",
      "2 * 2 = 4\n",
      "2 * 3 = 6\n",
      "2 * 4 = 8\n",
      "2 * 5 = 10\n",
      "2 * 6 = 12\n",
      "2 * 7 = 14\n",
      "2 * 8 = 16\n",
      "2 * 9 = 18\n",
      "2 * 10 = 20\n"
     ]
    }
   ],
   "source": [
    "p=2\n",
    "for q in range(1,11):\n",
    "    print(p,'*',q,'=',p*q)"
   ]
  },
  {
   "cell_type": "code",
   "execution_count": 36,
   "id": "a8df90ae-0b58-4df7-b1cc-88b0ac42ce91",
   "metadata": {},
   "outputs": [
    {
     "name": "stdin",
     "output_type": "stream",
     "text": [
      "enter the value for table to generated 3\n"
     ]
    },
    {
     "name": "stdout",
     "output_type": "stream",
     "text": [
      "3 * 1 = 3\n",
      "3 * 2 = 6\n",
      "3 * 3 = 9\n",
      "3 * 4 = 12\n",
      "3 * 5 = 15\n",
      "3 * 6 = 18\n",
      "3 * 7 = 21\n",
      "3 * 8 = 24\n",
      "3 * 9 = 27\n",
      "3 * 10 = 30\n"
     ]
    }
   ],
   "source": [
    "p=int(input(\"enter the value for table to generated\"))\n",
    "for q in range(1,11):\n",
    "    print(p,'*',q,'=',p*q)"
   ]
  },
  {
   "cell_type": "code",
   "execution_count": 3,
   "id": "5a039c07-2550-4ea3-8399-ecdd2b5f759c",
   "metadata": {},
   "outputs": [
    {
     "name": "stdin",
     "output_type": "stream",
     "text": [
      "enter the value for table to generated 19\n"
     ]
    },
    {
     "name": "stdout",
     "output_type": "stream",
     "text": [
      "19 * 1 = 19\n",
      "19 * 2 = 38\n",
      "19 * 3 = 57\n",
      "19 * 4 = 76\n",
      "19 * 5 = 95\n",
      "19 * 6 = 114\n",
      "19 * 7 = 133\n",
      "19 * 8 = 152\n",
      "19 * 9 = 171\n",
      "19 * 10 = 190\n"
     ]
    }
   ],
   "source": [
    "p=int(input(\"enter the value for table to generated\"))\n",
    "for q in range(1,11):\n",
    "    print(p,'*',q,'=',p*q)"
   ]
  },
  {
   "cell_type": "code",
   "execution_count": 4,
   "id": "08ca88c2-189b-4d96-abca-2ce06eb7f62f",
   "metadata": {},
   "outputs": [
    {
     "name": "stdin",
     "output_type": "stream",
     "text": [
      "enter vegetable name tomato\n"
     ]
    },
    {
     "name": "stdout",
     "output_type": "stream",
     "text": [
      "['tomato']\n"
     ]
    },
    {
     "name": "stdin",
     "output_type": "stream",
     "text": [
      "enter vegetable name onion\n"
     ]
    },
    {
     "name": "stdout",
     "output_type": "stream",
     "text": [
      "['tomato', 'onion']\n"
     ]
    },
    {
     "name": "stdin",
     "output_type": "stream",
     "text": [
      "enter vegetable name beetroot\n"
     ]
    },
    {
     "name": "stdout",
     "output_type": "stream",
     "text": [
      "['tomato', 'onion', 'beetroot']\n"
     ]
    },
    {
     "name": "stdin",
     "output_type": "stream",
     "text": [
      "enter vegetable name chilli\n"
     ]
    },
    {
     "name": "stdout",
     "output_type": "stream",
     "text": [
      "['tomato', 'onion', 'beetroot', 'chilli']\n"
     ]
    }
   ],
   "source": [
    "veggies=[]\n",
    "for p in range(4):\n",
    "    veg=input(\"enter vegetable name\")\n",
    "    veggies.append(veg)\n",
    "    print(veggies)"
   ]
  },
  {
   "cell_type": "code",
   "execution_count": 6,
   "id": "1de16fd8-36fe-4c10-8a34-afb058c1af79",
   "metadata": {},
   "outputs": [
    {
     "name": "stdin",
     "output_type": "stream",
     "text": [
      "enter vegetable name potato\n"
     ]
    },
    {
     "name": "stdout",
     "output_type": "stream",
     "text": [
      "['potato']\n"
     ]
    },
    {
     "name": "stdin",
     "output_type": "stream",
     "text": [
      "enter vegetable name palak\n"
     ]
    },
    {
     "name": "stdout",
     "output_type": "stream",
     "text": [
      "['potato', 'palak']\n"
     ]
    },
    {
     "name": "stdin",
     "output_type": "stream",
     "text": [
      "enter vegetable name methi\n"
     ]
    },
    {
     "name": "stdout",
     "output_type": "stream",
     "text": [
      "['potato', 'palak', 'methi']\n"
     ]
    },
    {
     "name": "stdin",
     "output_type": "stream",
     "text": [
      "enter vegetable name shepu\n"
     ]
    },
    {
     "name": "stdout",
     "output_type": "stream",
     "text": [
      "['potato', 'palak', 'methi', 'shepu']\n",
      "FINAL LIST ['potato', 'palak', 'methi', 'shepu']\n"
     ]
    }
   ],
   "source": [
    "veggies=[]\n",
    "for p in range(4):\n",
    "    veg=input(\"enter vegetable name\")\n",
    "    veggies.append(veg)\n",
    "    print(veggies)\n",
    "print('FINAL LIST',veggies)"
   ]
  },
  {
   "cell_type": "markdown",
   "id": "1be64666-7ad0-4ec7-b7bb-e48eca8b4fc1",
   "metadata": {},
   "source": [
    "IF-ELSE Construct"
   ]
  },
  {
   "cell_type": "code",
   "execution_count": 9,
   "id": "54b0e791-05ff-4f3e-8d8d-52d20fbe93a7",
   "metadata": {},
   "outputs": [
    {
     "name": "stdout",
     "output_type": "stream",
     "text": [
      "Good\n"
     ]
    }
   ],
   "source": [
    "marks=80\n",
    "if marks>50:\n",
    "    print('Good')"
   ]
  },
  {
   "cell_type": "code",
   "execution_count": 14,
   "id": "63b6d89c-81ae-4d1b-be7f-84a458f5b480",
   "metadata": {},
   "outputs": [
    {
     "name": "stdout",
     "output_type": "stream",
     "text": [
      "Good\n"
     ]
    }
   ],
   "source": [
    "marks=80\n",
    "\n",
    "if marks>50:\n",
    "    print('Good')\n",
    "else:\n",
    "    print('Bad')"
   ]
  },
  {
   "cell_type": "code",
   "execution_count": 15,
   "id": "77241a65-8246-424d-91c5-67c63ae58910",
   "metadata": {},
   "outputs": [
    {
     "name": "stdout",
     "output_type": "stream",
     "text": [
      "Bad\n"
     ]
    }
   ],
   "source": [
    "marks=20\n",
    "if marks>50:\n",
    "    print('Good')\n",
    "else:\n",
    "    print('Bad')"
   ]
  },
  {
   "cell_type": "code",
   "execution_count": 16,
   "id": "a102823c-6546-44a1-81a8-cf5cd99a0ae6",
   "metadata": {},
   "outputs": [
    {
     "name": "stdout",
     "output_type": "stream",
     "text": [
      "even\n"
     ]
    }
   ],
   "source": [
    "num=40\n",
    "\n",
    "if num%2==0:\n",
    "    print('even')\n",
    "else:\n",
    "    print('Odd')"
   ]
  },
  {
   "cell_type": "code",
   "execution_count": 17,
   "id": "ee2fed9a-3ce3-48bc-85e3-6cf396fcf312",
   "metadata": {},
   "outputs": [
    {
     "name": "stdout",
     "output_type": "stream",
     "text": [
      "odd\n"
     ]
    }
   ],
   "source": [
    "num=23\n",
    "\n",
    "if num%2==0:\n",
    "    print('even')\n",
    "else:\n",
    "    print('odd')"
   ]
  },
  {
   "cell_type": "code",
   "execution_count": 21,
   "id": "7e93e849-b144-4490-89b6-e93dfa5f7f27",
   "metadata": {},
   "outputs": [
    {
     "name": "stdout",
     "output_type": "stream",
     "text": [
      "even\n"
     ]
    }
   ],
   "source": [
    "num=23\n",
    "\n",
    "if num%2==0:\n",
    "    print('odd')\n",
    "else:\n",
    "    print('even')"
   ]
  },
  {
   "cell_type": "code",
   "execution_count": 22,
   "id": "69ba5141-20df-45c1-aea9-0f054d598671",
   "metadata": {},
   "outputs": [
    {
     "name": "stdout",
     "output_type": "stream",
     "text": [
      "odd\n"
     ]
    }
   ],
   "source": [
    "num=26\n",
    "\n",
    "if num%2==0:\n",
    "    print('odd')\n",
    "else:\n",
    "    print('even')"
   ]
  },
  {
   "cell_type": "code",
   "execution_count": 24,
   "id": "f853b16c-feb4-4269-88bc-abd5345be100",
   "metadata": {},
   "outputs": [
    {
     "name": "stdout",
     "output_type": "stream",
     "text": [
      "good\n"
     ]
    }
   ],
   "source": [
    "marks=90\n",
    "\n",
    "if marks>50:\n",
    "    print('good')\n",
    "else:\n",
    "    pass"
   ]
  },
  {
   "cell_type": "code",
   "execution_count": 40,
   "id": "28a7e7fc-8ba3-4084-b86e-44b43738aa7d",
   "metadata": {},
   "outputs": [
    {
     "name": "stdin",
     "output_type": "stream",
     "text": [
      "Enter any marks 99\n"
     ]
    },
    {
     "name": "stdout",
     "output_type": "stream",
     "text": [
      "Excellent\n"
     ]
    }
   ],
   "source": [
    "#if else elif\n",
    "marks=int(input(\"Enter any marks\"))\n",
    "\n",
    "if marks>90 and marks<100:\n",
    "    print('Excellent')\n",
    "elif(marks>80 and marks<90):\n",
    "    print('Very Good')\n",
    "elif(marks>70 and marks<80):\n",
    "    print('Good')\n",
    "elif(marks>60 and marks<70):\n",
    "    print('average')\n",
    "else:\n",
    "    print('poor')"
   ]
  },
  {
   "cell_type": "code",
   "execution_count": null,
   "id": "eeacd7b5-159e-402b-8a2c-8a7c836de2cb",
   "metadata": {},
   "outputs": [],
   "source": []
  }
 ],
 "metadata": {
  "kernelspec": {
   "display_name": "Python 3 (ipykernel)",
   "language": "python",
   "name": "python3"
  },
  "language_info": {
   "codemirror_mode": {
    "name": "ipython",
    "version": 3
   },
   "file_extension": ".py",
   "mimetype": "text/x-python",
   "name": "python",
   "nbconvert_exporter": "python",
   "pygments_lexer": "ipython3",
   "version": "3.11.7"
  }
 },
 "nbformat": 4,
 "nbformat_minor": 5
}
