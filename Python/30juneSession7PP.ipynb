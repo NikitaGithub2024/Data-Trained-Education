{
 "cells": [
  {
   "cell_type": "code",
   "execution_count": 3,
   "id": "e0025539-a91c-492a-8aa1-04818619a8bf",
   "metadata": {},
   "outputs": [],
   "source": [
    "# global variable\n",
    "marks=40"
   ]
  },
  {
   "cell_type": "code",
   "execution_count": 2,
   "id": "9f00fcf7-442d-4be6-bbcf-670fc424278e",
   "metadata": {},
   "outputs": [
    {
     "data": {
      "text/plain": [
       "40"
      ]
     },
     "execution_count": 2,
     "metadata": {},
     "output_type": "execute_result"
    }
   ],
   "source": [
    "marks"
   ]
  },
  {
   "cell_type": "code",
   "execution_count": 25,
   "id": "d4037a8a-be2e-43fc-9ef9-da945b07ae07",
   "metadata": {},
   "outputs": [],
   "source": [
    "def myf():\n",
    "    p=10  # local variable\n",
    "    print(\"p=\",p)"
   ]
  },
  {
   "cell_type": "code",
   "execution_count": 16,
   "id": "b90000d9-d267-49cd-8aab-d8edef0a3b1e",
   "metadata": {},
   "outputs": [
    {
     "name": "stdout",
     "output_type": "stream",
     "text": [
      "p= 10\n"
     ]
    }
   ],
   "source": [
    "myf()"
   ]
  },
  {
   "cell_type": "code",
   "execution_count": 17,
   "id": "99fd00dc-84c0-4c79-9b76-7175594816ee",
   "metadata": {},
   "outputs": [
    {
     "data": {
      "text/plain": [
       "40"
      ]
     },
     "execution_count": 17,
     "metadata": {},
     "output_type": "execute_result"
    }
   ],
   "source": [
    "marks"
   ]
  },
  {
   "cell_type": "code",
   "execution_count": 20,
   "id": "028e0441-97fe-49db-b1d4-ff500931f44a",
   "metadata": {},
   "outputs": [],
   "source": [
    "def addfunction():\n",
    "    a=10\n",
    "    b=5\n",
    "    c=a+b\n",
    "    print(\"c=\",c)"
   ]
  },
  {
   "cell_type": "code",
   "execution_count": 21,
   "id": "b70102cd-6221-43c7-b762-d8a364ae9fd7",
   "metadata": {},
   "outputs": [
    {
     "name": "stdout",
     "output_type": "stream",
     "text": [
      "c= 15\n"
     ]
    }
   ],
   "source": [
    "addfunction()"
   ]
  },
  {
   "cell_type": "code",
   "execution_count": 22,
   "id": "9afd7bf7-a6b5-450d-95a3-63ebab050286",
   "metadata": {},
   "outputs": [],
   "source": [
    "def addfunction():\n",
    "    a=10\n",
    "    b=5\n",
    "    c=a+b\n",
    "    return c"
   ]
  },
  {
   "cell_type": "code",
   "execution_count": 23,
   "id": "34d8c366-db8e-4935-8f9b-ff1b007bd07b",
   "metadata": {},
   "outputs": [
    {
     "data": {
      "text/plain": [
       "15"
      ]
     },
     "execution_count": 23,
     "metadata": {},
     "output_type": "execute_result"
    }
   ],
   "source": [
    "addfunction()"
   ]
  },
  {
   "cell_type": "code",
   "execution_count": 26,
   "id": "1dc62591-88c7-4c51-8390-7e7bb1706b46",
   "metadata": {},
   "outputs": [],
   "source": [
    "myc=addfunction()"
   ]
  },
  {
   "cell_type": "code",
   "execution_count": 27,
   "id": "0d855c10-ba6d-4124-8cb2-351a1890f89f",
   "metadata": {},
   "outputs": [
    {
     "data": {
      "text/plain": [
       "15"
      ]
     },
     "execution_count": 27,
     "metadata": {},
     "output_type": "execute_result"
    }
   ],
   "source": [
    "myc"
   ]
  },
  {
   "cell_type": "code",
   "execution_count": 28,
   "id": "da6c0dfd-e789-4b82-9fda-083a770d400c",
   "metadata": {},
   "outputs": [
    {
     "data": {
      "text/plain": [
       "225"
      ]
     },
     "execution_count": 28,
     "metadata": {},
     "output_type": "execute_result"
    }
   ],
   "source": [
    "myc**2"
   ]
  },
  {
   "cell_type": "code",
   "execution_count": 34,
   "id": "31979c67-b097-47f7-853a-e42e4d67f99b",
   "metadata": {},
   "outputs": [],
   "source": [
    "def addfunction():\n",
    "    a=60\n",
    "    b=52\n",
    "    c=a+b\n",
    "    print(\"c=\",c)\n",
    "     # return c"
   ]
  },
  {
   "cell_type": "code",
   "execution_count": 35,
   "id": "be278bc7-8732-4736-ade2-e219642af147",
   "metadata": {},
   "outputs": [
    {
     "name": "stdout",
     "output_type": "stream",
     "text": [
      "c= 112\n"
     ]
    }
   ],
   "source": [
    "myc=addfunction()"
   ]
  },
  {
   "cell_type": "code",
   "execution_count": 45,
   "id": "cd6952ec-045d-4216-b229-2d21be0c2580",
   "metadata": {},
   "outputs": [],
   "source": [
    "def textf():\n",
    "    for i in range(20):\n",
    "        if(i==7):\n",
    "            return\n",
    "        print(i)"
   ]
  },
  {
   "cell_type": "code",
   "execution_count": 46,
   "id": "b77eb986-889b-4e0b-8ddc-f89b8b45841d",
   "metadata": {},
   "outputs": [
    {
     "name": "stdout",
     "output_type": "stream",
     "text": [
      "0\n",
      "1\n",
      "2\n",
      "3\n",
      "4\n",
      "5\n",
      "6\n"
     ]
    }
   ],
   "source": [
    "textf()"
   ]
  },
  {
   "cell_type": "code",
   "execution_count": 47,
   "id": "80cc4d18-e4b0-4c5d-9c4e-730f43998801",
   "metadata": {},
   "outputs": [],
   "source": [
    "def textf():\n",
    "    for  i in range(20):\n",
    "        print(i)"
   ]
  },
  {
   "cell_type": "code",
   "execution_count": 48,
   "id": "e71e5db1-9a19-4976-aa60-0eda5475a3a3",
   "metadata": {},
   "outputs": [
    {
     "name": "stdout",
     "output_type": "stream",
     "text": [
      "0\n",
      "1\n",
      "2\n",
      "3\n",
      "4\n",
      "5\n",
      "6\n",
      "7\n",
      "8\n",
      "9\n",
      "10\n",
      "11\n",
      "12\n",
      "13\n",
      "14\n",
      "15\n",
      "16\n",
      "17\n",
      "18\n",
      "19\n"
     ]
    }
   ],
   "source": [
    "textf()"
   ]
  },
  {
   "cell_type": "code",
   "execution_count": 49,
   "id": "eb9e51d0-70d9-4a7a-a5b8-1eab7a33df02",
   "metadata": {},
   "outputs": [],
   "source": [
    "def outerfunction():\n",
    "    print('outerfunction')"
   ]
  },
  {
   "cell_type": "code",
   "execution_count": 50,
   "id": "ff5a4a95-b279-4929-9b9e-3c3201c55dd0",
   "metadata": {},
   "outputs": [
    {
     "name": "stdout",
     "output_type": "stream",
     "text": [
      "outerfunction\n"
     ]
    }
   ],
   "source": [
    "outerfunction()"
   ]
  },
  {
   "cell_type": "code",
   "execution_count": 51,
   "id": "32f7ed81-fdaa-40cc-881d-b8de8cc01061",
   "metadata": {},
   "outputs": [],
   "source": [
    "def innerfunction():\n",
    "    print('innerfunction')"
   ]
  },
  {
   "cell_type": "code",
   "execution_count": 52,
   "id": "2d7879c7-2866-407c-9059-69e301190392",
   "metadata": {},
   "outputs": [
    {
     "name": "stdout",
     "output_type": "stream",
     "text": [
      "innerfunction\n"
     ]
    }
   ],
   "source": [
    "innerfunction()"
   ]
  },
  {
   "cell_type": "code",
   "execution_count": 55,
   "id": "55335a1a-fca0-45d1-a024-ef7f8dde7df9",
   "metadata": {},
   "outputs": [],
   "source": [
    "def outerfunction(): #function within function\n",
    "    innerfunction()"
   ]
  },
  {
   "cell_type": "code",
   "execution_count": 54,
   "id": "5cc2b422-52f1-4155-a419-93f153cc43ba",
   "metadata": {},
   "outputs": [
    {
     "name": "stdout",
     "output_type": "stream",
     "text": [
      "innerfunction\n"
     ]
    }
   ],
   "source": [
    "outerfunction()"
   ]
  },
  {
   "cell_type": "code",
   "execution_count": 56,
   "id": "25ba9eb1-fae7-474b-8586-ff004002e91e",
   "metadata": {},
   "outputs": [],
   "source": [
    "def addf():\n",
    "    print(\"add=\",7+8)"
   ]
  },
  {
   "cell_type": "code",
   "execution_count": 57,
   "id": "1722b016-dd6b-42ec-a456-012ebda896e2",
   "metadata": {},
   "outputs": [
    {
     "name": "stdout",
     "output_type": "stream",
     "text": [
      "add= 15\n"
     ]
    }
   ],
   "source": [
    "addf()"
   ]
  },
  {
   "cell_type": "code",
   "execution_count": 59,
   "id": "650520f3-0c59-4055-bec9-35663485c94f",
   "metadata": {},
   "outputs": [],
   "source": [
    "def subtractf():\n",
    "    print(\"subtract=\",20-5)"
   ]
  },
  {
   "cell_type": "code",
   "execution_count": 60,
   "id": "d96a54fd-84d6-4129-99e4-45bc385f2293",
   "metadata": {},
   "outputs": [
    {
     "name": "stdout",
     "output_type": "stream",
     "text": [
      "subtract= 15\n"
     ]
    }
   ],
   "source": [
    "subtractf()"
   ]
  },
  {
   "cell_type": "code",
   "execution_count": 61,
   "id": "ddae4e52-bd6c-4915-b5c9-88724054de96",
   "metadata": {},
   "outputs": [],
   "source": [
    "def calculater():\n",
    "    addf()\n",
    "    subtractf()"
   ]
  },
  {
   "cell_type": "code",
   "execution_count": 62,
   "id": "c29b34ea-103c-4850-a3bb-71d425054af7",
   "metadata": {},
   "outputs": [
    {
     "name": "stdout",
     "output_type": "stream",
     "text": [
      "add= 15\n",
      "subtract= 15\n"
     ]
    }
   ],
   "source": [
    "calculater()"
   ]
  },
  {
   "cell_type": "code",
   "execution_count": 65,
   "id": "00d8fdc4-cee3-4f4b-9b84-e0fe89902ef3",
   "metadata": {},
   "outputs": [],
   "source": [
    "def addf():\n",
    "    return 7+8"
   ]
  },
  {
   "cell_type": "code",
   "execution_count": 66,
   "id": "03f1503a-9745-4267-b4a2-549178db919c",
   "metadata": {},
   "outputs": [
    {
     "data": {
      "text/plain": [
       "15"
      ]
     },
     "execution_count": 66,
     "metadata": {},
     "output_type": "execute_result"
    }
   ],
   "source": [
    "addf()"
   ]
  },
  {
   "cell_type": "code",
   "execution_count": 72,
   "id": "8822a220-f77e-4ccd-b13e-3795f14b6253",
   "metadata": {},
   "outputs": [],
   "source": [
    "def subtractf():\n",
    "    return 200-5"
   ]
  },
  {
   "cell_type": "code",
   "execution_count": 73,
   "id": "46edae5f-d0fe-4708-90c4-7038ca87faf4",
   "metadata": {},
   "outputs": [
    {
     "data": {
      "text/plain": [
       "195"
      ]
     },
     "execution_count": 73,
     "metadata": {},
     "output_type": "execute_result"
    }
   ],
   "source": [
    "subtractf()"
   ]
  },
  {
   "cell_type": "code",
   "execution_count": 74,
   "id": "77e6330a-60b4-437d-8143-c7708feef226",
   "metadata": {},
   "outputs": [],
   "source": [
    "def calculater():\n",
    "    a=addf()\n",
    "    print(a)\n",
    "    b=subtractf()\n",
    "    print(b)"
   ]
  },
  {
   "cell_type": "code",
   "execution_count": 75,
   "id": "9a4a942c-6382-461c-abf7-a4f3820287d7",
   "metadata": {},
   "outputs": [
    {
     "name": "stdout",
     "output_type": "stream",
     "text": [
      "15\n",
      "195\n"
     ]
    }
   ],
   "source": [
    "calculater()"
   ]
  },
  {
   "cell_type": "markdown",
   "id": "2f1303ad-8d1a-44e7-b192-59677261113e",
   "metadata": {},
   "source": [
    "ANONYMOUS FUNCTIONS"
   ]
  },
  {
   "cell_type": "markdown",
   "id": "9b1df630-5314-4c23-a7b5-dfe1d9e9315f",
   "metadata": {},
   "source": [
    "#refvar=lambda var:expression"
   ]
  },
  {
   "cell_type": "code",
   "execution_count": 21,
   "id": "e5692fef-56a0-435d-bd3d-fbe43e41bff3",
   "metadata": {},
   "outputs": [],
   "source": [
    "p=lambda a:a+2"
   ]
  },
  {
   "cell_type": "code",
   "execution_count": 22,
   "id": "f3c70e1c-046e-4941-a475-2a151fdf1147",
   "metadata": {},
   "outputs": [
    {
     "data": {
      "text/plain": [
       "6"
      ]
     },
     "execution_count": 22,
     "metadata": {},
     "output_type": "execute_result"
    }
   ],
   "source": [
    "p(4)"
   ]
  },
  {
   "cell_type": "code",
   "execution_count": 23,
   "id": "9adb41a9-bb5e-471f-a3b2-0113f6e50309",
   "metadata": {},
   "outputs": [
    {
     "data": {
      "text/plain": [
       "12"
      ]
     },
     "execution_count": 23,
     "metadata": {},
     "output_type": "execute_result"
    }
   ],
   "source": [
    "p(10)"
   ]
  },
  {
   "cell_type": "code",
   "execution_count": 28,
   "id": "9c6688d6-363c-400b-82d8-34e3f468d621",
   "metadata": {},
   "outputs": [],
   "source": [
    "k=lambda b:b-4"
   ]
  },
  {
   "cell_type": "code",
   "execution_count": 30,
   "id": "3408270a-b36b-4a6d-b175-450289684867",
   "metadata": {},
   "outputs": [
    {
     "data": {
      "text/plain": [
       "16"
      ]
     },
     "execution_count": 30,
     "metadata": {},
     "output_type": "execute_result"
    }
   ],
   "source": [
    "k(20)"
   ]
  },
  {
   "cell_type": "code",
   "execution_count": 31,
   "id": "b06e0f44-9372-4146-bddc-588b3afa2cd8",
   "metadata": {},
   "outputs": [
    {
     "data": {
      "text/plain": [
       "86"
      ]
     },
     "execution_count": 31,
     "metadata": {},
     "output_type": "execute_result"
    }
   ],
   "source": [
    "k(90)"
   ]
  },
  {
   "cell_type": "code",
   "execution_count": 32,
   "id": "0e2546a5-310a-4d71-bef5-616b2df84955",
   "metadata": {},
   "outputs": [],
   "source": [
    "j=lambda c:c**2"
   ]
  },
  {
   "cell_type": "code",
   "execution_count": 33,
   "id": "1073436c-9881-43ac-803b-55a68bd9f8fb",
   "metadata": {},
   "outputs": [
    {
     "data": {
      "text/plain": [
       "25"
      ]
     },
     "execution_count": 33,
     "metadata": {},
     "output_type": "execute_result"
    }
   ],
   "source": [
    "j(5)"
   ]
  },
  {
   "cell_type": "code",
   "execution_count": 34,
   "id": "4d2f6725-6da9-4b13-a2be-0597d422681a",
   "metadata": {},
   "outputs": [
    {
     "data": {
      "text/plain": [
       "49"
      ]
     },
     "execution_count": 34,
     "metadata": {},
     "output_type": "execute_result"
    }
   ],
   "source": [
    "j(7)"
   ]
  },
  {
   "cell_type": "code",
   "execution_count": 35,
   "id": "311fa94c-731e-4604-af02-24572b75ea35",
   "metadata": {},
   "outputs": [],
   "source": [
    "j=lambda c:c**3"
   ]
  },
  {
   "cell_type": "code",
   "execution_count": 36,
   "id": "bb5f51cd-f74f-488b-aad6-724701f6a786",
   "metadata": {},
   "outputs": [
    {
     "data": {
      "text/plain": [
       "125"
      ]
     },
     "execution_count": 36,
     "metadata": {},
     "output_type": "execute_result"
    }
   ],
   "source": [
    "j(5)"
   ]
  },
  {
   "cell_type": "code",
   "execution_count": 37,
   "id": "5625c6ba-ade1-4cb1-959e-cdf6ca54dc87",
   "metadata": {},
   "outputs": [
    {
     "data": {
      "text/plain": [
       "343"
      ]
     },
     "execution_count": 37,
     "metadata": {},
     "output_type": "execute_result"
    }
   ],
   "source": [
    "j(7)"
   ]
  },
  {
   "cell_type": "code",
   "execution_count": 38,
   "id": "3da48170-e89a-41e0-b027-49236d594801",
   "metadata": {},
   "outputs": [
    {
     "data": {
      "text/plain": [
       "512"
      ]
     },
     "execution_count": 38,
     "metadata": {},
     "output_type": "execute_result"
    }
   ],
   "source": [
    "j(8)"
   ]
  },
  {
   "cell_type": "code",
   "execution_count": 40,
   "id": "14ab81e0-8071-44b3-9562-efec19004d01",
   "metadata": {},
   "outputs": [],
   "source": [
    "m=lambda k,h:k+h"
   ]
  },
  {
   "cell_type": "code",
   "execution_count": 41,
   "id": "0eb15153-9c76-436f-bbf2-c6b0557256b9",
   "metadata": {},
   "outputs": [
    {
     "data": {
      "text/plain": [
       "30"
      ]
     },
     "execution_count": 41,
     "metadata": {},
     "output_type": "execute_result"
    }
   ],
   "source": [
    "m(10,20)"
   ]
  },
  {
   "cell_type": "code",
   "execution_count": 42,
   "id": "18833ea5-9316-4fed-a5d7-ef73f168e3d0",
   "metadata": {},
   "outputs": [
    {
     "data": {
      "text/plain": [
       "150"
      ]
     },
     "execution_count": 42,
     "metadata": {},
     "output_type": "execute_result"
    }
   ],
   "source": [
    "m(60,90)"
   ]
  },
  {
   "cell_type": "code",
   "execution_count": 43,
   "id": "2a3f2188-2afb-452e-8ee9-a4d72e948c4f",
   "metadata": {},
   "outputs": [],
   "source": [
    "r=lambda radius:3.14*(radius**2)"
   ]
  },
  {
   "cell_type": "code",
   "execution_count": 44,
   "id": "55469b9b-7ee2-4fa8-9b73-06662554b2e3",
   "metadata": {},
   "outputs": [
    {
     "data": {
      "text/plain": [
       "19596.74"
      ]
     },
     "execution_count": 44,
     "metadata": {},
     "output_type": "execute_result"
    }
   ],
   "source": [
    "r(79)"
   ]
  },
  {
   "cell_type": "code",
   "execution_count": 45,
   "id": "3694e3e9-e11f-4a49-b231-4d7073ea6d77",
   "metadata": {},
   "outputs": [
    {
     "data": {
      "text/plain": [
       "1661.0600000000002"
      ]
     },
     "execution_count": 45,
     "metadata": {},
     "output_type": "execute_result"
    }
   ],
   "source": [
    "r(23)"
   ]
  },
  {
   "cell_type": "code",
   "execution_count": 47,
   "id": "3c954fe5-ea39-4a26-a804-36246e3d76ee",
   "metadata": {},
   "outputs": [
    {
     "data": {
      "text/plain": [
       "[12, 22, 32, 42]"
      ]
     },
     "execution_count": 47,
     "metadata": {},
     "output_type": "execute_result"
    }
   ],
   "source": [
    "list1=[10,20,30,40]\n",
    "\n",
    "list(map(lambda b:b+2,list1))"
   ]
  },
  {
   "cell_type": "code",
   "execution_count": 48,
   "id": "e0beeed8-31f8-4f18-8a9f-be3b9c41b7dd",
   "metadata": {},
   "outputs": [
    {
     "data": {
      "text/plain": [
       "[9, 16, 25, 36, 49]"
      ]
     },
     "execution_count": 48,
     "metadata": {},
     "output_type": "execute_result"
    }
   ],
   "source": [
    "list1=(3,4,5,6,7)\n",
    "\n",
    "list(map(lambda b:b**2,list1))"
   ]
  },
  {
   "cell_type": "code",
   "execution_count": 49,
   "id": "80443459-68b4-4e3d-86ad-882155160b73",
   "metadata": {},
   "outputs": [
    {
     "data": {
      "text/plain": [
       "[3, 4, 5, 6, 7]"
      ]
     },
     "execution_count": 49,
     "metadata": {},
     "output_type": "execute_result"
    }
   ],
   "source": [
    "mylist=[1,2,3,4,5,6,7]\n",
    "\n",
    "list(filter(lambda x : x > 2 , mylist))"
   ]
  },
  {
   "cell_type": "code",
   "execution_count": 50,
   "id": "ae92dfee-24fd-4e47-9a1e-6b1a733b3864",
   "metadata": {},
   "outputs": [
    {
     "data": {
      "text/plain": [
       "[2, 4, 6, 8, 10]"
      ]
     },
     "execution_count": 50,
     "metadata": {},
     "output_type": "execute_result"
    }
   ],
   "source": [
    "even = lambda x: x%2 == 0\n",
    "list(filter(even, range(2,11)))"
   ]
  },
  {
   "cell_type": "code",
   "execution_count": 109,
   "id": "dc0b4b58-eaa9-4a30-a95e-9c30dcbfcbca",
   "metadata": {},
   "outputs": [
    {
     "data": {
      "text/plain": [
       "16"
      ]
     },
     "execution_count": 109,
     "metadata": {},
     "output_type": "execute_result"
    }
   ],
   "source": [
    "#find square\n",
    "square = lambda x:x**2\n",
    "square(4)"
   ]
  },
  {
   "cell_type": "code",
   "execution_count": 110,
   "id": "9e46e6e0-3697-4460-9c8d-c97c4c43f9db",
   "metadata": {},
   "outputs": [
    {
     "data": {
      "text/plain": [
       "8.0"
      ]
     },
     "execution_count": 110,
     "metadata": {},
     "output_type": "execute_result"
    }
   ],
   "source": [
    "#find squareroot\n",
    "sqroot=lambda x:x**(1/2)\n",
    "sqroot(64)"
   ]
  },
  {
   "cell_type": "code",
   "execution_count": 111,
   "id": "4ca8d159-5dc5-41c5-961f-caf04f6ca110",
   "metadata": {},
   "outputs": [
    {
     "data": {
      "text/plain": [
       "5.0"
      ]
     },
     "execution_count": 111,
     "metadata": {},
     "output_type": "execute_result"
    }
   ],
   "source": [
    "sqroot(25)"
   ]
  },
  {
   "cell_type": "code",
   "execution_count": 112,
   "id": "c31380ee-7123-4bb7-9111-5a1e7634a75f",
   "metadata": {},
   "outputs": [
    {
     "data": {
      "text/plain": [
       "64"
      ]
     },
     "execution_count": 112,
     "metadata": {},
     "output_type": "execute_result"
    }
   ],
   "source": [
    "#find cube\n",
    "cube=lambda x:x**3\n",
    "cube(4)"
   ]
  },
  {
   "cell_type": "code",
   "execution_count": 113,
   "id": "fb46d496-1da5-4a57-a9d1-0bbc4b852f45",
   "metadata": {},
   "outputs": [
    {
     "data": {
      "text/plain": [
       "3.0"
      ]
     },
     "execution_count": 113,
     "metadata": {},
     "output_type": "execute_result"
    }
   ],
   "source": [
    "#find cuberoot\n",
    "cbroot=lambda x:x**(1/3)\n",
    "cbroot(27)"
   ]
  },
  {
   "cell_type": "markdown",
   "id": "f8b310f6-b947-4475-84c7-6bf2717f1d13",
   "metadata": {},
   "source": [
    "args and kwargs"
   ]
  },
  {
   "cell_type": "code",
   "execution_count": 62,
   "id": "f571aff0-e0af-4c46-bdb0-137b268cb8ec",
   "metadata": {},
   "outputs": [
    {
     "name": "stdout",
     "output_type": "stream",
     "text": [
      "6\n"
     ]
    }
   ],
   "source": [
    "def my_sum(*args):\n",
    "    result = 0\n",
    "    # Iterating over the python args\n",
    "    for x in args:\n",
    "        result += x\n",
    "    return result\n",
    "\n",
    "print(my_sum(1,2,3))"
   ]
  },
  {
   "cell_type": "code",
   "execution_count": 63,
   "id": "ae85570e-36e7-4db3-92d6-364d0924789a",
   "metadata": {},
   "outputs": [
    {
     "name": "stdout",
     "output_type": "stream",
     "text": [
      "10\n"
     ]
    }
   ],
   "source": [
    "print(my_sum(1,2,3,4))"
   ]
  },
  {
   "cell_type": "code",
   "execution_count": 54,
   "id": "c0fee609-d8bd-45c9-a231-b0c733c7508c",
   "metadata": {},
   "outputs": [
    {
     "name": "stdout",
     "output_type": "stream",
     "text": [
      "15\n"
     ]
    }
   ],
   "source": [
    "print(my_sum(1,2,3,4,5))"
   ]
  },
  {
   "cell_type": "code",
   "execution_count": 87,
   "id": "858f26c8-7364-4b7a-875a-1ccf85ef51bc",
   "metadata": {},
   "outputs": [
    {
     "name": "stdout",
     "output_type": "stream",
     "text": [
      "0\n"
     ]
    }
   ],
   "source": [
    "def my_subtractfunc(*args):\n",
    "    result = 0\n",
    "    for x in args:\n",
    "        result *= x\n",
    "        return result\n",
    "\n",
    "print(my_subtractfunc(1,2,3))"
   ]
  },
  {
   "cell_type": "code",
   "execution_count": 75,
   "id": "d93b2925-d83e-4bb5-a70d-92c7e38550d0",
   "metadata": {},
   "outputs": [],
   "source": [
    "#s=s+n  for s+=n\n",
    "def sumfunc(*numbers):\n",
    "    s=0\n",
    "    for n in numbers:\n",
    "        s+=n\n",
    "    return s"
   ]
  },
  {
   "cell_type": "code",
   "execution_count": 77,
   "id": "99c661fa-1896-44c2-8dc5-25f15608df80",
   "metadata": {},
   "outputs": [
    {
     "name": "stdout",
     "output_type": "stream",
     "text": [
      "3\n"
     ]
    }
   ],
   "source": [
    "print(sumfunc(1,2))"
   ]
  },
  {
   "cell_type": "code",
   "execution_count": 78,
   "id": "dc27c718-8721-40b0-be54-21b0795f31ec",
   "metadata": {},
   "outputs": [
    {
     "name": "stdout",
     "output_type": "stream",
     "text": [
      "6\n"
     ]
    }
   ],
   "source": [
    "print(sumfunc(1,2,3))"
   ]
  },
  {
   "cell_type": "code",
   "execution_count": 79,
   "id": "588a88e0-beb5-4788-ba3f-c63afef34055",
   "metadata": {},
   "outputs": [
    {
     "name": "stdout",
     "output_type": "stream",
     "text": [
      "10\n"
     ]
    }
   ],
   "source": [
    "print(sumfunc(1,2,3,4))"
   ]
  },
  {
   "cell_type": "code",
   "execution_count": 85,
   "id": "6b198c74-e495-4015-8c0e-1ec6f54af1dc",
   "metadata": {},
   "outputs": [
    {
     "name": "stdout",
     "output_type": "stream",
     "text": [
      "5\n",
      "10\n",
      "17\n",
      "26\n"
     ]
    }
   ],
   "source": [
    "def add(*numbers):\n",
    "    total = 0\n",
    "    for num in numbers:\n",
    "        total += num\n",
    "    return total\n",
    "\n",
    "print(add(2,3))\n",
    "print(add(2,3,5))\n",
    "print(add(2,3,5,7))\n",
    "print(add(2,3,5,7,9))"
   ]
  },
  {
   "cell_type": "markdown",
   "id": "2e300dca-87e3-447d-8be5-d129f8bb112a",
   "metadata": {},
   "source": [
    "kwargs works just like *args but instead of accepating positinal argumentsi= it accepts keywords (or named) arguments. \n",
    "\n",
    "take the following example."
   ]
  },
  {
   "cell_type": "code",
   "execution_count": 123,
   "id": "b32bce18-d4e7-4dca-9478-ee526b6102e7",
   "metadata": {},
   "outputs": [],
   "source": [
    "def concatenate(**kwargs):\n",
    "    result = \"\"\n",
    "#Iterating over the python kwargs dictionary\n",
    "    for arg in kwargs.values():\n",
    "        result += arg\n",
    "    return result"
   ]
  },
  {
   "cell_type": "code",
   "execution_count": 120,
   "id": "d2adb8c3-7d1b-49a2-84db-b388600c00a6",
   "metadata": {},
   "outputs": [
    {
     "name": "stdout",
     "output_type": "stream",
     "text": [
      "Python LanguageIsGreat!\n"
     ]
    }
   ],
   "source": [
    "print(concatenate(a=\"Python \", b=\"Language\", c=\"Is\", d=\"Great\", e=\"!\"))"
   ]
  },
  {
   "cell_type": "code",
   "execution_count": 121,
   "id": "a5126235-780a-4fb4-9089-aa96877926ef",
   "metadata": {},
   "outputs": [],
   "source": [
    "def concatenate(**words):\n",
    "    result = \"\"\n",
    "    for arg in words.values():\n",
    "        result += arg\n",
    "    return result"
   ]
  },
  {
   "cell_type": "code",
   "execution_count": 122,
   "id": "2b1e8f8d-b8c4-4557-89bb-181271ea78f6",
   "metadata": {},
   "outputs": [
    {
     "name": "stdout",
     "output_type": "stream",
     "text": [
      "Python Language Is Great ! \n"
     ]
    }
   ],
   "source": [
    "print(concatenate(a=\"Python \", b=\"Language \", c=\"Is \", d=\"Great \", e=\"! \"))"
   ]
  },
  {
   "cell_type": "code",
   "execution_count": 127,
   "id": "c6ae1281-c3d4-41d0-bbcd-cfcce5f87f77",
   "metadata": {},
   "outputs": [],
   "source": [
    "def concatenate(**kwargs):\n",
    "    result = \"\"\n",
    "    for arg in kwargs:\n",
    "        result += arg\n",
    "        return result"
   ]
  },
  {
   "cell_type": "code",
   "execution_count": 128,
   "id": "895c668b-cff7-415b-97cc-c74d81c2673c",
   "metadata": {},
   "outputs": [
    {
     "name": "stdout",
     "output_type": "stream",
     "text": [
      "a\n"
     ]
    }
   ],
   "source": [
    "print(concatenate(a=\"Real\", b=\"Python\", c=\"Is\", d=\"Great\", e=\"!\"))"
   ]
  },
  {
   "cell_type": "code",
   "execution_count": null,
   "id": "15cce5b3-807d-40aa-b519-e6b817027d34",
   "metadata": {},
   "outputs": [],
   "source": []
  },
  {
   "cell_type": "code",
   "execution_count": null,
   "id": "c2df6f47-089a-4e6c-9d4f-1ec20aadfa0d",
   "metadata": {},
   "outputs": [],
   "source": []
  }
 ],
 "metadata": {
  "kernelspec": {
   "display_name": "Python 3 (ipykernel)",
   "language": "python",
   "name": "python3"
  },
  "language_info": {
   "codemirror_mode": {
    "name": "ipython",
    "version": 3
   },
   "file_extension": ".py",
   "mimetype": "text/x-python",
   "name": "python",
   "nbconvert_exporter": "python",
   "pygments_lexer": "ipython3",
   "version": "3.11.7"
  }
 },
 "nbformat": 4,
 "nbformat_minor": 5
}
