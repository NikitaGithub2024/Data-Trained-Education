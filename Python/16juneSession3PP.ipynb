{
 "cells": [
  {
   "cell_type": "markdown",
   "id": "14214d62-cc1c-4dc5-af79-88d60c4f9795",
   "metadata": {},
   "source": [
    "Data Structures \n",
    "\n",
    "Tuples"
   ]
  },
  {
   "cell_type": "code",
   "execution_count": 1,
   "id": "b5de5014-3255-4488-b2ca-832c1551d347",
   "metadata": {},
   "outputs": [],
   "source": [
    "#tuples\n",
    "\n",
    "t1=()"
   ]
  },
  {
   "cell_type": "code",
   "execution_count": 2,
   "id": "68a69ffd-336a-4f90-bdc6-88873d166b9b",
   "metadata": {},
   "outputs": [
    {
     "data": {
      "text/plain": [
       "()"
      ]
     },
     "execution_count": 2,
     "metadata": {},
     "output_type": "execute_result"
    }
   ],
   "source": [
    "t1"
   ]
  },
  {
   "cell_type": "code",
   "execution_count": 3,
   "id": "7e3b4b32-6a3a-472b-b97e-29521d565836",
   "metadata": {},
   "outputs": [],
   "source": [
    "t2=(1,2,3,4,5)"
   ]
  },
  {
   "cell_type": "code",
   "execution_count": 4,
   "id": "407a59b3-0ee9-49bb-842f-14920da00662",
   "metadata": {},
   "outputs": [
    {
     "data": {
      "text/plain": [
       "(1, 2, 3, 4, 5)"
      ]
     },
     "execution_count": 4,
     "metadata": {},
     "output_type": "execute_result"
    }
   ],
   "source": [
    "t2"
   ]
  },
  {
   "cell_type": "code",
   "execution_count": 15,
   "id": "8f4b77a7-5547-43bb-81f1-a30101951458",
   "metadata": {},
   "outputs": [],
   "source": [
    "t3=(444,55,77,34,23,87,98)"
   ]
  },
  {
   "cell_type": "code",
   "execution_count": 10,
   "id": "4dfaa16f-7fd5-4447-8c19-42caf49ddf32",
   "metadata": {},
   "outputs": [
    {
     "data": {
      "text/plain": [
       "(444, 55, 77, 34, 23, 87, 98)"
      ]
     },
     "execution_count": 10,
     "metadata": {},
     "output_type": "execute_result"
    }
   ],
   "source": [
    "t3"
   ]
  },
  {
   "cell_type": "code",
   "execution_count": 16,
   "id": "bfcbd9d7-12ea-42a6-8c73-943872f094af",
   "metadata": {},
   "outputs": [
    {
     "data": {
      "text/plain": [
       "444"
      ]
     },
     "execution_count": 16,
     "metadata": {},
     "output_type": "execute_result"
    }
   ],
   "source": [
    "t3[0]"
   ]
  },
  {
   "cell_type": "code",
   "execution_count": 25,
   "id": "15f3577f-bc84-44e4-8cc1-364a6ad46e81",
   "metadata": {},
   "outputs": [
    {
     "data": {
      "text/plain": [
       "55"
      ]
     },
     "execution_count": 25,
     "metadata": {},
     "output_type": "execute_result"
    }
   ],
   "source": [
    "#positive indexing\n",
    "\n",
    "t3[1]"
   ]
  },
  {
   "cell_type": "code",
   "execution_count": 19,
   "id": "f3296727-e9f7-4656-9976-53a36bdc9a2e",
   "metadata": {},
   "outputs": [
    {
     "data": {
      "text/plain": [
       "98"
      ]
     },
     "execution_count": 19,
     "metadata": {},
     "output_type": "execute_result"
    }
   ],
   "source": [
    "t3[6]"
   ]
  },
  {
   "cell_type": "code",
   "execution_count": 20,
   "id": "56278261-3c22-4218-93d4-cf21754aed53",
   "metadata": {},
   "outputs": [
    {
     "data": {
      "text/plain": [
       "(55, 77, 34)"
      ]
     },
     "execution_count": 20,
     "metadata": {},
     "output_type": "execute_result"
    }
   ],
   "source": [
    "t3[1:4]"
   ]
  },
  {
   "cell_type": "code",
   "execution_count": 21,
   "id": "6333b7b7-7d10-4eae-ba0e-3e8338113046",
   "metadata": {},
   "outputs": [
    {
     "data": {
      "text/plain": [
       "(77, 34, 23, 87)"
      ]
     },
     "execution_count": 21,
     "metadata": {},
     "output_type": "execute_result"
    }
   ],
   "source": [
    "t3[2:6]"
   ]
  },
  {
   "cell_type": "code",
   "execution_count": 24,
   "id": "7a26e5cb-e122-4432-9c74-af897bc4afbd",
   "metadata": {},
   "outputs": [
    {
     "data": {
      "text/plain": [
       "98"
      ]
     },
     "execution_count": 24,
     "metadata": {},
     "output_type": "execute_result"
    }
   ],
   "source": [
    "#negative indexing\n",
    "\n",
    "t3[-1]"
   ]
  },
  {
   "cell_type": "code",
   "execution_count": 23,
   "id": "6dd87248-90da-4991-b73d-ea84ae76f8f6",
   "metadata": {},
   "outputs": [
    {
     "data": {
      "text/plain": [
       "(23, 87)"
      ]
     },
     "execution_count": 23,
     "metadata": {},
     "output_type": "execute_result"
    }
   ],
   "source": [
    "t3[-3:-1]"
   ]
  },
  {
   "cell_type": "code",
   "execution_count": 26,
   "id": "b4380b7b-28b3-4e40-bd78-f6a618a39aec",
   "metadata": {},
   "outputs": [
    {
     "data": {
      "text/plain": [
       "(444, 55, 77, 34, 23, 87, 98)"
      ]
     },
     "execution_count": 26,
     "metadata": {},
     "output_type": "execute_result"
    }
   ],
   "source": [
    "t3"
   ]
  },
  {
   "cell_type": "code",
   "execution_count": 27,
   "id": "75eca487-0239-4e60-97a8-1bef93d6b45f",
   "metadata": {},
   "outputs": [
    {
     "data": {
      "text/plain": [
       "77"
      ]
     },
     "execution_count": 27,
     "metadata": {},
     "output_type": "execute_result"
    }
   ],
   "source": [
    "t3[2]"
   ]
  },
  {
   "cell_type": "code",
   "execution_count": 29,
   "id": "6dad41ca-e547-4304-a6b3-811dd350cc98",
   "metadata": {},
   "outputs": [
    {
     "ename": "TypeError",
     "evalue": "'tuple' object does not support item assignment",
     "output_type": "error",
     "traceback": [
      "\u001b[1;31m---------------------------------------------------------------------------\u001b[0m",
      "\u001b[1;31mTypeError\u001b[0m                                 Traceback (most recent call last)",
      "Cell \u001b[1;32mIn[29], line 1\u001b[0m\n\u001b[1;32m----> 1\u001b[0m t3[\u001b[38;5;241m2\u001b[39m]\u001b[38;5;241m=\u001b[39m\u001b[38;5;241m655\u001b[39m\n",
      "\u001b[1;31mTypeError\u001b[0m: 'tuple' object does not support item assignment"
     ]
    }
   ],
   "source": [
    "t3[2]=655    #tuples are immutable"
   ]
  },
  {
   "cell_type": "markdown",
   "id": "201b6846-ad8c-4553-a4ed-732660536b77",
   "metadata": {},
   "source": [
    "Data Structures   \n",
    "\n",
    "Dictionary"
   ]
  },
  {
   "cell_type": "code",
   "execution_count": 30,
   "id": "306faf75-cf5f-4001-b267-568a55155c57",
   "metadata": {},
   "outputs": [],
   "source": [
    "#D={key1:value1,key2:value2,key3:value3}\n",
    "\n",
    "d1={'Eno': 101, 'Name': 'Jack', 'Age': 30} "
   ]
  },
  {
   "cell_type": "code",
   "execution_count": 31,
   "id": "2130c6fe-6ead-4d40-a674-1df5f9f18fba",
   "metadata": {},
   "outputs": [
    {
     "data": {
      "text/plain": [
       "{'Eno': 101, 'Name': 'Jack', 'Age': 30}"
      ]
     },
     "execution_count": 31,
     "metadata": {},
     "output_type": "execute_result"
    }
   ],
   "source": [
    "d1"
   ]
  },
  {
   "cell_type": "code",
   "execution_count": 33,
   "id": "4ceb2a26-6d9c-487c-bb07-077e355a2e60",
   "metadata": {},
   "outputs": [
    {
     "data": {
      "text/plain": [
       "dict_keys(['Eno', 'Name', 'Age'])"
      ]
     },
     "execution_count": 33,
     "metadata": {},
     "output_type": "execute_result"
    }
   ],
   "source": [
    "d1.keys()"
   ]
  },
  {
   "cell_type": "code",
   "execution_count": 34,
   "id": "b32cab80-981d-4533-bf39-cb980912558b",
   "metadata": {},
   "outputs": [
    {
     "data": {
      "text/plain": [
       "dict_values([101, 'Jack', 30])"
      ]
     },
     "execution_count": 34,
     "metadata": {},
     "output_type": "execute_result"
    }
   ],
   "source": [
    "d1.values()"
   ]
  },
  {
   "cell_type": "code",
   "execution_count": 35,
   "id": "d4011bf5-d6fc-40d5-a8bc-1fd5e132d932",
   "metadata": {},
   "outputs": [
    {
     "data": {
      "text/plain": [
       "dict_items([('Eno', 101), ('Name', 'Jack'), ('Age', 30)])"
      ]
     },
     "execution_count": 35,
     "metadata": {},
     "output_type": "execute_result"
    }
   ],
   "source": [
    "d1.items()"
   ]
  },
  {
   "cell_type": "code",
   "execution_count": 36,
   "id": "f94999b6-9dac-4f6a-b504-51b13c17634b",
   "metadata": {},
   "outputs": [
    {
     "data": {
      "text/plain": [
       "{'Eno': 101, 'Name': 'Jack', 'Age': 30}"
      ]
     },
     "execution_count": 36,
     "metadata": {},
     "output_type": "execute_result"
    }
   ],
   "source": [
    "d1"
   ]
  },
  {
   "cell_type": "code",
   "execution_count": 37,
   "id": "fa515273-bbad-4681-a791-e396acf74254",
   "metadata": {},
   "outputs": [
    {
     "data": {
      "text/plain": [
       "101"
      ]
     },
     "execution_count": 37,
     "metadata": {},
     "output_type": "execute_result"
    }
   ],
   "source": [
    "d1['Eno']"
   ]
  },
  {
   "cell_type": "code",
   "execution_count": 38,
   "id": "353b6791-8e94-4827-baa9-9f7e8fd152dc",
   "metadata": {},
   "outputs": [
    {
     "data": {
      "text/plain": [
       "'Jack'"
      ]
     },
     "execution_count": 38,
     "metadata": {},
     "output_type": "execute_result"
    }
   ],
   "source": [
    "d1['Name']"
   ]
  },
  {
   "cell_type": "code",
   "execution_count": 39,
   "id": "cd140a12-8504-41ef-bb9f-cd6c75686c60",
   "metadata": {},
   "outputs": [
    {
     "data": {
      "text/plain": [
       "30"
      ]
     },
     "execution_count": 39,
     "metadata": {},
     "output_type": "execute_result"
    }
   ],
   "source": [
    "d1['Age']"
   ]
  },
  {
   "cell_type": "code",
   "execution_count": 40,
   "id": "70da1a0c-bda3-4199-ab50-c9cdc600c40b",
   "metadata": {},
   "outputs": [
    {
     "data": {
      "text/plain": [
       "{'Eno': 101, 'Name': 'Jack', 'Age': 30}"
      ]
     },
     "execution_count": 40,
     "metadata": {},
     "output_type": "execute_result"
    }
   ],
   "source": [
    "d1"
   ]
  },
  {
   "cell_type": "code",
   "execution_count": 41,
   "id": "9eee2223-050a-4dca-af43-66655a4504e9",
   "metadata": {},
   "outputs": [],
   "source": [
    "#D.update({key;value})\n",
    "\n",
    "d1.update({'Salary': 685585})"
   ]
  },
  {
   "cell_type": "code",
   "execution_count": 42,
   "id": "3e5b850a-eb47-4af3-9ccc-a8bef7847a5b",
   "metadata": {},
   "outputs": [
    {
     "data": {
      "text/plain": [
       "{'Eno': 101, 'Name': 'Jack', 'Age': 30, 'Salary': 685585}"
      ]
     },
     "execution_count": 42,
     "metadata": {},
     "output_type": "execute_result"
    }
   ],
   "source": [
    "d1"
   ]
  },
  {
   "cell_type": "code",
   "execution_count": 43,
   "id": "2fc9d371-d61e-47e9-a6ec-7570f39e6b18",
   "metadata": {},
   "outputs": [
    {
     "data": {
      "text/plain": [
       "30"
      ]
     },
     "execution_count": 43,
     "metadata": {},
     "output_type": "execute_result"
    }
   ],
   "source": [
    "d1['Age']"
   ]
  },
  {
   "cell_type": "code",
   "execution_count": 45,
   "id": "c32c0600-2f92-48ba-8332-ce3c5d16815b",
   "metadata": {},
   "outputs": [],
   "source": [
    "d1['Age']=36"
   ]
  },
  {
   "cell_type": "code",
   "execution_count": 46,
   "id": "251282ae-6ad2-409c-be87-f1844d7a39c7",
   "metadata": {},
   "outputs": [
    {
     "data": {
      "text/plain": [
       "{'Eno': 101, 'Name': 'Jack', 'Age': 36, 'Salary': 685585}"
      ]
     },
     "execution_count": 46,
     "metadata": {},
     "output_type": "execute_result"
    }
   ],
   "source": [
    "d1"
   ]
  },
  {
   "cell_type": "code",
   "execution_count": 47,
   "id": "9dd9b069-2980-43ee-a9b6-7089707502c1",
   "metadata": {},
   "outputs": [
    {
     "data": {
      "text/plain": [
       "685585"
      ]
     },
     "execution_count": 47,
     "metadata": {},
     "output_type": "execute_result"
    }
   ],
   "source": [
    "d1.pop('Salary')"
   ]
  },
  {
   "cell_type": "code",
   "execution_count": 48,
   "id": "a91a965b-8313-45af-829d-ba4247917991",
   "metadata": {},
   "outputs": [
    {
     "data": {
      "text/plain": [
       "{'Eno': 101, 'Name': 'Jack', 'Age': 36}"
      ]
     },
     "execution_count": 48,
     "metadata": {},
     "output_type": "execute_result"
    }
   ],
   "source": [
    "d1"
   ]
  },
  {
   "cell_type": "code",
   "execution_count": 49,
   "id": "60710859-5ed2-4908-9bea-7ac2a151ad40",
   "metadata": {},
   "outputs": [],
   "source": [
    "del d1"
   ]
  },
  {
   "cell_type": "code",
   "execution_count": 50,
   "id": "8c4096fe-43d5-4b1c-a973-d00c0923fd0e",
   "metadata": {},
   "outputs": [
    {
     "ename": "NameError",
     "evalue": "name 'd1' is not defined",
     "output_type": "error",
     "traceback": [
      "\u001b[1;31m---------------------------------------------------------------------------\u001b[0m",
      "\u001b[1;31mNameError\u001b[0m                                 Traceback (most recent call last)",
      "Cell \u001b[1;32mIn[50], line 1\u001b[0m\n\u001b[1;32m----> 1\u001b[0m d1\n",
      "\u001b[1;31mNameError\u001b[0m: name 'd1' is not defined"
     ]
    }
   ],
   "source": [
    "d1"
   ]
  },
  {
   "cell_type": "code",
   "execution_count": 51,
   "id": "4f051ed1-87d5-4bca-9545-4a51f99e65e7",
   "metadata": {},
   "outputs": [],
   "source": [
    "d2={1:['Rose','Lily'],2:['Yellow','Green'],3:['Pink','Purple']}"
   ]
  },
  {
   "cell_type": "code",
   "execution_count": 52,
   "id": "98298ba8-2ae4-4b49-ac15-cceff336db43",
   "metadata": {},
   "outputs": [
    {
     "data": {
      "text/plain": [
       "{1: ['Rose', 'Lily'], 2: ['Yellow', 'Green'], 3: ['Pink', 'Purple']}"
      ]
     },
     "execution_count": 52,
     "metadata": {},
     "output_type": "execute_result"
    }
   ],
   "source": [
    "d2"
   ]
  },
  {
   "cell_type": "code",
   "execution_count": 53,
   "id": "8927cce3-2e2c-4f54-b339-2dbfbe62a094",
   "metadata": {},
   "outputs": [
    {
     "data": {
      "text/plain": [
       "dict_keys([1, 2, 3])"
      ]
     },
     "execution_count": 53,
     "metadata": {},
     "output_type": "execute_result"
    }
   ],
   "source": [
    "d2.keys()"
   ]
  },
  {
   "cell_type": "code",
   "execution_count": 54,
   "id": "d30d3450-b8d7-4ccb-96d8-0c2d7cf353ad",
   "metadata": {},
   "outputs": [
    {
     "data": {
      "text/plain": [
       "dict_values([['Rose', 'Lily'], ['Yellow', 'Green'], ['Pink', 'Purple']])"
      ]
     },
     "execution_count": 54,
     "metadata": {},
     "output_type": "execute_result"
    }
   ],
   "source": [
    "d2.values()"
   ]
  },
  {
   "cell_type": "code",
   "execution_count": 55,
   "id": "2dfed24e-2513-41ed-99d4-7bd882030e1f",
   "metadata": {},
   "outputs": [
    {
     "data": {
      "text/plain": [
       "dict_items([(1, ['Rose', 'Lily']), (2, ['Yellow', 'Green']), (3, ['Pink', 'Purple'])])"
      ]
     },
     "execution_count": 55,
     "metadata": {},
     "output_type": "execute_result"
    }
   ],
   "source": [
    "d2.items()"
   ]
  },
  {
   "cell_type": "code",
   "execution_count": 56,
   "id": "77a199cf-e204-4d93-b2ef-21c9661c520e",
   "metadata": {},
   "outputs": [
    {
     "data": {
      "text/plain": [
       "['Pink', 'Purple']"
      ]
     },
     "execution_count": 56,
     "metadata": {},
     "output_type": "execute_result"
    }
   ],
   "source": [
    "d2.pop(3)"
   ]
  },
  {
   "cell_type": "code",
   "execution_count": 57,
   "id": "75bed0bf-2e37-4d50-bbcb-33843cab3b79",
   "metadata": {},
   "outputs": [
    {
     "data": {
      "text/plain": [
       "{1: ['Rose', 'Lily'], 2: ['Yellow', 'Green']}"
      ]
     },
     "execution_count": 57,
     "metadata": {},
     "output_type": "execute_result"
    }
   ],
   "source": [
    "d2"
   ]
  },
  {
   "cell_type": "code",
   "execution_count": 58,
   "id": "c763439f-5ac7-4239-abf2-9ea422afa9e8",
   "metadata": {},
   "outputs": [],
   "source": [
    "d2.clear()"
   ]
  },
  {
   "cell_type": "code",
   "execution_count": 59,
   "id": "625c3e1a-0364-4569-ba7c-4411c62ea41b",
   "metadata": {},
   "outputs": [
    {
     "data": {
      "text/plain": [
       "{}"
      ]
     },
     "execution_count": 59,
     "metadata": {},
     "output_type": "execute_result"
    }
   ],
   "source": [
    "d2"
   ]
  },
  {
   "cell_type": "code",
   "execution_count": 60,
   "id": "e194c04b-b9ec-4e62-ad3c-00a4aa60e413",
   "metadata": {},
   "outputs": [],
   "source": [
    "d2.update({4:['A','B']})"
   ]
  },
  {
   "cell_type": "code",
   "execution_count": 61,
   "id": "5a7b04ae-ac2f-4689-9317-978a285f4668",
   "metadata": {},
   "outputs": [
    {
     "data": {
      "text/plain": [
       "{4: ['A', 'B']}"
      ]
     },
     "execution_count": 61,
     "metadata": {},
     "output_type": "execute_result"
    }
   ],
   "source": [
    "d2"
   ]
  },
  {
   "cell_type": "code",
   "execution_count": 62,
   "id": "a9dca3bd-429e-4993-a290-14760c62a2c2",
   "metadata": {},
   "outputs": [],
   "source": [
    "del d2"
   ]
  },
  {
   "cell_type": "code",
   "execution_count": 63,
   "id": "cd5b5fe6-a173-4055-b0bb-f60675f51e9b",
   "metadata": {},
   "outputs": [
    {
     "ename": "NameError",
     "evalue": "name 'd2' is not defined",
     "output_type": "error",
     "traceback": [
      "\u001b[1;31m---------------------------------------------------------------------------\u001b[0m",
      "\u001b[1;31mNameError\u001b[0m                                 Traceback (most recent call last)",
      "Cell \u001b[1;32mIn[63], line 1\u001b[0m\n\u001b[1;32m----> 1\u001b[0m d2\n",
      "\u001b[1;31mNameError\u001b[0m: name 'd2' is not defined"
     ]
    }
   ],
   "source": [
    "d2"
   ]
  },
  {
   "cell_type": "code",
   "execution_count": 64,
   "id": "87382ab8-a0fc-478a-8331-51e7ae6c38f4",
   "metadata": {},
   "outputs": [],
   "source": [
    "list1=[78,89,45,23,19]"
   ]
  },
  {
   "cell_type": "code",
   "execution_count": 65,
   "id": "c47ae0cb-79b6-4af4-9bc6-ad4ebc4a780a",
   "metadata": {},
   "outputs": [
    {
     "data": {
      "text/plain": [
       "[78, 89, 45, 23, 19]"
      ]
     },
     "execution_count": 65,
     "metadata": {},
     "output_type": "execute_result"
    }
   ],
   "source": [
    "list1"
   ]
  },
  {
   "cell_type": "code",
   "execution_count": 66,
   "id": "eb215600-7077-4fdf-b59c-219e50990079",
   "metadata": {},
   "outputs": [
    {
     "data": {
      "text/plain": [
       "list"
      ]
     },
     "execution_count": 66,
     "metadata": {},
     "output_type": "execute_result"
    }
   ],
   "source": [
    "type(list1)"
   ]
  },
  {
   "cell_type": "code",
   "execution_count": 67,
   "id": "9899d0e3-9b90-4ea3-95cc-b9f108598a27",
   "metadata": {},
   "outputs": [],
   "source": [
    "tp=tuple(list1)"
   ]
  },
  {
   "cell_type": "code",
   "execution_count": 68,
   "id": "2816375e-ebfc-4a37-8357-f0d437295085",
   "metadata": {},
   "outputs": [
    {
     "data": {
      "text/plain": [
       "(78, 89, 45, 23, 19)"
      ]
     },
     "execution_count": 68,
     "metadata": {},
     "output_type": "execute_result"
    }
   ],
   "source": [
    "tp"
   ]
  },
  {
   "cell_type": "markdown",
   "id": "d537a25c-ce70-47fb-a59a-6e91f26fc9ee",
   "metadata": {},
   "source": [
    "Data Structures\n",
    "\n",
    "Sets"
   ]
  },
  {
   "cell_type": "code",
   "execution_count": 69,
   "id": "44912d12-c79d-4929-b3d3-4b0c97250495",
   "metadata": {},
   "outputs": [],
   "source": [
    "myset1={1,2,3,4,5}"
   ]
  },
  {
   "cell_type": "code",
   "execution_count": 70,
   "id": "518f01dc-88e5-4ec1-bb0f-424fbd4c974a",
   "metadata": {},
   "outputs": [
    {
     "data": {
      "text/plain": [
       "{1, 2, 3, 4, 5}"
      ]
     },
     "execution_count": 70,
     "metadata": {},
     "output_type": "execute_result"
    }
   ],
   "source": [
    "myset1"
   ]
  },
  {
   "cell_type": "code",
   "execution_count": 76,
   "id": "1fe0167b-43bd-4fd5-b447-8f11bd255816",
   "metadata": {},
   "outputs": [
    {
     "ename": "TypeError",
     "evalue": "'set' object is not subscriptable",
     "output_type": "error",
     "traceback": [
      "\u001b[1;31m---------------------------------------------------------------------------\u001b[0m",
      "\u001b[1;31mTypeError\u001b[0m                                 Traceback (most recent call last)",
      "Cell \u001b[1;32mIn[76], line 1\u001b[0m\n\u001b[1;32m----> 1\u001b[0m myset1[\u001b[38;5;241m1\u001b[39m]\n",
      "\u001b[1;31mTypeError\u001b[0m: 'set' object is not subscriptable"
     ]
    }
   ],
   "source": [
    "myset1[1]    #not indexed"
   ]
  },
  {
   "cell_type": "code",
   "execution_count": 71,
   "id": "4fae813f-e792-42a3-a250-c7ebf8be7715",
   "metadata": {},
   "outputs": [],
   "source": [
    "myset2={22,33,444,55,77,88,99,12}"
   ]
  },
  {
   "cell_type": "code",
   "execution_count": 72,
   "id": "fa26ed12-4a21-4442-9a71-8520e1362f7a",
   "metadata": {},
   "outputs": [
    {
     "data": {
      "text/plain": [
       "{12, 22, 33, 55, 77, 88, 99, 444}"
      ]
     },
     "execution_count": 72,
     "metadata": {},
     "output_type": "execute_result"
    }
   ],
   "source": [
    "myset2"
   ]
  },
  {
   "cell_type": "code",
   "execution_count": 73,
   "id": "5c714a10-73db-4322-9f30-81138389e832",
   "metadata": {},
   "outputs": [],
   "source": [
    "myset3=set([56,34,66,77,88,33,22,22])"
   ]
  },
  {
   "cell_type": "code",
   "execution_count": 74,
   "id": "992f440f-4aef-4559-b35a-7d31a3f89e44",
   "metadata": {},
   "outputs": [
    {
     "data": {
      "text/plain": [
       "{22, 33, 34, 56, 66, 77, 88}"
      ]
     },
     "execution_count": 74,
     "metadata": {},
     "output_type": "execute_result"
    }
   ],
   "source": [
    "myset3"
   ]
  },
  {
   "cell_type": "code",
   "execution_count": 77,
   "id": "f6248243-255d-446e-ad42-19caefb3ec7f",
   "metadata": {},
   "outputs": [],
   "source": [
    "myset3.add(555)"
   ]
  },
  {
   "cell_type": "code",
   "execution_count": 78,
   "id": "e7d82fc6-6916-4526-9996-c0f1773f0a12",
   "metadata": {},
   "outputs": [
    {
     "data": {
      "text/plain": [
       "{22, 33, 34, 56, 66, 77, 88, 555}"
      ]
     },
     "execution_count": 78,
     "metadata": {},
     "output_type": "execute_result"
    }
   ],
   "source": [
    "myset3"
   ]
  },
  {
   "cell_type": "code",
   "execution_count": 79,
   "id": "3e8436b0-8dea-41f7-928f-bd2a45907440",
   "metadata": {},
   "outputs": [],
   "source": [
    "myset3.add(46)"
   ]
  },
  {
   "cell_type": "code",
   "execution_count": 80,
   "id": "54f8e68a-bade-4cff-a7b2-fab5d59e20bd",
   "metadata": {},
   "outputs": [
    {
     "data": {
      "text/plain": [
       "{22, 33, 34, 46, 56, 66, 77, 88, 555}"
      ]
     },
     "execution_count": 80,
     "metadata": {},
     "output_type": "execute_result"
    }
   ],
   "source": [
    "myset3"
   ]
  },
  {
   "cell_type": "code",
   "execution_count": 82,
   "id": "320e0c66-0489-4974-bab0-4cd5368370ca",
   "metadata": {},
   "outputs": [
    {
     "ename": "TypeError",
     "evalue": "set.pop() takes no arguments (1 given)",
     "output_type": "error",
     "traceback": [
      "\u001b[1;31m---------------------------------------------------------------------------\u001b[0m",
      "\u001b[1;31mTypeError\u001b[0m                                 Traceback (most recent call last)",
      "Cell \u001b[1;32mIn[82], line 1\u001b[0m\n\u001b[1;32m----> 1\u001b[0m myset3\u001b[38;5;241m.\u001b[39mpop(\u001b[38;5;241m4\u001b[39m)\n",
      "\u001b[1;31mTypeError\u001b[0m: set.pop() takes no arguments (1 given)"
     ]
    }
   ],
   "source": [
    "myset3.pop(4)     #not indexed"
   ]
  },
  {
   "cell_type": "code",
   "execution_count": 83,
   "id": "6c249658-1ab5-43d8-897c-535bb7583e35",
   "metadata": {},
   "outputs": [
    {
     "data": {
      "text/plain": [
       "33"
      ]
     },
     "execution_count": 83,
     "metadata": {},
     "output_type": "execute_result"
    }
   ],
   "source": [
    "myset3.pop()"
   ]
  },
  {
   "cell_type": "code",
   "execution_count": 84,
   "id": "fee759d6-45c3-49f4-89f6-2480c8278e60",
   "metadata": {},
   "outputs": [
    {
     "data": {
      "text/plain": [
       "{22, 34, 46, 56, 66, 77, 88, 555}"
      ]
     },
     "execution_count": 84,
     "metadata": {},
     "output_type": "execute_result"
    }
   ],
   "source": [
    "myset3"
   ]
  },
  {
   "cell_type": "code",
   "execution_count": 85,
   "id": "8b54d3b3-4e82-456e-94d2-563a88151509",
   "metadata": {},
   "outputs": [],
   "source": [
    "myset3.clear()"
   ]
  },
  {
   "cell_type": "code",
   "execution_count": 86,
   "id": "9ee363c4-076f-4ae3-b45e-f6d02dae1827",
   "metadata": {},
   "outputs": [
    {
     "data": {
      "text/plain": [
       "set()"
      ]
     },
     "execution_count": 86,
     "metadata": {},
     "output_type": "execute_result"
    }
   ],
   "source": [
    "myset3"
   ]
  },
  {
   "cell_type": "code",
   "execution_count": 87,
   "id": "9e038f77-189b-47d1-89f8-ba664b06f069",
   "metadata": {},
   "outputs": [],
   "source": [
    "del myset3"
   ]
  },
  {
   "cell_type": "code",
   "execution_count": 88,
   "id": "ec4a69b0-a9ed-4c8f-9eb6-f5cb1c579891",
   "metadata": {},
   "outputs": [
    {
     "ename": "NameError",
     "evalue": "name 'myset3' is not defined",
     "output_type": "error",
     "traceback": [
      "\u001b[1;31m---------------------------------------------------------------------------\u001b[0m",
      "\u001b[1;31mNameError\u001b[0m                                 Traceback (most recent call last)",
      "Cell \u001b[1;32mIn[88], line 1\u001b[0m\n\u001b[1;32m----> 1\u001b[0m myset3\n",
      "\u001b[1;31mNameError\u001b[0m: name 'myset3' is not defined"
     ]
    }
   ],
   "source": [
    "myset3"
   ]
  },
  {
   "cell_type": "markdown",
   "id": "16fb7e0c-4c73-4cca-82f7-59e5e3669af8",
   "metadata": {},
   "source": [
    "Loops        \n",
    "\n",
    "while loop"
   ]
  },
  {
   "cell_type": "code",
   "execution_count": 2,
   "id": "b68c71c5-dc03-4489-abbb-d4ae519a96dd",
   "metadata": {},
   "outputs": [
    {
     "name": "stdout",
     "output_type": "stream",
     "text": [
      "0\n",
      "1\n",
      "2\n",
      "3\n"
     ]
    }
   ],
   "source": [
    "i=0    #initiliazation\n",
    "\n",
    "while(i<4):       #condition\n",
    "   print(i)\n",
    "   i=i+1          #increment"
   ]
  },
  {
   "cell_type": "code",
   "execution_count": 3,
   "id": "04540946-110d-4379-90de-2488e8f8dddd",
   "metadata": {},
   "outputs": [
    {
     "name": "stdout",
     "output_type": "stream",
     "text": [
      "0\n",
      "1\n",
      "2\n",
      "3\n",
      "4\n"
     ]
    }
   ],
   "source": [
    "i=0\n",
    "while(i<5):\n",
    "    print(i)\n",
    "    i=i+1"
   ]
  },
  {
   "cell_type": "code",
   "execution_count": 4,
   "id": "0d54e623-6afe-4c72-9b08-713a10203208",
   "metadata": {},
   "outputs": [
    {
     "name": "stdout",
     "output_type": "stream",
     "text": [
      "0\n",
      "1\n",
      "2\n",
      "3\n",
      "4\n",
      "5\n",
      "6\n"
     ]
    }
   ],
   "source": [
    "i=0\n",
    "while(i<7):\n",
    "    print(i)\n",
    "    i=i+1"
   ]
  },
  {
   "cell_type": "code",
   "execution_count": 10,
   "id": "5fd06bda-512d-496e-a01a-093bf4bc6ddf",
   "metadata": {},
   "outputs": [
    {
     "name": "stdout",
     "output_type": "stream",
     "text": [
      "0\n",
      "1\n",
      "2\n",
      "3\n",
      "4\n"
     ]
    }
   ],
   "source": [
    "k=0\n",
    "while(k<5):\n",
    "    print(k)\n",
    "    k=k+1"
   ]
  },
  {
   "cell_type": "code",
   "execution_count": 11,
   "id": "da77f617-3a3d-4b26-b8e2-51f9e5b43f8b",
   "metadata": {},
   "outputs": [
    {
     "name": "stdout",
     "output_type": "stream",
     "text": [
      "0\n",
      "1\n",
      "2\n",
      "3\n",
      "4\n",
      "5\n",
      "6\n",
      "7\n",
      "8\n",
      "9\n"
     ]
    }
   ],
   "source": [
    "k=0\n",
    "while(k<10):\n",
    "    print(k)\n",
    "    k=k+1"
   ]
  },
  {
   "cell_type": "code",
   "execution_count": null,
   "id": "caf3eb46-dddd-4d01-8572-d3ba99eae618",
   "metadata": {},
   "outputs": [],
   "source": []
  }
 ],
 "metadata": {
  "kernelspec": {
   "display_name": "Python 3 (ipykernel)",
   "language": "python",
   "name": "python3"
  },
  "language_info": {
   "codemirror_mode": {
    "name": "ipython",
    "version": 3
   },
   "file_extension": ".py",
   "mimetype": "text/x-python",
   "name": "python",
   "nbconvert_exporter": "python",
   "pygments_lexer": "ipython3",
   "version": "3.11.7"
  }
 },
 "nbformat": 4,
 "nbformat_minor": 5
}
