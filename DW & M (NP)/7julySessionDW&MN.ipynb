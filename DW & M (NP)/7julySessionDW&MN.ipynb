{
 "cells": [
  {
   "cell_type": "markdown",
   "id": "d70d7a9a-f00f-4e14-a035-3cabb8991a7f",
   "metadata": {},
   "source": [
    "File Input Output Operations"
   ]
  },
  {
   "cell_type": "code",
   "execution_count": 1,
   "id": "3b910af1-c8ce-4419-bef1-92cfd35bb83c",
   "metadata": {},
   "outputs": [],
   "source": [
    "myfile=open('c:\\\\Data Trained Education\\\\juy7.txt','w')"
   ]
  },
  {
   "cell_type": "code",
   "execution_count": 2,
   "id": "61afa4f7-1d0e-4558-9d2c-0ec167629f50",
   "metadata": {},
   "outputs": [
    {
     "data": {
      "text/plain": [
       "34"
      ]
     },
     "execution_count": 2,
     "metadata": {},
     "output_type": "execute_result"
    }
   ],
   "source": [
    "myfile.write('Today is 7 july. Its rainy season.')"
   ]
  },
  {
   "cell_type": "code",
   "execution_count": 3,
   "id": "790e6474-02b4-423d-b31e-7200df94fbd1",
   "metadata": {},
   "outputs": [],
   "source": [
    "myfile.close()"
   ]
  },
  {
   "cell_type": "code",
   "execution_count": 4,
   "id": "490d1cbc-76e2-43b5-a3fa-a813c94c73ec",
   "metadata": {},
   "outputs": [],
   "source": [
    "myfile1=open('c:\\\\Data Trained Education\\\\juy7.txt','r')"
   ]
  },
  {
   "cell_type": "code",
   "execution_count": 5,
   "id": "178f2bd0-d56d-4b85-9e8b-8973e604d513",
   "metadata": {},
   "outputs": [
    {
     "data": {
      "text/plain": [
       "'Today is 7 july. Its rainy season.'"
      ]
     },
     "execution_count": 5,
     "metadata": {},
     "output_type": "execute_result"
    }
   ],
   "source": [
    "myfile1.read()"
   ]
  },
  {
   "cell_type": "code",
   "execution_count": 6,
   "id": "8eb89667-26dc-4640-ab12-01198e71599f",
   "metadata": {},
   "outputs": [],
   "source": [
    "myfile1.close()"
   ]
  },
  {
   "cell_type": "code",
   "execution_count": 7,
   "id": "1440b1a2-5a97-4f0a-a669-774cfcc8bddb",
   "metadata": {},
   "outputs": [],
   "source": [
    "myfile2=open('c:\\\\Data Trained Education\\\\juy7.txt','a')"
   ]
  },
  {
   "cell_type": "code",
   "execution_count": 8,
   "id": "db52a3ca-a302-4cc5-8e9c-2f4d188a271e",
   "metadata": {},
   "outputs": [
    {
     "data": {
      "text/plain": [
       "63"
      ]
     },
     "execution_count": 8,
     "metadata": {},
     "output_type": "execute_result"
    }
   ],
   "source": [
    "myfile2.write('Global warming has changed the entire climate and rain pattern.')"
   ]
  },
  {
   "cell_type": "code",
   "execution_count": 9,
   "id": "33fb60ff-e58e-4c3f-aa2a-2de232359818",
   "metadata": {},
   "outputs": [],
   "source": [
    "myfile2.close()"
   ]
  },
  {
   "cell_type": "code",
   "execution_count": 10,
   "id": "ffb70abc-4b3d-4316-8216-9b0cbd98e58d",
   "metadata": {},
   "outputs": [],
   "source": [
    "myfile2=open('c:\\\\Data Trained Education\\\\juy7.txt','r')"
   ]
  },
  {
   "cell_type": "code",
   "execution_count": 11,
   "id": "ab29a02e-bfb2-470d-8948-36a8d49ba6fe",
   "metadata": {},
   "outputs": [
    {
     "data": {
      "text/plain": [
       "'Today is 7 july. Its rainy season. Global warming has changed the entire climate and rain pattern.'"
      ]
     },
     "execution_count": 11,
     "metadata": {},
     "output_type": "execute_result"
    }
   ],
   "source": [
    "myfile2.read()"
   ]
  },
  {
   "cell_type": "code",
   "execution_count": 12,
   "id": "6ec2dc76-764f-4e10-9d40-809c4259af6d",
   "metadata": {},
   "outputs": [],
   "source": [
    "myfile2.close()"
   ]
  },
  {
   "cell_type": "code",
   "execution_count": 13,
   "id": "6ef7f7e5-0cd4-4532-9769-744d3ac220c1",
   "metadata": {},
   "outputs": [],
   "source": [
    "myfile2=open('c:\\\\Data Trained Education\\\\juy7.txt','a')"
   ]
  },
  {
   "cell_type": "code",
   "execution_count": 14,
   "id": "5c6675ad-1dc2-445b-a493-86cad2c7741d",
   "metadata": {},
   "outputs": [],
   "source": [
    "def testf():\n",
    "    print('hello')"
   ]
  },
  {
   "cell_type": "code",
   "execution_count": 17,
   "id": "159c02ed-1b41-46e9-9a1f-9801565f93b0",
   "metadata": {},
   "outputs": [
    {
     "name": "stdout",
     "output_type": "stream",
     "text": [
      "hello\n"
     ]
    }
   ],
   "source": [
    "testf()"
   ]
  },
  {
   "cell_type": "code",
   "execution_count": 19,
   "id": "abe22f66-ad8c-4442-840b-2621986eb0d2",
   "metadata": {},
   "outputs": [
    {
     "data": {
      "text/plain": [
       "4.0"
      ]
     },
     "execution_count": 19,
     "metadata": {},
     "output_type": "execute_result"
    }
   ],
   "source": [
    "12/3"
   ]
  },
  {
   "cell_type": "code",
   "execution_count": 20,
   "id": "fbb256c4-797f-4be4-be1c-d1e71daecabd",
   "metadata": {},
   "outputs": [
    {
     "data": {
      "text/plain": [
       "3.0"
      ]
     },
     "execution_count": 20,
     "metadata": {},
     "output_type": "execute_result"
    }
   ],
   "source": [
    "12/4"
   ]
  },
  {
   "cell_type": "code",
   "execution_count": 21,
   "id": "5a52658b-1353-41bf-82d6-28f96d3e4f83",
   "metadata": {},
   "outputs": [
    {
     "ename": "ZeroDivisionError",
     "evalue": "division by zero",
     "output_type": "error",
     "traceback": [
      "\u001b[1;31m---------------------------------------------------------------------------\u001b[0m",
      "\u001b[1;31mZeroDivisionError\u001b[0m                         Traceback (most recent call last)",
      "Cell \u001b[1;32mIn[21], line 1\u001b[0m\n\u001b[1;32m----> 1\u001b[0m \u001b[38;5;241m12\u001b[39m\u001b[38;5;241m/\u001b[39m\u001b[38;5;241m0\u001b[39m\n",
      "\u001b[1;31mZeroDivisionError\u001b[0m: division by zero"
     ]
    }
   ],
   "source": [
    "12/0"
   ]
  },
  {
   "cell_type": "code",
   "execution_count": 22,
   "id": "60c3fad6-33d0-40af-9ac3-fd4c3529183f",
   "metadata": {},
   "outputs": [],
   "source": [
    "def func1(j,k):\n",
    "    result=j/k\n",
    "    print('result=',result)"
   ]
  },
  {
   "cell_type": "code",
   "execution_count": 23,
   "id": "ada66888-399f-446c-a544-4dd9526f4a68",
   "metadata": {},
   "outputs": [
    {
     "name": "stdout",
     "output_type": "stream",
     "text": [
      "result= 10.0\n"
     ]
    }
   ],
   "source": [
    "func1(30,3)"
   ]
  },
  {
   "cell_type": "code",
   "execution_count": 24,
   "id": "d2b1e126-cd40-4a1b-ba53-3b1b07114006",
   "metadata": {},
   "outputs": [
    {
     "name": "stdout",
     "output_type": "stream",
     "text": [
      "result= 7.5\n"
     ]
    }
   ],
   "source": [
    "func1(15,2)"
   ]
  },
  {
   "cell_type": "code",
   "execution_count": 25,
   "id": "d59fea26-fbdc-4fc7-808f-3b2a264d2877",
   "metadata": {},
   "outputs": [
    {
     "name": "stdout",
     "output_type": "stream",
     "text": [
      "result= 7.333333333333333\n"
     ]
    }
   ],
   "source": [
    "func1(44,6)"
   ]
  },
  {
   "cell_type": "code",
   "execution_count": 26,
   "id": "7a74fe50-663f-4d35-8b93-b0ee8d8d24ef",
   "metadata": {},
   "outputs": [
    {
     "name": "stdout",
     "output_type": "stream",
     "text": [
      "result= 49.25\n"
     ]
    }
   ],
   "source": [
    "func1(788,16)"
   ]
  },
  {
   "cell_type": "code",
   "execution_count": 27,
   "id": "c3bb28dc-d6ad-4ee5-839b-d4b2d43a530f",
   "metadata": {},
   "outputs": [
    {
     "name": "stdout",
     "output_type": "stream",
     "text": [
      "result= 4.0\n"
     ]
    }
   ],
   "source": [
    "func1(8,2)"
   ]
  },
  {
   "cell_type": "code",
   "execution_count": 28,
   "id": "5eed3ecc-30e3-4df5-823f-fd3cf3405c71",
   "metadata": {},
   "outputs": [
    {
     "ename": "ZeroDivisionError",
     "evalue": "division by zero",
     "output_type": "error",
     "traceback": [
      "\u001b[1;31m---------------------------------------------------------------------------\u001b[0m",
      "\u001b[1;31mZeroDivisionError\u001b[0m                         Traceback (most recent call last)",
      "Cell \u001b[1;32mIn[28], line 1\u001b[0m\n\u001b[1;32m----> 1\u001b[0m func1(\u001b[38;5;241m8\u001b[39m,\u001b[38;5;241m0\u001b[39m)\n",
      "Cell \u001b[1;32mIn[22], line 2\u001b[0m, in \u001b[0;36mfunc1\u001b[1;34m(j, k)\u001b[0m\n\u001b[0;32m      1\u001b[0m \u001b[38;5;28;01mdef\u001b[39;00m \u001b[38;5;21mfunc1\u001b[39m(j,k):\n\u001b[1;32m----> 2\u001b[0m     result\u001b[38;5;241m=\u001b[39mj\u001b[38;5;241m/\u001b[39mk\n\u001b[0;32m      3\u001b[0m     \u001b[38;5;28mprint\u001b[39m(\u001b[38;5;124m'\u001b[39m\u001b[38;5;124mresult=\u001b[39m\u001b[38;5;124m'\u001b[39m,result)\n",
      "\u001b[1;31mZeroDivisionError\u001b[0m: division by zero"
     ]
    }
   ],
   "source": [
    "func1(8,0)"
   ]
  },
  {
   "cell_type": "markdown",
   "id": "4843c61c-e1af-4213-9872-cabc76b89c4c",
   "metadata": {},
   "source": [
    "Errors"
   ]
  },
  {
   "cell_type": "markdown",
   "id": "01bd567d-6cc6-4cc3-b28b-e3f6aaa1279b",
   "metadata": {},
   "source": [
    "#Complex Time Error(Syntax Error, Wrong Logic)\n",
    "#Run Time Error"
   ]
  },
  {
   "cell_type": "code",
   "execution_count": 31,
   "id": "9d1a28b7-b1ba-4cda-abfc-6e00f99fa418",
   "metadata": {},
   "outputs": [],
   "source": [
    "#Exception Handling "
   ]
  },
  {
   "cell_type": "code",
   "execution_count": 32,
   "id": "d8ecad18-c3a0-4493-9491-9210333e1cad",
   "metadata": {},
   "outputs": [
    {
     "name": "stdout",
     "output_type": "stream",
     "text": [
      "Handling run time error: division by zero\n"
     ]
    }
   ],
   "source": [
    "try:\n",
    "    79/0\n",
    "except ZeroDivisionError as err:\n",
    "    print('Handling run time error:',err)"
   ]
  },
  {
   "cell_type": "code",
   "execution_count": 33,
   "id": "775fa071-d6c5-410c-b0b3-c5c3443d2815",
   "metadata": {},
   "outputs": [
    {
     "name": "stdout",
     "output_type": "stream",
     "text": [
      "h is not defined name 'h' is not defined\n"
     ]
    }
   ],
   "source": [
    "try:\n",
    "    10+2+h\n",
    "except NameError as err:\n",
    "    print(\"h is not defined\",err)"
   ]
  },
  {
   "cell_type": "code",
   "execution_count": 36,
   "id": "c7769614-1cb1-42b9-896a-5905c047eefc",
   "metadata": {},
   "outputs": [
    {
     "name": "stdin",
     "output_type": "stream",
     "text": [
      "value 8\n"
     ]
    },
    {
     "name": "stdout",
     "output_type": "stream",
     "text": [
      "6.25\n"
     ]
    }
   ],
   "source": [
    "try:\n",
    "    i=int(input(\"value\"))\n",
    "    p=50/i\n",
    "except ZeroDivisionError:\n",
    "    print('Zero division error')\n",
    "except NameError:\n",
    "    print('check name of variable :Name error')\n",
    "else:\n",
    "    print(p)"
   ]
  },
  {
   "cell_type": "code",
   "execution_count": 37,
   "id": "7d2f260b-a6f1-4ef0-b753-54a35b301217",
   "metadata": {},
   "outputs": [
    {
     "name": "stdout",
     "output_type": "stream",
     "text": [
      "10\n",
      "20\n",
      "30\n",
      "hello\n",
      "end of the program\n"
     ]
    }
   ],
   "source": [
    "a=[10,20,30]\n",
    "\n",
    "try:\n",
    "    print(a[0])\n",
    "    print(a[1])\n",
    "    print(a[2])\n",
    "except:\n",
    "    print(\"out of range\")\n",
    "else:\n",
    "    print(\"hello\")\n",
    "finally:\n",
    "    print(\"end of the program\")"
   ]
  },
  {
   "cell_type": "code",
   "execution_count": 38,
   "id": "149530ac-3179-47f4-a645-5a0118891dc4",
   "metadata": {},
   "outputs": [
    {
     "name": "stdout",
     "output_type": "stream",
     "text": [
      "10\n",
      "20\n",
      "out of range\n",
      "end of the program\n"
     ]
    }
   ],
   "source": [
    "a=[10,20,30]\n",
    "\n",
    "try:\n",
    "    print(a[0])\n",
    "    print(a[1])\n",
    "    print(a[4])\n",
    "except:\n",
    "    print(\"out of range\")\n",
    "else:\n",
    "    print(\"hello\")\n",
    "finally:\n",
    "    print(\"end of the program\")"
   ]
  },
  {
   "cell_type": "code",
   "execution_count": 1,
   "id": "8a893ac1-0cda-454d-808a-b4dffcfcb219",
   "metadata": {},
   "outputs": [],
   "source": [
    "savefile=open('c:\\\\Users\\\\Dell\\\\demofile.txt','w')\n",
    "#'c:\\\\folder1\\\\file1.txt'\n",
    "#c:\\\\myfile.txt"
   ]
  },
  {
   "cell_type": "code",
   "execution_count": 2,
   "id": "4d70a493-25a3-4ba1-a685-b5b07684fab1",
   "metadata": {},
   "outputs": [
    {
     "data": {
      "text/plain": [
       "45"
      ]
     },
     "execution_count": 2,
     "metadata": {},
     "output_type": "execute_result"
    }
   ],
   "source": [
    "savefile.write(\"this is the first line.I am testing this file\")"
   ]
  },
  {
   "cell_type": "code",
   "execution_count": 3,
   "id": "4c664eb6-9281-4593-bf82-5da2d8397c8f",
   "metadata": {},
   "outputs": [],
   "source": [
    "savefile.close()"
   ]
  },
  {
   "cell_type": "code",
   "execution_count": 5,
   "id": "eeb5924e-5f3e-4483-b276-2770720fd2a1",
   "metadata": {},
   "outputs": [],
   "source": [
    "savefile=open('c:\\\\Users\\\\Dell\\\\demofile.txt','r')"
   ]
  },
  {
   "cell_type": "code",
   "execution_count": 6,
   "id": "b76a6fc4-e8b6-46d7-89a8-1631f77d2ce5",
   "metadata": {},
   "outputs": [
    {
     "data": {
      "text/plain": [
       "'this is the first line.I am testing this file'"
      ]
     },
     "execution_count": 6,
     "metadata": {},
     "output_type": "execute_result"
    }
   ],
   "source": [
    "savefile.read()"
   ]
  },
  {
   "cell_type": "code",
   "execution_count": 7,
   "id": "460ddf48-c00d-427a-a3e1-9157c2b71ab4",
   "metadata": {},
   "outputs": [],
   "source": [
    "savefile.close()"
   ]
  },
  {
   "cell_type": "code",
   "execution_count": 18,
   "id": "246b28c7-e390-42cf-9e44-4a03fddf34c5",
   "metadata": {},
   "outputs": [
    {
     "name": "stdout",
     "output_type": "stream",
     "text": [
      "The file opened succesfully\n",
      "\n"
     ]
    }
   ],
   "source": [
    "try:\n",
    "    fileptr=open('demofile.txt','r')\n",
    "except IOError:\n",
    "    print(\"File not found\")\n",
    "else:\n",
    "    print(\"The file opened succesfully\")\n",
    "    print(fileptr.read())"
   ]
  },
  {
   "cell_type": "code",
   "execution_count": 11,
   "id": "60c7ddb5-4625-4361-8e55-e975a5ece335",
   "metadata": {},
   "outputs": [],
   "source": [
    "#print(readme.read())"
   ]
  },
  {
   "cell_type": "code",
   "execution_count": 12,
   "id": "ddbb2821-6260-4d33-ad74-6a29a46ea6ba",
   "metadata": {},
   "outputs": [],
   "source": [
    "#readme.close()"
   ]
  },
  {
   "cell_type": "code",
   "execution_count": 14,
   "id": "0061ac12-2d38-4de0-86dc-83d25bd860bc",
   "metadata": {},
   "outputs": [
    {
     "name": "stdout",
     "output_type": "stream",
     "text": [
      "The file opened successfully\n",
      "23\n"
     ]
    }
   ],
   "source": [
    "try:\n",
    "    appendfile=open('demofile.txt','a')\n",
    "except IOError:\n",
    "    print(\"File not found\")\n",
    "else:\n",
    "    print(\"The file opened successfully\")\n",
    "    print(appendfile.write(\"\\n This is the next line\"))"
   ]
  },
  {
   "cell_type": "code",
   "execution_count": 15,
   "id": "66633b4c-3ff4-4f08-8178-13e728647a50",
   "metadata": {},
   "outputs": [],
   "source": [
    "#appendfile.write(\"\\n this is the next line\")"
   ]
  },
  {
   "cell_type": "code",
   "execution_count": 16,
   "id": "67f5fdef-f55b-45be-8fbf-1b6becd837ba",
   "metadata": {},
   "outputs": [],
   "source": [
    "#appendfile.close()"
   ]
  },
  {
   "cell_type": "code",
   "execution_count": null,
   "id": "8bd08dad-b93c-412a-a7e8-d055467717a7",
   "metadata": {},
   "outputs": [],
   "source": []
  }
 ],
 "metadata": {
  "kernelspec": {
   "display_name": "Python 3 (ipykernel)",
   "language": "python",
   "name": "python3"
  },
  "language_info": {
   "codemirror_mode": {
    "name": "ipython",
    "version": 3
   },
   "file_extension": ".py",
   "mimetype": "text/x-python",
   "name": "python",
   "nbconvert_exporter": "python",
   "pygments_lexer": "ipython3",
   "version": "3.11.7"
  }
 },
 "nbformat": 4,
 "nbformat_minor": 5
}
