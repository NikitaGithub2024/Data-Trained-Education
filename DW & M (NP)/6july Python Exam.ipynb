{
 "cells": [
  {
   "cell_type": "code",
   "execution_count": null,
   "id": "4c3b32a4-d208-4a4f-b743-4fd97b42e164",
   "metadata": {},
   "outputs": [],
   "source": []
  },
  {
   "cell_type": "code",
   "execution_count": 23,
   "id": "9d74d6f4-e8af-492e-a9ad-3e6f0b246b55",
   "metadata": {},
   "outputs": [],
   "source": [
    "sampleDict = {\n",
    "    \"country\": {\n",
    "        \"Indian Cricket Team\": {\n",
    "            \"name\": [\"Rohit\", \"Virat\", \"Rahul\", \"Shami\", \"Bumrah\"],\n",
    "            \"Runs\": {\n",
    "                \"Rohit\": 47,\n",
    "                \"Viart\": 54,\n",
    "                \"Rahul\": 66\n",
    "            }\n",
    "        }\n",
    "    }\n",
    "}\n"
   ]
  },
  {
   "cell_type": "code",
   "execution_count": 15,
   "id": "dc82bc7e-6586-4dc9-b009-b2fa9286a696",
   "metadata": {},
   "outputs": [
    {
     "data": {
      "text/plain": [
       "{'country': {'Indian Cricket Team': {'name': ['Rohit',\n",
       "    'Virat',\n",
       "    'Rahul',\n",
       "    'Shami',\n",
       "    'Bumrah'],\n",
       "   'Runs': {'Rohit': 47, 'Viart': 54, 'Rahul': 66}}}}"
      ]
     },
     "execution_count": 15,
     "metadata": {},
     "output_type": "execute_result"
    }
   ],
   "source": [
    "sampleDict"
   ]
  },
  {
   "cell_type": "code",
   "execution_count": 24,
   "id": "e0228e84-a9a7-4834-8e66-0e5a5ccf9de6",
   "metadata": {},
   "outputs": [
    {
     "data": {
      "text/plain": [
       "dict_keys(['country'])"
      ]
     },
     "execution_count": 24,
     "metadata": {},
     "output_type": "execute_result"
    }
   ],
   "source": [
    "sampleDict.keys()"
   ]
  },
  {
   "cell_type": "code",
   "execution_count": 25,
   "id": "a55918bc-12a6-4aef-b1d4-32bf0bec9b47",
   "metadata": {},
   "outputs": [
    {
     "data": {
      "text/plain": [
       "dict_values([{'Indian Cricket Team': {'name': ['Rohit', 'Virat', 'Rahul', 'Shami', 'Bumrah'], 'Runs': {'Rohit': 47, 'Viart': 54, 'Rahul': 66}}}])"
      ]
     },
     "execution_count": 25,
     "metadata": {},
     "output_type": "execute_result"
    }
   ],
   "source": [
    "sampleDict.values()"
   ]
  },
  {
   "cell_type": "code",
   "execution_count": 27,
   "id": "f0bb43e4-a55c-4ff9-a2cd-83a7a9757670",
   "metadata": {},
   "outputs": [
    {
     "data": {
      "text/plain": [
       "dict_items([('country', {'Indian Cricket Team': {'name': ['Rohit', 'Virat', 'Rahul', 'Shami', 'Bumrah'], 'Runs': {'Rohit': 47, 'Viart': 54, 'Rahul': 66}}})])"
      ]
     },
     "execution_count": 27,
     "metadata": {},
     "output_type": "execute_result"
    }
   ],
   "source": [
    "sampleDict.items()"
   ]
  },
  {
   "cell_type": "code",
   "execution_count": 28,
   "id": "62fdb171-1359-4e00-b838-48792845117a",
   "metadata": {},
   "outputs": [],
   "source": [
    "sampleDict[\"Viart\"]= 54"
   ]
  },
  {
   "cell_type": "code",
   "execution_count": 29,
   "id": "37d6eab7-3593-4b4e-b251-cd04d6d8e940",
   "metadata": {},
   "outputs": [
    {
     "data": {
      "text/plain": [
       "54"
      ]
     },
     "execution_count": 29,
     "metadata": {},
     "output_type": "execute_result"
    }
   ],
   "source": [
    "sampleDict[\"Viart\"]"
   ]
  },
  {
   "cell_type": "code",
   "execution_count": null,
   "id": "96f76f85-85bb-4e0f-beb1-781da2f41b88",
   "metadata": {},
   "outputs": [],
   "source": []
  }
 ],
 "metadata": {
  "kernelspec": {
   "display_name": "Python 3 (ipykernel)",
   "language": "python",
   "name": "python3"
  },
  "language_info": {
   "codemirror_mode": {
    "name": "ipython",
    "version": 3
   },
   "file_extension": ".py",
   "mimetype": "text/x-python",
   "name": "python",
   "nbconvert_exporter": "python",
   "pygments_lexer": "ipython3",
   "version": "3.11.7"
  }
 },
 "nbformat": 4,
 "nbformat_minor": 5
}
