{
 "cells": [
  {
   "cell_type": "markdown",
   "id": "485cb1cb-0da1-4d58-943f-cfd4f120c889",
   "metadata": {},
   "source": [
    "Data Wrangling and Manipulation with Pandas\n",
    "\n",
    "Pandas"
   ]
  },
  {
   "cell_type": "code",
   "execution_count": 6,
   "id": "c933cb0c-6778-41f7-a168-68b4ae6a724c",
   "metadata": {},
   "outputs": [],
   "source": [
    "import pandas"
   ]
  },
  {
   "cell_type": "code",
   "execution_count": 15,
   "id": "7098544e-b49b-441a-ac6a-876a64c2ee19",
   "metadata": {},
   "outputs": [
    {
     "data": {
      "text/plain": [
       "0    1\n",
       "1    2\n",
       "2    3\n",
       "3    4\n",
       "4    5\n",
       "dtype: int64"
      ]
     },
     "execution_count": 15,
     "metadata": {},
     "output_type": "execute_result"
    }
   ],
   "source": [
    "pandas.Series([1,2,3,4,5])  #index is row  #0 to 4 are the index"
   ]
  },
  {
   "cell_type": "code",
   "execution_count": 10,
   "id": "57baec3f-64e3-4770-8f80-94003834d616",
   "metadata": {},
   "outputs": [],
   "source": [
    "import pandas as pd"
   ]
  },
  {
   "cell_type": "code",
   "execution_count": 11,
   "id": "3de27020-26a1-43fd-839d-e341e1e689de",
   "metadata": {},
   "outputs": [],
   "source": [
    "a=pd.Series([1,2,3,4,5])"
   ]
  },
  {
   "cell_type": "code",
   "execution_count": 12,
   "id": "67355131-a05c-4f34-93a3-48746a4463d1",
   "metadata": {},
   "outputs": [
    {
     "data": {
      "text/plain": [
       "0    1\n",
       "1    2\n",
       "2    3\n",
       "3    4\n",
       "4    5\n",
       "dtype: int64"
      ]
     },
     "execution_count": 12,
     "metadata": {},
     "output_type": "execute_result"
    }
   ],
   "source": [
    "a"
   ]
  },
  {
   "cell_type": "code",
   "execution_count": 13,
   "id": "3606ea32-a6e3-4d44-bcd0-1927a968f9f6",
   "metadata": {},
   "outputs": [],
   "source": [
    "b=pd.Series([10,20,30,40,50])"
   ]
  },
  {
   "cell_type": "code",
   "execution_count": 14,
   "id": "01ba01b5-53ab-4203-8730-250fbe66c543",
   "metadata": {},
   "outputs": [
    {
     "data": {
      "text/plain": [
       "0    10\n",
       "1    20\n",
       "2    30\n",
       "3    40\n",
       "4    50\n",
       "dtype: int64"
      ]
     },
     "execution_count": 14,
     "metadata": {},
     "output_type": "execute_result"
    }
   ],
   "source": [
    "b"
   ]
  },
  {
   "cell_type": "code",
   "execution_count": 16,
   "id": "ec0625bc-5d85-4ed8-875b-0f30e9aa7e46",
   "metadata": {},
   "outputs": [],
   "source": [
    "c=pd.Series([12.4,56.3,22.7,89.2,11.7])"
   ]
  },
  {
   "cell_type": "code",
   "execution_count": 17,
   "id": "0be86e42-a07d-409d-9adb-1993cfc3e3b7",
   "metadata": {},
   "outputs": [
    {
     "data": {
      "text/plain": [
       "0    12.4\n",
       "1    56.3\n",
       "2    22.7\n",
       "3    89.2\n",
       "4    11.7\n",
       "dtype: float64"
      ]
     },
     "execution_count": 17,
     "metadata": {},
     "output_type": "execute_result"
    }
   ],
   "source": [
    "c"
   ]
  },
  {
   "cell_type": "code",
   "execution_count": 20,
   "id": "ce7cf410-9597-46d8-b097-d8f616fe40d5",
   "metadata": {},
   "outputs": [],
   "source": [
    "d=pd.Series"
   ]
  },
  {
   "cell_type": "code",
   "execution_count": 26,
   "id": "d1403178-ff50-4bae-8a43-782824ebe77a",
   "metadata": {},
   "outputs": [],
   "source": [
    "d=pd.Series(data=[12,24,56,89,21,99,82])   #default index"
   ]
  },
  {
   "cell_type": "code",
   "execution_count": 23,
   "id": "d900ddb9-18c3-41b2-afda-9f6fed541ba4",
   "metadata": {},
   "outputs": [
    {
     "data": {
      "text/plain": [
       "0    12\n",
       "1    24\n",
       "2    56\n",
       "3    89\n",
       "4    21\n",
       "5    99\n",
       "6    82\n",
       "dtype: int64"
      ]
     },
     "execution_count": 23,
     "metadata": {},
     "output_type": "execute_result"
    }
   ],
   "source": [
    "d"
   ]
  },
  {
   "cell_type": "code",
   "execution_count": 27,
   "id": "00d1665e-9d70-4e34-a4c5-bff148a9839f",
   "metadata": {},
   "outputs": [],
   "source": [
    "d=pd.Series(data=[12,24,56,89,21],index=[11,12,13,14,15])   #index changing"
   ]
  },
  {
   "cell_type": "code",
   "execution_count": 25,
   "id": "d93b9ec2-a528-4c5a-9462-d410b28374c4",
   "metadata": {},
   "outputs": [
    {
     "data": {
      "text/plain": [
       "11    12\n",
       "12    24\n",
       "13    56\n",
       "14    89\n",
       "15    21\n",
       "dtype: int64"
      ]
     },
     "execution_count": 25,
     "metadata": {},
     "output_type": "execute_result"
    }
   ],
   "source": [
    "d"
   ]
  },
  {
   "cell_type": "code",
   "execution_count": 28,
   "id": "bff33a14-7297-495f-85df-b9e4c65ab046",
   "metadata": {},
   "outputs": [],
   "source": [
    "e=pd.Series(data=[10,20,30,40,50,60])"
   ]
  },
  {
   "cell_type": "code",
   "execution_count": 29,
   "id": "2485655e-5215-4f84-8c2c-638efe635000",
   "metadata": {},
   "outputs": [
    {
     "data": {
      "text/plain": [
       "0    10\n",
       "1    20\n",
       "2    30\n",
       "3    40\n",
       "4    50\n",
       "5    60\n",
       "dtype: int64"
      ]
     },
     "execution_count": 29,
     "metadata": {},
     "output_type": "execute_result"
    }
   ],
   "source": [
    "e"
   ]
  },
  {
   "cell_type": "code",
   "execution_count": 38,
   "id": "1f056e81-1091-429e-8761-ef17776e1122",
   "metadata": {},
   "outputs": [],
   "source": [
    "e=pd.Series(data=[10,20,30,40,50,60],index=[1,2,3,4,5,6],dtype='int64')"
   ]
  },
  {
   "cell_type": "code",
   "execution_count": 40,
   "id": "792b37e2-a709-4859-88e5-70061c4ae3fc",
   "metadata": {},
   "outputs": [
    {
     "data": {
      "text/plain": [
       "1    10\n",
       "2    20\n",
       "3    30\n",
       "4    40\n",
       "5    50\n",
       "6    60\n",
       "dtype: int64"
      ]
     },
     "execution_count": 40,
     "metadata": {},
     "output_type": "execute_result"
    }
   ],
   "source": [
    "e"
   ]
  },
  {
   "cell_type": "code",
   "execution_count": 39,
   "id": "e0fa4af9-52c1-45e0-901a-8230c614f3ed",
   "metadata": {},
   "outputs": [],
   "source": [
    "f=pd.Series(data=[10,20,30,40,50,60],index=[1,2,3,4,5,6],dtype='float64')"
   ]
  },
  {
   "cell_type": "code",
   "execution_count": 34,
   "id": "933b0a1d-8148-40d6-870f-34da313da604",
   "metadata": {},
   "outputs": [
    {
     "data": {
      "text/plain": [
       "1    10.0\n",
       "2    20.0\n",
       "3    30.0\n",
       "4    40.0\n",
       "5    50.0\n",
       "6    60.0\n",
       "dtype: float64"
      ]
     },
     "execution_count": 34,
     "metadata": {},
     "output_type": "execute_result"
    }
   ],
   "source": [
    "f"
   ]
  },
  {
   "cell_type": "code",
   "execution_count": 35,
   "id": "091dc53f-d4a5-4880-9d2d-e66001580d9c",
   "metadata": {},
   "outputs": [
    {
     "data": {
      "text/plain": [
       "array([67, 68, 69, 70])"
      ]
     },
     "execution_count": 35,
     "metadata": {},
     "output_type": "execute_result"
    }
   ],
   "source": [
    "import numpy as np\n",
    "a=np.array([67,68,69,70])\n",
    "a"
   ]
  },
  {
   "cell_type": "code",
   "execution_count": 36,
   "id": "1ce07786-a6bc-488e-a299-6e1d3a0df635",
   "metadata": {},
   "outputs": [],
   "source": [
    "h=pd.Series(a)"
   ]
  },
  {
   "cell_type": "code",
   "execution_count": 37,
   "id": "fbac3c14-98e7-4360-8af1-1e90ca3f465c",
   "metadata": {},
   "outputs": [
    {
     "data": {
      "text/plain": [
       "0    67\n",
       "1    68\n",
       "2    69\n",
       "3    70\n",
       "dtype: int32"
      ]
     },
     "execution_count": 37,
     "metadata": {},
     "output_type": "execute_result"
    }
   ],
   "source": [
    "h"
   ]
  },
  {
   "cell_type": "code",
   "execution_count": 41,
   "id": "267b62c3-7332-4c8c-a8da-b94af6d0103f",
   "metadata": {},
   "outputs": [
    {
     "data": {
      "text/plain": [
       "{'empid': 101, 'empname': 'Jhon'}"
      ]
     },
     "execution_count": 41,
     "metadata": {},
     "output_type": "execute_result"
    }
   ],
   "source": [
    "d={'empid':101,'empname':'Jhon'}\n",
    "d"
   ]
  },
  {
   "cell_type": "code",
   "execution_count": 43,
   "id": "171d5ee5-2af1-4a94-8fa1-4f3826f0dbfc",
   "metadata": {},
   "outputs": [
    {
     "data": {
      "text/plain": [
       "empid       101\n",
       "empname    Jhon\n",
       "dtype: object"
      ]
     },
     "execution_count": 43,
     "metadata": {},
     "output_type": "execute_result"
    }
   ],
   "source": [
    "pd.Series(data=d)"
   ]
  },
  {
   "cell_type": "markdown",
   "id": "18cccc82-c71b-49b8-a8ec-d58806c48f21",
   "metadata": {},
   "source": [
    "DataFrame \n",
    "\n",
    "Pandas.DataFrame"
   ]
  },
  {
   "cell_type": "code",
   "execution_count": 46,
   "id": "35d8f72c-63cc-414c-b4a6-89122a172775",
   "metadata": {},
   "outputs": [
    {
     "data": {
      "text/html": [
       "<div>\n",
       "<style scoped>\n",
       "    .dataframe tbody tr th:only-of-type {\n",
       "        vertical-align: middle;\n",
       "    }\n",
       "\n",
       "    .dataframe tbody tr th {\n",
       "        vertical-align: top;\n",
       "    }\n",
       "\n",
       "    .dataframe thead th {\n",
       "        text-align: right;\n",
       "    }\n",
       "</style>\n",
       "<table border=\"1\" class=\"dataframe\">\n",
       "  <thead>\n",
       "    <tr style=\"text-align: right;\">\n",
       "      <th></th>\n",
       "      <th>0</th>\n",
       "    </tr>\n",
       "  </thead>\n",
       "  <tbody>\n",
       "    <tr>\n",
       "      <th>0</th>\n",
       "      <td>12</td>\n",
       "    </tr>\n",
       "    <tr>\n",
       "      <th>1</th>\n",
       "      <td>23</td>\n",
       "    </tr>\n",
       "    <tr>\n",
       "      <th>2</th>\n",
       "      <td>4</td>\n",
       "    </tr>\n",
       "    <tr>\n",
       "      <th>3</th>\n",
       "      <td>5</td>\n",
       "    </tr>\n",
       "    <tr>\n",
       "      <th>4</th>\n",
       "      <td>6</td>\n",
       "    </tr>\n",
       "  </tbody>\n",
       "</table>\n",
       "</div>"
      ],
      "text/plain": [
       "    0\n",
       "0  12\n",
       "1  23\n",
       "2   4\n",
       "3   5\n",
       "4   6"
      ]
     },
     "execution_count": 46,
     "metadata": {},
     "output_type": "execute_result"
    }
   ],
   "source": [
    "a=pd.DataFrame([12,23,4,5,6])\n",
    "a"
   ]
  },
  {
   "cell_type": "code",
   "execution_count": 47,
   "id": "c01bca64-ea51-46c4-9f67-611a145addab",
   "metadata": {},
   "outputs": [
    {
     "data": {
      "text/plain": [
       "[['Jhon', 24], ['Jack', 26], ['Anderw', 28]]"
      ]
     },
     "execution_count": 47,
     "metadata": {},
     "output_type": "execute_result"
    }
   ],
   "source": [
    "b=[['Jhon',24],['Jack',26],['Anderw',28]]\n",
    "b"
   ]
  },
  {
   "cell_type": "code",
   "execution_count": 48,
   "id": "68201747-2909-4519-8524-26bf60236b89",
   "metadata": {},
   "outputs": [
    {
     "data": {
      "text/html": [
       "<div>\n",
       "<style scoped>\n",
       "    .dataframe tbody tr th:only-of-type {\n",
       "        vertical-align: middle;\n",
       "    }\n",
       "\n",
       "    .dataframe tbody tr th {\n",
       "        vertical-align: top;\n",
       "    }\n",
       "\n",
       "    .dataframe thead th {\n",
       "        text-align: right;\n",
       "    }\n",
       "</style>\n",
       "<table border=\"1\" class=\"dataframe\">\n",
       "  <thead>\n",
       "    <tr style=\"text-align: right;\">\n",
       "      <th></th>\n",
       "      <th>0</th>\n",
       "      <th>1</th>\n",
       "    </tr>\n",
       "  </thead>\n",
       "  <tbody>\n",
       "    <tr>\n",
       "      <th>0</th>\n",
       "      <td>Jhon</td>\n",
       "      <td>24</td>\n",
       "    </tr>\n",
       "    <tr>\n",
       "      <th>1</th>\n",
       "      <td>Jack</td>\n",
       "      <td>26</td>\n",
       "    </tr>\n",
       "    <tr>\n",
       "      <th>2</th>\n",
       "      <td>Anderw</td>\n",
       "      <td>28</td>\n",
       "    </tr>\n",
       "  </tbody>\n",
       "</table>\n",
       "</div>"
      ],
      "text/plain": [
       "        0   1\n",
       "0    Jhon  24\n",
       "1    Jack  26\n",
       "2  Anderw  28"
      ]
     },
     "execution_count": 48,
     "metadata": {},
     "output_type": "execute_result"
    }
   ],
   "source": [
    "pd.DataFrame(b)"
   ]
  },
  {
   "cell_type": "code",
   "execution_count": 50,
   "id": "498ae9e5-417c-4cce-84f5-94b9193e1ac8",
   "metadata": {},
   "outputs": [
    {
     "data": {
      "text/plain": [
       "pandas.core.frame.DataFrame"
      ]
     },
     "execution_count": 50,
     "metadata": {},
     "output_type": "execute_result"
    }
   ],
   "source": [
    "pd.DataFrame"
   ]
  },
  {
   "cell_type": "code",
   "execution_count": 51,
   "id": "cb4e8192-b138-4dc6-8884-ba827f86e563",
   "metadata": {},
   "outputs": [
    {
     "data": {
      "text/html": [
       "<div>\n",
       "<style scoped>\n",
       "    .dataframe tbody tr th:only-of-type {\n",
       "        vertical-align: middle;\n",
       "    }\n",
       "\n",
       "    .dataframe tbody tr th {\n",
       "        vertical-align: top;\n",
       "    }\n",
       "\n",
       "    .dataframe thead th {\n",
       "        text-align: right;\n",
       "    }\n",
       "</style>\n",
       "<table border=\"1\" class=\"dataframe\">\n",
       "  <thead>\n",
       "    <tr style=\"text-align: right;\">\n",
       "      <th></th>\n",
       "      <th>Name</th>\n",
       "      <th>Age</th>\n",
       "    </tr>\n",
       "  </thead>\n",
       "  <tbody>\n",
       "    <tr>\n",
       "      <th>0</th>\n",
       "      <td>Jhon</td>\n",
       "      <td>24</td>\n",
       "    </tr>\n",
       "    <tr>\n",
       "      <th>1</th>\n",
       "      <td>Jack</td>\n",
       "      <td>26</td>\n",
       "    </tr>\n",
       "    <tr>\n",
       "      <th>2</th>\n",
       "      <td>Anderw</td>\n",
       "      <td>28</td>\n",
       "    </tr>\n",
       "  </tbody>\n",
       "</table>\n",
       "</div>"
      ],
      "text/plain": [
       "     Name  Age\n",
       "0    Jhon   24\n",
       "1    Jack   26\n",
       "2  Anderw   28"
      ]
     },
     "execution_count": 51,
     "metadata": {},
     "output_type": "execute_result"
    }
   ],
   "source": [
    "pd.DataFrame(data=b,columns=['Name','Age'])"
   ]
  },
  {
   "cell_type": "code",
   "execution_count": 58,
   "id": "30e1ae9a-81f0-430e-be9c-4547d539435c",
   "metadata": {},
   "outputs": [
    {
     "data": {
      "text/html": [
       "<div>\n",
       "<style scoped>\n",
       "    .dataframe tbody tr th:only-of-type {\n",
       "        vertical-align: middle;\n",
       "    }\n",
       "\n",
       "    .dataframe tbody tr th {\n",
       "        vertical-align: top;\n",
       "    }\n",
       "\n",
       "    .dataframe thead th {\n",
       "        text-align: right;\n",
       "    }\n",
       "</style>\n",
       "<table border=\"1\" class=\"dataframe\">\n",
       "  <thead>\n",
       "    <tr style=\"text-align: right;\">\n",
       "      <th></th>\n",
       "      <th>Name</th>\n",
       "      <th>Age</th>\n",
       "    </tr>\n",
       "  </thead>\n",
       "  <tbody>\n",
       "    <tr>\n",
       "      <th>row1</th>\n",
       "      <td>Jhon</td>\n",
       "      <td>24</td>\n",
       "    </tr>\n",
       "    <tr>\n",
       "      <th>row2</th>\n",
       "      <td>Jack</td>\n",
       "      <td>26</td>\n",
       "    </tr>\n",
       "    <tr>\n",
       "      <th>row3</th>\n",
       "      <td>Anderw</td>\n",
       "      <td>28</td>\n",
       "    </tr>\n",
       "  </tbody>\n",
       "</table>\n",
       "</div>"
      ],
      "text/plain": [
       "        Name  Age\n",
       "row1    Jhon   24\n",
       "row2    Jack   26\n",
       "row3  Anderw   28"
      ]
     },
     "execution_count": 58,
     "metadata": {},
     "output_type": "execute_result"
    }
   ],
   "source": [
    "pd.DataFrame(data=b,index=['row1','row2','row3'],columns=['Name','Age'])"
   ]
  },
  {
   "cell_type": "code",
   "execution_count": 59,
   "id": "d9da6b4e-fa40-4f0a-a179-2d4be6ed03c4",
   "metadata": {},
   "outputs": [],
   "source": [
    "dict1={'studid':1,'Name':'Smith','Age':12}"
   ]
  },
  {
   "cell_type": "code",
   "execution_count": 60,
   "id": "10b80d9d-130d-47ce-b5f7-3a18a8217cd7",
   "metadata": {},
   "outputs": [
    {
     "data": {
      "text/plain": [
       "{'studid': 1, 'Name': 'Smith', 'Age': 12}"
      ]
     },
     "execution_count": 60,
     "metadata": {},
     "output_type": "execute_result"
    }
   ],
   "source": [
    "dict1"
   ]
  },
  {
   "cell_type": "code",
   "execution_count": 63,
   "id": "e9f87053-0043-469a-90d6-b8bff5abd3b9",
   "metadata": {},
   "outputs": [],
   "source": [
    "dict1={'studid':[1,2,3],'Name':['Smith','Jack','Jhon'],'Age':[12,11,14]}"
   ]
  },
  {
   "cell_type": "code",
   "execution_count": 64,
   "id": "e63fb9ca-4367-47f6-b062-3a0f8e4e240c",
   "metadata": {},
   "outputs": [
    {
     "data": {
      "text/plain": [
       "{'studid': [1, 2, 3], 'Name': ['Smith', 'Jack', 'Jhon'], 'Age': [12, 11, 14]}"
      ]
     },
     "execution_count": 64,
     "metadata": {},
     "output_type": "execute_result"
    }
   ],
   "source": [
    "dict1"
   ]
  },
  {
   "cell_type": "code",
   "execution_count": 65,
   "id": "4acfcf89-0a65-416b-96a9-dd9d5a3667dc",
   "metadata": {},
   "outputs": [
    {
     "data": {
      "text/html": [
       "<div>\n",
       "<style scoped>\n",
       "    .dataframe tbody tr th:only-of-type {\n",
       "        vertical-align: middle;\n",
       "    }\n",
       "\n",
       "    .dataframe tbody tr th {\n",
       "        vertical-align: top;\n",
       "    }\n",
       "\n",
       "    .dataframe thead th {\n",
       "        text-align: right;\n",
       "    }\n",
       "</style>\n",
       "<table border=\"1\" class=\"dataframe\">\n",
       "  <thead>\n",
       "    <tr style=\"text-align: right;\">\n",
       "      <th></th>\n",
       "      <th>studid</th>\n",
       "      <th>Name</th>\n",
       "      <th>Age</th>\n",
       "    </tr>\n",
       "  </thead>\n",
       "  <tbody>\n",
       "    <tr>\n",
       "      <th>0</th>\n",
       "      <td>1</td>\n",
       "      <td>Smith</td>\n",
       "      <td>12</td>\n",
       "    </tr>\n",
       "    <tr>\n",
       "      <th>1</th>\n",
       "      <td>2</td>\n",
       "      <td>Jack</td>\n",
       "      <td>11</td>\n",
       "    </tr>\n",
       "    <tr>\n",
       "      <th>2</th>\n",
       "      <td>3</td>\n",
       "      <td>Jhon</td>\n",
       "      <td>14</td>\n",
       "    </tr>\n",
       "  </tbody>\n",
       "</table>\n",
       "</div>"
      ],
      "text/plain": [
       "   studid   Name  Age\n",
       "0       1  Smith   12\n",
       "1       2   Jack   11\n",
       "2       3   Jhon   14"
      ]
     },
     "execution_count": 65,
     "metadata": {},
     "output_type": "execute_result"
    }
   ],
   "source": [
    "pd.DataFrame(dict1)"
   ]
  },
  {
   "cell_type": "code",
   "execution_count": 66,
   "id": "8d5bed84-6221-4b4f-bdf7-ae2eca0e4188",
   "metadata": {},
   "outputs": [],
   "source": [
    "h=pd.DataFrame(data=dict1)"
   ]
  },
  {
   "cell_type": "code",
   "execution_count": 67,
   "id": "e258af6e-881f-47ac-82dc-23ca7e43314e",
   "metadata": {},
   "outputs": [
    {
     "data": {
      "text/html": [
       "<div>\n",
       "<style scoped>\n",
       "    .dataframe tbody tr th:only-of-type {\n",
       "        vertical-align: middle;\n",
       "    }\n",
       "\n",
       "    .dataframe tbody tr th {\n",
       "        vertical-align: top;\n",
       "    }\n",
       "\n",
       "    .dataframe thead th {\n",
       "        text-align: right;\n",
       "    }\n",
       "</style>\n",
       "<table border=\"1\" class=\"dataframe\">\n",
       "  <thead>\n",
       "    <tr style=\"text-align: right;\">\n",
       "      <th></th>\n",
       "      <th>studid</th>\n",
       "      <th>Name</th>\n",
       "      <th>Age</th>\n",
       "    </tr>\n",
       "  </thead>\n",
       "  <tbody>\n",
       "    <tr>\n",
       "      <th>0</th>\n",
       "      <td>1</td>\n",
       "      <td>Smith</td>\n",
       "      <td>12</td>\n",
       "    </tr>\n",
       "    <tr>\n",
       "      <th>1</th>\n",
       "      <td>2</td>\n",
       "      <td>Jack</td>\n",
       "      <td>11</td>\n",
       "    </tr>\n",
       "    <tr>\n",
       "      <th>2</th>\n",
       "      <td>3</td>\n",
       "      <td>Jhon</td>\n",
       "      <td>14</td>\n",
       "    </tr>\n",
       "  </tbody>\n",
       "</table>\n",
       "</div>"
      ],
      "text/plain": [
       "   studid   Name  Age\n",
       "0       1  Smith   12\n",
       "1       2   Jack   11\n",
       "2       3   Jhon   14"
      ]
     },
     "execution_count": 67,
     "metadata": {},
     "output_type": "execute_result"
    }
   ],
   "source": [
    "h"
   ]
  },
  {
   "cell_type": "code",
   "execution_count": 68,
   "id": "269b5eb6-0701-4cee-84e2-a38bd062d2bd",
   "metadata": {},
   "outputs": [],
   "source": [
    "data=[{'a': 1, 'b' :2},{'a': 5, 'b': 10, 'c': 20}]"
   ]
  },
  {
   "cell_type": "code",
   "execution_count": 69,
   "id": "acbd4267-ea04-44ce-8fb2-2a3348abf026",
   "metadata": {},
   "outputs": [
    {
     "name": "stdout",
     "output_type": "stream",
     "text": [
      "     a     b     c\n",
      "0  1.0   2.0   NaN\n",
      "1  5.0  10.0  20.0\n"
     ]
    }
   ],
   "source": [
    "df=pd.DataFrame(data,dtype=float)\n",
    "print(df)"
   ]
  },
  {
   "cell_type": "code",
   "execution_count": 70,
   "id": "24fe77d7-8b73-44f0-927c-9b46a9429062",
   "metadata": {},
   "outputs": [],
   "source": [
    "df= pd.DataFrame(data,columns=['a','b'])"
   ]
  },
  {
   "cell_type": "code",
   "execution_count": 71,
   "id": "b807d7be-877f-4dbb-a618-d45530abe61f",
   "metadata": {},
   "outputs": [
    {
     "data": {
      "text/html": [
       "<div>\n",
       "<style scoped>\n",
       "    .dataframe tbody tr th:only-of-type {\n",
       "        vertical-align: middle;\n",
       "    }\n",
       "\n",
       "    .dataframe tbody tr th {\n",
       "        vertical-align: top;\n",
       "    }\n",
       "\n",
       "    .dataframe thead th {\n",
       "        text-align: right;\n",
       "    }\n",
       "</style>\n",
       "<table border=\"1\" class=\"dataframe\">\n",
       "  <thead>\n",
       "    <tr style=\"text-align: right;\">\n",
       "      <th></th>\n",
       "      <th>a</th>\n",
       "      <th>b</th>\n",
       "    </tr>\n",
       "  </thead>\n",
       "  <tbody>\n",
       "    <tr>\n",
       "      <th>0</th>\n",
       "      <td>1</td>\n",
       "      <td>2</td>\n",
       "    </tr>\n",
       "    <tr>\n",
       "      <th>1</th>\n",
       "      <td>5</td>\n",
       "      <td>10</td>\n",
       "    </tr>\n",
       "  </tbody>\n",
       "</table>\n",
       "</div>"
      ],
      "text/plain": [
       "   a   b\n",
       "0  1   2\n",
       "1  5  10"
      ]
     },
     "execution_count": 71,
     "metadata": {},
     "output_type": "execute_result"
    }
   ],
   "source": [
    "df"
   ]
  },
  {
   "cell_type": "code",
   "execution_count": 72,
   "id": "96c6c9c8-ffd4-4445-b870-548798a3144a",
   "metadata": {},
   "outputs": [],
   "source": [
    "df=pd.DataFrame(data,columns=['a','c'])"
   ]
  },
  {
   "cell_type": "code",
   "execution_count": 73,
   "id": "c2a9c8b8-dcea-4b75-9654-bd249f8132e9",
   "metadata": {},
   "outputs": [
    {
     "data": {
      "text/html": [
       "<div>\n",
       "<style scoped>\n",
       "    .dataframe tbody tr th:only-of-type {\n",
       "        vertical-align: middle;\n",
       "    }\n",
       "\n",
       "    .dataframe tbody tr th {\n",
       "        vertical-align: top;\n",
       "    }\n",
       "\n",
       "    .dataframe thead th {\n",
       "        text-align: right;\n",
       "    }\n",
       "</style>\n",
       "<table border=\"1\" class=\"dataframe\">\n",
       "  <thead>\n",
       "    <tr style=\"text-align: right;\">\n",
       "      <th></th>\n",
       "      <th>a</th>\n",
       "      <th>c</th>\n",
       "    </tr>\n",
       "  </thead>\n",
       "  <tbody>\n",
       "    <tr>\n",
       "      <th>0</th>\n",
       "      <td>1</td>\n",
       "      <td>NaN</td>\n",
       "    </tr>\n",
       "    <tr>\n",
       "      <th>1</th>\n",
       "      <td>5</td>\n",
       "      <td>20.0</td>\n",
       "    </tr>\n",
       "  </tbody>\n",
       "</table>\n",
       "</div>"
      ],
      "text/plain": [
       "   a     c\n",
       "0  1   NaN\n",
       "1  5  20.0"
      ]
     },
     "execution_count": 73,
     "metadata": {},
     "output_type": "execute_result"
    }
   ],
   "source": [
    "df"
   ]
  },
  {
   "cell_type": "code",
   "execution_count": 75,
   "id": "1419b5a4-7d9e-454c-af6b-8375a5465911",
   "metadata": {},
   "outputs": [],
   "source": [
    "df=pd.DataFrame(data,columns=['a'])"
   ]
  },
  {
   "cell_type": "code",
   "execution_count": 76,
   "id": "7917f7f8-611b-4cf1-9954-3efc1ade36fa",
   "metadata": {},
   "outputs": [
    {
     "data": {
      "text/html": [
       "<div>\n",
       "<style scoped>\n",
       "    .dataframe tbody tr th:only-of-type {\n",
       "        vertical-align: middle;\n",
       "    }\n",
       "\n",
       "    .dataframe tbody tr th {\n",
       "        vertical-align: top;\n",
       "    }\n",
       "\n",
       "    .dataframe thead th {\n",
       "        text-align: right;\n",
       "    }\n",
       "</style>\n",
       "<table border=\"1\" class=\"dataframe\">\n",
       "  <thead>\n",
       "    <tr style=\"text-align: right;\">\n",
       "      <th></th>\n",
       "      <th>a</th>\n",
       "    </tr>\n",
       "  </thead>\n",
       "  <tbody>\n",
       "    <tr>\n",
       "      <th>0</th>\n",
       "      <td>1</td>\n",
       "    </tr>\n",
       "    <tr>\n",
       "      <th>1</th>\n",
       "      <td>5</td>\n",
       "    </tr>\n",
       "  </tbody>\n",
       "</table>\n",
       "</div>"
      ],
      "text/plain": [
       "   a\n",
       "0  1\n",
       "1  5"
      ]
     },
     "execution_count": 76,
     "metadata": {},
     "output_type": "execute_result"
    }
   ],
   "source": [
    "df"
   ]
  },
  {
   "cell_type": "code",
   "execution_count": 79,
   "id": "d520e3a2-9924-4f1e-87bd-4f3f5205b77a",
   "metadata": {},
   "outputs": [],
   "source": [
    "df=pd.DataFrame(data,columns=['a','p'])  #empty columns filled with NAN values"
   ]
  },
  {
   "cell_type": "code",
   "execution_count": 78,
   "id": "533a2c4c-556e-41c8-b034-59f78b6b9d29",
   "metadata": {},
   "outputs": [
    {
     "data": {
      "text/html": [
       "<div>\n",
       "<style scoped>\n",
       "    .dataframe tbody tr th:only-of-type {\n",
       "        vertical-align: middle;\n",
       "    }\n",
       "\n",
       "    .dataframe tbody tr th {\n",
       "        vertical-align: top;\n",
       "    }\n",
       "\n",
       "    .dataframe thead th {\n",
       "        text-align: right;\n",
       "    }\n",
       "</style>\n",
       "<table border=\"1\" class=\"dataframe\">\n",
       "  <thead>\n",
       "    <tr style=\"text-align: right;\">\n",
       "      <th></th>\n",
       "      <th>a</th>\n",
       "      <th>p</th>\n",
       "    </tr>\n",
       "  </thead>\n",
       "  <tbody>\n",
       "    <tr>\n",
       "      <th>0</th>\n",
       "      <td>1</td>\n",
       "      <td>NaN</td>\n",
       "    </tr>\n",
       "    <tr>\n",
       "      <th>1</th>\n",
       "      <td>5</td>\n",
       "      <td>NaN</td>\n",
       "    </tr>\n",
       "  </tbody>\n",
       "</table>\n",
       "</div>"
      ],
      "text/plain": [
       "   a   p\n",
       "0  1 NaN\n",
       "1  5 NaN"
      ]
     },
     "execution_count": 78,
     "metadata": {},
     "output_type": "execute_result"
    }
   ],
   "source": [
    "df"
   ]
  },
  {
   "cell_type": "markdown",
   "id": "e396ef7c-e00c-4b73-b34a-da151690a4f4",
   "metadata": {},
   "source": [
    "Indexing and Slicing in Pandas"
   ]
  },
  {
   "cell_type": "code",
   "execution_count": 7,
   "id": "eb710390-5aa9-47ef-a451-5bbce73f9c93",
   "metadata": {},
   "outputs": [],
   "source": [
    "import pandas as pd\n",
    "import numpy as np"
   ]
  },
  {
   "cell_type": "code",
   "execution_count": 8,
   "id": "d75c3598-cddf-440a-b860-24b76b84e4ae",
   "metadata": {},
   "outputs": [],
   "source": [
    "#df=pd.DataFrame(np.random.randn(8,4),index=['a','b','c','d','e','f','g','h'],columns=['A','B','C','D']\n",
    "#df\n",
    "\n",
    "df=pd.DataFrame(np.random.randn(8,4),columns=['A','B','C','D'])"
   ]
  },
  {
   "cell_type": "code",
   "execution_count": 9,
   "id": "8b7578f5-dcbf-4d85-83fd-175470bfad2e",
   "metadata": {},
   "outputs": [
    {
     "data": {
      "text/html": [
       "<div>\n",
       "<style scoped>\n",
       "    .dataframe tbody tr th:only-of-type {\n",
       "        vertical-align: middle;\n",
       "    }\n",
       "\n",
       "    .dataframe tbody tr th {\n",
       "        vertical-align: top;\n",
       "    }\n",
       "\n",
       "    .dataframe thead th {\n",
       "        text-align: right;\n",
       "    }\n",
       "</style>\n",
       "<table border=\"1\" class=\"dataframe\">\n",
       "  <thead>\n",
       "    <tr style=\"text-align: right;\">\n",
       "      <th></th>\n",
       "      <th>A</th>\n",
       "      <th>B</th>\n",
       "      <th>C</th>\n",
       "      <th>D</th>\n",
       "    </tr>\n",
       "  </thead>\n",
       "  <tbody>\n",
       "    <tr>\n",
       "      <th>0</th>\n",
       "      <td>1.068777</td>\n",
       "      <td>1.711679</td>\n",
       "      <td>0.110409</td>\n",
       "      <td>1.644772</td>\n",
       "    </tr>\n",
       "    <tr>\n",
       "      <th>1</th>\n",
       "      <td>-0.104892</td>\n",
       "      <td>0.751573</td>\n",
       "      <td>2.151240</td>\n",
       "      <td>0.294803</td>\n",
       "    </tr>\n",
       "    <tr>\n",
       "      <th>2</th>\n",
       "      <td>-0.949295</td>\n",
       "      <td>-1.377619</td>\n",
       "      <td>-0.116961</td>\n",
       "      <td>0.413530</td>\n",
       "    </tr>\n",
       "    <tr>\n",
       "      <th>3</th>\n",
       "      <td>0.078866</td>\n",
       "      <td>0.335283</td>\n",
       "      <td>0.187836</td>\n",
       "      <td>-1.772529</td>\n",
       "    </tr>\n",
       "    <tr>\n",
       "      <th>4</th>\n",
       "      <td>1.633979</td>\n",
       "      <td>1.912364</td>\n",
       "      <td>1.030730</td>\n",
       "      <td>-0.968182</td>\n",
       "    </tr>\n",
       "    <tr>\n",
       "      <th>5</th>\n",
       "      <td>-0.477268</td>\n",
       "      <td>-1.054134</td>\n",
       "      <td>1.944005</td>\n",
       "      <td>1.847436</td>\n",
       "    </tr>\n",
       "    <tr>\n",
       "      <th>6</th>\n",
       "      <td>-0.670498</td>\n",
       "      <td>-0.131356</td>\n",
       "      <td>0.356710</td>\n",
       "      <td>0.699662</td>\n",
       "    </tr>\n",
       "    <tr>\n",
       "      <th>7</th>\n",
       "      <td>-0.811237</td>\n",
       "      <td>1.815239</td>\n",
       "      <td>0.705542</td>\n",
       "      <td>-1.445072</td>\n",
       "    </tr>\n",
       "  </tbody>\n",
       "</table>\n",
       "</div>"
      ],
      "text/plain": [
       "          A         B         C         D\n",
       "0  1.068777  1.711679  0.110409  1.644772\n",
       "1 -0.104892  0.751573  2.151240  0.294803\n",
       "2 -0.949295 -1.377619 -0.116961  0.413530\n",
       "3  0.078866  0.335283  0.187836 -1.772529\n",
       "4  1.633979  1.912364  1.030730 -0.968182\n",
       "5 -0.477268 -1.054134  1.944005  1.847436\n",
       "6 -0.670498 -0.131356  0.356710  0.699662\n",
       "7 -0.811237  1.815239  0.705542 -1.445072"
      ]
     },
     "execution_count": 9,
     "metadata": {},
     "output_type": "execute_result"
    }
   ],
   "source": [
    "df"
   ]
  },
  {
   "cell_type": "code",
   "execution_count": 10,
   "id": "e534332c-acc9-415c-bbec-1f1d71312fe3",
   "metadata": {},
   "outputs": [],
   "source": [
    "df=pd.DataFrame(np.random.randn(6,4),columns=['A','B','C','D'])"
   ]
  },
  {
   "cell_type": "code",
   "execution_count": 11,
   "id": "43c8277c-48af-4768-9fa5-daf65559d2dd",
   "metadata": {},
   "outputs": [
    {
     "data": {
      "text/html": [
       "<div>\n",
       "<style scoped>\n",
       "    .dataframe tbody tr th:only-of-type {\n",
       "        vertical-align: middle;\n",
       "    }\n",
       "\n",
       "    .dataframe tbody tr th {\n",
       "        vertical-align: top;\n",
       "    }\n",
       "\n",
       "    .dataframe thead th {\n",
       "        text-align: right;\n",
       "    }\n",
       "</style>\n",
       "<table border=\"1\" class=\"dataframe\">\n",
       "  <thead>\n",
       "    <tr style=\"text-align: right;\">\n",
       "      <th></th>\n",
       "      <th>A</th>\n",
       "      <th>B</th>\n",
       "      <th>C</th>\n",
       "      <th>D</th>\n",
       "    </tr>\n",
       "  </thead>\n",
       "  <tbody>\n",
       "    <tr>\n",
       "      <th>0</th>\n",
       "      <td>-0.929395</td>\n",
       "      <td>-2.280813</td>\n",
       "      <td>-0.338576</td>\n",
       "      <td>-0.385702</td>\n",
       "    </tr>\n",
       "    <tr>\n",
       "      <th>1</th>\n",
       "      <td>0.918204</td>\n",
       "      <td>-0.390473</td>\n",
       "      <td>0.825526</td>\n",
       "      <td>-1.080448</td>\n",
       "    </tr>\n",
       "    <tr>\n",
       "      <th>2</th>\n",
       "      <td>-0.158437</td>\n",
       "      <td>1.705163</td>\n",
       "      <td>-0.782617</td>\n",
       "      <td>-1.345561</td>\n",
       "    </tr>\n",
       "    <tr>\n",
       "      <th>3</th>\n",
       "      <td>-1.922199</td>\n",
       "      <td>1.619203</td>\n",
       "      <td>-0.724498</td>\n",
       "      <td>0.184381</td>\n",
       "    </tr>\n",
       "    <tr>\n",
       "      <th>4</th>\n",
       "      <td>-0.032647</td>\n",
       "      <td>1.861126</td>\n",
       "      <td>-0.603237</td>\n",
       "      <td>-1.148996</td>\n",
       "    </tr>\n",
       "    <tr>\n",
       "      <th>5</th>\n",
       "      <td>-0.052348</td>\n",
       "      <td>0.514655</td>\n",
       "      <td>0.556965</td>\n",
       "      <td>0.876844</td>\n",
       "    </tr>\n",
       "  </tbody>\n",
       "</table>\n",
       "</div>"
      ],
      "text/plain": [
       "          A         B         C         D\n",
       "0 -0.929395 -2.280813 -0.338576 -0.385702\n",
       "1  0.918204 -0.390473  0.825526 -1.080448\n",
       "2 -0.158437  1.705163 -0.782617 -1.345561\n",
       "3 -1.922199  1.619203 -0.724498  0.184381\n",
       "4 -0.032647  1.861126 -0.603237 -1.148996\n",
       "5 -0.052348  0.514655  0.556965  0.876844"
      ]
     },
     "execution_count": 11,
     "metadata": {},
     "output_type": "execute_result"
    }
   ],
   "source": [
    "df"
   ]
  },
  {
   "cell_type": "code",
   "execution_count": 12,
   "id": "de7c9d0d-ae2b-4612-83a4-a621e86e0122",
   "metadata": {},
   "outputs": [
    {
     "data": {
      "text/plain": [
       "0   -0.929395\n",
       "1    0.918204\n",
       "2   -0.158437\n",
       "3   -1.922199\n",
       "4   -0.032647\n",
       "5   -0.052348\n",
       "Name: A, dtype: float64"
      ]
     },
     "execution_count": 12,
     "metadata": {},
     "output_type": "execute_result"
    }
   ],
   "source": [
    "df.loc[:,'A']"
   ]
  },
  {
   "cell_type": "code",
   "execution_count": 13,
   "id": "12558deb-43e2-435f-af7d-fc397354f41c",
   "metadata": {},
   "outputs": [
    {
     "data": {
      "text/plain": [
       "0   -2.280813\n",
       "1   -0.390473\n",
       "2    1.705163\n",
       "3    1.619203\n",
       "4    1.861126\n",
       "5    0.514655\n",
       "Name: B, dtype: float64"
      ]
     },
     "execution_count": 13,
     "metadata": {},
     "output_type": "execute_result"
    }
   ],
   "source": [
    "df.loc[:,'B']"
   ]
  },
  {
   "cell_type": "code",
   "execution_count": 14,
   "id": "9a38d9b0-c732-4912-a67c-d516acb5c01b",
   "metadata": {},
   "outputs": [
    {
     "data": {
      "text/plain": [
       "0   -0.338576\n",
       "1    0.825526\n",
       "2   -0.782617\n",
       "3   -0.724498\n",
       "4   -0.603237\n",
       "5    0.556965\n",
       "Name: C, dtype: float64"
      ]
     },
     "execution_count": 14,
     "metadata": {},
     "output_type": "execute_result"
    }
   ],
   "source": [
    "df.loc[:,'C']"
   ]
  },
  {
   "cell_type": "code",
   "execution_count": 15,
   "id": "a60fb9ab-2069-423e-aeb7-6ceb26413ae5",
   "metadata": {},
   "outputs": [
    {
     "data": {
      "text/plain": [
       "0   -0.385702\n",
       "1   -1.080448\n",
       "2   -1.345561\n",
       "3    0.184381\n",
       "4   -1.148996\n",
       "5    0.876844\n",
       "Name: D, dtype: float64"
      ]
     },
     "execution_count": 15,
     "metadata": {},
     "output_type": "execute_result"
    }
   ],
   "source": [
    "df.loc[:,'D']"
   ]
  },
  {
   "cell_type": "code",
   "execution_count": 16,
   "id": "e6741f6f-bc47-4c7a-8285-60f38a2ffeaa",
   "metadata": {},
   "outputs": [
    {
     "data": {
      "text/html": [
       "<div>\n",
       "<style scoped>\n",
       "    .dataframe tbody tr th:only-of-type {\n",
       "        vertical-align: middle;\n",
       "    }\n",
       "\n",
       "    .dataframe tbody tr th {\n",
       "        vertical-align: top;\n",
       "    }\n",
       "\n",
       "    .dataframe thead th {\n",
       "        text-align: right;\n",
       "    }\n",
       "</style>\n",
       "<table border=\"1\" class=\"dataframe\">\n",
       "  <thead>\n",
       "    <tr style=\"text-align: right;\">\n",
       "      <th></th>\n",
       "      <th>A</th>\n",
       "      <th>B</th>\n",
       "      <th>C</th>\n",
       "      <th>D</th>\n",
       "    </tr>\n",
       "  </thead>\n",
       "  <tbody>\n",
       "    <tr>\n",
       "      <th>0</th>\n",
       "      <td>-0.929395</td>\n",
       "      <td>-2.280813</td>\n",
       "      <td>-0.338576</td>\n",
       "      <td>-0.385702</td>\n",
       "    </tr>\n",
       "    <tr>\n",
       "      <th>1</th>\n",
       "      <td>0.918204</td>\n",
       "      <td>-0.390473</td>\n",
       "      <td>0.825526</td>\n",
       "      <td>-1.080448</td>\n",
       "    </tr>\n",
       "    <tr>\n",
       "      <th>2</th>\n",
       "      <td>-0.158437</td>\n",
       "      <td>1.705163</td>\n",
       "      <td>-0.782617</td>\n",
       "      <td>-1.345561</td>\n",
       "    </tr>\n",
       "    <tr>\n",
       "      <th>3</th>\n",
       "      <td>-1.922199</td>\n",
       "      <td>1.619203</td>\n",
       "      <td>-0.724498</td>\n",
       "      <td>0.184381</td>\n",
       "    </tr>\n",
       "    <tr>\n",
       "      <th>4</th>\n",
       "      <td>-0.032647</td>\n",
       "      <td>1.861126</td>\n",
       "      <td>-0.603237</td>\n",
       "      <td>-1.148996</td>\n",
       "    </tr>\n",
       "    <tr>\n",
       "      <th>5</th>\n",
       "      <td>-0.052348</td>\n",
       "      <td>0.514655</td>\n",
       "      <td>0.556965</td>\n",
       "      <td>0.876844</td>\n",
       "    </tr>\n",
       "  </tbody>\n",
       "</table>\n",
       "</div>"
      ],
      "text/plain": [
       "          A         B         C         D\n",
       "0 -0.929395 -2.280813 -0.338576 -0.385702\n",
       "1  0.918204 -0.390473  0.825526 -1.080448\n",
       "2 -0.158437  1.705163 -0.782617 -1.345561\n",
       "3 -1.922199  1.619203 -0.724498  0.184381\n",
       "4 -0.032647  1.861126 -0.603237 -1.148996\n",
       "5 -0.052348  0.514655  0.556965  0.876844"
      ]
     },
     "execution_count": 16,
     "metadata": {},
     "output_type": "execute_result"
    }
   ],
   "source": [
    "df"
   ]
  },
  {
   "cell_type": "code",
   "execution_count": 17,
   "id": "f3a191e1-c1a3-4107-ac56-c969f71f4a07",
   "metadata": {},
   "outputs": [],
   "source": [
    "df=pd.DataFrame(np.random.rand(4,4),columns=['A','B','C','D'],index=['a','b','c','d'])"
   ]
  },
  {
   "cell_type": "code",
   "execution_count": 18,
   "id": "862ece54-1f9c-4745-9ff2-31f14d9fb647",
   "metadata": {},
   "outputs": [
    {
     "data": {
      "text/html": [
       "<div>\n",
       "<style scoped>\n",
       "    .dataframe tbody tr th:only-of-type {\n",
       "        vertical-align: middle;\n",
       "    }\n",
       "\n",
       "    .dataframe tbody tr th {\n",
       "        vertical-align: top;\n",
       "    }\n",
       "\n",
       "    .dataframe thead th {\n",
       "        text-align: right;\n",
       "    }\n",
       "</style>\n",
       "<table border=\"1\" class=\"dataframe\">\n",
       "  <thead>\n",
       "    <tr style=\"text-align: right;\">\n",
       "      <th></th>\n",
       "      <th>A</th>\n",
       "      <th>B</th>\n",
       "      <th>C</th>\n",
       "      <th>D</th>\n",
       "    </tr>\n",
       "  </thead>\n",
       "  <tbody>\n",
       "    <tr>\n",
       "      <th>a</th>\n",
       "      <td>0.997993</td>\n",
       "      <td>0.895609</td>\n",
       "      <td>0.382545</td>\n",
       "      <td>0.147574</td>\n",
       "    </tr>\n",
       "    <tr>\n",
       "      <th>b</th>\n",
       "      <td>0.054440</td>\n",
       "      <td>0.416754</td>\n",
       "      <td>0.115754</td>\n",
       "      <td>0.034234</td>\n",
       "    </tr>\n",
       "    <tr>\n",
       "      <th>c</th>\n",
       "      <td>0.948607</td>\n",
       "      <td>0.594593</td>\n",
       "      <td>0.120215</td>\n",
       "      <td>0.351055</td>\n",
       "    </tr>\n",
       "    <tr>\n",
       "      <th>d</th>\n",
       "      <td>0.108764</td>\n",
       "      <td>0.053796</td>\n",
       "      <td>0.499116</td>\n",
       "      <td>0.166797</td>\n",
       "    </tr>\n",
       "  </tbody>\n",
       "</table>\n",
       "</div>"
      ],
      "text/plain": [
       "          A         B         C         D\n",
       "a  0.997993  0.895609  0.382545  0.147574\n",
       "b  0.054440  0.416754  0.115754  0.034234\n",
       "c  0.948607  0.594593  0.120215  0.351055\n",
       "d  0.108764  0.053796  0.499116  0.166797"
      ]
     },
     "execution_count": 18,
     "metadata": {},
     "output_type": "execute_result"
    }
   ],
   "source": [
    "df"
   ]
  },
  {
   "cell_type": "code",
   "execution_count": 19,
   "id": "91118de7-fda5-4036-af9d-93ae9df1592e",
   "metadata": {},
   "outputs": [
    {
     "data": {
      "text/plain": [
       "a    0.997993\n",
       "b    0.054440\n",
       "Name: A, dtype: float64"
      ]
     },
     "execution_count": 19,
     "metadata": {},
     "output_type": "execute_result"
    }
   ],
   "source": [
    "df.loc['a':'b','A']"
   ]
  },
  {
   "cell_type": "code",
   "execution_count": 20,
   "id": "93a02ea3-7305-4a30-ba3d-fb7f3ce2cccc",
   "metadata": {},
   "outputs": [
    {
     "data": {
      "text/plain": [
       "a    0.997993\n",
       "b    0.054440\n",
       "c    0.948607\n",
       "d    0.108764\n",
       "Name: A, dtype: float64"
      ]
     },
     "execution_count": 20,
     "metadata": {},
     "output_type": "execute_result"
    }
   ],
   "source": [
    "df.loc['a':'d','A']"
   ]
  },
  {
   "cell_type": "code",
   "execution_count": 21,
   "id": "dddffa01-b4d6-4554-a08f-8fa720eab3cd",
   "metadata": {},
   "outputs": [
    {
     "data": {
      "text/plain": [
       "a    0.382545\n",
       "b    0.115754\n",
       "c    0.120215\n",
       "d    0.499116\n",
       "Name: C, dtype: float64"
      ]
     },
     "execution_count": 21,
     "metadata": {},
     "output_type": "execute_result"
    }
   ],
   "source": [
    "df.loc['a':'d','C']"
   ]
  },
  {
   "cell_type": "code",
   "execution_count": 22,
   "id": "1f75f847-27bc-4c21-b3ce-a6545b619635",
   "metadata": {},
   "outputs": [
    {
     "data": {
      "text/html": [
       "<div>\n",
       "<style scoped>\n",
       "    .dataframe tbody tr th:only-of-type {\n",
       "        vertical-align: middle;\n",
       "    }\n",
       "\n",
       "    .dataframe tbody tr th {\n",
       "        vertical-align: top;\n",
       "    }\n",
       "\n",
       "    .dataframe thead th {\n",
       "        text-align: right;\n",
       "    }\n",
       "</style>\n",
       "<table border=\"1\" class=\"dataframe\">\n",
       "  <thead>\n",
       "    <tr style=\"text-align: right;\">\n",
       "      <th></th>\n",
       "      <th>C</th>\n",
       "      <th>D</th>\n",
       "    </tr>\n",
       "  </thead>\n",
       "  <tbody>\n",
       "    <tr>\n",
       "      <th>a</th>\n",
       "      <td>0.382545</td>\n",
       "      <td>0.147574</td>\n",
       "    </tr>\n",
       "    <tr>\n",
       "      <th>b</th>\n",
       "      <td>0.115754</td>\n",
       "      <td>0.034234</td>\n",
       "    </tr>\n",
       "    <tr>\n",
       "      <th>c</th>\n",
       "      <td>0.120215</td>\n",
       "      <td>0.351055</td>\n",
       "    </tr>\n",
       "    <tr>\n",
       "      <th>d</th>\n",
       "      <td>0.499116</td>\n",
       "      <td>0.166797</td>\n",
       "    </tr>\n",
       "  </tbody>\n",
       "</table>\n",
       "</div>"
      ],
      "text/plain": [
       "          C         D\n",
       "a  0.382545  0.147574\n",
       "b  0.115754  0.034234\n",
       "c  0.120215  0.351055\n",
       "d  0.499116  0.166797"
      ]
     },
     "execution_count": 22,
     "metadata": {},
     "output_type": "execute_result"
    }
   ],
   "source": [
    "df.loc[:,['C','D']]"
   ]
  },
  {
   "cell_type": "code",
   "execution_count": 23,
   "id": "eee62ebc-3184-4495-a2d3-c20eebec1473",
   "metadata": {},
   "outputs": [
    {
     "data": {
      "text/html": [
       "<div>\n",
       "<style scoped>\n",
       "    .dataframe tbody tr th:only-of-type {\n",
       "        vertical-align: middle;\n",
       "    }\n",
       "\n",
       "    .dataframe tbody tr th {\n",
       "        vertical-align: top;\n",
       "    }\n",
       "\n",
       "    .dataframe thead th {\n",
       "        text-align: right;\n",
       "    }\n",
       "</style>\n",
       "<table border=\"1\" class=\"dataframe\">\n",
       "  <thead>\n",
       "    <tr style=\"text-align: right;\">\n",
       "      <th></th>\n",
       "      <th>A</th>\n",
       "      <th>B</th>\n",
       "      <th>C</th>\n",
       "      <th>D</th>\n",
       "    </tr>\n",
       "  </thead>\n",
       "  <tbody>\n",
       "    <tr>\n",
       "      <th>a</th>\n",
       "      <td>0.997993</td>\n",
       "      <td>0.895609</td>\n",
       "      <td>0.382545</td>\n",
       "      <td>0.147574</td>\n",
       "    </tr>\n",
       "    <tr>\n",
       "      <th>b</th>\n",
       "      <td>0.054440</td>\n",
       "      <td>0.416754</td>\n",
       "      <td>0.115754</td>\n",
       "      <td>0.034234</td>\n",
       "    </tr>\n",
       "    <tr>\n",
       "      <th>c</th>\n",
       "      <td>0.948607</td>\n",
       "      <td>0.594593</td>\n",
       "      <td>0.120215</td>\n",
       "      <td>0.351055</td>\n",
       "    </tr>\n",
       "    <tr>\n",
       "      <th>d</th>\n",
       "      <td>0.108764</td>\n",
       "      <td>0.053796</td>\n",
       "      <td>0.499116</td>\n",
       "      <td>0.166797</td>\n",
       "    </tr>\n",
       "  </tbody>\n",
       "</table>\n",
       "</div>"
      ],
      "text/plain": [
       "          A         B         C         D\n",
       "a  0.997993  0.895609  0.382545  0.147574\n",
       "b  0.054440  0.416754  0.115754  0.034234\n",
       "c  0.948607  0.594593  0.120215  0.351055\n",
       "d  0.108764  0.053796  0.499116  0.166797"
      ]
     },
     "execution_count": 23,
     "metadata": {},
     "output_type": "execute_result"
    }
   ],
   "source": [
    "df.loc[:,:]"
   ]
  },
  {
   "cell_type": "code",
   "execution_count": 24,
   "id": "6a7816d8-dcdc-4c26-972b-d48e9c10d289",
   "metadata": {},
   "outputs": [
    {
     "data": {
      "text/html": [
       "<div>\n",
       "<style scoped>\n",
       "    .dataframe tbody tr th:only-of-type {\n",
       "        vertical-align: middle;\n",
       "    }\n",
       "\n",
       "    .dataframe tbody tr th {\n",
       "        vertical-align: top;\n",
       "    }\n",
       "\n",
       "    .dataframe thead th {\n",
       "        text-align: right;\n",
       "    }\n",
       "</style>\n",
       "<table border=\"1\" class=\"dataframe\">\n",
       "  <thead>\n",
       "    <tr style=\"text-align: right;\">\n",
       "      <th></th>\n",
       "      <th>A</th>\n",
       "      <th>B</th>\n",
       "      <th>C</th>\n",
       "      <th>D</th>\n",
       "    </tr>\n",
       "  </thead>\n",
       "  <tbody>\n",
       "    <tr>\n",
       "      <th>a</th>\n",
       "      <td>0.997993</td>\n",
       "      <td>0.895609</td>\n",
       "      <td>0.382545</td>\n",
       "      <td>0.147574</td>\n",
       "    </tr>\n",
       "    <tr>\n",
       "      <th>b</th>\n",
       "      <td>0.054440</td>\n",
       "      <td>0.416754</td>\n",
       "      <td>0.115754</td>\n",
       "      <td>0.034234</td>\n",
       "    </tr>\n",
       "  </tbody>\n",
       "</table>\n",
       "</div>"
      ],
      "text/plain": [
       "          A         B         C         D\n",
       "a  0.997993  0.895609  0.382545  0.147574\n",
       "b  0.054440  0.416754  0.115754  0.034234"
      ]
     },
     "execution_count": 24,
     "metadata": {},
     "output_type": "execute_result"
    }
   ],
   "source": [
    "df.loc['a':'b',:]"
   ]
  },
  {
   "cell_type": "code",
   "execution_count": 25,
   "id": "8b34e1ed-afd0-4f47-9ff9-8aaa5cca79b6",
   "metadata": {},
   "outputs": [
    {
     "data": {
      "text/html": [
       "<div>\n",
       "<style scoped>\n",
       "    .dataframe tbody tr th:only-of-type {\n",
       "        vertical-align: middle;\n",
       "    }\n",
       "\n",
       "    .dataframe tbody tr th {\n",
       "        vertical-align: top;\n",
       "    }\n",
       "\n",
       "    .dataframe thead th {\n",
       "        text-align: right;\n",
       "    }\n",
       "</style>\n",
       "<table border=\"1\" class=\"dataframe\">\n",
       "  <thead>\n",
       "    <tr style=\"text-align: right;\">\n",
       "      <th></th>\n",
       "      <th>A</th>\n",
       "      <th>B</th>\n",
       "      <th>C</th>\n",
       "      <th>D</th>\n",
       "    </tr>\n",
       "  </thead>\n",
       "  <tbody>\n",
       "    <tr>\n",
       "      <th>a</th>\n",
       "      <td>0.997993</td>\n",
       "      <td>0.895609</td>\n",
       "      <td>0.382545</td>\n",
       "      <td>0.147574</td>\n",
       "    </tr>\n",
       "    <tr>\n",
       "      <th>b</th>\n",
       "      <td>0.054440</td>\n",
       "      <td>0.416754</td>\n",
       "      <td>0.115754</td>\n",
       "      <td>0.034234</td>\n",
       "    </tr>\n",
       "  </tbody>\n",
       "</table>\n",
       "</div>"
      ],
      "text/plain": [
       "          A         B         C         D\n",
       "a  0.997993  0.895609  0.382545  0.147574\n",
       "b  0.054440  0.416754  0.115754  0.034234"
      ]
     },
     "execution_count": 25,
     "metadata": {},
     "output_type": "execute_result"
    }
   ],
   "source": [
    "df.loc['a':'b',:]"
   ]
  },
  {
   "cell_type": "code",
   "execution_count": 26,
   "id": "16531b86-6974-49b6-a430-a008be6878c4",
   "metadata": {},
   "outputs": [
    {
     "data": {
      "text/html": [
       "<div>\n",
       "<style scoped>\n",
       "    .dataframe tbody tr th:only-of-type {\n",
       "        vertical-align: middle;\n",
       "    }\n",
       "\n",
       "    .dataframe tbody tr th {\n",
       "        vertical-align: top;\n",
       "    }\n",
       "\n",
       "    .dataframe thead th {\n",
       "        text-align: right;\n",
       "    }\n",
       "</style>\n",
       "<table border=\"1\" class=\"dataframe\">\n",
       "  <thead>\n",
       "    <tr style=\"text-align: right;\">\n",
       "      <th></th>\n",
       "      <th>A</th>\n",
       "      <th>B</th>\n",
       "      <th>C</th>\n",
       "      <th>D</th>\n",
       "    </tr>\n",
       "  </thead>\n",
       "  <tbody>\n",
       "    <tr>\n",
       "      <th>a</th>\n",
       "      <td>0.997993</td>\n",
       "      <td>0.895609</td>\n",
       "      <td>0.382545</td>\n",
       "      <td>0.147574</td>\n",
       "    </tr>\n",
       "    <tr>\n",
       "      <th>b</th>\n",
       "      <td>0.054440</td>\n",
       "      <td>0.416754</td>\n",
       "      <td>0.115754</td>\n",
       "      <td>0.034234</td>\n",
       "    </tr>\n",
       "    <tr>\n",
       "      <th>c</th>\n",
       "      <td>0.948607</td>\n",
       "      <td>0.594593</td>\n",
       "      <td>0.120215</td>\n",
       "      <td>0.351055</td>\n",
       "    </tr>\n",
       "    <tr>\n",
       "      <th>d</th>\n",
       "      <td>0.108764</td>\n",
       "      <td>0.053796</td>\n",
       "      <td>0.499116</td>\n",
       "      <td>0.166797</td>\n",
       "    </tr>\n",
       "  </tbody>\n",
       "</table>\n",
       "</div>"
      ],
      "text/plain": [
       "          A         B         C         D\n",
       "a  0.997993  0.895609  0.382545  0.147574\n",
       "b  0.054440  0.416754  0.115754  0.034234\n",
       "c  0.948607  0.594593  0.120215  0.351055\n",
       "d  0.108764  0.053796  0.499116  0.166797"
      ]
     },
     "execution_count": 26,
     "metadata": {},
     "output_type": "execute_result"
    }
   ],
   "source": [
    "df"
   ]
  },
  {
   "cell_type": "code",
   "execution_count": 29,
   "id": "6952f9e3-a56a-412b-b2bb-76e19f06a45a",
   "metadata": {},
   "outputs": [
    {
     "data": {
      "text/html": [
       "<div>\n",
       "<style scoped>\n",
       "    .dataframe tbody tr th:only-of-type {\n",
       "        vertical-align: middle;\n",
       "    }\n",
       "\n",
       "    .dataframe tbody tr th {\n",
       "        vertical-align: top;\n",
       "    }\n",
       "\n",
       "    .dataframe thead th {\n",
       "        text-align: right;\n",
       "    }\n",
       "</style>\n",
       "<table border=\"1\" class=\"dataframe\">\n",
       "  <thead>\n",
       "    <tr style=\"text-align: right;\">\n",
       "      <th></th>\n",
       "      <th>0</th>\n",
       "      <th>1</th>\n",
       "      <th>2</th>\n",
       "      <th>3</th>\n",
       "      <th>4</th>\n",
       "    </tr>\n",
       "  </thead>\n",
       "  <tbody>\n",
       "    <tr>\n",
       "      <th>0</th>\n",
       "      <td>0.733072</td>\n",
       "      <td>0.649039</td>\n",
       "      <td>0.735345</td>\n",
       "      <td>0.633395</td>\n",
       "      <td>0.646713</td>\n",
       "    </tr>\n",
       "    <tr>\n",
       "      <th>1</th>\n",
       "      <td>0.599824</td>\n",
       "      <td>0.051027</td>\n",
       "      <td>0.026764</td>\n",
       "      <td>0.834425</td>\n",
       "      <td>0.325852</td>\n",
       "    </tr>\n",
       "    <tr>\n",
       "      <th>2</th>\n",
       "      <td>0.381558</td>\n",
       "      <td>0.773475</td>\n",
       "      <td>0.506347</td>\n",
       "      <td>0.488302</td>\n",
       "      <td>0.281610</td>\n",
       "    </tr>\n",
       "    <tr>\n",
       "      <th>3</th>\n",
       "      <td>0.793897</td>\n",
       "      <td>0.821356</td>\n",
       "      <td>0.157216</td>\n",
       "      <td>0.953835</td>\n",
       "      <td>0.937248</td>\n",
       "    </tr>\n",
       "    <tr>\n",
       "      <th>4</th>\n",
       "      <td>0.232108</td>\n",
       "      <td>0.550504</td>\n",
       "      <td>0.916739</td>\n",
       "      <td>0.232150</td>\n",
       "      <td>0.848648</td>\n",
       "    </tr>\n",
       "    <tr>\n",
       "      <th>5</th>\n",
       "      <td>0.203721</td>\n",
       "      <td>0.514874</td>\n",
       "      <td>0.921200</td>\n",
       "      <td>0.501452</td>\n",
       "      <td>0.641981</td>\n",
       "    </tr>\n",
       "    <tr>\n",
       "      <th>6</th>\n",
       "      <td>0.762674</td>\n",
       "      <td>0.813092</td>\n",
       "      <td>0.541980</td>\n",
       "      <td>0.890543</td>\n",
       "      <td>0.215953</td>\n",
       "    </tr>\n",
       "  </tbody>\n",
       "</table>\n",
       "</div>"
      ],
      "text/plain": [
       "          0         1         2         3         4\n",
       "0  0.733072  0.649039  0.735345  0.633395  0.646713\n",
       "1  0.599824  0.051027  0.026764  0.834425  0.325852\n",
       "2  0.381558  0.773475  0.506347  0.488302  0.281610\n",
       "3  0.793897  0.821356  0.157216  0.953835  0.937248\n",
       "4  0.232108  0.550504  0.916739  0.232150  0.848648\n",
       "5  0.203721  0.514874  0.921200  0.501452  0.641981\n",
       "6  0.762674  0.813092  0.541980  0.890543  0.215953"
      ]
     },
     "execution_count": 29,
     "metadata": {},
     "output_type": "execute_result"
    }
   ],
   "source": [
    "df=pd.DataFrame(np.random.rand(7,5))\n",
    "df"
   ]
  },
  {
   "cell_type": "code",
   "execution_count": 31,
   "id": "981c0c27-11fb-4353-99bc-56e63da72665",
   "metadata": {},
   "outputs": [
    {
     "data": {
      "text/plain": [
       "0    0.733072\n",
       "1    0.599824\n",
       "2    0.381558\n",
       "3    0.793897\n",
       "4    0.232108\n",
       "5    0.203721\n",
       "6    0.762674\n",
       "Name: 0, dtype: float64"
      ]
     },
     "execution_count": 31,
     "metadata": {},
     "output_type": "execute_result"
    }
   ],
   "source": [
    "df.iloc[:,0]"
   ]
  },
  {
   "cell_type": "code",
   "execution_count": 32,
   "id": "e9e33dbc-4a22-4704-8a93-ca7dc8250764",
   "metadata": {},
   "outputs": [
    {
     "data": {
      "text/plain": [
       "0    0.733072\n",
       "1    0.599824\n",
       "2    0.381558\n",
       "3    0.793897\n",
       "Name: 0, dtype: float64"
      ]
     },
     "execution_count": 32,
     "metadata": {},
     "output_type": "execute_result"
    }
   ],
   "source": [
    "df.iloc[0:4,0]"
   ]
  },
  {
   "cell_type": "code",
   "execution_count": 33,
   "id": "67d466f7-8b1a-4a8f-847f-a95eaed72b9e",
   "metadata": {},
   "outputs": [
    {
     "data": {
      "text/plain": [
       "1    0.026764\n",
       "2    0.506347\n",
       "3    0.157216\n",
       "4    0.916739\n",
       "5    0.921200\n",
       "Name: 2, dtype: float64"
      ]
     },
     "execution_count": 33,
     "metadata": {},
     "output_type": "execute_result"
    }
   ],
   "source": [
    "df.iloc[1:6,2]"
   ]
  },
  {
   "cell_type": "code",
   "execution_count": 34,
   "id": "5876b24c-d680-4a7f-9bfa-a81928d5faaf",
   "metadata": {},
   "outputs": [
    {
     "data": {
      "text/plain": [
       "0    0.633395\n",
       "1    0.834425\n",
       "2    0.488302\n",
       "3    0.953835\n",
       "4    0.232150\n",
       "5    0.501452\n",
       "6    0.890543\n",
       "Name: 3, dtype: float64"
      ]
     },
     "execution_count": 34,
     "metadata": {},
     "output_type": "execute_result"
    }
   ],
   "source": [
    "df.iloc[:,3]"
   ]
  },
  {
   "cell_type": "code",
   "execution_count": 35,
   "id": "a2157b20-a524-4e3b-b4b2-aec115c64feb",
   "metadata": {},
   "outputs": [
    {
     "data": {
      "text/plain": [
       "2    0.488302\n",
       "3    0.953835\n",
       "4    0.232150\n",
       "Name: 3, dtype: float64"
      ]
     },
     "execution_count": 35,
     "metadata": {},
     "output_type": "execute_result"
    }
   ],
   "source": [
    "df.iloc[2:5,3]"
   ]
  },
  {
   "cell_type": "code",
   "execution_count": 36,
   "id": "4812bd6c-4090-46af-846d-e42f01cd2255",
   "metadata": {},
   "outputs": [
    {
     "data": {
      "text/html": [
       "<div>\n",
       "<style scoped>\n",
       "    .dataframe tbody tr th:only-of-type {\n",
       "        vertical-align: middle;\n",
       "    }\n",
       "\n",
       "    .dataframe tbody tr th {\n",
       "        vertical-align: top;\n",
       "    }\n",
       "\n",
       "    .dataframe thead th {\n",
       "        text-align: right;\n",
       "    }\n",
       "</style>\n",
       "<table border=\"1\" class=\"dataframe\">\n",
       "  <thead>\n",
       "    <tr style=\"text-align: right;\">\n",
       "      <th></th>\n",
       "      <th>1</th>\n",
       "      <th>2</th>\n",
       "    </tr>\n",
       "  </thead>\n",
       "  <tbody>\n",
       "    <tr>\n",
       "      <th>0</th>\n",
       "      <td>0.649039</td>\n",
       "      <td>0.735345</td>\n",
       "    </tr>\n",
       "    <tr>\n",
       "      <th>1</th>\n",
       "      <td>0.051027</td>\n",
       "      <td>0.026764</td>\n",
       "    </tr>\n",
       "    <tr>\n",
       "      <th>2</th>\n",
       "      <td>0.773475</td>\n",
       "      <td>0.506347</td>\n",
       "    </tr>\n",
       "    <tr>\n",
       "      <th>3</th>\n",
       "      <td>0.821356</td>\n",
       "      <td>0.157216</td>\n",
       "    </tr>\n",
       "    <tr>\n",
       "      <th>4</th>\n",
       "      <td>0.550504</td>\n",
       "      <td>0.916739</td>\n",
       "    </tr>\n",
       "    <tr>\n",
       "      <th>5</th>\n",
       "      <td>0.514874</td>\n",
       "      <td>0.921200</td>\n",
       "    </tr>\n",
       "  </tbody>\n",
       "</table>\n",
       "</div>"
      ],
      "text/plain": [
       "          1         2\n",
       "0  0.649039  0.735345\n",
       "1  0.051027  0.026764\n",
       "2  0.773475  0.506347\n",
       "3  0.821356  0.157216\n",
       "4  0.550504  0.916739\n",
       "5  0.514874  0.921200"
      ]
     },
     "execution_count": 36,
     "metadata": {},
     "output_type": "execute_result"
    }
   ],
   "source": [
    "df.iloc[0:6,1:3]"
   ]
  },
  {
   "cell_type": "code",
   "execution_count": null,
   "id": "c49b39f3-3177-4986-a905-5f704525a780",
   "metadata": {},
   "outputs": [],
   "source": []
  }
 ],
 "metadata": {
  "kernelspec": {
   "display_name": "Python 3 (ipykernel)",
   "language": "python",
   "name": "python3"
  },
  "language_info": {
   "codemirror_mode": {
    "name": "ipython",
    "version": 3
   },
   "file_extension": ".py",
   "mimetype": "text/x-python",
   "name": "python",
   "nbconvert_exporter": "python",
   "pygments_lexer": "ipython3",
   "version": "3.11.7"
  }
 },
 "nbformat": 4,
 "nbformat_minor": 5
}
