{
 "cells": [
  {
   "cell_type": "markdown",
   "id": "c33d69bf-192a-47eb-9326-eb581a3e58dd",
   "metadata": {},
   "source": [
    "NumPy (Numerical Python)"
   ]
  },
  {
   "cell_type": "code",
   "execution_count": 5,
   "id": "f35f49c4-7ec6-469e-90b6-1cc54e3afc66",
   "metadata": {},
   "outputs": [],
   "source": [
    "import numpy"
   ]
  },
  {
   "cell_type": "code",
   "execution_count": 6,
   "id": "6c4e8a5e-65f0-4649-9f32-c8d2357f263f",
   "metadata": {},
   "outputs": [
    {
     "data": {
      "text/plain": [
       "array([1, 2, 3, 4, 5])"
      ]
     },
     "execution_count": 6,
     "metadata": {},
     "output_type": "execute_result"
    }
   ],
   "source": [
    "numpy.array([1,2,3,4,5])"
   ]
  },
  {
   "cell_type": "code",
   "execution_count": 7,
   "id": "f6538187-edc1-4e24-a1a6-d7d044fe68ed",
   "metadata": {},
   "outputs": [
    {
     "data": {
      "text/plain": [
       "array([11, 12, 13, 14, 15, 16, 17])"
      ]
     },
     "execution_count": 7,
     "metadata": {},
     "output_type": "execute_result"
    }
   ],
   "source": [
    "numpy.array([11,12,13,14,15,16,17])"
   ]
  },
  {
   "cell_type": "code",
   "execution_count": 8,
   "id": "a7e54fc3-558e-4484-a8e1-386d63da9e99",
   "metadata": {},
   "outputs": [
    {
     "data": {
      "text/plain": [
       "array([100, 200, 300, 400, 500, 600, 700])"
      ]
     },
     "execution_count": 8,
     "metadata": {},
     "output_type": "execute_result"
    }
   ],
   "source": [
    "numpy.array([100,200,300,400,500,600,700])"
   ]
  },
  {
   "cell_type": "code",
   "execution_count": 9,
   "id": "cb2bb809-cc23-4388-8f34-3bcecaf87d7c",
   "metadata": {},
   "outputs": [],
   "source": [
    "import numpy as np"
   ]
  },
  {
   "cell_type": "code",
   "execution_count": 10,
   "id": "a80383e1-02bb-433b-a603-d32dcd836a15",
   "metadata": {},
   "outputs": [
    {
     "data": {
      "text/plain": [
       "array([10, 20, 30, 40])"
      ]
     },
     "execution_count": 10,
     "metadata": {},
     "output_type": "execute_result"
    }
   ],
   "source": [
    "np.array([10,20,30,40])"
   ]
  },
  {
   "cell_type": "code",
   "execution_count": 11,
   "id": "0568b34d-0893-4e46-99c5-0e7a8affb50c",
   "metadata": {},
   "outputs": [],
   "source": [
    "a=np.array([12,14,16,18,20,22])"
   ]
  },
  {
   "cell_type": "code",
   "execution_count": 12,
   "id": "a4b2dca1-3215-491a-b98b-a9257a858863",
   "metadata": {},
   "outputs": [
    {
     "data": {
      "text/plain": [
       "array([12, 14, 16, 18, 20, 22])"
      ]
     },
     "execution_count": 12,
     "metadata": {},
     "output_type": "execute_result"
    }
   ],
   "source": [
    "a"
   ]
  },
  {
   "cell_type": "code",
   "execution_count": 13,
   "id": "a4e768ac-af54-4981-9587-bac5e2a0eca8",
   "metadata": {},
   "outputs": [
    {
     "data": {
      "text/plain": [
       "1"
      ]
     },
     "execution_count": 13,
     "metadata": {},
     "output_type": "execute_result"
    }
   ],
   "source": [
    "a.ndim"
   ]
  },
  {
   "cell_type": "code",
   "execution_count": 13,
   "id": "1696a574-7de3-4532-ac06-9e4a73e60ad4",
   "metadata": {},
   "outputs": [
    {
     "data": {
      "text/plain": [
       "6"
      ]
     },
     "execution_count": 13,
     "metadata": {},
     "output_type": "execute_result"
    }
   ],
   "source": [
    "a.size"
   ]
  },
  {
   "cell_type": "code",
   "execution_count": 14,
   "id": "3603e4bb-486d-4560-9f89-189ddc91726e",
   "metadata": {},
   "outputs": [
    {
     "data": {
      "text/plain": [
       "(6,)"
      ]
     },
     "execution_count": 14,
     "metadata": {},
     "output_type": "execute_result"
    }
   ],
   "source": [
    "a.shape"
   ]
  },
  {
   "cell_type": "code",
   "execution_count": 16,
   "id": "0a88e1b5-7753-441a-8735-181f4dd86721",
   "metadata": {},
   "outputs": [],
   "source": [
    "b=np.array([10,20,30,40,50,60,70,80])"
   ]
  },
  {
   "cell_type": "code",
   "execution_count": 17,
   "id": "9e0f7c92-aea5-4c62-ae25-f4b6172e4ec6",
   "metadata": {},
   "outputs": [
    {
     "data": {
      "text/plain": [
       "array([10, 20, 30, 40, 50, 60, 70, 80])"
      ]
     },
     "execution_count": 17,
     "metadata": {},
     "output_type": "execute_result"
    }
   ],
   "source": [
    "b"
   ]
  },
  {
   "cell_type": "code",
   "execution_count": 18,
   "id": "cc023831-ebc0-45cb-aecc-17505bb1969a",
   "metadata": {},
   "outputs": [
    {
     "data": {
      "text/plain": [
       "8"
      ]
     },
     "execution_count": 18,
     "metadata": {},
     "output_type": "execute_result"
    }
   ],
   "source": [
    "b.size"
   ]
  },
  {
   "cell_type": "code",
   "execution_count": 19,
   "id": "21d1acd1-51aa-4565-bcb1-f7570cef64c8",
   "metadata": {},
   "outputs": [],
   "source": [
    "c=np.array([44,55,66,77,88])"
   ]
  },
  {
   "cell_type": "code",
   "execution_count": 17,
   "id": "451d7c14-2230-44bc-8f6e-7ab7294bd5df",
   "metadata": {},
   "outputs": [
    {
     "data": {
      "text/plain": [
       "array([44, 55, 66, 77, 88])"
      ]
     },
     "execution_count": 17,
     "metadata": {},
     "output_type": "execute_result"
    }
   ],
   "source": [
    "c"
   ]
  },
  {
   "cell_type": "code",
   "execution_count": 20,
   "id": "a5edba2e-aa83-41e6-9d0f-274970f469e0",
   "metadata": {},
   "outputs": [
    {
     "data": {
      "text/plain": [
       "dtype('int32')"
      ]
     },
     "execution_count": 20,
     "metadata": {},
     "output_type": "execute_result"
    }
   ],
   "source": [
    "c.dtype"
   ]
  },
  {
   "cell_type": "code",
   "execution_count": 18,
   "id": "175e1c72-53c8-43da-b68b-d0cc48d5266c",
   "metadata": {},
   "outputs": [
    {
     "data": {
      "text/plain": [
       "5"
      ]
     },
     "execution_count": 18,
     "metadata": {},
     "output_type": "execute_result"
    }
   ],
   "source": [
    "c.size"
   ]
  },
  {
   "cell_type": "code",
   "execution_count": 21,
   "id": "6030813d-1036-4db8-b69f-c81f413d930c",
   "metadata": {},
   "outputs": [],
   "source": [
    "d=np.array([34.5,22.1,67.8,98.4,25.6])"
   ]
  },
  {
   "cell_type": "code",
   "execution_count": 20,
   "id": "87b61077-d1a5-45c7-ac07-14f7e5be133b",
   "metadata": {},
   "outputs": [
    {
     "data": {
      "text/plain": [
       "array([34.5, 22.1, 67.8, 98.4, 25.6])"
      ]
     },
     "execution_count": 20,
     "metadata": {},
     "output_type": "execute_result"
    }
   ],
   "source": [
    "d"
   ]
  },
  {
   "cell_type": "code",
   "execution_count": 22,
   "id": "e3a1f6eb-2da6-47c3-b1c7-cc324551baab",
   "metadata": {},
   "outputs": [
    {
     "data": {
      "text/plain": [
       "dtype('float64')"
      ]
     },
     "execution_count": 22,
     "metadata": {},
     "output_type": "execute_result"
    }
   ],
   "source": [
    "d.dtype"
   ]
  },
  {
   "cell_type": "code",
   "execution_count": 22,
   "id": "2e647628-0dc1-433d-ba3a-ef8fe49b5d0c",
   "metadata": {},
   "outputs": [
    {
     "data": {
      "text/plain": [
       "5"
      ]
     },
     "execution_count": 22,
     "metadata": {},
     "output_type": "execute_result"
    }
   ],
   "source": [
    "d.size"
   ]
  },
  {
   "cell_type": "code",
   "execution_count": 23,
   "id": "96bdfb36-ffba-4bcd-b64e-23edf32cccaa",
   "metadata": {},
   "outputs": [],
   "source": [
    "e=np.array([12,14,15,16,17],dtype='int')"
   ]
  },
  {
   "cell_type": "code",
   "execution_count": 24,
   "id": "5f5d5491-34a0-4fcd-a712-0b1376a63f36",
   "metadata": {},
   "outputs": [
    {
     "data": {
      "text/plain": [
       "array([12, 14, 15, 16, 17])"
      ]
     },
     "execution_count": 24,
     "metadata": {},
     "output_type": "execute_result"
    }
   ],
   "source": [
    "e"
   ]
  },
  {
   "cell_type": "code",
   "execution_count": 25,
   "id": "5e9e3468-e66c-48fe-83ed-107a37130154",
   "metadata": {},
   "outputs": [
    {
     "data": {
      "text/plain": [
       "dtype('int32')"
      ]
     },
     "execution_count": 25,
     "metadata": {},
     "output_type": "execute_result"
    }
   ],
   "source": [
    "e.dtype"
   ]
  },
  {
   "cell_type": "code",
   "execution_count": 24,
   "id": "afcbd190-1569-4f36-b369-bf8ba144294c",
   "metadata": {},
   "outputs": [],
   "source": [
    "e=np.array([12,14,15,16,17],dtype='float')"
   ]
  },
  {
   "cell_type": "code",
   "execution_count": 27,
   "id": "108e6abd-07eb-4d01-811f-a9a45c48371c",
   "metadata": {},
   "outputs": [
    {
     "data": {
      "text/plain": [
       "array([12., 14., 15., 16., 17.])"
      ]
     },
     "execution_count": 27,
     "metadata": {},
     "output_type": "execute_result"
    }
   ],
   "source": [
    "e"
   ]
  },
  {
   "cell_type": "code",
   "execution_count": 28,
   "id": "f625f1a4-a798-4b77-af28-1895199079c5",
   "metadata": {},
   "outputs": [
    {
     "data": {
      "text/plain": [
       "dtype('float64')"
      ]
     },
     "execution_count": 28,
     "metadata": {},
     "output_type": "execute_result"
    }
   ],
   "source": [
    "e.dtype"
   ]
  },
  {
   "cell_type": "code",
   "execution_count": 25,
   "id": "c2470570-92b3-489e-b9cc-baed8a9c21fa",
   "metadata": {},
   "outputs": [
    {
     "data": {
      "text/plain": [
       "5"
      ]
     },
     "execution_count": 25,
     "metadata": {},
     "output_type": "execute_result"
    }
   ],
   "source": [
    "e.size"
   ]
  },
  {
   "cell_type": "code",
   "execution_count": 30,
   "id": "b1de9968-05df-4155-acd2-c3c40633a643",
   "metadata": {},
   "outputs": [],
   "source": [
    "#f=np.array([[c1,c2],[c1,c2]])"
   ]
  },
  {
   "cell_type": "code",
   "execution_count": 26,
   "id": "66b45e72-42f3-42bf-9458-80bc582b09fe",
   "metadata": {},
   "outputs": [],
   "source": [
    "f=np.array([[1,2],[3,4]])"
   ]
  },
  {
   "cell_type": "code",
   "execution_count": 28,
   "id": "a2dc738c-5107-429a-9a51-0032ac5daf28",
   "metadata": {},
   "outputs": [
    {
     "data": {
      "text/plain": [
       "array([[1, 2],\n",
       "       [3, 4]])"
      ]
     },
     "execution_count": 28,
     "metadata": {},
     "output_type": "execute_result"
    }
   ],
   "source": [
    "f"
   ]
  },
  {
   "cell_type": "code",
   "execution_count": 33,
   "id": "eb5162e9-be92-4e25-8c1b-15c97e7c4c73",
   "metadata": {},
   "outputs": [
    {
     "data": {
      "text/plain": [
       "4"
      ]
     },
     "execution_count": 33,
     "metadata": {},
     "output_type": "execute_result"
    }
   ],
   "source": [
    "f.size"
   ]
  },
  {
   "cell_type": "code",
   "execution_count": 27,
   "id": "2091b26e-f14a-4e29-9f22-d3ba77f91255",
   "metadata": {},
   "outputs": [
    {
     "data": {
      "text/plain": [
       "(2, 2)"
      ]
     },
     "execution_count": 27,
     "metadata": {},
     "output_type": "execute_result"
    }
   ],
   "source": [
    "f.shape"
   ]
  },
  {
   "cell_type": "code",
   "execution_count": 30,
   "id": "27a9dd28-6036-469b-bbb9-1ace3e991f21",
   "metadata": {},
   "outputs": [],
   "source": [
    "g=np.array([[13,14],[15,16]])"
   ]
  },
  {
   "cell_type": "code",
   "execution_count": 31,
   "id": "2d51deac-6534-4d94-bedb-f659e61e5087",
   "metadata": {},
   "outputs": [
    {
     "data": {
      "text/plain": [
       "array([[13, 14],\n",
       "       [15, 16]])"
      ]
     },
     "execution_count": 31,
     "metadata": {},
     "output_type": "execute_result"
    }
   ],
   "source": [
    "g"
   ]
  },
  {
   "cell_type": "code",
   "execution_count": 32,
   "id": "7af52e8c-902d-48ca-b722-f11ec25ef8c3",
   "metadata": {},
   "outputs": [
    {
     "data": {
      "text/plain": [
       "4"
      ]
     },
     "execution_count": 32,
     "metadata": {},
     "output_type": "execute_result"
    }
   ],
   "source": [
    "g.size    #no of elements"
   ]
  },
  {
   "cell_type": "code",
   "execution_count": 38,
   "id": "6102ad4e-96c1-48c1-aa29-52ce86665dce",
   "metadata": {},
   "outputs": [
    {
     "data": {
      "text/plain": [
       "(2, 2)"
      ]
     },
     "execution_count": 38,
     "metadata": {},
     "output_type": "execute_result"
    }
   ],
   "source": [
    "g.shape"
   ]
  },
  {
   "cell_type": "code",
   "execution_count": 39,
   "id": "0eb2636e-8b8b-4c1a-ad28-2e41148acd5a",
   "metadata": {},
   "outputs": [
    {
     "data": {
      "text/plain": [
       "dtype('int32')"
      ]
     },
     "execution_count": 39,
     "metadata": {},
     "output_type": "execute_result"
    }
   ],
   "source": [
    "g.dtype"
   ]
  },
  {
   "cell_type": "code",
   "execution_count": 35,
   "id": "c7835b5c-1201-48fd-9a12-591755da610e",
   "metadata": {},
   "outputs": [
    {
     "data": {
      "text/plain": [
       "4"
      ]
     },
     "execution_count": 35,
     "metadata": {},
     "output_type": "execute_result"
    }
   ],
   "source": [
    "g.itemsize   #no of bytes"
   ]
  },
  {
   "cell_type": "code",
   "execution_count": 33,
   "id": "6e56930d-9815-4f01-81da-c9a76e5ba8f4",
   "metadata": {},
   "outputs": [],
   "source": [
    "h=np.array([[10,20],[30,40],[50,60]])"
   ]
  },
  {
   "cell_type": "code",
   "execution_count": 41,
   "id": "4c04e8ea-bc64-47d0-859e-b0f28e3cd64d",
   "metadata": {},
   "outputs": [
    {
     "data": {
      "text/plain": [
       "array([[10, 20],\n",
       "       [30, 40],\n",
       "       [50, 60]])"
      ]
     },
     "execution_count": 41,
     "metadata": {},
     "output_type": "execute_result"
    }
   ],
   "source": [
    "h"
   ]
  },
  {
   "cell_type": "code",
   "execution_count": 34,
   "id": "55004aac-f10d-4a87-8cd5-ad45476f76df",
   "metadata": {},
   "outputs": [
    {
     "data": {
      "text/plain": [
       "6"
      ]
     },
     "execution_count": 34,
     "metadata": {},
     "output_type": "execute_result"
    }
   ],
   "source": [
    "h.size   #no of elements"
   ]
  },
  {
   "cell_type": "code",
   "execution_count": 71,
   "id": "8869c719-8be9-4faa-a240-94ab8d395473",
   "metadata": {},
   "outputs": [
    {
     "data": {
      "text/plain": [
       "10"
      ]
     },
     "execution_count": 71,
     "metadata": {},
     "output_type": "execute_result"
    }
   ],
   "source": [
    "h.min()"
   ]
  },
  {
   "cell_type": "code",
   "execution_count": 72,
   "id": "2d451856-c023-4d53-a8e2-48468521cee5",
   "metadata": {},
   "outputs": [
    {
     "data": {
      "text/plain": [
       "60"
      ]
     },
     "execution_count": 72,
     "metadata": {},
     "output_type": "execute_result"
    }
   ],
   "source": [
    "h.max()"
   ]
  },
  {
   "cell_type": "code",
   "execution_count": 63,
   "id": "7b87a616-0a50-4ad4-a3ed-7460b425f659",
   "metadata": {},
   "outputs": [
    {
     "data": {
      "text/plain": [
       "(3, 2)"
      ]
     },
     "execution_count": 63,
     "metadata": {},
     "output_type": "execute_result"
    }
   ],
   "source": [
    "h.shape"
   ]
  },
  {
   "cell_type": "code",
   "execution_count": 64,
   "id": "d1e2dcb1-a94d-472e-9665-62863c5379f9",
   "metadata": {},
   "outputs": [
    {
     "data": {
      "text/plain": [
       "dtype('int32')"
      ]
     },
     "execution_count": 64,
     "metadata": {},
     "output_type": "execute_result"
    }
   ],
   "source": [
    "h.dtype"
   ]
  },
  {
   "cell_type": "code",
   "execution_count": 36,
   "id": "9075f5cc-ed1b-4840-a5e1-0814812ed507",
   "metadata": {},
   "outputs": [
    {
     "data": {
      "text/plain": [
       "4"
      ]
     },
     "execution_count": 36,
     "metadata": {},
     "output_type": "execute_result"
    }
   ],
   "source": [
    "h.itemsize #4byte"
   ]
  },
  {
   "cell_type": "code",
   "execution_count": 68,
   "id": "6fa762c8-36c8-4254-9528-25d5b177ecb2",
   "metadata": {},
   "outputs": [
    {
     "data": {
      "text/plain": [
       "2"
      ]
     },
     "execution_count": 68,
     "metadata": {},
     "output_type": "execute_result"
    }
   ],
   "source": [
    "h.ndim  #no of dimensions"
   ]
  },
  {
   "cell_type": "code",
   "execution_count": 37,
   "id": "ba1921cf-afbd-4b19-aea8-cf0c882a3801",
   "metadata": {},
   "outputs": [],
   "source": [
    "#2rows 3columns\n",
    "i=np.array([[4,5,6],[7,8,9]])"
   ]
  },
  {
   "cell_type": "code",
   "execution_count": 47,
   "id": "c0a868ac-c6aa-4e06-9fbf-9a5a3a5866b0",
   "metadata": {},
   "outputs": [
    {
     "data": {
      "text/plain": [
       "array([[4, 5, 6],\n",
       "       [7, 8, 9]])"
      ]
     },
     "execution_count": 47,
     "metadata": {},
     "output_type": "execute_result"
    }
   ],
   "source": [
    "i"
   ]
  },
  {
   "cell_type": "code",
   "execution_count": 48,
   "id": "8275b3ec-19dd-4259-9b79-6bb16d2aafe0",
   "metadata": {},
   "outputs": [
    {
     "data": {
      "text/plain": [
       "6"
      ]
     },
     "execution_count": 48,
     "metadata": {},
     "output_type": "execute_result"
    }
   ],
   "source": [
    "i.size"
   ]
  },
  {
   "cell_type": "code",
   "execution_count": 49,
   "id": "eae91c2b-0f66-47ab-ae4c-420a9d600baa",
   "metadata": {},
   "outputs": [
    {
     "data": {
      "text/plain": [
       "(2, 3)"
      ]
     },
     "execution_count": 49,
     "metadata": {},
     "output_type": "execute_result"
    }
   ],
   "source": [
    "i.shape"
   ]
  },
  {
   "cell_type": "code",
   "execution_count": 50,
   "id": "18e793ae-e8c7-443e-bdaa-7dd2cf519019",
   "metadata": {},
   "outputs": [
    {
     "data": {
      "text/plain": [
       "dtype('int32')"
      ]
     },
     "execution_count": 50,
     "metadata": {},
     "output_type": "execute_result"
    }
   ],
   "source": [
    "i.dtype"
   ]
  },
  {
   "cell_type": "code",
   "execution_count": 38,
   "id": "1b485b7f-beae-4048-a76a-b7c89f47f492",
   "metadata": {},
   "outputs": [],
   "source": [
    "i=np.array([[4,5,6],[7,8,9]],dtype='float')"
   ]
  },
  {
   "cell_type": "code",
   "execution_count": 52,
   "id": "fbdbfc06-35a6-4b9f-bdcd-d6e64c836f48",
   "metadata": {},
   "outputs": [
    {
     "data": {
      "text/plain": [
       "array([[4., 5., 6.],\n",
       "       [7., 8., 9.]])"
      ]
     },
     "execution_count": 52,
     "metadata": {},
     "output_type": "execute_result"
    }
   ],
   "source": [
    "i"
   ]
  },
  {
   "cell_type": "code",
   "execution_count": 53,
   "id": "3d875e30-581a-43d7-874b-c0a33230ed2b",
   "metadata": {},
   "outputs": [
    {
     "data": {
      "text/plain": [
       "dtype('float64')"
      ]
     },
     "execution_count": 53,
     "metadata": {},
     "output_type": "execute_result"
    }
   ],
   "source": [
    "i.dtype"
   ]
  },
  {
   "cell_type": "code",
   "execution_count": 70,
   "id": "9a75ee7d-70b5-4fa9-a9fd-1b9e416ab88e",
   "metadata": {},
   "outputs": [
    {
     "data": {
      "text/plain": [
       "2"
      ]
     },
     "execution_count": 70,
     "metadata": {},
     "output_type": "execute_result"
    }
   ],
   "source": [
    "i.ndim"
   ]
  },
  {
   "cell_type": "markdown",
   "id": "eba372db-8230-42aa-ae57-8aace443701a",
   "metadata": {},
   "source": [
    "shapes rows & columns\n",
    "(4,2)(4,3)(3,4)(3,3)(4,5)(5,5)(2,5)(5,3)"
   ]
  },
  {
   "cell_type": "code",
   "execution_count": 73,
   "id": "aee0d3bb-1903-487f-9896-60b0a37580a9",
   "metadata": {},
   "outputs": [
    {
     "data": {
      "text/plain": [
       "4.0"
      ]
     },
     "execution_count": 73,
     "metadata": {},
     "output_type": "execute_result"
    }
   ],
   "source": [
    "i.min()"
   ]
  },
  {
   "cell_type": "code",
   "execution_count": 74,
   "id": "3f909143-8b17-4ac4-9fa7-413a2e763d69",
   "metadata": {},
   "outputs": [
    {
     "data": {
      "text/plain": [
       "9.0"
      ]
     },
     "execution_count": 74,
     "metadata": {},
     "output_type": "execute_result"
    }
   ],
   "source": [
    "i.max()"
   ]
  },
  {
   "cell_type": "code",
   "execution_count": 75,
   "id": "fc3459a8-0af6-4b29-8a52-9d2e4bb5f7e7",
   "metadata": {},
   "outputs": [
    {
     "data": {
      "text/plain": [
       "array([[10, 20],\n",
       "       [30, 40],\n",
       "       [50, 60]])"
      ]
     },
     "execution_count": 75,
     "metadata": {},
     "output_type": "execute_result"
    }
   ],
   "source": [
    "h"
   ]
  },
  {
   "cell_type": "code",
   "execution_count": 76,
   "id": "d3eeee2d-f25a-40ab-a275-755c98d026c0",
   "metadata": {},
   "outputs": [
    {
     "data": {
      "text/plain": [
       "(3, 2)"
      ]
     },
     "execution_count": 76,
     "metadata": {},
     "output_type": "execute_result"
    }
   ],
   "source": [
    "h.shape"
   ]
  },
  {
   "cell_type": "code",
   "execution_count": 39,
   "id": "4eb0558d-28ae-42a7-aec6-c28102eb9186",
   "metadata": {},
   "outputs": [
    {
     "data": {
      "text/plain": [
       "array([[10, 20, 30],\n",
       "       [40, 50, 60]])"
      ]
     },
     "execution_count": 39,
     "metadata": {},
     "output_type": "execute_result"
    }
   ],
   "source": [
    "h.reshape(2,3)"
   ]
  },
  {
   "cell_type": "code",
   "execution_count": 40,
   "id": "b95b4a73-6799-423b-b5b2-7be51f495f76",
   "metadata": {},
   "outputs": [],
   "source": [
    "j=np.arange(15)"
   ]
  },
  {
   "cell_type": "code",
   "execution_count": 79,
   "id": "58c155a4-732d-453c-bb40-ff9595fc4103",
   "metadata": {},
   "outputs": [
    {
     "data": {
      "text/plain": [
       "array([ 0,  1,  2,  3,  4,  5,  6,  7,  8,  9, 10, 11, 12, 13, 14])"
      ]
     },
     "execution_count": 79,
     "metadata": {},
     "output_type": "execute_result"
    }
   ],
   "source": [
    "j"
   ]
  },
  {
   "cell_type": "code",
   "execution_count": 80,
   "id": "42316b40-7df5-470c-8643-fddd252f3e35",
   "metadata": {},
   "outputs": [
    {
     "data": {
      "text/plain": [
       "array([[ 0,  1,  2,  3,  4],\n",
       "       [ 5,  6,  7,  8,  9],\n",
       "       [10, 11, 12, 13, 14]])"
      ]
     },
     "execution_count": 80,
     "metadata": {},
     "output_type": "execute_result"
    }
   ],
   "source": [
    "j.reshape(3,5)"
   ]
  },
  {
   "cell_type": "code",
   "execution_count": 81,
   "id": "2afd9726-b22e-4891-948e-f553027476f4",
   "metadata": {},
   "outputs": [
    {
     "data": {
      "text/plain": [
       "array([[ 0,  1,  2],\n",
       "       [ 3,  4,  5],\n",
       "       [ 6,  7,  8],\n",
       "       [ 9, 10, 11],\n",
       "       [12, 13, 14]])"
      ]
     },
     "execution_count": 81,
     "metadata": {},
     "output_type": "execute_result"
    }
   ],
   "source": [
    "j.reshape(5,3)"
   ]
  },
  {
   "cell_type": "code",
   "execution_count": 41,
   "id": "f2389ffe-9cf2-4acc-b389-b22eab2b44ac",
   "metadata": {},
   "outputs": [],
   "source": [
    "k=np.arange(25)"
   ]
  },
  {
   "cell_type": "code",
   "execution_count": 83,
   "id": "85f0f341-1c6b-40ff-8c6a-5ca44a02fcf9",
   "metadata": {},
   "outputs": [
    {
     "data": {
      "text/plain": [
       "array([ 0,  1,  2,  3,  4,  5,  6,  7,  8,  9, 10, 11, 12, 13, 14, 15, 16,\n",
       "       17, 18, 19, 20, 21, 22, 23, 24])"
      ]
     },
     "execution_count": 83,
     "metadata": {},
     "output_type": "execute_result"
    }
   ],
   "source": [
    "k"
   ]
  },
  {
   "cell_type": "code",
   "execution_count": 42,
   "id": "8faf55c5-f3b7-4348-8d29-5b9f04b2bd2b",
   "metadata": {},
   "outputs": [],
   "source": [
    "p=k.reshape(5,5)"
   ]
  },
  {
   "cell_type": "code",
   "execution_count": 87,
   "id": "93130b45-6707-4864-b801-e9dd8d5718bc",
   "metadata": {},
   "outputs": [
    {
     "data": {
      "text/plain": [
       "array([[ 0,  1,  2,  3,  4],\n",
       "       [ 5,  6,  7,  8,  9],\n",
       "       [10, 11, 12, 13, 14],\n",
       "       [15, 16, 17, 18, 19],\n",
       "       [20, 21, 22, 23, 24]])"
      ]
     },
     "execution_count": 87,
     "metadata": {},
     "output_type": "execute_result"
    }
   ],
   "source": [
    "p"
   ]
  },
  {
   "cell_type": "code",
   "execution_count": 43,
   "id": "33e7b374-055f-462c-88b7-418308d3fafa",
   "metadata": {},
   "outputs": [],
   "source": [
    "x=np.zeros([3,3])"
   ]
  },
  {
   "cell_type": "code",
   "execution_count": 92,
   "id": "5c1ab128-665f-41fd-92a1-59e9bb13efd0",
   "metadata": {},
   "outputs": [
    {
     "data": {
      "text/plain": [
       "array([[0., 0., 0.],\n",
       "       [0., 0., 0.],\n",
       "       [0., 0., 0.]])"
      ]
     },
     "execution_count": 92,
     "metadata": {},
     "output_type": "execute_result"
    }
   ],
   "source": [
    "x"
   ]
  },
  {
   "cell_type": "code",
   "execution_count": 44,
   "id": "a71eb38f-7b81-4149-8b43-7289e13c95e1",
   "metadata": {},
   "outputs": [],
   "source": [
    "y=np.ones([3,3])"
   ]
  },
  {
   "cell_type": "code",
   "execution_count": 94,
   "id": "a005932f-d87c-482f-b245-75a222c55b83",
   "metadata": {},
   "outputs": [
    {
     "data": {
      "text/plain": [
       "array([[1., 1., 1.],\n",
       "       [1., 1., 1.],\n",
       "       [1., 1., 1.]])"
      ]
     },
     "execution_count": 94,
     "metadata": {},
     "output_type": "execute_result"
    }
   ],
   "source": [
    "y"
   ]
  },
  {
   "cell_type": "code",
   "execution_count": 95,
   "id": "e4f96eee-ab07-4bfa-8bff-6438b08eeced",
   "metadata": {},
   "outputs": [
    {
     "data": {
      "text/plain": [
       "array([[1., 1., 1.],\n",
       "       [1., 1., 1.],\n",
       "       [1., 1., 1.]])"
      ]
     },
     "execution_count": 95,
     "metadata": {},
     "output_type": "execute_result"
    }
   ],
   "source": [
    "x+y"
   ]
  },
  {
   "cell_type": "markdown",
   "id": "60331135-31a3-4c7c-b1b5-9fdeddd4ed79",
   "metadata": {},
   "source": [
    "Broadcasting in Numpy"
   ]
  },
  {
   "cell_type": "code",
   "execution_count": 45,
   "id": "d6a74161-208c-43e3-abab-dc1f7027986c",
   "metadata": {},
   "outputs": [
    {
     "data": {
      "text/plain": [
       "array([2, 3, 4, 5])"
      ]
     },
     "execution_count": 45,
     "metadata": {},
     "output_type": "execute_result"
    }
   ],
   "source": [
    "a=np.array([2,3,4,5])\n",
    "a"
   ]
  },
  {
   "cell_type": "code",
   "execution_count": 47,
   "id": "d4435234-ef10-409e-ba89-dfd517d70f0d",
   "metadata": {},
   "outputs": [
    {
     "data": {
      "text/plain": [
       "array([10, 20, 30, 40])"
      ]
     },
     "execution_count": 47,
     "metadata": {},
     "output_type": "execute_result"
    }
   ],
   "source": [
    "b=np.array([10,20,30,40])\n",
    "b"
   ]
  },
  {
   "cell_type": "code",
   "execution_count": 48,
   "id": "51892c3a-b8ea-41be-93c2-6fc3185434c3",
   "metadata": {},
   "outputs": [
    {
     "data": {
      "text/plain": [
       "array([ 20,  60, 120, 200])"
      ]
     },
     "execution_count": 48,
     "metadata": {},
     "output_type": "execute_result"
    }
   ],
   "source": [
    "a*b"
   ]
  },
  {
   "cell_type": "code",
   "execution_count": 100,
   "id": "076d3578-6e61-4638-8107-b66caa64dee2",
   "metadata": {},
   "outputs": [
    {
     "data": {
      "text/plain": [
       "array([12, 23, 34, 45])"
      ]
     },
     "execution_count": 100,
     "metadata": {},
     "output_type": "execute_result"
    }
   ],
   "source": [
    "a+b"
   ]
  },
  {
   "cell_type": "code",
   "execution_count": 101,
   "id": "64628da8-1c2f-403a-bc12-f45b764dc2dc",
   "metadata": {},
   "outputs": [
    {
     "data": {
      "text/plain": [
       "array([ -8, -17, -26, -35])"
      ]
     },
     "execution_count": 101,
     "metadata": {},
     "output_type": "execute_result"
    }
   ],
   "source": [
    "a-b"
   ]
  },
  {
   "cell_type": "code",
   "execution_count": 49,
   "id": "5a2ce44a-1ad8-4510-8b81-77f2a4fd2821",
   "metadata": {},
   "outputs": [
    {
     "data": {
      "text/plain": [
       "array([10, 20, 30, 40, 50])"
      ]
     },
     "execution_count": 49,
     "metadata": {},
     "output_type": "execute_result"
    }
   ],
   "source": [
    "c=np.array([10,20,30,40,50])\n",
    "c"
   ]
  },
  {
   "cell_type": "code",
   "execution_count": 103,
   "id": "e10ce74e-d781-4d52-b38f-62c503a91b49",
   "metadata": {},
   "outputs": [
    {
     "data": {
      "text/plain": [
       "array([ 20,  40,  60,  80, 100])"
      ]
     },
     "execution_count": 103,
     "metadata": {},
     "output_type": "execute_result"
    }
   ],
   "source": [
    "c*2"
   ]
  },
  {
   "cell_type": "code",
   "execution_count": 104,
   "id": "db51f4a3-efca-4f18-8700-127923667892",
   "metadata": {},
   "outputs": [
    {
     "data": {
      "text/plain": [
       "array([ 100,  400,  900, 1600, 2500])"
      ]
     },
     "execution_count": 104,
     "metadata": {},
     "output_type": "execute_result"
    }
   ],
   "source": [
    "c**2"
   ]
  },
  {
   "cell_type": "code",
   "execution_count": 50,
   "id": "7e302154-f8b8-41d8-ba98-837285fffabc",
   "metadata": {},
   "outputs": [],
   "source": [
    "p=np.random.random([3,3])"
   ]
  },
  {
   "cell_type": "code",
   "execution_count": 106,
   "id": "98823e05-1f95-4772-9f64-884179712def",
   "metadata": {},
   "outputs": [
    {
     "data": {
      "text/plain": [
       "array([[0.14577924, 0.82085788, 0.12448394],\n",
       "       [0.50104843, 0.4160631 , 0.92267575],\n",
       "       [0.00892653, 0.0948763 , 0.52232209]])"
      ]
     },
     "execution_count": 106,
     "metadata": {},
     "output_type": "execute_result"
    }
   ],
   "source": [
    "p"
   ]
  },
  {
   "cell_type": "code",
   "execution_count": 51,
   "id": "9213f4de-cc17-4c4d-8131-5adb69f8b48f",
   "metadata": {},
   "outputs": [],
   "source": [
    "q=np.ones([3,3])"
   ]
  },
  {
   "cell_type": "code",
   "execution_count": 110,
   "id": "191f8f30-7515-4373-a802-4c1fcfda4213",
   "metadata": {},
   "outputs": [
    {
     "data": {
      "text/plain": [
       "array([[1., 1., 1.],\n",
       "       [1., 1., 1.],\n",
       "       [1., 1., 1.]])"
      ]
     },
     "execution_count": 110,
     "metadata": {},
     "output_type": "execute_result"
    }
   ],
   "source": [
    "q"
   ]
  },
  {
   "cell_type": "code",
   "execution_count": 52,
   "id": "d3fd48f2-7323-4957-94b8-e52a67e267d2",
   "metadata": {},
   "outputs": [
    {
     "data": {
      "text/plain": [
       "array([[1.50994124, 1.87214046, 1.59077054],\n",
       "       [1.56972056, 1.81432153, 1.75302575],\n",
       "       [1.19264544, 1.94216467, 1.59134312]])"
      ]
     },
     "execution_count": 52,
     "metadata": {},
     "output_type": "execute_result"
    }
   ],
   "source": [
    "p+q"
   ]
  },
  {
   "cell_type": "markdown",
   "id": "4fda8a67-61d5-4d6d-882e-ec4c0f7e9728",
   "metadata": {},
   "source": [
    "Universal Fuctions:"
   ]
  },
  {
   "cell_type": "code",
   "execution_count": 53,
   "id": "be2e5c6c-6c89-47f9-8a30-52377c00c050",
   "metadata": {},
   "outputs": [],
   "source": [
    "b=np.arange(3)"
   ]
  },
  {
   "cell_type": "code",
   "execution_count": 55,
   "id": "1410dbc3-ff68-4b1e-aaa2-5575f0310d65",
   "metadata": {},
   "outputs": [
    {
     "data": {
      "text/plain": [
       "array([0, 1, 2])"
      ]
     },
     "execution_count": 55,
     "metadata": {},
     "output_type": "execute_result"
    }
   ],
   "source": [
    "b"
   ]
  },
  {
   "cell_type": "code",
   "execution_count": 56,
   "id": "2fd4037b-5ac9-4cd1-8d05-f107696614b8",
   "metadata": {},
   "outputs": [
    {
     "data": {
      "text/plain": [
       "array([1.        , 2.71828183, 7.3890561 ])"
      ]
     },
     "execution_count": 56,
     "metadata": {},
     "output_type": "execute_result"
    }
   ],
   "source": [
    "np.exp(b)"
   ]
  },
  {
   "cell_type": "code",
   "execution_count": 57,
   "id": "eaffb900-af04-4a7d-ac36-d6cc30abc545",
   "metadata": {},
   "outputs": [
    {
     "data": {
      "text/plain": [
       "array([0.        , 1.        , 1.41421356])"
      ]
     },
     "execution_count": 57,
     "metadata": {},
     "output_type": "execute_result"
    }
   ],
   "source": [
    "np.sqrt(b)"
   ]
  },
  {
   "cell_type": "code",
   "execution_count": 58,
   "id": "a5459584-7ec1-441e-a6de-8793522549f7",
   "metadata": {},
   "outputs": [
    {
     "data": {
      "text/plain": [
       "array([2, 2, 6])"
      ]
     },
     "execution_count": 58,
     "metadata": {},
     "output_type": "execute_result"
    }
   ],
   "source": [
    "c=np.array([2,1,4])\n",
    "np.add(b,c)"
   ]
  },
  {
   "cell_type": "markdown",
   "id": "e82669ee-4b5f-457a-afc2-b39e72192526",
   "metadata": {},
   "source": [
    "Indexing, Slicing and Iterating"
   ]
  },
  {
   "cell_type": "code",
   "execution_count": 5,
   "id": "00fa2c4e-c418-4846-9dcc-8feead8375af",
   "metadata": {},
   "outputs": [],
   "source": [
    "import numpy as np"
   ]
  },
  {
   "cell_type": "code",
   "execution_count": 6,
   "id": "f9d62d66-6ab2-4c58-b520-49b7dcb323c6",
   "metadata": {},
   "outputs": [],
   "source": [
    "a=np.arange(10)"
   ]
  },
  {
   "cell_type": "code",
   "execution_count": 7,
   "id": "c8d5ad6a-3466-40c0-89cf-f078d044848f",
   "metadata": {},
   "outputs": [
    {
     "data": {
      "text/plain": [
       "array([0, 1, 2, 3, 4, 5, 6, 7, 8, 9])"
      ]
     },
     "execution_count": 7,
     "metadata": {},
     "output_type": "execute_result"
    }
   ],
   "source": [
    "a"
   ]
  },
  {
   "cell_type": "code",
   "execution_count": 9,
   "id": "553a4bba-85cd-4646-a80b-9f61f47b30ae",
   "metadata": {},
   "outputs": [
    {
     "data": {
      "text/plain": [
       "2"
      ]
     },
     "execution_count": 9,
     "metadata": {},
     "output_type": "execute_result"
    }
   ],
   "source": [
    "a[2]     #indexng"
   ]
  },
  {
   "cell_type": "code",
   "execution_count": 10,
   "id": "6f90b236-c4f2-4b4c-8d97-90f338e82882",
   "metadata": {},
   "outputs": [
    {
     "data": {
      "text/plain": [
       "array([2, 3, 4])"
      ]
     },
     "execution_count": 10,
     "metadata": {},
     "output_type": "execute_result"
    }
   ],
   "source": [
    "a[2:5]"
   ]
  },
  {
   "cell_type": "code",
   "execution_count": 54,
   "id": "aeae7913-07cf-4e88-b776-9d4a9c68e2eb",
   "metadata": {},
   "outputs": [
    {
     "data": {
      "text/plain": [
       "array([ 0,  1,  2,  3,  4,  5,  6,  7,  8,  9, 10, 11, 12, 13, 14])"
      ]
     },
     "execution_count": 54,
     "metadata": {},
     "output_type": "execute_result"
    }
   ],
   "source": [
    "j"
   ]
  },
  {
   "cell_type": "code",
   "execution_count": 113,
   "id": "fc4791ff-3f0f-461a-aa48-f7c49c82a5c8",
   "metadata": {},
   "outputs": [
    {
     "data": {
      "text/plain": [
       "4"
      ]
     },
     "execution_count": 113,
     "metadata": {},
     "output_type": "execute_result"
    }
   ],
   "source": [
    "j[4]"
   ]
  },
  {
   "cell_type": "code",
   "execution_count": 114,
   "id": "32c38f16-6045-4943-82c3-e4685a357e71",
   "metadata": {},
   "outputs": [
    {
     "data": {
      "text/plain": [
       "9"
      ]
     },
     "execution_count": 114,
     "metadata": {},
     "output_type": "execute_result"
    }
   ],
   "source": [
    "j[9]"
   ]
  },
  {
   "cell_type": "code",
   "execution_count": 115,
   "id": "09f56f33-a586-46d2-a760-c654e9eb528f",
   "metadata": {},
   "outputs": [
    {
     "data": {
      "text/plain": [
       "array([5, 6, 7])"
      ]
     },
     "execution_count": 115,
     "metadata": {},
     "output_type": "execute_result"
    }
   ],
   "source": [
    "j[5:8]"
   ]
  },
  {
   "cell_type": "code",
   "execution_count": 116,
   "id": "1a30299c-2449-4aa9-a25a-702d145acd91",
   "metadata": {},
   "outputs": [
    {
     "data": {
      "text/plain": [
       "array([ 8,  9, 10, 11])"
      ]
     },
     "execution_count": 116,
     "metadata": {},
     "output_type": "execute_result"
    }
   ],
   "source": [
    "j[8:12]"
   ]
  },
  {
   "cell_type": "code",
   "execution_count": 117,
   "id": "58830091-24b2-4cb0-8b44-07e1a9327b15",
   "metadata": {},
   "outputs": [
    {
     "data": {
      "text/plain": [
       "14"
      ]
     },
     "execution_count": 117,
     "metadata": {},
     "output_type": "execute_result"
    }
   ],
   "source": [
    "j[-1]"
   ]
  },
  {
   "cell_type": "code",
   "execution_count": 119,
   "id": "96f57a75-68fa-4859-aa4f-bb5e1324402b",
   "metadata": {},
   "outputs": [
    {
     "data": {
      "text/plain": [
       "13"
      ]
     },
     "execution_count": 119,
     "metadata": {},
     "output_type": "execute_result"
    }
   ],
   "source": [
    "j[-2]"
   ]
  },
  {
   "cell_type": "code",
   "execution_count": 2,
   "id": "8f4934df-3c17-4990-bea5-76b4accc4092",
   "metadata": {},
   "outputs": [],
   "source": [
    "import numpy as np"
   ]
  },
  {
   "cell_type": "code",
   "execution_count": 3,
   "id": "8c72b75a-a6e8-4acf-b650-e812d96818dd",
   "metadata": {},
   "outputs": [],
   "source": [
    "a=np.array([24,45,np.nan,90,60,34,np.nan,22,21])"
   ]
  },
  {
   "cell_type": "code",
   "execution_count": 4,
   "id": "46f04f7a-321c-442f-b840-8608cac8574e",
   "metadata": {},
   "outputs": [
    {
     "data": {
      "text/plain": [
       "array([24., 45., nan, 90., 60., 34., nan, 22., 21.])"
      ]
     },
     "execution_count": 4,
     "metadata": {},
     "output_type": "execute_result"
    }
   ],
   "source": [
    "a"
   ]
  },
  {
   "cell_type": "code",
   "execution_count": null,
   "id": "4cf4f429-cf74-469d-b71a-3575462de7d9",
   "metadata": {},
   "outputs": [],
   "source": []
  }
 ],
 "metadata": {
  "kernelspec": {
   "display_name": "Python 3 (ipykernel)",
   "language": "python",
   "name": "python3"
  },
  "language_info": {
   "codemirror_mode": {
    "name": "ipython",
    "version": 3
   },
   "file_extension": ".py",
   "mimetype": "text/x-python",
   "name": "python",
   "nbconvert_exporter": "python",
   "pygments_lexer": "ipython3",
   "version": "3.11.7"
  }
 },
 "nbformat": 4,
 "nbformat_minor": 5
}
