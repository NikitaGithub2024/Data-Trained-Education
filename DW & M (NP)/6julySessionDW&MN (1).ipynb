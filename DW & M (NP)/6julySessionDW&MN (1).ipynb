{
 "cells": [
  {
   "cell_type": "markdown",
   "id": "f5e8a286-7267-403e-bf96-dfa4f9479a79",
   "metadata": {},
   "source": [
    "OPPS(Object Orirnted Progranning Technology)"
   ]
  },
  {
   "cell_type": "code",
   "execution_count": 7,
   "id": "5a04639f-5c21-46fb-a4cf-4cab615083dd",
   "metadata": {},
   "outputs": [],
   "source": [
    "class Student:\n",
    "    #default constructor\n",
    "    def __init__(self,rollno,name,age):  #data member or attributes\n",
    "        self.rollno=rollno\n",
    "        self.name=name\n",
    "        self.age=age\n",
    "        \n",
    "    def display(self):  #member function or member method\n",
    "        print(\"Rollno=\",self.rollno,\" Name=\",self.name,\"Age=\",self.age)"
   ]
  },
  {
   "cell_type": "code",
   "execution_count": 8,
   "id": "da2974e1-4023-4119-8522-5453beb3b4fe",
   "metadata": {},
   "outputs": [
    {
     "name": "stdout",
     "output_type": "stream",
     "text": [
      "Rollno= 201  Name= Andrew Age= 23\n"
     ]
    }
   ],
   "source": [
    "#object/instance\n",
    "stud1=Student(201,'Andrew',23)\n",
    "stud1.display()"
   ]
  },
  {
   "cell_type": "code",
   "execution_count": 9,
   "id": "b9c70275-1057-4470-bc59-ff8db52cfe51",
   "metadata": {},
   "outputs": [
    {
     "name": "stdout",
     "output_type": "stream",
     "text": [
      "Rollno= 202  Name= Jack Age= 25\n"
     ]
    }
   ],
   "source": [
    "stud2=Student(202,'Jack',25)\n",
    "stud2.display()"
   ]
  },
  {
   "cell_type": "code",
   "execution_count": 10,
   "id": "fe6a46a3-5015-4361-bd6a-ef19b29c479e",
   "metadata": {},
   "outputs": [
    {
     "data": {
      "text/plain": [
       "201"
      ]
     },
     "execution_count": 10,
     "metadata": {},
     "output_type": "execute_result"
    }
   ],
   "source": [
    "stud1.rollno"
   ]
  },
  {
   "cell_type": "code",
   "execution_count": 11,
   "id": "221aa160-fe11-415b-ab47-fd17fb832d9e",
   "metadata": {},
   "outputs": [
    {
     "data": {
      "text/plain": [
       "'Andrew'"
      ]
     },
     "execution_count": 11,
     "metadata": {},
     "output_type": "execute_result"
    }
   ],
   "source": [
    "stud1.name"
   ]
  },
  {
   "cell_type": "code",
   "execution_count": 12,
   "id": "672b30da-3871-4f53-83dd-190fa188ad72",
   "metadata": {},
   "outputs": [
    {
     "data": {
      "text/plain": [
       "23"
      ]
     },
     "execution_count": 12,
     "metadata": {},
     "output_type": "execute_result"
    }
   ],
   "source": [
    "stud1.age"
   ]
  },
  {
   "cell_type": "code",
   "execution_count": 13,
   "id": "aba15e54-56af-4e77-9c64-41927f528271",
   "metadata": {},
   "outputs": [
    {
     "data": {
      "text/plain": [
       "202"
      ]
     },
     "execution_count": 13,
     "metadata": {},
     "output_type": "execute_result"
    }
   ],
   "source": [
    "stud2.rollno"
   ]
  },
  {
   "cell_type": "code",
   "execution_count": 14,
   "id": "27d506c4-20ca-4b68-983d-a75114f8a873",
   "metadata": {},
   "outputs": [
    {
     "data": {
      "text/plain": [
       "'Jack'"
      ]
     },
     "execution_count": 14,
     "metadata": {},
     "output_type": "execute_result"
    }
   ],
   "source": [
    "stud2.name"
   ]
  },
  {
   "cell_type": "code",
   "execution_count": 15,
   "id": "decb15fc-af45-478f-a68c-44527393d8b7",
   "metadata": {},
   "outputs": [
    {
     "data": {
      "text/plain": [
       "25"
      ]
     },
     "execution_count": 15,
     "metadata": {},
     "output_type": "execute_result"
    }
   ],
   "source": [
    "stud2.age"
   ]
  },
  {
   "cell_type": "code",
   "execution_count": 22,
   "id": "0141adba-e246-48f5-9f64-7e8f3f98a5d7",
   "metadata": {},
   "outputs": [],
   "source": [
    "class Employee:\n",
    "    revenue= 90000   #class variable\n",
    "    companyname='google'\n",
    "    def __init__(self,empno,name,salary):\n",
    "        self.empno=empno\n",
    "        self.name=name\n",
    "        self.salary=salary\n",
    "\n",
    "    def display(self):\n",
    "        print('Empno=',self.empno)\n",
    "        print('Name=',self.name)\n",
    "        print('Salary=',self.salary)"
   ]
  },
  {
   "cell_type": "code",
   "execution_count": 20,
   "id": "f211fb91-3b56-4898-b8a9-2ba5cf528428",
   "metadata": {},
   "outputs": [
    {
     "name": "stdout",
     "output_type": "stream",
     "text": [
      "Empno= 101\n",
      "Name= Rohan\n",
      "Salary= 66677\n",
      "Empno= 102\n",
      "Name= Reena\n",
      "Salary= 88888\n"
     ]
    }
   ],
   "source": [
    "emp1=Employee(101,'Rohan',66677)\n",
    "emp1.display()\n",
    "\n",
    "emp2=Employee(102,'Reena',88888)\n",
    "emp2.display()"
   ]
  },
  {
   "cell_type": "code",
   "execution_count": 4,
   "id": "e6fded8d-e546-4612-af7a-bdf9548b5168",
   "metadata": {},
   "outputs": [
    {
     "data": {
      "text/plain": [
       "101"
      ]
     },
     "execution_count": 4,
     "metadata": {},
     "output_type": "execute_result"
    }
   ],
   "source": [
    "emp1.empno"
   ]
  },
  {
   "cell_type": "code",
   "execution_count": 5,
   "id": "ea0fefa2-151e-49c7-8db1-03c249c82e4f",
   "metadata": {},
   "outputs": [
    {
     "data": {
      "text/plain": [
       "'Rohan'"
      ]
     },
     "execution_count": 5,
     "metadata": {},
     "output_type": "execute_result"
    }
   ],
   "source": [
    "emp1.name"
   ]
  },
  {
   "cell_type": "code",
   "execution_count": 6,
   "id": "716ff3de-7cb5-4ea6-a6d4-88ccae806ffd",
   "metadata": {},
   "outputs": [
    {
     "data": {
      "text/plain": [
       "66677"
      ]
     },
     "execution_count": 6,
     "metadata": {},
     "output_type": "execute_result"
    }
   ],
   "source": [
    "emp1.salary"
   ]
  },
  {
   "cell_type": "code",
   "execution_count": 16,
   "id": "3962a247-4254-409a-bdc5-9d1fa30073e4",
   "metadata": {},
   "outputs": [
    {
     "data": {
      "text/plain": [
       "102"
      ]
     },
     "execution_count": 16,
     "metadata": {},
     "output_type": "execute_result"
    }
   ],
   "source": [
    "emp2.empno"
   ]
  },
  {
   "cell_type": "code",
   "execution_count": 17,
   "id": "ac80502c-8b84-46f6-86c3-44f137fb6afa",
   "metadata": {},
   "outputs": [
    {
     "data": {
      "text/plain": [
       "'Reena'"
      ]
     },
     "execution_count": 17,
     "metadata": {},
     "output_type": "execute_result"
    }
   ],
   "source": [
    "emp2.name"
   ]
  },
  {
   "cell_type": "code",
   "execution_count": 18,
   "id": "c67fe37c-df43-4839-816f-79deb94f5085",
   "metadata": {},
   "outputs": [
    {
     "data": {
      "text/plain": [
       "88888"
      ]
     },
     "execution_count": 18,
     "metadata": {},
     "output_type": "execute_result"
    }
   ],
   "source": [
    "emp2.salary"
   ]
  },
  {
   "cell_type": "code",
   "execution_count": 21,
   "id": "4cd4c132-0a44-4e34-9418-ff3031e9975a",
   "metadata": {},
   "outputs": [
    {
     "data": {
      "text/plain": [
       "90000"
      ]
     },
     "execution_count": 21,
     "metadata": {},
     "output_type": "execute_result"
    }
   ],
   "source": [
    "Employee.revenue"
   ]
  },
  {
   "cell_type": "code",
   "execution_count": 23,
   "id": "b9bf2b8e-981c-4dc6-b918-761b22bebe89",
   "metadata": {},
   "outputs": [
    {
     "data": {
      "text/plain": [
       "'google'"
      ]
     },
     "execution_count": 23,
     "metadata": {},
     "output_type": "execute_result"
    }
   ],
   "source": [
    "Employee.companyname"
   ]
  },
  {
   "cell_type": "code",
   "execution_count": 25,
   "id": "67717980-1ab2-4756-8708-b90bd95b6049",
   "metadata": {},
   "outputs": [
    {
     "name": "stdout",
     "output_type": "stream",
     "text": [
      "Empno= 101\n",
      "Name= Rohan\n",
      "Salary= 66677\n",
      "Empno= 102\n",
      "Name= Reens\n",
      "Salary= 88888\n"
     ]
    }
   ],
   "source": [
    "def main():\n",
    "    emp1=Employee(101,'Rohan',66677)\n",
    "    emp1.display()\n",
    "    emp2=Employee(102,'Reens',88888)\n",
    "    emp2.display()\n",
    "\n",
    "\n",
    "if __name__==\"__main__\":\n",
    "    main()"
   ]
  },
  {
   "cell_type": "code",
   "execution_count": 26,
   "id": "418c3b02-95ac-46d3-999a-5c7ccf7aee1d",
   "metadata": {},
   "outputs": [],
   "source": [
    "#  MODULES\n",
    "\n",
    "import keyword"
   ]
  },
  {
   "cell_type": "code",
   "execution_count": 27,
   "id": "8074171f-6a55-45e9-bc9d-9cd1461f4999",
   "metadata": {},
   "outputs": [
    {
     "data": {
      "text/plain": [
       "['False',\n",
       " 'None',\n",
       " 'True',\n",
       " 'and',\n",
       " 'as',\n",
       " 'assert',\n",
       " 'async',\n",
       " 'await',\n",
       " 'break',\n",
       " 'class',\n",
       " 'continue',\n",
       " 'def',\n",
       " 'del',\n",
       " 'elif',\n",
       " 'else',\n",
       " 'except',\n",
       " 'finally',\n",
       " 'for',\n",
       " 'from',\n",
       " 'global',\n",
       " 'if',\n",
       " 'import',\n",
       " 'in',\n",
       " 'is',\n",
       " 'lambda',\n",
       " 'nonlocal',\n",
       " 'not',\n",
       " 'or',\n",
       " 'pass',\n",
       " 'raise',\n",
       " 'return',\n",
       " 'try',\n",
       " 'while',\n",
       " 'with',\n",
       " 'yield']"
      ]
     },
     "execution_count": 27,
     "metadata": {},
     "output_type": "execute_result"
    }
   ],
   "source": [
    "keyword.kwlist"
   ]
  },
  {
   "cell_type": "code",
   "execution_count": 28,
   "id": "8637c084-1d6a-4fa1-99ec-9def900c9e11",
   "metadata": {},
   "outputs": [],
   "source": [
    "import sys"
   ]
  },
  {
   "cell_type": "code",
   "execution_count": 29,
   "id": "1aa7eec5-fe66-47bd-b846-5ad1837aeed5",
   "metadata": {},
   "outputs": [
    {
     "data": {
      "text/plain": [
       "['C:\\\\Users\\\\DELL\\\\Python Programming',\n",
       " 'C:\\\\Users\\\\DELL\\\\anaconda3\\\\python311.zip',\n",
       " 'C:\\\\Users\\\\DELL\\\\anaconda3\\\\DLLs',\n",
       " 'C:\\\\Users\\\\DELL\\\\anaconda3\\\\Lib',\n",
       " 'C:\\\\Users\\\\DELL\\\\anaconda3',\n",
       " '',\n",
       " 'C:\\\\Users\\\\DELL\\\\anaconda3\\\\Lib\\\\site-packages',\n",
       " 'C:\\\\Users\\\\DELL\\\\anaconda3\\\\Lib\\\\site-packages\\\\win32',\n",
       " 'C:\\\\Users\\\\DELL\\\\anaconda3\\\\Lib\\\\site-packages\\\\win32\\\\lib',\n",
       " 'C:\\\\Users\\\\DELL\\\\anaconda3\\\\Lib\\\\site-packages\\\\Pythonwin']"
      ]
     },
     "execution_count": 29,
     "metadata": {},
     "output_type": "execute_result"
    }
   ],
   "source": [
    "sys.path"
   ]
  },
  {
   "cell_type": "code",
   "execution_count": 30,
   "id": "a4f4d4ca-8d20-4a07-aae0-67ebf8034fa6",
   "metadata": {},
   "outputs": [],
   "source": [
    "import os"
   ]
  },
  {
   "cell_type": "code",
   "execution_count": 31,
   "id": "acb79acd-80ed-4695-8bf0-6064d946ec78",
   "metadata": {},
   "outputs": [
    {
     "data": {
      "text/plain": [
       "'C:\\\\Users\\\\DELL\\\\Python Programming'"
      ]
     },
     "execution_count": 31,
     "metadata": {},
     "output_type": "execute_result"
    }
   ],
   "source": [
    "os.getcwd()"
   ]
  },
  {
   "cell_type": "code",
   "execution_count": 32,
   "id": "a210b94b-e9ac-474e-8c0c-be932ba54fe0",
   "metadata": {},
   "outputs": [
    {
     "data": {
      "text/plain": [
       "['.ipynb_checkpoints',\n",
       " '15juneSession2PP.ipynb',\n",
       " '16juneSession3PP.ipynb',\n",
       " '22juneSession4PP.ipynb',\n",
       " '23juneSession5PP.ipynb',\n",
       " '29juneSession6PP.ipynb',\n",
       " '30juneSession7PP.ipynb',\n",
       " '6july Python Exam.ipynb',\n",
       " '6julySessionDW&MN.ipynb',\n",
       " '9JuneSession1PP.ipynb']"
      ]
     },
     "execution_count": 32,
     "metadata": {},
     "output_type": "execute_result"
    }
   ],
   "source": [
    "os.listdir()"
   ]
  },
  {
   "cell_type": "code",
   "execution_count": 33,
   "id": "d5bc5190-b20c-42b9-b763-6625880cf5ac",
   "metadata": {},
   "outputs": [],
   "source": [
    "import math"
   ]
  },
  {
   "cell_type": "code",
   "execution_count": 34,
   "id": "9cfd8b99-95a8-4cf7-a0e6-0906379cd858",
   "metadata": {},
   "outputs": [
    {
     "data": {
      "text/plain": [
       "3.141592653589793"
      ]
     },
     "execution_count": 34,
     "metadata": {},
     "output_type": "execute_result"
    }
   ],
   "source": [
    "math.pi"
   ]
  },
  {
   "cell_type": "code",
   "execution_count": 36,
   "id": "f5770ea9-a54f-4226-b891-d8d4ef11220b",
   "metadata": {},
   "outputs": [
    {
     "data": {
      "text/plain": [
       "19113.4497044403"
      ]
     },
     "execution_count": 36,
     "metadata": {},
     "output_type": "execute_result"
    }
   ],
   "source": [
    "radius=78\n",
    "area=math.pi*(radius**2)\n",
    "area"
   ]
  },
  {
   "cell_type": "code",
   "execution_count": 37,
   "id": "82fcd68a-901f-4d52-9e2f-e04e186b1653",
   "metadata": {},
   "outputs": [
    {
     "data": {
      "text/plain": [
       "8.0"
      ]
     },
     "execution_count": 37,
     "metadata": {},
     "output_type": "execute_result"
    }
   ],
   "source": [
    "math.sqrt(64)"
   ]
  },
  {
   "cell_type": "code",
   "execution_count": 38,
   "id": "f5c556c4-e8f6-4ac7-ad38-061c7df5ccab",
   "metadata": {},
   "outputs": [
    {
     "data": {
      "text/plain": [
       "7.0"
      ]
     },
     "execution_count": 38,
     "metadata": {},
     "output_type": "execute_result"
    }
   ],
   "source": [
    "math.sqrt(49)"
   ]
  },
  {
   "cell_type": "code",
   "execution_count": 39,
   "id": "33c9501f-b984-4a6a-8d2e-7a1661eaaebb",
   "metadata": {},
   "outputs": [
    {
     "data": {
      "text/plain": [
       "12.0"
      ]
     },
     "execution_count": 39,
     "metadata": {},
     "output_type": "execute_result"
    }
   ],
   "source": [
    "math.sqrt(144)"
   ]
  },
  {
   "cell_type": "code",
   "execution_count": 40,
   "id": "03b1892d-603a-46f8-9c8f-114f50c0cb69",
   "metadata": {},
   "outputs": [
    {
     "data": {
      "text/plain": [
       "36"
      ]
     },
     "execution_count": 40,
     "metadata": {},
     "output_type": "execute_result"
    }
   ],
   "source": [
    "6**2"
   ]
  },
  {
   "cell_type": "code",
   "execution_count": 41,
   "id": "b58b38f5-9ca3-4e23-b684-367dde2c34e4",
   "metadata": {},
   "outputs": [
    {
     "data": {
      "text/plain": [
       "25"
      ]
     },
     "execution_count": 41,
     "metadata": {},
     "output_type": "execute_result"
    }
   ],
   "source": [
    "5**2"
   ]
  },
  {
   "cell_type": "code",
   "execution_count": 42,
   "id": "ce3d82b0-676b-44f5-ba16-cccc6746621c",
   "metadata": {},
   "outputs": [
    {
     "data": {
      "text/plain": [
       "4.0"
      ]
     },
     "execution_count": 42,
     "metadata": {},
     "output_type": "execute_result"
    }
   ],
   "source": [
    "#math.pow(base,power)\n",
    "math.pow(2,2)"
   ]
  },
  {
   "cell_type": "code",
   "execution_count": 43,
   "id": "e3b75b39-6029-43a9-a5f5-1329dc88a442",
   "metadata": {},
   "outputs": [
    {
     "data": {
      "text/plain": [
       "49.0"
      ]
     },
     "execution_count": 43,
     "metadata": {},
     "output_type": "execute_result"
    }
   ],
   "source": [
    "math.pow(7,2)"
   ]
  },
  {
   "cell_type": "code",
   "execution_count": 44,
   "id": "bb813184-5f70-4b6d-879b-f0d75f2aeb58",
   "metadata": {},
   "outputs": [
    {
     "data": {
      "text/plain": [
       "36.0"
      ]
     },
     "execution_count": 44,
     "metadata": {},
     "output_type": "execute_result"
    }
   ],
   "source": [
    "math.pow(6,2)"
   ]
  },
  {
   "cell_type": "code",
   "execution_count": 45,
   "id": "171e5128-7642-4b37-989c-06a7846a1f40",
   "metadata": {},
   "outputs": [
    {
     "data": {
      "text/plain": [
       "512.0"
      ]
     },
     "execution_count": 45,
     "metadata": {},
     "output_type": "execute_result"
    }
   ],
   "source": [
    "math.pow(8,3)"
   ]
  },
  {
   "cell_type": "code",
   "execution_count": 46,
   "id": "15497889-da8d-4301-a482-6dc434034557",
   "metadata": {},
   "outputs": [],
   "source": [
    "import math as mt"
   ]
  },
  {
   "cell_type": "code",
   "execution_count": 47,
   "id": "9969b1ff-824f-460f-8488-e27ae6b23963",
   "metadata": {},
   "outputs": [
    {
     "data": {
      "text/plain": [
       "3.141592653589793"
      ]
     },
     "execution_count": 47,
     "metadata": {},
     "output_type": "execute_result"
    }
   ],
   "source": [
    "mt.pi"
   ]
  },
  {
   "cell_type": "code",
   "execution_count": 48,
   "id": "4768a3ff-ad5f-453f-af20-8d7f7b5c5d04",
   "metadata": {},
   "outputs": [
    {
     "data": {
      "text/plain": [
       "8.0"
      ]
     },
     "execution_count": 48,
     "metadata": {},
     "output_type": "execute_result"
    }
   ],
   "source": [
    "mt.sqrt(64)"
   ]
  },
  {
   "cell_type": "code",
   "execution_count": 49,
   "id": "0745a579-8812-4767-a1c7-41df8132452c",
   "metadata": {},
   "outputs": [
    {
     "data": {
      "text/plain": [
       "7.0"
      ]
     },
     "execution_count": 49,
     "metadata": {},
     "output_type": "execute_result"
    }
   ],
   "source": [
    "mt.sqrt(49)"
   ]
  },
  {
   "cell_type": "code",
   "execution_count": 50,
   "id": "a3f252f6-66dd-4092-8955-65f6c11a2c5b",
   "metadata": {},
   "outputs": [
    {
     "data": {
      "text/plain": [
       "9.0"
      ]
     },
     "execution_count": 50,
     "metadata": {},
     "output_type": "execute_result"
    }
   ],
   "source": [
    "mt.pow(3,2)"
   ]
  },
  {
   "cell_type": "code",
   "execution_count": 51,
   "id": "9e91fd50-43dc-4aab-a710-428bff944f82",
   "metadata": {},
   "outputs": [],
   "source": [
    "import math as ma"
   ]
  },
  {
   "cell_type": "code",
   "execution_count": 52,
   "id": "0cea4724-3033-48bd-93af-925f6ff504ee",
   "metadata": {},
   "outputs": [
    {
     "data": {
      "text/plain": [
       "3.141592653589793"
      ]
     },
     "execution_count": 52,
     "metadata": {},
     "output_type": "execute_result"
    }
   ],
   "source": [
    "ma.pi"
   ]
  },
  {
   "cell_type": "code",
   "execution_count": 53,
   "id": "7d50e76b-d063-4be3-a29b-b94b5f118b7a",
   "metadata": {},
   "outputs": [
    {
     "data": {
      "text/plain": [
       "8.0"
      ]
     },
     "execution_count": 53,
     "metadata": {},
     "output_type": "execute_result"
    }
   ],
   "source": [
    "ma.sqrt(64)"
   ]
  },
  {
   "cell_type": "code",
   "execution_count": 54,
   "id": "e72241be-7de4-4d4d-bda7-c7fde26e0753",
   "metadata": {},
   "outputs": [
    {
     "data": {
      "text/plain": [
       "3.0"
      ]
     },
     "execution_count": 54,
     "metadata": {},
     "output_type": "execute_result"
    }
   ],
   "source": [
    "ma.sqrt(9)"
   ]
  },
  {
   "cell_type": "code",
   "execution_count": 55,
   "id": "b1d1ee44-0938-490f-afe6-ac414004c5f9",
   "metadata": {},
   "outputs": [],
   "source": [
    "from math import pi"
   ]
  },
  {
   "cell_type": "code",
   "execution_count": 56,
   "id": "344bb594-2a41-4c6d-a78a-a10eb8d120da",
   "metadata": {},
   "outputs": [
    {
     "data": {
      "text/plain": [
       "3.141592653589793"
      ]
     },
     "execution_count": 56,
     "metadata": {},
     "output_type": "execute_result"
    }
   ],
   "source": [
    "pi"
   ]
  },
  {
   "cell_type": "code",
   "execution_count": 57,
   "id": "80b12b77-2b67-41b1-9fd5-c5035d92a670",
   "metadata": {},
   "outputs": [
    {
     "data": {
      "text/plain": [
       "19113.4497044403"
      ]
     },
     "execution_count": 57,
     "metadata": {},
     "output_type": "execute_result"
    }
   ],
   "source": [
    "radius=78\n",
    "area=pi*(radius**2)\n",
    "area"
   ]
  },
  {
   "cell_type": "code",
   "execution_count": 58,
   "id": "b08c5c33-0936-402d-9034-d62cedc8cde5",
   "metadata": {},
   "outputs": [],
   "source": [
    "from math import sqrt"
   ]
  },
  {
   "cell_type": "code",
   "execution_count": 59,
   "id": "217ec290-54b7-4fbd-ae2a-afe8f7b748f5",
   "metadata": {},
   "outputs": [
    {
     "data": {
      "text/plain": [
       "15.968719422671311"
      ]
     },
     "execution_count": 59,
     "metadata": {},
     "output_type": "execute_result"
    }
   ],
   "source": [
    "sqrt(255)"
   ]
  },
  {
   "cell_type": "code",
   "execution_count": 61,
   "id": "caf36cd7-0b4e-44f7-8386-3c7e870584cc",
   "metadata": {},
   "outputs": [
    {
     "data": {
      "text/plain": [
       "dict_keys(['__name__', '__doc__', '__package__', '__loader__', '__spec__', 'acos', 'acosh', 'asin', 'asinh', 'atan', 'atan2', 'atanh', 'cbrt', 'ceil', 'copysign', 'cos', 'cosh', 'degrees', 'dist', 'erf', 'erfc', 'exp', 'exp2', 'expm1', 'fabs', 'factorial', 'floor', 'fmod', 'frexp', 'fsum', 'gamma', 'gcd', 'hypot', 'isclose', 'isfinite', 'isinf', 'isnan', 'isqrt', 'lcm', 'ldexp', 'lgamma', 'log', 'log1p', 'log10', 'log2', 'modf', 'pow', 'radians', 'remainder', 'sin', 'sinh', 'sqrt', 'tan', 'tanh', 'trunc', 'prod', 'perm', 'comb', 'nextafter', 'ulp', 'pi', 'e', 'tau', 'inf', 'nan'])"
      ]
     },
     "execution_count": 61,
     "metadata": {},
     "output_type": "execute_result"
    }
   ],
   "source": [
    "math.__dict__.keys()"
   ]
  },
  {
   "cell_type": "code",
   "execution_count": 62,
   "id": "f6af989f-ef03-4165-b686-6e60c8df339c",
   "metadata": {},
   "outputs": [],
   "source": [
    "import datetime"
   ]
  },
  {
   "cell_type": "code",
   "execution_count": 63,
   "id": "654fa2d1-8acf-4e72-95dd-53c62a915c57",
   "metadata": {},
   "outputs": [
    {
     "data": {
      "text/plain": [
       "datetime.datetime(2024, 7, 18, 11, 39, 12, 348395)"
      ]
     },
     "execution_count": 63,
     "metadata": {},
     "output_type": "execute_result"
    }
   ],
   "source": [
    "dt=datetime.datetime.now()\n",
    "dt"
   ]
  },
  {
   "cell_type": "markdown",
   "id": "14d4e004-37db-4b68-8712-1943a55358a5",
   "metadata": {},
   "source": [
    "Get Current DATE"
   ]
  },
  {
   "cell_type": "code",
   "execution_count": 64,
   "id": "924f3776-b52a-4a3d-a4e5-6ce7962b512c",
   "metadata": {},
   "outputs": [
    {
     "data": {
      "text/plain": [
       "datetime.date(2024, 7, 18)"
      ]
     },
     "execution_count": 64,
     "metadata": {},
     "output_type": "execute_result"
    }
   ],
   "source": [
    "dt1=datetime.date.today()\n",
    "dt1"
   ]
  },
  {
   "cell_type": "markdown",
   "id": "501708af-f1f2-4dda-9525-bd0d480b1f77",
   "metadata": {},
   "source": [
    "commanly used classes in the datetime module are:\n",
    "   date class \n",
    "   time class\n",
    "   datetime class\n",
    "   timedelta class"
   ]
  },
  {
   "cell_type": "code",
   "execution_count": 65,
   "id": "f9410598-4584-4435-a65f-01b432bb068b",
   "metadata": {},
   "outputs": [
    {
     "data": {
      "text/plain": [
       "datetime.date(2024, 3, 12)"
      ]
     },
     "execution_count": 65,
     "metadata": {},
     "output_type": "execute_result"
    }
   ],
   "source": [
    "#datetime.date(yyyy,mm,dd)\n",
    "datetime.date(2024,3,12)"
   ]
  },
  {
   "cell_type": "code",
   "execution_count": 66,
   "id": "d0ec3c69-5dc5-4b82-a6dc-4cfe87988007",
   "metadata": {},
   "outputs": [],
   "source": [
    "from datetime import date"
   ]
  },
  {
   "cell_type": "code",
   "execution_count": 67,
   "id": "d01fe5fc-70f5-47aa-aba3-de6dab5358e7",
   "metadata": {},
   "outputs": [
    {
     "data": {
      "text/plain": [
       "datetime.date(2023, 6, 2)"
      ]
     },
     "execution_count": 67,
     "metadata": {},
     "output_type": "execute_result"
    }
   ],
   "source": [
    "date(2023,6,2)"
   ]
  },
  {
   "cell_type": "code",
   "execution_count": 68,
   "id": "ddf3b344-a399-4372-aad4-e1314cfad10a",
   "metadata": {},
   "outputs": [
    {
     "data": {
      "text/plain": [
       "datetime.date(2024, 7, 18)"
      ]
     },
     "execution_count": 68,
     "metadata": {},
     "output_type": "execute_result"
    }
   ],
   "source": [
    "date.today()"
   ]
  },
  {
   "cell_type": "code",
   "execution_count": 69,
   "id": "d47e45f8-8842-463d-b125-5735a06873fe",
   "metadata": {},
   "outputs": [],
   "source": [
    "d5=date.today()"
   ]
  },
  {
   "cell_type": "code",
   "execution_count": 70,
   "id": "dd08d287-8ca6-434b-b9cf-7bd84e49a2bb",
   "metadata": {},
   "outputs": [
    {
     "data": {
      "text/plain": [
       "datetime.date(2024, 7, 18)"
      ]
     },
     "execution_count": 70,
     "metadata": {},
     "output_type": "execute_result"
    }
   ],
   "source": [
    "d5"
   ]
  },
  {
   "cell_type": "code",
   "execution_count": 72,
   "id": "9d9cf419-9259-4bba-b1e8-b95a2ccc6ccc",
   "metadata": {},
   "outputs": [
    {
     "data": {
      "text/plain": [
       "2024"
      ]
     },
     "execution_count": 72,
     "metadata": {},
     "output_type": "execute_result"
    }
   ],
   "source": [
    "d5.year"
   ]
  },
  {
   "cell_type": "code",
   "execution_count": 73,
   "id": "d169fc98-98dd-4663-90ff-22e1360ffd6f",
   "metadata": {},
   "outputs": [
    {
     "data": {
      "text/plain": [
       "7"
      ]
     },
     "execution_count": 73,
     "metadata": {},
     "output_type": "execute_result"
    }
   ],
   "source": [
    "d5.month"
   ]
  },
  {
   "cell_type": "code",
   "execution_count": 74,
   "id": "e42445f0-4fbf-4c65-85d0-a1846d99e78d",
   "metadata": {},
   "outputs": [
    {
     "data": {
      "text/plain": [
       "18"
      ]
     },
     "execution_count": 74,
     "metadata": {},
     "output_type": "execute_result"
    }
   ],
   "source": [
    "d5.day"
   ]
  },
  {
   "cell_type": "code",
   "execution_count": 75,
   "id": "df9efad6-307c-447c-a219-fede19a43b46",
   "metadata": {},
   "outputs": [
    {
     "name": "stdout",
     "output_type": "stream",
     "text": [
      "CPU times: total: 0 ns\n",
      "Wall time: 0 ns\n"
     ]
    },
    {
     "data": {
      "text/plain": [
       "()"
      ]
     },
     "execution_count": 75,
     "metadata": {},
     "output_type": "execute_result"
    }
   ],
   "source": [
    "time()"
   ]
  },
  {
   "cell_type": "code",
   "execution_count": 76,
   "id": "75a31489-bfaa-49c4-877b-47a57c76d8a1",
   "metadata": {},
   "outputs": [],
   "source": [
    "from datetime import time"
   ]
  },
  {
   "cell_type": "code",
   "execution_count": 78,
   "id": "8d15e6e3-79cf-4d5e-9d5b-e0a4e9e19615",
   "metadata": {},
   "outputs": [],
   "source": [
    "t=time()"
   ]
  },
  {
   "cell_type": "code",
   "execution_count": 79,
   "id": "8a358b86-86b4-4f23-84e4-fe11fd0e6d16",
   "metadata": {},
   "outputs": [
    {
     "data": {
      "text/plain": [
       "datetime.time(0, 0)"
      ]
     },
     "execution_count": 79,
     "metadata": {},
     "output_type": "execute_result"
    }
   ],
   "source": [
    "t"
   ]
  },
  {
   "cell_type": "code",
   "execution_count": 80,
   "id": "3a546b9e-0acd-4672-9c5a-4e4ed2b02c2a",
   "metadata": {},
   "outputs": [],
   "source": [
    "t=time(12,22,45)"
   ]
  },
  {
   "cell_type": "code",
   "execution_count": 81,
   "id": "7c5be5ab-b0e6-4da3-8b85-9f5e259aaf50",
   "metadata": {},
   "outputs": [
    {
     "data": {
      "text/plain": [
       "datetime.time(12, 22, 45)"
      ]
     },
     "execution_count": 81,
     "metadata": {},
     "output_type": "execute_result"
    }
   ],
   "source": [
    "t"
   ]
  },
  {
   "cell_type": "code",
   "execution_count": 82,
   "id": "75a3821f-1a18-463a-8bd9-f74b4af7694f",
   "metadata": {},
   "outputs": [
    {
     "data": {
      "text/plain": [
       "12"
      ]
     },
     "execution_count": 82,
     "metadata": {},
     "output_type": "execute_result"
    }
   ],
   "source": [
    "t.hour"
   ]
  },
  {
   "cell_type": "code",
   "execution_count": 83,
   "id": "bdb280a3-43d5-4959-b2fb-0ff8d3e28f71",
   "metadata": {},
   "outputs": [
    {
     "data": {
      "text/plain": [
       "22"
      ]
     },
     "execution_count": 83,
     "metadata": {},
     "output_type": "execute_result"
    }
   ],
   "source": [
    "t.minute"
   ]
  },
  {
   "cell_type": "code",
   "execution_count": 85,
   "id": "bdf00faa-66a0-4763-bb5d-281f21481f50",
   "metadata": {},
   "outputs": [
    {
     "data": {
      "text/plain": [
       "45"
      ]
     },
     "execution_count": 85,
     "metadata": {},
     "output_type": "execute_result"
    }
   ],
   "source": [
    "t.second"
   ]
  },
  {
   "cell_type": "code",
   "execution_count": 86,
   "id": "0617a17b-c54c-4787-96f0-3f3f3aa5a89e",
   "metadata": {},
   "outputs": [
    {
     "name": "stdout",
     "output_type": "stream",
     "text": [
      "2022-08-14 00:00:00\n"
     ]
    }
   ],
   "source": [
    "from datetime import datetime\n",
    "a=datetime(2022,8,14)\n",
    "print(a)"
   ]
  },
  {
   "cell_type": "code",
   "execution_count": 87,
   "id": "c015b338-f3a9-4882-8145-27de27b295b8",
   "metadata": {},
   "outputs": [
    {
     "name": "stdout",
     "output_type": "stream",
     "text": [
      "year= 2022\n",
      "month= 8\n",
      "day= 14\n"
     ]
    }
   ],
   "source": [
    "print(\"year=\",a.year)\n",
    "print(\"month=\",a.month)\n",
    "print(\"day=\",a.day)"
   ]
  },
  {
   "cell_type": "code",
   "execution_count": 89,
   "id": "d4be35b9-9746-44be-90b5-1d2da8703392",
   "metadata": {},
   "outputs": [
    {
     "name": "stdout",
     "output_type": "stream",
     "text": [
      "2022\n",
      "8\n",
      "14\n",
      "12\n",
      "47\n",
      "50\n"
     ]
    }
   ],
   "source": [
    "#datetime(year,month,date,hour,minute,second)\n",
    "\n",
    "b=datetime(2022,8,14,12,47,50)\n",
    "print(b.year)\n",
    "print(b.month)\n",
    "print(b.day)\n",
    "print(b.hour)\n",
    "print(b.minute)\n",
    "print(b.second)"
   ]
  },
  {
   "cell_type": "code",
   "execution_count": null,
   "id": "443d44f3-74bb-4015-960b-c2583c581b5b",
   "metadata": {},
   "outputs": [],
   "source": []
  }
 ],
 "metadata": {
  "kernelspec": {
   "display_name": "Python 3 (ipykernel)",
   "language": "python",
   "name": "python3"
  },
  "language_info": {
   "codemirror_mode": {
    "name": "ipython",
    "version": 3
   },
   "file_extension": ".py",
   "mimetype": "text/x-python",
   "name": "python",
   "nbconvert_exporter": "python",
   "pygments_lexer": "ipython3",
   "version": "3.11.7"
  }
 },
 "nbformat": 4,
 "nbformat_minor": 5
}
